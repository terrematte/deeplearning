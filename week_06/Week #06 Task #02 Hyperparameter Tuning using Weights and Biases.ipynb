{
  "nbformat": 4,
  "nbformat_minor": 0,
  "metadata": {
    "colab": {
      "provenance": []
    },
    "kernelspec": {
      "name": "python3",
      "display_name": "Python 3"
    },
    "accelerator": "GPU"
  },
  "cells": [
    {
      "cell_type": "markdown",
      "metadata": {
        "id": "RIf7eFgwyZ06"
      },
      "source": [
        "# 1 Import libraries"
      ]
    },
    {
      "cell_type": "code",
      "metadata": {
        "id": "L4OeKOISEobo"
      },
      "source": [
        "import tensorflow as tf\n",
        "import numpy as np\n",
        "import matplotlib.pyplot as plt\n",
        "import h5py\n",
        "import time\n",
        "import datetime\n",
        "import pytz\n",
        "import IPython"
      ],
      "execution_count": null,
      "outputs": []
    },
    {
      "cell_type": "code",
      "metadata": {
        "id": "aRdkrAFXxYcb",
        "colab": {
          "base_uri": "https://localhost:8080/"
        },
        "outputId": "49e66a97-c3da-42fa-adb3-b9cb17ea2063"
      },
      "source": [
        "print('TF version:', tf.__version__)\n",
        "print('GPU devices:', tf.config.list_physical_devices('GPU'))"
      ],
      "execution_count": null,
      "outputs": [
        {
          "output_type": "stream",
          "name": "stdout",
          "text": [
            "TF version: 2.19.0\n",
            "GPU devices: [PhysicalDevice(name='/physical_device:GPU:0', device_type='GPU')]\n"
          ]
        }
      ]
    },
    {
      "cell_type": "code",
      "source": [
        "!python -V"
      ],
      "metadata": {
        "colab": {
          "base_uri": "https://localhost:8080/"
        },
        "id": "EekSqBOGKDbY",
        "outputId": "0d8a9220-c0cd-412c-8e5d-7398967367a6"
      },
      "execution_count": null,
      "outputs": [
        {
          "output_type": "stream",
          "name": "stdout",
          "text": [
            "Python 3.12.11\n"
          ]
        }
      ]
    },
    {
      "cell_type": "markdown",
      "metadata": {
        "id": "MSK_tRj1yipL"
      },
      "source": [
        "# 2 Data load and preprocessing\n",
        "\n",
        "Available at:\n",
        "\n",
        "*  https://morioh.com/a/ce76c6e2f7f6/build-a-simple-neural-network-using-numpy\n",
        "\n",
        "*  https://rpaudel42.github.io/datasets/\n"
      ]
    },
    {
      "cell_type": "code",
      "source": [
        "!wget https://rpaudel42.github.io/datasets/NN.zip\n"
      ],
      "metadata": {
        "colab": {
          "base_uri": "https://localhost:8080/"
        },
        "id": "OHJkNwzwHNJ6",
        "outputId": "a73b3652-6dcf-4397-a60a-89b55152d78a"
      },
<<<<<<< HEAD
      "execution_count": null,
=======
      "execution_count": 4,
>>>>>>> 7fb750e (Adding files.)
      "outputs": [
        {
          "output_type": "stream",
          "name": "stdout",
          "text": [
            "--2025-09-19 16:33:58--  https://rpaudel42.github.io/datasets/NN.zip\n",
            "Resolving rpaudel42.github.io (rpaudel42.github.io)... 185.199.108.153, 185.199.109.153, 185.199.110.153, ...\n",
            "Connecting to rpaudel42.github.io (rpaudel42.github.io)|185.199.108.153|:443... connected.\n",
            "HTTP request sent, awaiting response... 200 OK\n",
            "Length: 2789994 (2.7M) [application/x-zip-compressed]\n",
            "Saving to: ‘NN.zip’\n",
            "\n",
            "NN.zip              100%[===================>]   2.66M  --.-KB/s    in 0.01s   \n",
            "\n",
            "2025-09-19 16:33:59 (199 MB/s) - ‘NN.zip’ saved [2789994/2789994]\n",
            "\n"
          ]
        }
      ]
    },
    {
      "cell_type": "code",
      "source": [
        "!unzip NN.zip"
      ],
      "metadata": {
        "colab": {
          "base_uri": "https://localhost:8080/"
        },
        "id": "_AJW7YU9HXDB",
        "outputId": "3e9e78ed-51b7-4e33-881b-0c42b4a44706"
      },
      "execution_count": 5,
      "outputs": [
        {
          "output_type": "stream",
          "name": "stdout",
          "text": [
            "Archive:  NN.zip\n",
            "   creating: NN/\n",
            "  inflating: NN/test_catvnoncat.h5   \n",
            "   creating: __MACOSX/\n",
            "   creating: __MACOSX/NN/\n",
            "  inflating: __MACOSX/NN/._test_catvnoncat.h5  \n",
            "  inflating: NN/.DS_Store            \n",
            "  inflating: __MACOSX/NN/._.DS_Store  \n",
            "  inflating: NN/train_catvnoncat.h5  \n",
            "  inflating: __MACOSX/NN/._train_catvnoncat.h5  \n"
          ]
        }
      ]
    },
    {
      "cell_type": "code",
      "metadata": {
        "id": "evhmAkbKxYy_"
      },
      "source": [
        "def load_dataset():\n",
        "    # load the train data\n",
        "    train_dataset = h5py.File('NN/train_catvnoncat.h5', \"r\")\n",
        "\n",
        "    # your train set features\n",
        "    train_set_x_orig = np.array(train_dataset[\"train_set_x\"][:])\n",
        "\n",
        "    # your train set labels\n",
        "    train_set_y_orig = np.array(train_dataset[\"train_set_y\"][:])\n",
        "\n",
        "    # load the test data\n",
        "    test_dataset = h5py.File('NN/test_catvnoncat.h5', \"r\")\n",
        "\n",
        "    # your test set features\n",
        "    test_set_x_orig = np.array(test_dataset[\"test_set_x\"][:])\n",
        "\n",
        "    # your test set labels\n",
        "    test_set_y_orig = np.array(test_dataset[\"test_set_y\"][:])\n",
        "\n",
        "    # the list of classes\n",
        "    classes = np.array(test_dataset[\"list_classes\"][:])\n",
        "\n",
        "    # reshape the test data\n",
        "    train_set_y_orig = train_set_y_orig.reshape((train_set_y_orig.shape[0],1))\n",
        "    test_set_y_orig = test_set_y_orig.reshape((test_set_y_orig.shape[0],1))\n",
        "\n",
        "    return train_set_x_orig, train_set_y_orig, test_set_x_orig, test_set_y_orig, classes"
      ],
<<<<<<< HEAD
      "execution_count": null,
=======
      "execution_count": 6,
>>>>>>> 7fb750e (Adding files.)
      "outputs": []
    },
    {
      "cell_type": "code",
      "metadata": {
        "id": "mjQYsrdPHSyh"
      },
      "source": [
        "# Loading the data (cat/non-cat)\n",
        "train_set_x_orig, train_y, test_set_x_orig, test_y, classes = load_dataset()"
      ],
<<<<<<< HEAD
      "execution_count": null,
=======
      "execution_count": 7,
>>>>>>> 7fb750e (Adding files.)
      "outputs": []
    },
    {
      "cell_type": "code",
      "metadata": {
        "id": "6ihL83MbHlhc"
      },
      "source": [
        "# Reshape the training and test examples\n",
        "train_set_x_flatten = train_set_x_orig.reshape(train_set_x_orig.shape[0],-1)\n",
        "test_set_x_flatten = test_set_x_orig.reshape(test_set_x_orig.shape[0],-1)\n",
        "\n",
        "# Standardize the dataset\n",
        "train_x = train_set_x_flatten/255\n",
        "test_x = test_set_x_flatten/255"
      ],
<<<<<<< HEAD
      "execution_count": null,
=======
      "execution_count": 8,
>>>>>>> 7fb750e (Adding files.)
      "outputs": []
    },
    {
      "cell_type": "code",
      "metadata": {
        "id": "sQn-Brt-IhK_",
        "colab": {
          "base_uri": "https://localhost:8080/"
        },
        "outputId": "7e9de995-efa7-411c-b3e2-02ff26c9ebe4"
      },
      "source": [
        "print (\"train_x shape: \" + str(train_x.shape))\n",
        "print (\"train_y shape: \" + str(train_y.shape))\n",
        "print (\"test_x  shape: \" + str(test_x.shape))\n",
        "print (\"test_y  shape: \" + str(test_y.shape))"
      ],
<<<<<<< HEAD
      "execution_count": null,
=======
      "execution_count": 9,
>>>>>>> 7fb750e (Adding files.)
      "outputs": [
        {
          "output_type": "stream",
          "name": "stdout",
          "text": [
            "train_x shape: (209, 12288)\n",
            "train_y shape: (209, 1)\n",
            "test_x  shape: (50, 12288)\n",
            "test_y  shape: (50, 1)\n"
          ]
        }
      ]
    },
    {
      "cell_type": "code",
      "source": [
        "# #not a cat image\n",
        "index = 1\n",
        "plt.imshow(train_x[index].reshape(64,64,3))"
      ],
      "metadata": {
        "colab": {
          "base_uri": "https://localhost:8080/",
          "height": 449
        },
        "id": "KVT88TrAHruE",
        "outputId": "2ba969fe-69de-4666-ef70-aa017bedfbdd"
      },
<<<<<<< HEAD
      "execution_count": null,
=======
      "execution_count": 10,
>>>>>>> 7fb750e (Adding files.)
      "outputs": [
        {
          "output_type": "execute_result",
          "data": {
            "text/plain": [
              "<matplotlib.image.AxesImage at 0x7f7aebaa7ad0>"
            ]
          },
          "metadata": {},
          "execution_count": 10
        },
        {
          "output_type": "display_data",
          "data": {
            "text/plain": [
              "<Figure size 640x480 with 1 Axes>"
            ],
            "image/png": "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\n"
          },
          "metadata": {}
        }
      ]
    },
    {
      "cell_type": "code",
      "metadata": {
        "id": "ATILeNhddrcC",
        "colab": {
          "base_uri": "https://localhost:8080/",
          "height": 449
        },
        "outputId": "bb4e0c45-e382-4c79-d0f4-66d666cc394c"
      },
      "source": [
        "# visualize a sample modified data\n",
        "index = 2\n",
        "plt.imshow(train_x[index].reshape(64,64,3))"
      ],
<<<<<<< HEAD
      "execution_count": null,
=======
      "execution_count": 11,
>>>>>>> 7fb750e (Adding files.)
      "outputs": [
        {
          "output_type": "execute_result",
          "data": {
            "text/plain": [
              "<matplotlib.image.AxesImage at 0x7f7ab1ee7380>"
            ]
          },
          "metadata": {},
          "execution_count": 11
        },
        {
          "output_type": "display_data",
          "data": {
            "text/plain": [
              "<Figure size 640x480 with 1 Axes>"
            ],
            "image/png": "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\n"
          },
          "metadata": {}
        }
      ]
    },
    {
      "cell_type": "code",
      "metadata": {
        "id": "Xa9dcSRx1__x",
        "colab": {
          "base_uri": "https://localhost:8080/",
          "height": 449
        },
        "outputId": "3a8a4faf-bb4e-4194-f0a4-03ef273e91c8"
      },
      "source": [
        "# visualize a sample raw data\n",
        "index = 13\n",
        "plt.imshow(train_set_x_orig[index])"
      ],
      "execution_count": 12,
      "outputs": [
        {
          "output_type": "execute_result",
          "data": {
            "text/plain": [
              "<matplotlib.image.AxesImage at 0x7f7ab1f53aa0>"
            ]
          },
          "metadata": {},
          "execution_count": 12
        },
        {
          "output_type": "display_data",
          "data": {
            "text/plain": [
              "<Figure size 640x480 with 1 Axes>"
            ],
            "image/png": "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\n"
          },
          "metadata": {}
        }
      ]
    },
    {
      "cell_type": "code",
      "metadata": {
        "id": "DvACru73ysxG"
      },
      "source": [
        "class MyCustomCallback(tf.keras.callbacks.Callback):\n",
        "\n",
        "  def on_train_begin(self, batch, logs=None):\n",
        "    self.begins = time.time()\n",
        "    print('Training: begins at {}'.format(datetime.datetime.now(pytz.timezone('America/Fortaleza')).strftime(\"%a, %d %b %Y %H:%M:%S\")))\n",
        "\n",
        "  def on_train_end(self, logs=None):\n",
        "    print('Training: ends at {}'.format(datetime.datetime.now(pytz.timezone('America/Fortaleza')).strftime(\"%a, %d %b %Y %H:%M:%S\")))\n",
        "    print('Duration: {:.2f} seconds'.format(time.time() - self.begins))"
      ],
      "execution_count": 13,
      "outputs": []
    },
    {
      "cell_type": "markdown",
      "metadata": {
        "id": "iyHu7kEeyrh-"
      },
      "source": [
        "# 3 Base Model"
      ]
    },
    {
      "cell_type": "code",
      "metadata": {
        "id": "HPkKk-ZayvfU",
        "colab": {
          "base_uri": "https://localhost:8080/"
        },
        "outputId": "2fc0bc77-0d98-4337-b06e-86b184c409e0"
      },
      "source": [
        "# Instantiate a simple classification model\n",
        "model = tf.keras.Sequential([\n",
        "  tf.keras.layers.Dense(8, activation=tf.nn.relu, dtype='float64'),\n",
        "  tf.keras.layers.Dense(8, activation=tf.nn.relu, dtype='float64'),\n",
        "  tf.keras.layers.Dense(1, activation=tf.nn.sigmoid, dtype='float64')\n",
        "])\n",
        "\n",
        "# Instantiate a logistic loss function that expects integer targets.\n",
        "loss = tf.keras.losses.BinaryCrossentropy()\n",
        "\n",
        "# Instantiate an accuracy metric.\n",
        "accuracy = tf.keras.metrics.BinaryAccuracy()\n",
        "\n",
        "# Instantiate an optimizer.\n",
        "optimizer = tf.keras.optimizers.SGD(learning_rate=0.001)\n",
        "\n",
        "# configure the optimizer, loss, and metrics to monitor.\n",
        "model.compile(optimizer=optimizer, loss=loss, metrics=[accuracy])\n",
        "\n",
        "# training\n",
        "history = model.fit(x=train_x,\n",
        "                    y=train_y,\n",
        "                    batch_size=32,\n",
        "                    epochs=500,\n",
        "                    validation_data=(test_x,test_y),\n",
        "                    callbacks=[MyCustomCallback()],\n",
        "                    verbose=1)"
      ],
      "execution_count": 14,
      "outputs": [
        {
          "output_type": "stream",
          "name": "stdout",
          "text": [
            "Training: begins at Fri, 19 Sep 2025 13:34:28\n",
            "Epoch 1/500\n",
            "\u001b[1m7/7\u001b[0m \u001b[32m━━━━━━━━━━━━━━━━━━━━\u001b[0m\u001b[37m\u001b[0m \u001b[1m4s\u001b[0m 243ms/step - binary_accuracy: 0.6622 - loss: 0.6776 - val_binary_accuracy: 0.3400 - val_loss: 0.7618\n",
            "Epoch 2/500\n",
            "\u001b[1m7/7\u001b[0m \u001b[32m━━━━━━━━━━━━━━━━━━━━\u001b[0m\u001b[37m\u001b[0m \u001b[1m2s\u001b[0m 12ms/step - binary_accuracy: 0.6764 - loss: 0.6590 - val_binary_accuracy: 0.3400 - val_loss: 0.8187\n",
            "Epoch 3/500\n",
            "\u001b[1m7/7\u001b[0m \u001b[32m━━━━━━━━━━━━━━━━━━━━\u001b[0m\u001b[37m\u001b[0m \u001b[1m0s\u001b[0m 12ms/step - binary_accuracy: 0.6693 - loss: 0.6461 - val_binary_accuracy: 0.3400 - val_loss: 0.8287\n",
            "Epoch 4/500\n",
            "\u001b[1m7/7\u001b[0m \u001b[32m━━━━━━━━━━━━━━━━━━━━\u001b[0m\u001b[37m\u001b[0m \u001b[1m0s\u001b[0m 14ms/step - binary_accuracy: 0.6765 - loss: 0.6455 - val_binary_accuracy: 0.3400 - val_loss: 0.8356\n",
            "Epoch 5/500\n",
            "\u001b[1m7/7\u001b[0m \u001b[32m━━━━━━━━━━━━━━━━━━━━\u001b[0m\u001b[37m\u001b[0m \u001b[1m0s\u001b[0m 12ms/step - binary_accuracy: 0.6670 - loss: 0.6444 - val_binary_accuracy: 0.3400 - val_loss: 0.8530\n",
            "Epoch 6/500\n",
            "\u001b[1m7/7\u001b[0m \u001b[32m━━━━━━━━━━━━━━━━━━━━\u001b[0m\u001b[37m\u001b[0m \u001b[1m0s\u001b[0m 11ms/step - binary_accuracy: 0.6682 - loss: 0.6314 - val_binary_accuracy: 0.3400 - val_loss: 0.8284\n",
            "Epoch 7/500\n",
            "\u001b[1m7/7\u001b[0m \u001b[32m━━━━━━━━━━━━━━━━━━━━\u001b[0m\u001b[37m\u001b[0m \u001b[1m0s\u001b[0m 11ms/step - binary_accuracy: 0.6653 - loss: 0.6259 - val_binary_accuracy: 0.3400 - val_loss: 0.8339\n",
            "Epoch 8/500\n",
            "\u001b[1m7/7\u001b[0m \u001b[32m━━━━━━━━━━━━━━━━━━━━\u001b[0m\u001b[37m\u001b[0m \u001b[1m0s\u001b[0m 12ms/step - binary_accuracy: 0.6315 - loss: 0.6380 - val_binary_accuracy: 0.3400 - val_loss: 0.8435\n",
            "Epoch 9/500\n",
            "\u001b[1m7/7\u001b[0m \u001b[32m━━━━━━━━━━━━━━━━━━━━\u001b[0m\u001b[37m\u001b[0m \u001b[1m0s\u001b[0m 12ms/step - binary_accuracy: 0.6611 - loss: 0.6299 - val_binary_accuracy: 0.3400 - val_loss: 0.8129\n",
            "Epoch 10/500\n",
            "\u001b[1m7/7\u001b[0m \u001b[32m━━━━━━━━━━━━━━━━━━━━\u001b[0m\u001b[37m\u001b[0m \u001b[1m0s\u001b[0m 11ms/step - binary_accuracy: 0.6261 - loss: 0.6377 - val_binary_accuracy: 0.3400 - val_loss: 0.8441\n",
            "Epoch 11/500\n",
            "\u001b[1m7/7\u001b[0m \u001b[32m━━━━━━━━━━━━━━━━━━━━\u001b[0m\u001b[37m\u001b[0m \u001b[1m0s\u001b[0m 11ms/step - binary_accuracy: 0.6574 - loss: 0.6146 - val_binary_accuracy: 0.3400 - val_loss: 0.8534\n",
            "Epoch 12/500\n",
            "\u001b[1m7/7\u001b[0m \u001b[32m━━━━━━━━━━━━━━━━━━━━\u001b[0m\u001b[37m\u001b[0m \u001b[1m0s\u001b[0m 12ms/step - binary_accuracy: 0.6825 - loss: 0.6064 - val_binary_accuracy: 0.3400 - val_loss: 0.7895\n",
            "Epoch 13/500\n",
            "\u001b[1m7/7\u001b[0m \u001b[32m━━━━━━━━━━━━━━━━━━━━\u001b[0m\u001b[37m\u001b[0m \u001b[1m0s\u001b[0m 13ms/step - binary_accuracy: 0.7052 - loss: 0.6026 - val_binary_accuracy: 0.3400 - val_loss: 0.8055\n",
            "Epoch 14/500\n",
            "\u001b[1m7/7\u001b[0m \u001b[32m━━━━━━━━━━━━━━━━━━━━\u001b[0m\u001b[37m\u001b[0m \u001b[1m0s\u001b[0m 12ms/step - binary_accuracy: 0.6684 - loss: 0.6048 - val_binary_accuracy: 0.3400 - val_loss: 0.8100\n",
            "Epoch 15/500\n",
            "\u001b[1m7/7\u001b[0m \u001b[32m━━━━━━━━━━━━━━━━━━━━\u001b[0m\u001b[37m\u001b[0m \u001b[1m0s\u001b[0m 11ms/step - binary_accuracy: 0.6910 - loss: 0.6077 - val_binary_accuracy: 0.3400 - val_loss: 0.8040\n",
            "Epoch 16/500\n",
            "\u001b[1m7/7\u001b[0m \u001b[32m━━━━━━━━━━━━━━━━━━━━\u001b[0m\u001b[37m\u001b[0m \u001b[1m0s\u001b[0m 11ms/step - binary_accuracy: 0.6389 - loss: 0.6275 - val_binary_accuracy: 0.3400 - val_loss: 0.8421\n",
            "Epoch 17/500\n",
            "\u001b[1m7/7\u001b[0m \u001b[32m━━━━━━━━━━━━━━━━━━━━\u001b[0m\u001b[37m\u001b[0m \u001b[1m0s\u001b[0m 12ms/step - binary_accuracy: 0.6678 - loss: 0.5962 - val_binary_accuracy: 0.3400 - val_loss: 0.7702\n",
            "Epoch 18/500\n",
            "\u001b[1m7/7\u001b[0m \u001b[32m━━━━━━━━━━━━━━━━━━━━\u001b[0m\u001b[37m\u001b[0m \u001b[1m0s\u001b[0m 11ms/step - binary_accuracy: 0.6363 - loss: 0.6202 - val_binary_accuracy: 0.3400 - val_loss: 0.8675\n",
            "Epoch 19/500\n",
            "\u001b[1m7/7\u001b[0m \u001b[32m━━━━━━━━━━━━━━━━━━━━\u001b[0m\u001b[37m\u001b[0m \u001b[1m0s\u001b[0m 12ms/step - binary_accuracy: 0.6227 - loss: 0.6224 - val_binary_accuracy: 0.3400 - val_loss: 0.8721\n",
            "Epoch 20/500\n",
            "\u001b[1m7/7\u001b[0m \u001b[32m━━━━━━━━━━━━━━━━━━━━\u001b[0m\u001b[37m\u001b[0m \u001b[1m0s\u001b[0m 11ms/step - binary_accuracy: 0.6513 - loss: 0.6150 - val_binary_accuracy: 0.3400 - val_loss: 0.7844\n",
            "Epoch 21/500\n",
            "\u001b[1m7/7\u001b[0m \u001b[32m━━━━━━━━━━━━━━━━━━━━\u001b[0m\u001b[37m\u001b[0m \u001b[1m0s\u001b[0m 11ms/step - binary_accuracy: 0.6494 - loss: 0.6034 - val_binary_accuracy: 0.3400 - val_loss: 0.8179\n",
            "Epoch 22/500\n",
            "\u001b[1m7/7\u001b[0m \u001b[32m━━━━━━━━━━━━━━━━━━━━\u001b[0m\u001b[37m\u001b[0m \u001b[1m0s\u001b[0m 14ms/step - binary_accuracy: 0.6519 - loss: 0.6031 - val_binary_accuracy: 0.3400 - val_loss: 0.8012\n",
            "Epoch 23/500\n",
            "\u001b[1m7/7\u001b[0m \u001b[32m━━━━━━━━━━━━━━━━━━━━\u001b[0m\u001b[37m\u001b[0m \u001b[1m0s\u001b[0m 12ms/step - binary_accuracy: 0.6492 - loss: 0.5906 - val_binary_accuracy: 0.3400 - val_loss: 0.7902\n",
            "Epoch 24/500\n",
            "\u001b[1m7/7\u001b[0m \u001b[32m━━━━━━━━━━━━━━━━━━━━\u001b[0m\u001b[37m\u001b[0m \u001b[1m0s\u001b[0m 12ms/step - binary_accuracy: 0.6670 - loss: 0.5844 - val_binary_accuracy: 0.3400 - val_loss: 0.7835\n",
            "Epoch 25/500\n",
            "\u001b[1m7/7\u001b[0m \u001b[32m━━━━━━━━━━━━━━━━━━━━\u001b[0m\u001b[37m\u001b[0m \u001b[1m0s\u001b[0m 12ms/step - binary_accuracy: 0.6976 - loss: 0.5878 - val_binary_accuracy: 0.3400 - val_loss: 0.7547\n",
            "Epoch 26/500\n",
            "\u001b[1m7/7\u001b[0m \u001b[32m━━━━━━━━━━━━━━━━━━━━\u001b[0m\u001b[37m\u001b[0m \u001b[1m0s\u001b[0m 11ms/step - binary_accuracy: 0.6711 - loss: 0.5936 - val_binary_accuracy: 0.3400 - val_loss: 0.7984\n",
            "Epoch 27/500\n",
            "\u001b[1m7/7\u001b[0m \u001b[32m━━━━━━━━━━━━━━━━━━━━\u001b[0m\u001b[37m\u001b[0m \u001b[1m0s\u001b[0m 11ms/step - binary_accuracy: 0.6492 - loss: 0.5860 - val_binary_accuracy: 0.3400 - val_loss: 0.8530\n",
            "Epoch 28/500\n",
            "\u001b[1m7/7\u001b[0m \u001b[32m━━━━━━━━━━━━━━━━━━━━\u001b[0m\u001b[37m\u001b[0m \u001b[1m0s\u001b[0m 12ms/step - binary_accuracy: 0.6386 - loss: 0.5978 - val_binary_accuracy: 0.3400 - val_loss: 0.8123\n",
            "Epoch 29/500\n",
            "\u001b[1m7/7\u001b[0m \u001b[32m━━━━━━━━━━━━━━━━━━━━\u001b[0m\u001b[37m\u001b[0m \u001b[1m0s\u001b[0m 12ms/step - binary_accuracy: 0.6479 - loss: 0.6064 - val_binary_accuracy: 0.3400 - val_loss: 0.8296\n",
            "Epoch 30/500\n",
            "\u001b[1m7/7\u001b[0m \u001b[32m━━━━━━━━━━━━━━━━━━━━\u001b[0m\u001b[37m\u001b[0m \u001b[1m0s\u001b[0m 11ms/step - binary_accuracy: 0.6623 - loss: 0.5888 - val_binary_accuracy: 0.3400 - val_loss: 0.8012\n",
            "Epoch 31/500\n",
            "\u001b[1m7/7\u001b[0m \u001b[32m━━━━━━━━━━━━━━━━━━━━\u001b[0m\u001b[37m\u001b[0m \u001b[1m0s\u001b[0m 12ms/step - binary_accuracy: 0.6520 - loss: 0.5871 - val_binary_accuracy: 0.3400 - val_loss: 0.7910\n",
            "Epoch 32/500\n",
            "\u001b[1m7/7\u001b[0m \u001b[32m━━━━━━━━━━━━━━━━━━━━\u001b[0m\u001b[37m\u001b[0m \u001b[1m0s\u001b[0m 12ms/step - binary_accuracy: 0.6993 - loss: 0.5583 - val_binary_accuracy: 0.3400 - val_loss: 0.7459\n",
            "Epoch 33/500\n",
            "\u001b[1m7/7\u001b[0m \u001b[32m━━━━━━━━━━━━━━━━━━━━\u001b[0m\u001b[37m\u001b[0m \u001b[1m0s\u001b[0m 12ms/step - binary_accuracy: 0.6449 - loss: 0.5907 - val_binary_accuracy: 0.3400 - val_loss: 0.8033\n",
            "Epoch 34/500\n",
            "\u001b[1m7/7\u001b[0m \u001b[32m━━━━━━━━━━━━━━━━━━━━\u001b[0m\u001b[37m\u001b[0m \u001b[1m0s\u001b[0m 11ms/step - binary_accuracy: 0.6696 - loss: 0.5787 - val_binary_accuracy: 0.3400 - val_loss: 0.7663\n",
            "Epoch 35/500\n",
            "\u001b[1m7/7\u001b[0m \u001b[32m━━━━━━━━━━━━━━━━━━━━\u001b[0m\u001b[37m\u001b[0m \u001b[1m0s\u001b[0m 11ms/step - binary_accuracy: 0.6471 - loss: 0.5849 - val_binary_accuracy: 0.3400 - val_loss: 0.7978\n",
            "Epoch 36/500\n",
            "\u001b[1m7/7\u001b[0m \u001b[32m━━━━━━━━━━━━━━━━━━━━\u001b[0m\u001b[37m\u001b[0m \u001b[1m0s\u001b[0m 12ms/step - binary_accuracy: 0.6554 - loss: 0.5876 - val_binary_accuracy: 0.3400 - val_loss: 0.7875\n",
            "Epoch 37/500\n",
            "\u001b[1m7/7\u001b[0m \u001b[32m━━━━━━━━━━━━━━━━━━━━\u001b[0m\u001b[37m\u001b[0m \u001b[1m0s\u001b[0m 12ms/step - binary_accuracy: 0.6356 - loss: 0.5835 - val_binary_accuracy: 0.3400 - val_loss: 0.8427\n",
            "Epoch 38/500\n",
            "\u001b[1m7/7\u001b[0m \u001b[32m━━━━━━━━━━━━━━━━━━━━\u001b[0m\u001b[37m\u001b[0m \u001b[1m0s\u001b[0m 11ms/step - binary_accuracy: 0.6277 - loss: 0.5938 - val_binary_accuracy: 0.3400 - val_loss: 0.8240\n",
            "Epoch 39/500\n",
            "\u001b[1m7/7\u001b[0m \u001b[32m━━━━━━━━━━━━━━━━━━━━\u001b[0m\u001b[37m\u001b[0m \u001b[1m0s\u001b[0m 11ms/step - binary_accuracy: 0.6249 - loss: 0.5880 - val_binary_accuracy: 0.3400 - val_loss: 0.8058\n",
            "Epoch 40/500\n",
            "\u001b[1m7/7\u001b[0m \u001b[32m━━━━━━━━━━━━━━━━━━━━\u001b[0m\u001b[37m\u001b[0m \u001b[1m0s\u001b[0m 11ms/step - binary_accuracy: 0.6620 - loss: 0.5709 - val_binary_accuracy: 0.3400 - val_loss: 0.8533\n",
            "Epoch 41/500\n",
            "\u001b[1m7/7\u001b[0m \u001b[32m━━━━━━━━━━━━━━━━━━━━\u001b[0m\u001b[37m\u001b[0m \u001b[1m0s\u001b[0m 13ms/step - binary_accuracy: 0.6610 - loss: 0.5712 - val_binary_accuracy: 0.3400 - val_loss: 0.7844\n",
            "Epoch 42/500\n",
            "\u001b[1m7/7\u001b[0m \u001b[32m━━━━━━━━━━━━━━━━━━━━\u001b[0m\u001b[37m\u001b[0m \u001b[1m0s\u001b[0m 11ms/step - binary_accuracy: 0.6077 - loss: 0.5907 - val_binary_accuracy: 0.3400 - val_loss: 0.7923\n",
            "Epoch 43/500\n",
            "\u001b[1m7/7\u001b[0m \u001b[32m━━━━━━━━━━━━━━━━━━━━\u001b[0m\u001b[37m\u001b[0m \u001b[1m0s\u001b[0m 11ms/step - binary_accuracy: 0.6681 - loss: 0.5602 - val_binary_accuracy: 0.3400 - val_loss: 0.7919\n",
            "Epoch 44/500\n",
            "\u001b[1m7/7\u001b[0m \u001b[32m━━━━━━━━━━━━━━━━━━━━\u001b[0m\u001b[37m\u001b[0m \u001b[1m0s\u001b[0m 11ms/step - binary_accuracy: 0.6881 - loss: 0.5514 - val_binary_accuracy: 0.3400 - val_loss: 0.7274\n",
            "Epoch 45/500\n",
            "\u001b[1m7/7\u001b[0m \u001b[32m━━━━━━━━━━━━━━━━━━━━\u001b[0m\u001b[37m\u001b[0m \u001b[1m0s\u001b[0m 11ms/step - binary_accuracy: 0.6341 - loss: 0.5809 - val_binary_accuracy: 0.3400 - val_loss: 0.7745\n",
            "Epoch 46/500\n",
            "\u001b[1m7/7\u001b[0m \u001b[32m━━━━━━━━━━━━━━━━━━━━\u001b[0m\u001b[37m\u001b[0m \u001b[1m0s\u001b[0m 12ms/step - binary_accuracy: 0.6605 - loss: 0.5613 - val_binary_accuracy: 0.3400 - val_loss: 0.7816\n",
            "Epoch 47/500\n",
            "\u001b[1m7/7\u001b[0m \u001b[32m━━━━━━━━━━━━━━━━━━━━\u001b[0m\u001b[37m\u001b[0m \u001b[1m0s\u001b[0m 11ms/step - binary_accuracy: 0.6703 - loss: 0.5513 - val_binary_accuracy: 0.3400 - val_loss: 0.7699\n",
            "Epoch 48/500\n",
            "\u001b[1m7/7\u001b[0m \u001b[32m━━━━━━━━━━━━━━━━━━━━\u001b[0m\u001b[37m\u001b[0m \u001b[1m0s\u001b[0m 12ms/step - binary_accuracy: 0.6624 - loss: 0.5612 - val_binary_accuracy: 0.3400 - val_loss: 0.7599\n",
            "Epoch 49/500\n",
            "\u001b[1m7/7\u001b[0m \u001b[32m━━━━━━━━━━━━━━━━━━━━\u001b[0m\u001b[37m\u001b[0m \u001b[1m0s\u001b[0m 12ms/step - binary_accuracy: 0.6262 - loss: 0.5683 - val_binary_accuracy: 0.3400 - val_loss: 0.7964\n",
            "Epoch 50/500\n",
            "\u001b[1m7/7\u001b[0m \u001b[32m━━━━━━━━━━━━━━━━━━━━\u001b[0m\u001b[37m\u001b[0m \u001b[1m0s\u001b[0m 12ms/step - binary_accuracy: 0.6594 - loss: 0.5507 - val_binary_accuracy: 0.3400 - val_loss: 0.8000\n",
            "Epoch 51/500\n",
            "\u001b[1m7/7\u001b[0m \u001b[32m━━━━━━━━━━━━━━━━━━━━\u001b[0m\u001b[37m\u001b[0m \u001b[1m0s\u001b[0m 11ms/step - binary_accuracy: 0.6762 - loss: 0.5507 - val_binary_accuracy: 0.3400 - val_loss: 0.7555\n",
            "Epoch 52/500\n",
            "\u001b[1m7/7\u001b[0m \u001b[32m━━━━━━━━━━━━━━━━━━━━\u001b[0m\u001b[37m\u001b[0m \u001b[1m0s\u001b[0m 11ms/step - binary_accuracy: 0.6718 - loss: 0.5480 - val_binary_accuracy: 0.3400 - val_loss: 0.7899\n",
            "Epoch 53/500\n",
            "\u001b[1m7/7\u001b[0m \u001b[32m━━━━━━━━━━━━━━━━━━━━\u001b[0m\u001b[37m\u001b[0m \u001b[1m0s\u001b[0m 11ms/step - binary_accuracy: 0.6209 - loss: 0.5719 - val_binary_accuracy: 0.3400 - val_loss: 0.7784\n",
            "Epoch 54/500\n",
            "\u001b[1m7/7\u001b[0m \u001b[32m━━━━━━━━━━━━━━━━━━━━\u001b[0m\u001b[37m\u001b[0m \u001b[1m0s\u001b[0m 12ms/step - binary_accuracy: 0.7062 - loss: 0.5230 - val_binary_accuracy: 0.3400 - val_loss: 0.7984\n",
            "Epoch 55/500\n",
            "\u001b[1m7/7\u001b[0m \u001b[32m━━━━━━━━━━━━━━━━━━━━\u001b[0m\u001b[37m\u001b[0m \u001b[1m0s\u001b[0m 11ms/step - binary_accuracy: 0.6574 - loss: 0.5378 - val_binary_accuracy: 0.3400 - val_loss: 0.7338\n",
            "Epoch 56/500\n",
            "\u001b[1m7/7\u001b[0m \u001b[32m━━━━━━━━━━━━━━━━━━━━\u001b[0m\u001b[37m\u001b[0m \u001b[1m0s\u001b[0m 11ms/step - binary_accuracy: 0.6561 - loss: 0.5627 - val_binary_accuracy: 0.3400 - val_loss: 0.8264\n",
            "Epoch 57/500\n",
            "\u001b[1m7/7\u001b[0m \u001b[32m━━━━━━━━━━━━━━━━━━━━\u001b[0m\u001b[37m\u001b[0m \u001b[1m0s\u001b[0m 12ms/step - binary_accuracy: 0.6446 - loss: 0.5757 - val_binary_accuracy: 0.3400 - val_loss: 0.8133\n",
            "Epoch 58/500\n",
            "\u001b[1m7/7\u001b[0m \u001b[32m━━━━━━━━━━━━━━━━━━━━\u001b[0m\u001b[37m\u001b[0m \u001b[1m0s\u001b[0m 19ms/step - binary_accuracy: 0.6336 - loss: 0.5534 - val_binary_accuracy: 0.3400 - val_loss: 0.8269\n",
            "Epoch 59/500\n",
            "\u001b[1m7/7\u001b[0m \u001b[32m━━━━━━━━━━━━━━━━━━━━\u001b[0m\u001b[37m\u001b[0m \u001b[1m0s\u001b[0m 11ms/step - binary_accuracy: 0.6620 - loss: 0.5398 - val_binary_accuracy: 0.3400 - val_loss: 0.7843\n",
            "Epoch 60/500\n",
            "\u001b[1m7/7\u001b[0m \u001b[32m━━━━━━━━━━━━━━━━━━━━\u001b[0m\u001b[37m\u001b[0m \u001b[1m0s\u001b[0m 12ms/step - binary_accuracy: 0.6600 - loss: 0.5397 - val_binary_accuracy: 0.3400 - val_loss: 0.7969\n",
            "Epoch 61/500\n",
            "\u001b[1m7/7\u001b[0m \u001b[32m━━━━━━━━━━━━━━━━━━━━\u001b[0m\u001b[37m\u001b[0m \u001b[1m0s\u001b[0m 11ms/step - binary_accuracy: 0.6817 - loss: 0.5300 - val_binary_accuracy: 0.3400 - val_loss: 0.7833\n",
            "Epoch 62/500\n",
            "\u001b[1m7/7\u001b[0m \u001b[32m━━━━━━━━━━━━━━━━━━━━\u001b[0m\u001b[37m\u001b[0m \u001b[1m0s\u001b[0m 12ms/step - binary_accuracy: 0.6326 - loss: 0.5638 - val_binary_accuracy: 0.3400 - val_loss: 0.8164\n",
            "Epoch 63/500\n",
            "\u001b[1m7/7\u001b[0m \u001b[32m━━━━━━━━━━━━━━━━━━━━\u001b[0m\u001b[37m\u001b[0m \u001b[1m0s\u001b[0m 11ms/step - binary_accuracy: 0.6606 - loss: 0.5309 - val_binary_accuracy: 0.3400 - val_loss: 0.7927\n",
            "Epoch 64/500\n",
            "\u001b[1m7/7\u001b[0m \u001b[32m━━━━━━━━━━━━━━━━━━━━\u001b[0m\u001b[37m\u001b[0m \u001b[1m0s\u001b[0m 11ms/step - binary_accuracy: 0.6443 - loss: 0.5467 - val_binary_accuracy: 0.3400 - val_loss: 0.8332\n",
            "Epoch 65/500\n",
            "\u001b[1m7/7\u001b[0m \u001b[32m━━━━━━━━━━━━━━━━━━━━\u001b[0m\u001b[37m\u001b[0m \u001b[1m0s\u001b[0m 17ms/step - binary_accuracy: 0.6639 - loss: 0.5357 - val_binary_accuracy: 0.3400 - val_loss: 0.7632\n",
            "Epoch 66/500\n",
            "\u001b[1m7/7\u001b[0m \u001b[32m━━━━━━━━━━━━━━━━━━━━\u001b[0m\u001b[37m\u001b[0m \u001b[1m0s\u001b[0m 22ms/step - binary_accuracy: 0.6456 - loss: 0.5562 - val_binary_accuracy: 0.3400 - val_loss: 0.7743\n",
            "Epoch 67/500\n",
            "\u001b[1m7/7\u001b[0m \u001b[32m━━━━━━━━━━━━━━━━━━━━\u001b[0m\u001b[37m\u001b[0m \u001b[1m0s\u001b[0m 21ms/step - binary_accuracy: 0.6626 - loss: 0.5360 - val_binary_accuracy: 0.3400 - val_loss: 0.7584\n",
            "Epoch 68/500\n",
            "\u001b[1m7/7\u001b[0m \u001b[32m━━━━━━━━━━━━━━━━━━━━\u001b[0m\u001b[37m\u001b[0m \u001b[1m0s\u001b[0m 15ms/step - binary_accuracy: 0.6463 - loss: 0.5337 - val_binary_accuracy: 0.3400 - val_loss: 0.8013\n",
            "Epoch 69/500\n",
            "\u001b[1m7/7\u001b[0m \u001b[32m━━━━━━━━━━━━━━━━━━━━\u001b[0m\u001b[37m\u001b[0m \u001b[1m0s\u001b[0m 15ms/step - binary_accuracy: 0.6404 - loss: 0.5417 - val_binary_accuracy: 0.3400 - val_loss: 0.8026\n",
            "Epoch 70/500\n",
            "\u001b[1m7/7\u001b[0m \u001b[32m━━━━━━━━━━━━━━━━━━━━\u001b[0m\u001b[37m\u001b[0m \u001b[1m0s\u001b[0m 16ms/step - binary_accuracy: 0.6618 - loss: 0.5421 - val_binary_accuracy: 0.3400 - val_loss: 0.8143\n",
            "Epoch 71/500\n",
            "\u001b[1m7/7\u001b[0m \u001b[32m━━━━━━━━━━━━━━━━━━━━\u001b[0m\u001b[37m\u001b[0m \u001b[1m0s\u001b[0m 21ms/step - binary_accuracy: 0.6669 - loss: 0.5173 - val_binary_accuracy: 0.3400 - val_loss: 0.7742\n",
            "Epoch 72/500\n",
            "\u001b[1m7/7\u001b[0m \u001b[32m━━━━━━━━━━━━━━━━━━━━\u001b[0m\u001b[37m\u001b[0m \u001b[1m0s\u001b[0m 16ms/step - binary_accuracy: 0.6904 - loss: 0.5130 - val_binary_accuracy: 0.3400 - val_loss: 0.7228\n",
            "Epoch 73/500\n",
            "\u001b[1m7/7\u001b[0m \u001b[32m━━━━━━━━━━━━━━━━━━━━\u001b[0m\u001b[37m\u001b[0m \u001b[1m0s\u001b[0m 22ms/step - binary_accuracy: 0.6180 - loss: 0.5509 - val_binary_accuracy: 0.3400 - val_loss: 0.7938\n",
            "Epoch 74/500\n",
            "\u001b[1m7/7\u001b[0m \u001b[32m━━━━━━━━━━━━━━━━━━━━\u001b[0m\u001b[37m\u001b[0m \u001b[1m0s\u001b[0m 12ms/step - binary_accuracy: 0.6513 - loss: 0.5382 - val_binary_accuracy: 0.3400 - val_loss: 0.7395\n",
            "Epoch 75/500\n",
            "\u001b[1m7/7\u001b[0m \u001b[32m━━━━━━━━━━━━━━━━━━━━\u001b[0m\u001b[37m\u001b[0m \u001b[1m0s\u001b[0m 12ms/step - binary_accuracy: 0.6349 - loss: 0.5369 - val_binary_accuracy: 0.3400 - val_loss: 0.8073\n",
            "Epoch 76/500\n",
            "\u001b[1m7/7\u001b[0m \u001b[32m━━━━━━━━━━━━━━━━━━━━\u001b[0m\u001b[37m\u001b[0m \u001b[1m0s\u001b[0m 12ms/step - binary_accuracy: 0.6613 - loss: 0.5417 - val_binary_accuracy: 0.3400 - val_loss: 0.7459\n",
            "Epoch 77/500\n",
            "\u001b[1m7/7\u001b[0m \u001b[32m━━━━━━━━━━━━━━━━━━━━\u001b[0m\u001b[37m\u001b[0m \u001b[1m0s\u001b[0m 11ms/step - binary_accuracy: 0.6552 - loss: 0.5321 - val_binary_accuracy: 0.3400 - val_loss: 0.7880\n",
            "Epoch 78/500\n",
            "\u001b[1m7/7\u001b[0m \u001b[32m━━━━━━━━━━━━━━━━━━━━\u001b[0m\u001b[37m\u001b[0m \u001b[1m0s\u001b[0m 11ms/step - binary_accuracy: 0.6339 - loss: 0.5286 - val_binary_accuracy: 0.3400 - val_loss: 0.9151\n",
            "Epoch 79/500\n",
            "\u001b[1m7/7\u001b[0m \u001b[32m━━━━━━━━━━━━━━━━━━━━\u001b[0m\u001b[37m\u001b[0m \u001b[1m0s\u001b[0m 12ms/step - binary_accuracy: 0.6287 - loss: 0.5632 - val_binary_accuracy: 0.3400 - val_loss: 0.8158\n",
            "Epoch 80/500\n",
            "\u001b[1m7/7\u001b[0m \u001b[32m━━━━━━━━━━━━━━━━━━━━\u001b[0m\u001b[37m\u001b[0m \u001b[1m0s\u001b[0m 11ms/step - binary_accuracy: 0.6572 - loss: 0.5212 - val_binary_accuracy: 0.3400 - val_loss: 0.7353\n",
            "Epoch 81/500\n",
            "\u001b[1m7/7\u001b[0m \u001b[32m━━━━━━━━━━━━━━━━━━━━\u001b[0m\u001b[37m\u001b[0m \u001b[1m0s\u001b[0m 11ms/step - binary_accuracy: 0.6531 - loss: 0.5233 - val_binary_accuracy: 0.3400 - val_loss: 0.7899\n",
            "Epoch 82/500\n",
            "\u001b[1m7/7\u001b[0m \u001b[32m━━━━━━━━━━━━━━━━━━━━\u001b[0m\u001b[37m\u001b[0m \u001b[1m0s\u001b[0m 11ms/step - binary_accuracy: 0.6690 - loss: 0.5276 - val_binary_accuracy: 0.3400 - val_loss: 0.7690\n",
            "Epoch 83/500\n",
            "\u001b[1m7/7\u001b[0m \u001b[32m━━━━━━━━━━━━━━━━━━━━\u001b[0m\u001b[37m\u001b[0m \u001b[1m0s\u001b[0m 11ms/step - binary_accuracy: 0.6523 - loss: 0.5211 - val_binary_accuracy: 0.3400 - val_loss: 0.8187\n",
            "Epoch 84/500\n",
            "\u001b[1m7/7\u001b[0m \u001b[32m━━━━━━━━━━━━━━━━━━━━\u001b[0m\u001b[37m\u001b[0m \u001b[1m0s\u001b[0m 12ms/step - binary_accuracy: 0.6574 - loss: 0.5312 - val_binary_accuracy: 0.3400 - val_loss: 0.7809\n",
            "Epoch 85/500\n",
            "\u001b[1m7/7\u001b[0m \u001b[32m━━━━━━━━━━━━━━━━━━━━\u001b[0m\u001b[37m\u001b[0m \u001b[1m0s\u001b[0m 11ms/step - binary_accuracy: 0.6274 - loss: 0.5296 - val_binary_accuracy: 0.3400 - val_loss: 0.7784\n",
            "Epoch 86/500\n",
            "\u001b[1m7/7\u001b[0m \u001b[32m━━━━━━━━━━━━━━━━━━━━\u001b[0m\u001b[37m\u001b[0m \u001b[1m0s\u001b[0m 12ms/step - binary_accuracy: 0.6406 - loss: 0.5279 - val_binary_accuracy: 0.3400 - val_loss: 0.8296\n",
            "Epoch 87/500\n",
            "\u001b[1m7/7\u001b[0m \u001b[32m━━━━━━━━━━━━━━━━━━━━\u001b[0m\u001b[37m\u001b[0m \u001b[1m0s\u001b[0m 12ms/step - binary_accuracy: 0.6807 - loss: 0.5020 - val_binary_accuracy: 0.4000 - val_loss: 0.7014\n",
            "Epoch 88/500\n",
            "\u001b[1m7/7\u001b[0m \u001b[32m━━━━━━━━━━━━━━━━━━━━\u001b[0m\u001b[37m\u001b[0m \u001b[1m0s\u001b[0m 12ms/step - binary_accuracy: 0.6307 - loss: 0.5392 - val_binary_accuracy: 0.3400 - val_loss: 0.7372\n",
            "Epoch 89/500\n",
            "\u001b[1m7/7\u001b[0m \u001b[32m━━━━━━━━━━━━━━━━━━━━\u001b[0m\u001b[37m\u001b[0m \u001b[1m0s\u001b[0m 12ms/step - binary_accuracy: 0.6549 - loss: 0.5283 - val_binary_accuracy: 0.3400 - val_loss: 0.8023\n",
            "Epoch 90/500\n",
            "\u001b[1m7/7\u001b[0m \u001b[32m━━━━━━━━━━━━━━━━━━━━\u001b[0m\u001b[37m\u001b[0m \u001b[1m0s\u001b[0m 11ms/step - binary_accuracy: 0.7150 - loss: 0.4993 - val_binary_accuracy: 0.3400 - val_loss: 0.7905\n",
            "Epoch 91/500\n",
            "\u001b[1m7/7\u001b[0m \u001b[32m━━━━━━━━━━━━━━━━━━━━\u001b[0m\u001b[37m\u001b[0m \u001b[1m0s\u001b[0m 11ms/step - binary_accuracy: 0.6811 - loss: 0.5059 - val_binary_accuracy: 0.3400 - val_loss: 0.7984\n",
            "Epoch 92/500\n",
            "\u001b[1m7/7\u001b[0m \u001b[32m━━━━━━━━━━━━━━━━━━━━\u001b[0m\u001b[37m\u001b[0m \u001b[1m0s\u001b[0m 11ms/step - binary_accuracy: 0.6645 - loss: 0.5209 - val_binary_accuracy: 0.3600 - val_loss: 0.7740\n",
            "Epoch 93/500\n",
            "\u001b[1m7/7\u001b[0m \u001b[32m━━━━━━━━━━━━━━━━━━━━\u001b[0m\u001b[37m\u001b[0m \u001b[1m0s\u001b[0m 11ms/step - binary_accuracy: 0.7039 - loss: 0.4936 - val_binary_accuracy: 0.3400 - val_loss: 0.7443\n",
            "Epoch 94/500\n",
            "\u001b[1m7/7\u001b[0m \u001b[32m━━━━━━━━━━━━━━━━━━━━\u001b[0m\u001b[37m\u001b[0m \u001b[1m0s\u001b[0m 12ms/step - binary_accuracy: 0.6890 - loss: 0.5214 - val_binary_accuracy: 0.3200 - val_loss: 0.7302\n",
            "Epoch 95/500\n",
            "\u001b[1m7/7\u001b[0m \u001b[32m━━━━━━━━━━━━━━━━━━━━\u001b[0m\u001b[37m\u001b[0m \u001b[1m0s\u001b[0m 11ms/step - binary_accuracy: 0.6931 - loss: 0.5216 - val_binary_accuracy: 0.3600 - val_loss: 0.7542\n",
            "Epoch 96/500\n",
            "\u001b[1m7/7\u001b[0m \u001b[32m━━━━━━━━━━━━━━━━━━━━\u001b[0m\u001b[37m\u001b[0m \u001b[1m0s\u001b[0m 12ms/step - binary_accuracy: 0.6804 - loss: 0.4971 - val_binary_accuracy: 0.3200 - val_loss: 0.7244\n",
            "Epoch 97/500\n",
            "\u001b[1m7/7\u001b[0m \u001b[32m━━━━━━━━━━━━━━━━━━━━\u001b[0m\u001b[37m\u001b[0m \u001b[1m0s\u001b[0m 13ms/step - binary_accuracy: 0.6452 - loss: 0.5027 - val_binary_accuracy: 0.3400 - val_loss: 0.8041\n",
            "Epoch 98/500\n",
            "\u001b[1m7/7\u001b[0m \u001b[32m━━━━━━━━━━━━━━━━━━━━\u001b[0m\u001b[37m\u001b[0m \u001b[1m0s\u001b[0m 11ms/step - binary_accuracy: 0.7100 - loss: 0.4803 - val_binary_accuracy: 0.3600 - val_loss: 0.7552\n",
            "Epoch 99/500\n",
            "\u001b[1m7/7\u001b[0m \u001b[32m━━━━━━━━━━━━━━━━━━━━\u001b[0m\u001b[37m\u001b[0m \u001b[1m0s\u001b[0m 11ms/step - binary_accuracy: 0.6943 - loss: 0.5115 - val_binary_accuracy: 0.3400 - val_loss: 0.8061\n",
            "Epoch 100/500\n",
            "\u001b[1m7/7\u001b[0m \u001b[32m━━━━━━━━━━━━━━━━━━━━\u001b[0m\u001b[37m\u001b[0m \u001b[1m0s\u001b[0m 11ms/step - binary_accuracy: 0.6749 - loss: 0.5143 - val_binary_accuracy: 0.3400 - val_loss: 0.7370\n",
            "Epoch 101/500\n",
            "\u001b[1m7/7\u001b[0m \u001b[32m━━━━━━━━━━━━━━━━━━━━\u001b[0m\u001b[37m\u001b[0m \u001b[1m0s\u001b[0m 11ms/step - binary_accuracy: 0.7151 - loss: 0.4917 - val_binary_accuracy: 0.3400 - val_loss: 0.7188\n",
            "Epoch 102/500\n",
            "\u001b[1m7/7\u001b[0m \u001b[32m━━━━━━━━━━━━━━━━━━━━\u001b[0m\u001b[37m\u001b[0m \u001b[1m0s\u001b[0m 11ms/step - binary_accuracy: 0.7063 - loss: 0.5022 - val_binary_accuracy: 0.3400 - val_loss: 0.7468\n",
            "Epoch 103/500\n",
            "\u001b[1m7/7\u001b[0m \u001b[32m━━━━━━━━━━━━━━━━━━━━\u001b[0m\u001b[37m\u001b[0m \u001b[1m0s\u001b[0m 12ms/step - binary_accuracy: 0.6854 - loss: 0.4999 - val_binary_accuracy: 0.3400 - val_loss: 0.8295\n",
            "Epoch 104/500\n",
            "\u001b[1m7/7\u001b[0m \u001b[32m━━━━━━━━━━━━━━━━━━━━\u001b[0m\u001b[37m\u001b[0m \u001b[1m0s\u001b[0m 12ms/step - binary_accuracy: 0.6830 - loss: 0.5028 - val_binary_accuracy: 0.3400 - val_loss: 0.7784\n",
            "Epoch 105/500\n",
            "\u001b[1m7/7\u001b[0m \u001b[32m━━━━━━━━━━━━━━━━━━━━\u001b[0m\u001b[37m\u001b[0m \u001b[1m0s\u001b[0m 12ms/step - binary_accuracy: 0.7102 - loss: 0.4844 - val_binary_accuracy: 0.3600 - val_loss: 0.7088\n",
            "Epoch 106/500\n",
            "\u001b[1m7/7\u001b[0m \u001b[32m━━━━━━━━━━━━━━━━━━━━\u001b[0m\u001b[37m\u001b[0m \u001b[1m0s\u001b[0m 19ms/step - binary_accuracy: 0.7225 - loss: 0.4876 - val_binary_accuracy: 0.3400 - val_loss: 0.7286\n",
            "Epoch 107/500\n",
            "\u001b[1m7/7\u001b[0m \u001b[32m━━━━━━━━━━━━━━━━━━━━\u001b[0m\u001b[37m\u001b[0m \u001b[1m0s\u001b[0m 11ms/step - binary_accuracy: 0.7069 - loss: 0.4827 - val_binary_accuracy: 0.3600 - val_loss: 0.7538\n",
            "Epoch 108/500\n",
            "\u001b[1m7/7\u001b[0m \u001b[32m━━━━━━━━━━━━━━━━━━━━\u001b[0m\u001b[37m\u001b[0m \u001b[1m0s\u001b[0m 12ms/step - binary_accuracy: 0.7298 - loss: 0.4834 - val_binary_accuracy: 0.3600 - val_loss: 0.7250\n",
            "Epoch 109/500\n",
            "\u001b[1m7/7\u001b[0m \u001b[32m━━━━━━━━━━━━━━━━━━━━\u001b[0m\u001b[37m\u001b[0m \u001b[1m0s\u001b[0m 12ms/step - binary_accuracy: 0.6793 - loss: 0.4990 - val_binary_accuracy: 0.3600 - val_loss: 0.7446\n",
            "Epoch 110/500\n",
            "\u001b[1m7/7\u001b[0m \u001b[32m━━━━━━━━━━━━━━━━━━━━\u001b[0m\u001b[37m\u001b[0m \u001b[1m0s\u001b[0m 11ms/step - binary_accuracy: 0.6605 - loss: 0.5201 - val_binary_accuracy: 0.3400 - val_loss: 0.7794\n",
            "Epoch 111/500\n",
            "\u001b[1m7/7\u001b[0m \u001b[32m━━━━━━━━━━━━━━━━━━━━\u001b[0m\u001b[37m\u001b[0m \u001b[1m0s\u001b[0m 11ms/step - binary_accuracy: 0.6790 - loss: 0.4930 - val_binary_accuracy: 0.3400 - val_loss: 0.7889\n",
            "Epoch 112/500\n",
            "\u001b[1m7/7\u001b[0m \u001b[32m━━━━━━━━━━━━━━━━━━━━\u001b[0m\u001b[37m\u001b[0m \u001b[1m0s\u001b[0m 12ms/step - binary_accuracy: 0.6952 - loss: 0.4809 - val_binary_accuracy: 0.3600 - val_loss: 0.7731\n",
            "Epoch 113/500\n",
            "\u001b[1m7/7\u001b[0m \u001b[32m━━━━━━━━━━━━━━━━━━━━\u001b[0m\u001b[37m\u001b[0m \u001b[1m0s\u001b[0m 12ms/step - binary_accuracy: 0.6872 - loss: 0.4908 - val_binary_accuracy: 0.3600 - val_loss: 0.7734\n",
            "Epoch 114/500\n",
            "\u001b[1m7/7\u001b[0m \u001b[32m━━━━━━━━━━━━━━━━━━━━\u001b[0m\u001b[37m\u001b[0m \u001b[1m0s\u001b[0m 12ms/step - binary_accuracy: 0.6999 - loss: 0.4849 - val_binary_accuracy: 0.3400 - val_loss: 0.7811\n",
            "Epoch 115/500\n",
            "\u001b[1m7/7\u001b[0m \u001b[32m━━━━━━━━━━━━━━━━━━━━\u001b[0m\u001b[37m\u001b[0m \u001b[1m0s\u001b[0m 14ms/step - binary_accuracy: 0.6611 - loss: 0.4975 - val_binary_accuracy: 0.3600 - val_loss: 0.7428\n",
            "Epoch 116/500\n",
            "\u001b[1m7/7\u001b[0m \u001b[32m━━━━━━━━━━━━━━━━━━━━\u001b[0m\u001b[37m\u001b[0m \u001b[1m0s\u001b[0m 12ms/step - binary_accuracy: 0.7000 - loss: 0.5071 - val_binary_accuracy: 0.3400 - val_loss: 0.8059\n",
            "Epoch 117/500\n",
            "\u001b[1m7/7\u001b[0m \u001b[32m━━━━━━━━━━━━━━━━━━━━\u001b[0m\u001b[37m\u001b[0m \u001b[1m0s\u001b[0m 11ms/step - binary_accuracy: 0.6919 - loss: 0.4873 - val_binary_accuracy: 0.3400 - val_loss: 0.7797\n",
            "Epoch 118/500\n",
            "\u001b[1m7/7\u001b[0m \u001b[32m━━━━━━━━━━━━━━━━━━━━\u001b[0m\u001b[37m\u001b[0m \u001b[1m0s\u001b[0m 12ms/step - binary_accuracy: 0.7092 - loss: 0.4898 - val_binary_accuracy: 0.3400 - val_loss: 0.7940\n",
            "Epoch 119/500\n",
            "\u001b[1m7/7\u001b[0m \u001b[32m━━━━━━━━━━━━━━━━━━━━\u001b[0m\u001b[37m\u001b[0m \u001b[1m0s\u001b[0m 12ms/step - binary_accuracy: 0.6975 - loss: 0.4946 - val_binary_accuracy: 0.3600 - val_loss: 0.7652\n",
            "Epoch 120/500\n",
            "\u001b[1m7/7\u001b[0m \u001b[32m━━━━━━━━━━━━━━━━━━━━\u001b[0m\u001b[37m\u001b[0m \u001b[1m0s\u001b[0m 12ms/step - binary_accuracy: 0.6917 - loss: 0.4862 - val_binary_accuracy: 0.3600 - val_loss: 0.7766\n",
            "Epoch 121/500\n",
            "\u001b[1m7/7\u001b[0m \u001b[32m━━━━━━━━━━━━━━━━━━━━\u001b[0m\u001b[37m\u001b[0m \u001b[1m0s\u001b[0m 11ms/step - binary_accuracy: 0.7060 - loss: 0.4852 - val_binary_accuracy: 0.3400 - val_loss: 0.7827\n",
            "Epoch 122/500\n",
            "\u001b[1m7/7\u001b[0m \u001b[32m━━━━━━━━━━━━━━━━━━━━\u001b[0m\u001b[37m\u001b[0m \u001b[1m0s\u001b[0m 12ms/step - binary_accuracy: 0.6574 - loss: 0.4956 - val_binary_accuracy: 0.4200 - val_loss: 0.6881\n",
            "Epoch 123/500\n",
            "\u001b[1m7/7\u001b[0m \u001b[32m━━━━━━━━━━━━━━━━━━━━\u001b[0m\u001b[37m\u001b[0m \u001b[1m0s\u001b[0m 12ms/step - binary_accuracy: 0.7167 - loss: 0.4942 - val_binary_accuracy: 0.3800 - val_loss: 0.7214\n",
            "Epoch 124/500\n",
            "\u001b[1m7/7\u001b[0m \u001b[32m━━━━━━━━━━━━━━━━━━━━\u001b[0m\u001b[37m\u001b[0m \u001b[1m0s\u001b[0m 13ms/step - binary_accuracy: 0.6821 - loss: 0.4865 - val_binary_accuracy: 0.3400 - val_loss: 0.7965\n",
            "Epoch 125/500\n",
            "\u001b[1m7/7\u001b[0m \u001b[32m━━━━━━━━━━━━━━━━━━━━\u001b[0m\u001b[37m\u001b[0m \u001b[1m0s\u001b[0m 13ms/step - binary_accuracy: 0.7210 - loss: 0.4677 - val_binary_accuracy: 0.3400 - val_loss: 0.7809\n",
            "Epoch 126/500\n",
            "\u001b[1m7/7\u001b[0m \u001b[32m━━━━━━━━━━━━━━━━━━━━\u001b[0m\u001b[37m\u001b[0m \u001b[1m0s\u001b[0m 12ms/step - binary_accuracy: 0.7018 - loss: 0.4737 - val_binary_accuracy: 0.3400 - val_loss: 0.7772\n",
            "Epoch 127/500\n",
            "\u001b[1m7/7\u001b[0m \u001b[32m━━━━━━━━━━━━━━━━━━━━\u001b[0m\u001b[37m\u001b[0m \u001b[1m0s\u001b[0m 12ms/step - binary_accuracy: 0.6854 - loss: 0.4927 - val_binary_accuracy: 0.3400 - val_loss: 0.8844\n",
            "Epoch 128/500\n",
            "\u001b[1m7/7\u001b[0m \u001b[32m━━━━━━━━━━━━━━━━━━━━\u001b[0m\u001b[37m\u001b[0m \u001b[1m0s\u001b[0m 12ms/step - binary_accuracy: 0.6847 - loss: 0.4868 - val_binary_accuracy: 0.3600 - val_loss: 0.7667\n",
            "Epoch 129/500\n",
            "\u001b[1m7/7\u001b[0m \u001b[32m━━━━━━━━━━━━━━━━━━━━\u001b[0m\u001b[37m\u001b[0m \u001b[1m0s\u001b[0m 12ms/step - binary_accuracy: 0.6919 - loss: 0.4849 - val_binary_accuracy: 0.3400 - val_loss: 0.7924\n",
            "Epoch 130/500\n",
            "\u001b[1m7/7\u001b[0m \u001b[32m━━━━━━━━━━━━━━━━━━━━\u001b[0m\u001b[37m\u001b[0m \u001b[1m0s\u001b[0m 11ms/step - binary_accuracy: 0.7054 - loss: 0.4603 - val_binary_accuracy: 0.3400 - val_loss: 0.7855\n",
            "Epoch 131/500\n",
            "\u001b[1m7/7\u001b[0m \u001b[32m━━━━━━━━━━━━━━━━━━━━\u001b[0m\u001b[37m\u001b[0m \u001b[1m0s\u001b[0m 12ms/step - binary_accuracy: 0.6885 - loss: 0.4755 - val_binary_accuracy: 0.3600 - val_loss: 0.7531\n",
            "Epoch 132/500\n",
            "\u001b[1m7/7\u001b[0m \u001b[32m━━━━━━━━━━━━━━━━━━━━\u001b[0m\u001b[37m\u001b[0m \u001b[1m0s\u001b[0m 14ms/step - binary_accuracy: 0.7266 - loss: 0.4827 - val_binary_accuracy: 0.3600 - val_loss: 0.7730\n",
            "Epoch 133/500\n",
            "\u001b[1m7/7\u001b[0m \u001b[32m━━━━━━━━━━━━━━━━━━━━\u001b[0m\u001b[37m\u001b[0m \u001b[1m0s\u001b[0m 11ms/step - binary_accuracy: 0.7279 - loss: 0.4554 - val_binary_accuracy: 0.3400 - val_loss: 0.8390\n",
            "Epoch 134/500\n",
            "\u001b[1m7/7\u001b[0m \u001b[32m━━━━━━━━━━━━━━━━━━━━\u001b[0m\u001b[37m\u001b[0m \u001b[1m0s\u001b[0m 11ms/step - binary_accuracy: 0.6987 - loss: 0.4751 - val_binary_accuracy: 0.3400 - val_loss: 0.8203\n",
            "Epoch 135/500\n",
            "\u001b[1m7/7\u001b[0m \u001b[32m━━━━━━━━━━━━━━━━━━━━\u001b[0m\u001b[37m\u001b[0m \u001b[1m0s\u001b[0m 11ms/step - binary_accuracy: 0.7234 - loss: 0.4641 - val_binary_accuracy: 0.4600 - val_loss: 0.7009\n",
            "Epoch 136/500\n",
            "\u001b[1m7/7\u001b[0m \u001b[32m━━━━━━━━━━━━━━━━━━━━\u001b[0m\u001b[37m\u001b[0m \u001b[1m0s\u001b[0m 12ms/step - binary_accuracy: 0.7334 - loss: 0.4732 - val_binary_accuracy: 0.3400 - val_loss: 0.8939\n",
            "Epoch 137/500\n",
            "\u001b[1m7/7\u001b[0m \u001b[32m━━━━━━━━━━━━━━━━━━━━\u001b[0m\u001b[37m\u001b[0m \u001b[1m0s\u001b[0m 11ms/step - binary_accuracy: 0.6927 - loss: 0.4770 - val_binary_accuracy: 0.3600 - val_loss: 0.7449\n",
            "Epoch 138/500\n",
            "\u001b[1m7/7\u001b[0m \u001b[32m━━━━━━━━━━━━━━━━━━━━\u001b[0m\u001b[37m\u001b[0m \u001b[1m0s\u001b[0m 11ms/step - binary_accuracy: 0.7219 - loss: 0.4724 - val_binary_accuracy: 0.4400 - val_loss: 0.7205\n",
            "Epoch 139/500\n",
            "\u001b[1m7/7\u001b[0m \u001b[32m━━━━━━━━━━━━━━━━━━━━\u001b[0m\u001b[37m\u001b[0m \u001b[1m0s\u001b[0m 11ms/step - binary_accuracy: 0.6983 - loss: 0.4843 - val_binary_accuracy: 0.3600 - val_loss: 0.7834\n",
            "Epoch 140/500\n",
            "\u001b[1m7/7\u001b[0m \u001b[32m━━━━━━━━━━━━━━━━━━━━\u001b[0m\u001b[37m\u001b[0m \u001b[1m0s\u001b[0m 12ms/step - binary_accuracy: 0.6911 - loss: 0.5061 - val_binary_accuracy: 0.4200 - val_loss: 0.7399\n",
            "Epoch 141/500\n",
            "\u001b[1m7/7\u001b[0m \u001b[32m━━━━━━━━━━━━━━━━━━━━\u001b[0m\u001b[37m\u001b[0m \u001b[1m0s\u001b[0m 13ms/step - binary_accuracy: 0.6961 - loss: 0.4738 - val_binary_accuracy: 0.3600 - val_loss: 0.7623\n",
            "Epoch 142/500\n",
            "\u001b[1m7/7\u001b[0m \u001b[32m━━━━━━━━━━━━━━━━━━━━\u001b[0m\u001b[37m\u001b[0m \u001b[1m0s\u001b[0m 12ms/step - binary_accuracy: 0.7134 - loss: 0.4692 - val_binary_accuracy: 0.4600 - val_loss: 0.6913\n",
            "Epoch 143/500\n",
            "\u001b[1m7/7\u001b[0m \u001b[32m━━━━━━━━━━━━━━━━━━━━\u001b[0m\u001b[37m\u001b[0m \u001b[1m0s\u001b[0m 11ms/step - binary_accuracy: 0.7278 - loss: 0.4555 - val_binary_accuracy: 0.4400 - val_loss: 0.7092\n",
            "Epoch 144/500\n",
            "\u001b[1m7/7\u001b[0m \u001b[32m━━━━━━━━━━━━━━━━━━━━\u001b[0m\u001b[37m\u001b[0m \u001b[1m0s\u001b[0m 12ms/step - binary_accuracy: 0.7572 - loss: 0.4452 - val_binary_accuracy: 0.3400 - val_loss: 0.8124\n",
            "Epoch 145/500\n",
            "\u001b[1m7/7\u001b[0m \u001b[32m━━━━━━━━━━━━━━━━━━━━\u001b[0m\u001b[37m\u001b[0m \u001b[1m0s\u001b[0m 12ms/step - binary_accuracy: 0.7014 - loss: 0.4563 - val_binary_accuracy: 0.4400 - val_loss: 0.7228\n",
            "Epoch 146/500\n",
            "\u001b[1m7/7\u001b[0m \u001b[32m━━━━━━━━━━━━━━━━━━━━\u001b[0m\u001b[37m\u001b[0m \u001b[1m0s\u001b[0m 11ms/step - binary_accuracy: 0.7138 - loss: 0.4737 - val_binary_accuracy: 0.3400 - val_loss: 0.7842\n",
            "Epoch 147/500\n",
            "\u001b[1m7/7\u001b[0m \u001b[32m━━━━━━━━━━━━━━━━━━━━\u001b[0m\u001b[37m\u001b[0m \u001b[1m0s\u001b[0m 11ms/step - binary_accuracy: 0.7102 - loss: 0.4571 - val_binary_accuracy: 0.4400 - val_loss: 0.7035\n",
            "Epoch 148/500\n",
            "\u001b[1m7/7\u001b[0m \u001b[32m━━━━━━━━━━━━━━━━━━━━\u001b[0m\u001b[37m\u001b[0m \u001b[1m0s\u001b[0m 12ms/step - binary_accuracy: 0.7208 - loss: 0.4632 - val_binary_accuracy: 0.4400 - val_loss: 0.7285\n",
            "Epoch 149/500\n",
            "\u001b[1m7/7\u001b[0m \u001b[32m━━━━━━━━━━━━━━━━━━━━\u001b[0m\u001b[37m\u001b[0m \u001b[1m0s\u001b[0m 12ms/step - binary_accuracy: 0.6937 - loss: 0.4607 - val_binary_accuracy: 0.3400 - val_loss: 0.8174\n",
            "Epoch 150/500\n",
            "\u001b[1m7/7\u001b[0m \u001b[32m━━━━━━━━━━━━━━━━━━━━\u001b[0m\u001b[37m\u001b[0m \u001b[1m0s\u001b[0m 14ms/step - binary_accuracy: 0.6830 - loss: 0.4727 - val_binary_accuracy: 0.4600 - val_loss: 0.7113\n",
            "Epoch 151/500\n",
            "\u001b[1m7/7\u001b[0m \u001b[32m━━━━━━━━━━━━━━━━━━━━\u001b[0m\u001b[37m\u001b[0m \u001b[1m0s\u001b[0m 12ms/step - binary_accuracy: 0.6723 - loss: 0.4878 - val_binary_accuracy: 0.4200 - val_loss: 0.7444\n",
            "Epoch 152/500\n",
            "\u001b[1m7/7\u001b[0m \u001b[32m━━━━━━━━━━━━━━━━━━━━\u001b[0m\u001b[37m\u001b[0m \u001b[1m0s\u001b[0m 12ms/step - binary_accuracy: 0.7305 - loss: 0.4536 - val_binary_accuracy: 0.4600 - val_loss: 0.7129\n",
            "Epoch 153/500\n",
            "\u001b[1m7/7\u001b[0m \u001b[32m━━━━━━━━━━━━━━━━━━━━\u001b[0m\u001b[37m\u001b[0m \u001b[1m0s\u001b[0m 12ms/step - binary_accuracy: 0.7461 - loss: 0.4692 - val_binary_accuracy: 0.4200 - val_loss: 0.7468\n",
            "Epoch 154/500\n",
            "\u001b[1m7/7\u001b[0m \u001b[32m━━━━━━━━━━━━━━━━━━━━\u001b[0m\u001b[37m\u001b[0m \u001b[1m0s\u001b[0m 12ms/step - binary_accuracy: 0.7165 - loss: 0.4488 - val_binary_accuracy: 0.4200 - val_loss: 0.7353\n",
            "Epoch 155/500\n",
            "\u001b[1m7/7\u001b[0m \u001b[32m━━━━━━━━━━━━━━━━━━━━\u001b[0m\u001b[37m\u001b[0m \u001b[1m0s\u001b[0m 12ms/step - binary_accuracy: 0.6926 - loss: 0.4591 - val_binary_accuracy: 0.3400 - val_loss: 0.7982\n",
            "Epoch 156/500\n",
            "\u001b[1m7/7\u001b[0m \u001b[32m━━━━━━━━━━━━━━━━━━━━\u001b[0m\u001b[37m\u001b[0m \u001b[1m0s\u001b[0m 12ms/step - binary_accuracy: 0.7086 - loss: 0.4667 - val_binary_accuracy: 0.3400 - val_loss: 0.7879\n",
            "Epoch 157/500\n",
            "\u001b[1m7/7\u001b[0m \u001b[32m━━━━━━━━━━━━━━━━━━━━\u001b[0m\u001b[37m\u001b[0m \u001b[1m0s\u001b[0m 12ms/step - binary_accuracy: 0.6941 - loss: 0.4605 - val_binary_accuracy: 0.4400 - val_loss: 0.7335\n",
            "Epoch 158/500\n",
            "\u001b[1m7/7\u001b[0m \u001b[32m━━━━━━━━━━━━━━━━━━━━\u001b[0m\u001b[37m\u001b[0m \u001b[1m0s\u001b[0m 12ms/step - binary_accuracy: 0.7068 - loss: 0.4751 - val_binary_accuracy: 0.4200 - val_loss: 0.7510\n",
            "Epoch 159/500\n",
            "\u001b[1m7/7\u001b[0m \u001b[32m━━━━━━━━━━━━━━━━━━━━\u001b[0m\u001b[37m\u001b[0m \u001b[1m0s\u001b[0m 22ms/step - binary_accuracy: 0.7062 - loss: 0.4530 - val_binary_accuracy: 0.4200 - val_loss: 0.7528\n",
            "Epoch 160/500\n",
            "\u001b[1m7/7\u001b[0m \u001b[32m━━━━━━━━━━━━━━━━━━━━\u001b[0m\u001b[37m\u001b[0m \u001b[1m0s\u001b[0m 22ms/step - binary_accuracy: 0.7263 - loss: 0.4654 - val_binary_accuracy: 0.3400 - val_loss: 0.7810\n",
            "Epoch 161/500\n",
            "\u001b[1m7/7\u001b[0m \u001b[32m━━━━━━━━━━━━━━━━━━━━\u001b[0m\u001b[37m\u001b[0m \u001b[1m0s\u001b[0m 21ms/step - binary_accuracy: 0.7341 - loss: 0.4354 - val_binary_accuracy: 0.3400 - val_loss: 0.8242\n",
            "Epoch 162/500\n",
            "\u001b[1m7/7\u001b[0m \u001b[32m━━━━━━━━━━━━━━━━━━━━\u001b[0m\u001b[37m\u001b[0m \u001b[1m0s\u001b[0m 16ms/step - binary_accuracy: 0.7231 - loss: 0.4554 - val_binary_accuracy: 0.4600 - val_loss: 0.7463\n",
            "Epoch 163/500\n",
            "\u001b[1m7/7\u001b[0m \u001b[32m━━━━━━━━━━━━━━━━━━━━\u001b[0m\u001b[37m\u001b[0m \u001b[1m0s\u001b[0m 20ms/step - binary_accuracy: 0.7199 - loss: 0.4527 - val_binary_accuracy: 0.4200 - val_loss: 0.7584\n",
            "Epoch 164/500\n",
            "\u001b[1m7/7\u001b[0m \u001b[32m━━━━━━━━━━━━━━━━━━━━\u001b[0m\u001b[37m\u001b[0m \u001b[1m0s\u001b[0m 22ms/step - binary_accuracy: 0.7445 - loss: 0.4368 - val_binary_accuracy: 0.3600 - val_loss: 0.7664\n",
            "Epoch 165/500\n",
            "\u001b[1m7/7\u001b[0m \u001b[32m━━━━━━━━━━━━━━━━━━━━\u001b[0m\u001b[37m\u001b[0m \u001b[1m0s\u001b[0m 23ms/step - binary_accuracy: 0.7660 - loss: 0.4489 - val_binary_accuracy: 0.4800 - val_loss: 0.7112\n",
            "Epoch 166/500\n",
            "\u001b[1m7/7\u001b[0m \u001b[32m━━━━━━━━━━━━━━━━━━━━\u001b[0m\u001b[37m\u001b[0m \u001b[1m0s\u001b[0m 12ms/step - binary_accuracy: 0.7621 - loss: 0.4321 - val_binary_accuracy: 0.4600 - val_loss: 0.7377\n",
            "Epoch 167/500\n",
            "\u001b[1m7/7\u001b[0m \u001b[32m━━━━━━━━━━━━━━━━━━━━\u001b[0m\u001b[37m\u001b[0m \u001b[1m0s\u001b[0m 12ms/step - binary_accuracy: 0.7254 - loss: 0.4334 - val_binary_accuracy: 0.4400 - val_loss: 0.7349\n",
            "Epoch 168/500\n",
            "\u001b[1m7/7\u001b[0m \u001b[32m━━━━━━━━━━━━━━━━━━━━\u001b[0m\u001b[37m\u001b[0m \u001b[1m0s\u001b[0m 12ms/step - binary_accuracy: 0.7766 - loss: 0.4199 - val_binary_accuracy: 0.3600 - val_loss: 0.7740\n",
            "Epoch 169/500\n",
            "\u001b[1m7/7\u001b[0m \u001b[32m━━━━━━━━━━━━━━━━━━━━\u001b[0m\u001b[37m\u001b[0m \u001b[1m0s\u001b[0m 12ms/step - binary_accuracy: 0.7359 - loss: 0.4484 - val_binary_accuracy: 0.3400 - val_loss: 0.8676\n",
            "Epoch 170/500\n",
            "\u001b[1m7/7\u001b[0m \u001b[32m━━━━━━━━━━━━━━━━━━━━\u001b[0m\u001b[37m\u001b[0m \u001b[1m0s\u001b[0m 11ms/step - binary_accuracy: 0.6714 - loss: 0.4795 - val_binary_accuracy: 0.3400 - val_loss: 0.8262\n",
            "Epoch 171/500\n",
            "\u001b[1m7/7\u001b[0m \u001b[32m━━━━━━━━━━━━━━━━━━━━\u001b[0m\u001b[37m\u001b[0m \u001b[1m0s\u001b[0m 11ms/step - binary_accuracy: 0.7013 - loss: 0.4497 - val_binary_accuracy: 0.4200 - val_loss: 0.7499\n",
            "Epoch 172/500\n",
            "\u001b[1m7/7\u001b[0m \u001b[32m━━━━━━━━━━━━━━━━━━━━\u001b[0m\u001b[37m\u001b[0m \u001b[1m0s\u001b[0m 11ms/step - binary_accuracy: 0.7114 - loss: 0.4409 - val_binary_accuracy: 0.5000 - val_loss: 0.7064\n",
            "Epoch 173/500\n",
            "\u001b[1m7/7\u001b[0m \u001b[32m━━━━━━━━━━━━━━━━━━━━\u001b[0m\u001b[37m\u001b[0m \u001b[1m0s\u001b[0m 15ms/step - binary_accuracy: 0.7262 - loss: 0.4582 - val_binary_accuracy: 0.3400 - val_loss: 0.7867\n",
            "Epoch 174/500\n",
            "\u001b[1m7/7\u001b[0m \u001b[32m━━━━━━━━━━━━━━━━━━━━\u001b[0m\u001b[37m\u001b[0m \u001b[1m0s\u001b[0m 12ms/step - binary_accuracy: 0.7376 - loss: 0.4287 - val_binary_accuracy: 0.4800 - val_loss: 0.7292\n",
            "Epoch 175/500\n",
            "\u001b[1m7/7\u001b[0m \u001b[32m━━━━━━━━━━━━━━━━━━━━\u001b[0m\u001b[37m\u001b[0m \u001b[1m0s\u001b[0m 12ms/step - binary_accuracy: 0.7374 - loss: 0.4459 - val_binary_accuracy: 0.4400 - val_loss: 0.7529\n",
            "Epoch 176/500\n",
            "\u001b[1m7/7\u001b[0m \u001b[32m━━━━━━━━━━━━━━━━━━━━\u001b[0m\u001b[37m\u001b[0m \u001b[1m0s\u001b[0m 11ms/step - binary_accuracy: 0.7717 - loss: 0.4139 - val_binary_accuracy: 0.4000 - val_loss: 0.7601\n",
            "Epoch 177/500\n",
            "\u001b[1m7/7\u001b[0m \u001b[32m━━━━━━━━━━━━━━━━━━━━\u001b[0m\u001b[37m\u001b[0m \u001b[1m0s\u001b[0m 12ms/step - binary_accuracy: 0.7093 - loss: 0.4422 - val_binary_accuracy: 0.3600 - val_loss: 0.7811\n",
            "Epoch 178/500\n",
            "\u001b[1m7/7\u001b[0m \u001b[32m━━━━━━━━━━━━━━━━━━━━\u001b[0m\u001b[37m\u001b[0m \u001b[1m0s\u001b[0m 11ms/step - binary_accuracy: 0.7396 - loss: 0.4252 - val_binary_accuracy: 0.3600 - val_loss: 0.7707\n",
            "Epoch 179/500\n",
            "\u001b[1m7/7\u001b[0m \u001b[32m━━━━━━━━━━━━━━━━━━━━\u001b[0m\u001b[37m\u001b[0m \u001b[1m0s\u001b[0m 12ms/step - binary_accuracy: 0.7453 - loss: 0.4269 - val_binary_accuracy: 0.5400 - val_loss: 0.6975\n",
            "Epoch 180/500\n",
            "\u001b[1m7/7\u001b[0m \u001b[32m━━━━━━━━━━━━━━━━━━━━\u001b[0m\u001b[37m\u001b[0m \u001b[1m0s\u001b[0m 12ms/step - binary_accuracy: 0.7640 - loss: 0.4488 - val_binary_accuracy: 0.4000 - val_loss: 0.7752\n",
            "Epoch 181/500\n",
            "\u001b[1m7/7\u001b[0m \u001b[32m━━━━━━━━━━━━━━━━━━━━\u001b[0m\u001b[37m\u001b[0m \u001b[1m0s\u001b[0m 11ms/step - binary_accuracy: 0.7412 - loss: 0.4101 - val_binary_accuracy: 0.5000 - val_loss: 0.7096\n",
            "Epoch 182/500\n",
            "\u001b[1m7/7\u001b[0m \u001b[32m━━━━━━━━━━━━━━━━━━━━\u001b[0m\u001b[37m\u001b[0m \u001b[1m0s\u001b[0m 12ms/step - binary_accuracy: 0.7558 - loss: 0.4279 - val_binary_accuracy: 0.4600 - val_loss: 0.7093\n",
            "Epoch 183/500\n",
            "\u001b[1m7/7\u001b[0m \u001b[32m━━━━━━━━━━━━━━━━━━━━\u001b[0m\u001b[37m\u001b[0m \u001b[1m0s\u001b[0m 11ms/step - binary_accuracy: 0.7448 - loss: 0.4455 - val_binary_accuracy: 0.5200 - val_loss: 0.6986\n",
            "Epoch 184/500\n",
            "\u001b[1m7/7\u001b[0m \u001b[32m━━━━━━━━━━━━━━━━━━━━\u001b[0m\u001b[37m\u001b[0m \u001b[1m0s\u001b[0m 11ms/step - binary_accuracy: 0.7834 - loss: 0.4239 - val_binary_accuracy: 0.3600 - val_loss: 0.7723\n",
            "Epoch 185/500\n",
            "\u001b[1m7/7\u001b[0m \u001b[32m━━━━━━━━━━━━━━━━━━━━\u001b[0m\u001b[37m\u001b[0m \u001b[1m0s\u001b[0m 12ms/step - binary_accuracy: 0.7842 - loss: 0.4321 - val_binary_accuracy: 0.4800 - val_loss: 0.7279\n",
            "Epoch 186/500\n",
            "\u001b[1m7/7\u001b[0m \u001b[32m━━━━━━━━━━━━━━━━━━━━\u001b[0m\u001b[37m\u001b[0m \u001b[1m0s\u001b[0m 11ms/step - binary_accuracy: 0.7699 - loss: 0.4184 - val_binary_accuracy: 0.4200 - val_loss: 0.7502\n",
            "Epoch 187/500\n",
            "\u001b[1m7/7\u001b[0m \u001b[32m━━━━━━━━━━━━━━━━━━━━\u001b[0m\u001b[37m\u001b[0m \u001b[1m0s\u001b[0m 12ms/step - binary_accuracy: 0.7446 - loss: 0.4294 - val_binary_accuracy: 0.5200 - val_loss: 0.7007\n",
            "Epoch 188/500\n",
            "\u001b[1m7/7\u001b[0m \u001b[32m━━━━━━━━━━━━━━━━━━━━\u001b[0m\u001b[37m\u001b[0m \u001b[1m0s\u001b[0m 11ms/step - binary_accuracy: 0.7704 - loss: 0.4393 - val_binary_accuracy: 0.4400 - val_loss: 0.7460\n",
            "Epoch 189/500\n",
            "\u001b[1m7/7\u001b[0m \u001b[32m━━━━━━━━━━━━━━━━━━━━\u001b[0m\u001b[37m\u001b[0m \u001b[1m0s\u001b[0m 11ms/step - binary_accuracy: 0.7476 - loss: 0.4266 - val_binary_accuracy: 0.4200 - val_loss: 0.7549\n",
            "Epoch 190/500\n",
            "\u001b[1m7/7\u001b[0m \u001b[32m━━━━━━━━━━━━━━━━━━━━\u001b[0m\u001b[37m\u001b[0m \u001b[1m0s\u001b[0m 12ms/step - binary_accuracy: 0.7885 - loss: 0.4269 - val_binary_accuracy: 0.4200 - val_loss: 0.7476\n",
            "Epoch 191/500\n",
            "\u001b[1m7/7\u001b[0m \u001b[32m━━━━━━━━━━━━━━━━━━━━\u001b[0m\u001b[37m\u001b[0m \u001b[1m0s\u001b[0m 12ms/step - binary_accuracy: 0.7718 - loss: 0.4270 - val_binary_accuracy: 0.3400 - val_loss: 0.8057\n",
            "Epoch 192/500\n",
            "\u001b[1m7/7\u001b[0m \u001b[32m━━━━━━━━━━━━━━━━━━━━\u001b[0m\u001b[37m\u001b[0m \u001b[1m0s\u001b[0m 11ms/step - binary_accuracy: 0.7444 - loss: 0.4374 - val_binary_accuracy: 0.3600 - val_loss: 0.7844\n",
            "Epoch 193/500\n",
            "\u001b[1m7/7\u001b[0m \u001b[32m━━━━━━━━━━━━━━━━━━━━\u001b[0m\u001b[37m\u001b[0m \u001b[1m0s\u001b[0m 11ms/step - binary_accuracy: 0.7497 - loss: 0.4428 - val_binary_accuracy: 0.5400 - val_loss: 0.7095\n",
            "Epoch 194/500\n",
            "\u001b[1m7/7\u001b[0m \u001b[32m━━━━━━━━━━━━━━━━━━━━\u001b[0m\u001b[37m\u001b[0m \u001b[1m0s\u001b[0m 13ms/step - binary_accuracy: 0.7856 - loss: 0.4107 - val_binary_accuracy: 0.3400 - val_loss: 0.8060\n",
            "Epoch 195/500\n",
            "\u001b[1m7/7\u001b[0m \u001b[32m━━━━━━━━━━━━━━━━━━━━\u001b[0m\u001b[37m\u001b[0m \u001b[1m0s\u001b[0m 11ms/step - binary_accuracy: 0.7505 - loss: 0.4329 - val_binary_accuracy: 0.4200 - val_loss: 0.7552\n",
            "Epoch 196/500\n",
            "\u001b[1m7/7\u001b[0m \u001b[32m━━━━━━━━━━━━━━━━━━━━\u001b[0m\u001b[37m\u001b[0m \u001b[1m0s\u001b[0m 11ms/step - binary_accuracy: 0.7803 - loss: 0.4139 - val_binary_accuracy: 0.5000 - val_loss: 0.7152\n",
            "Epoch 197/500\n",
            "\u001b[1m7/7\u001b[0m \u001b[32m━━━━━━━━━━━━━━━━━━━━\u001b[0m\u001b[37m\u001b[0m \u001b[1m0s\u001b[0m 12ms/step - binary_accuracy: 0.7536 - loss: 0.4286 - val_binary_accuracy: 0.4200 - val_loss: 0.7556\n",
            "Epoch 198/500\n",
            "\u001b[1m7/7\u001b[0m \u001b[32m━━━━━━━━━━━━━━━━━━━━\u001b[0m\u001b[37m\u001b[0m \u001b[1m0s\u001b[0m 11ms/step - binary_accuracy: 0.7872 - loss: 0.4133 - val_binary_accuracy: 0.5800 - val_loss: 0.7006\n",
            "Epoch 199/500\n",
            "\u001b[1m7/7\u001b[0m \u001b[32m━━━━━━━━━━━━━━━━━━━━\u001b[0m\u001b[37m\u001b[0m \u001b[1m0s\u001b[0m 11ms/step - binary_accuracy: 0.7547 - loss: 0.4518 - val_binary_accuracy: 0.5600 - val_loss: 0.7003\n",
            "Epoch 200/500\n",
            "\u001b[1m7/7\u001b[0m \u001b[32m━━━━━━━━━━━━━━━━━━━━\u001b[0m\u001b[37m\u001b[0m \u001b[1m0s\u001b[0m 12ms/step - binary_accuracy: 0.7759 - loss: 0.4190 - val_binary_accuracy: 0.3600 - val_loss: 0.8813\n",
            "Epoch 201/500\n",
            "\u001b[1m7/7\u001b[0m \u001b[32m━━━━━━━━━━━━━━━━━━━━\u001b[0m\u001b[37m\u001b[0m \u001b[1m0s\u001b[0m 12ms/step - binary_accuracy: 0.7501 - loss: 0.4466 - val_binary_accuracy: 0.3600 - val_loss: 0.7870\n",
            "Epoch 202/500\n",
            "\u001b[1m7/7\u001b[0m \u001b[32m━━━━━━━━━━━━━━━━━━━━\u001b[0m\u001b[37m\u001b[0m \u001b[1m0s\u001b[0m 11ms/step - binary_accuracy: 0.7875 - loss: 0.3893 - val_binary_accuracy: 0.4600 - val_loss: 0.7328\n",
            "Epoch 203/500\n",
            "\u001b[1m7/7\u001b[0m \u001b[32m━━━━━━━━━━━━━━━━━━━━\u001b[0m\u001b[37m\u001b[0m \u001b[1m0s\u001b[0m 11ms/step - binary_accuracy: 0.7722 - loss: 0.4108 - val_binary_accuracy: 0.4400 - val_loss: 0.7367\n",
            "Epoch 204/500\n",
            "\u001b[1m7/7\u001b[0m \u001b[32m━━━━━━━━━━━━━━━━━━━━\u001b[0m\u001b[37m\u001b[0m \u001b[1m0s\u001b[0m 12ms/step - binary_accuracy: 0.7939 - loss: 0.4245 - val_binary_accuracy: 0.4200 - val_loss: 0.7392\n",
            "Epoch 205/500\n",
            "\u001b[1m7/7\u001b[0m \u001b[32m━━━━━━━━━━━━━━━━━━━━\u001b[0m\u001b[37m\u001b[0m \u001b[1m0s\u001b[0m 19ms/step - binary_accuracy: 0.8214 - loss: 0.4104 - val_binary_accuracy: 0.4800 - val_loss: 0.7174\n",
            "Epoch 206/500\n",
            "\u001b[1m7/7\u001b[0m \u001b[32m━━━━━━━━━━━━━━━━━━━━\u001b[0m\u001b[37m\u001b[0m \u001b[1m0s\u001b[0m 12ms/step - binary_accuracy: 0.7854 - loss: 0.4277 - val_binary_accuracy: 0.4000 - val_loss: 0.7663\n",
            "Epoch 207/500\n",
            "\u001b[1m7/7\u001b[0m \u001b[32m━━━━━━━━━━━━━━━━━━━━\u001b[0m\u001b[37m\u001b[0m \u001b[1m0s\u001b[0m 13ms/step - binary_accuracy: 0.7569 - loss: 0.4408 - val_binary_accuracy: 0.4400 - val_loss: 0.7456\n",
            "Epoch 208/500\n",
            "\u001b[1m7/7\u001b[0m \u001b[32m━━━━━━━━━━━━━━━━━━━━\u001b[0m\u001b[37m\u001b[0m \u001b[1m0s\u001b[0m 12ms/step - binary_accuracy: 0.7529 - loss: 0.4399 - val_binary_accuracy: 0.4400 - val_loss: 0.7484\n",
            "Epoch 209/500\n",
            "\u001b[1m7/7\u001b[0m \u001b[32m━━━━━━━━━━━━━━━━━━━━\u001b[0m\u001b[37m\u001b[0m \u001b[1m0s\u001b[0m 12ms/step - binary_accuracy: 0.8002 - loss: 0.4103 - val_binary_accuracy: 0.4200 - val_loss: 0.7591\n",
            "Epoch 210/500\n",
            "\u001b[1m7/7\u001b[0m \u001b[32m━━━━━━━━━━━━━━━━━━━━\u001b[0m\u001b[37m\u001b[0m \u001b[1m0s\u001b[0m 12ms/step - binary_accuracy: 0.7763 - loss: 0.4076 - val_binary_accuracy: 0.4000 - val_loss: 0.7511\n",
            "Epoch 211/500\n",
            "\u001b[1m7/7\u001b[0m \u001b[32m━━━━━━━━━━━━━━━━━━━━\u001b[0m\u001b[37m\u001b[0m \u001b[1m0s\u001b[0m 12ms/step - binary_accuracy: 0.7687 - loss: 0.4155 - val_binary_accuracy: 0.5200 - val_loss: 0.7160\n",
            "Epoch 212/500\n",
            "\u001b[1m7/7\u001b[0m \u001b[32m━━━━━━━━━━━━━━━━━━━━\u001b[0m\u001b[37m\u001b[0m \u001b[1m0s\u001b[0m 13ms/step - binary_accuracy: 0.8160 - loss: 0.4240 - val_binary_accuracy: 0.4600 - val_loss: 0.7604\n",
            "Epoch 213/500\n",
            "\u001b[1m7/7\u001b[0m \u001b[32m━━━━━━━━━━━━━━━━━━━━\u001b[0m\u001b[37m\u001b[0m \u001b[1m0s\u001b[0m 12ms/step - binary_accuracy: 0.7877 - loss: 0.4064 - val_binary_accuracy: 0.4600 - val_loss: 0.7407\n",
            "Epoch 214/500\n",
            "\u001b[1m7/7\u001b[0m \u001b[32m━━━━━━━━━━━━━━━━━━━━\u001b[0m\u001b[37m\u001b[0m \u001b[1m0s\u001b[0m 13ms/step - binary_accuracy: 0.7808 - loss: 0.4100 - val_binary_accuracy: 0.6200 - val_loss: 0.6752\n",
            "Epoch 215/500\n",
            "\u001b[1m7/7\u001b[0m \u001b[32m━━━━━━━━━━━━━━━━━━━━\u001b[0m\u001b[37m\u001b[0m \u001b[1m0s\u001b[0m 13ms/step - binary_accuracy: 0.8277 - loss: 0.4310 - val_binary_accuracy: 0.3800 - val_loss: 0.7889\n",
            "Epoch 216/500\n",
            "\u001b[1m7/7\u001b[0m \u001b[32m━━━━━━━━━━━━━━━━━━━━\u001b[0m\u001b[37m\u001b[0m \u001b[1m0s\u001b[0m 12ms/step - binary_accuracy: 0.7652 - loss: 0.4014 - val_binary_accuracy: 0.4200 - val_loss: 0.7551\n",
            "Epoch 217/500\n",
            "\u001b[1m7/7\u001b[0m \u001b[32m━━━━━━━━━━━━━━━━━━━━\u001b[0m\u001b[37m\u001b[0m \u001b[1m0s\u001b[0m 12ms/step - binary_accuracy: 0.7717 - loss: 0.4067 - val_binary_accuracy: 0.4400 - val_loss: 0.7587\n",
            "Epoch 218/500\n",
            "\u001b[1m7/7\u001b[0m \u001b[32m━━━━━━━━━━━━━━━━━━━━\u001b[0m\u001b[37m\u001b[0m \u001b[1m0s\u001b[0m 12ms/step - binary_accuracy: 0.7974 - loss: 0.3877 - val_binary_accuracy: 0.5200 - val_loss: 0.7185\n",
            "Epoch 219/500\n",
            "\u001b[1m7/7\u001b[0m \u001b[32m━━━━━━━━━━━━━━━━━━━━\u001b[0m\u001b[37m\u001b[0m \u001b[1m0s\u001b[0m 12ms/step - binary_accuracy: 0.8212 - loss: 0.3926 - val_binary_accuracy: 0.4400 - val_loss: 0.7464\n",
            "Epoch 220/500\n",
            "\u001b[1m7/7\u001b[0m \u001b[32m━━━━━━━━━━━━━━━━━━━━\u001b[0m\u001b[37m\u001b[0m \u001b[1m0s\u001b[0m 11ms/step - binary_accuracy: 0.8073 - loss: 0.4076 - val_binary_accuracy: 0.5000 - val_loss: 0.7253\n",
            "Epoch 221/500\n",
            "\u001b[1m7/7\u001b[0m \u001b[32m━━━━━━━━━━━━━━━━━━━━\u001b[0m\u001b[37m\u001b[0m \u001b[1m0s\u001b[0m 12ms/step - binary_accuracy: 0.8105 - loss: 0.4068 - val_binary_accuracy: 0.5400 - val_loss: 0.7129\n",
            "Epoch 222/500\n",
            "\u001b[1m7/7\u001b[0m \u001b[32m━━━━━━━━━━━━━━━━━━━━\u001b[0m\u001b[37m\u001b[0m \u001b[1m0s\u001b[0m 12ms/step - binary_accuracy: 0.8364 - loss: 0.3938 - val_binary_accuracy: 0.5600 - val_loss: 0.7083\n",
            "Epoch 223/500\n",
            "\u001b[1m7/7\u001b[0m \u001b[32m━━━━━━━━━━━━━━━━━━━━\u001b[0m\u001b[37m\u001b[0m \u001b[1m0s\u001b[0m 12ms/step - binary_accuracy: 0.8324 - loss: 0.4067 - val_binary_accuracy: 0.4400 - val_loss: 0.7547\n",
            "Epoch 224/500\n",
            "\u001b[1m7/7\u001b[0m \u001b[32m━━━━━━━━━━━━━━━━━━━━\u001b[0m\u001b[37m\u001b[0m \u001b[1m0s\u001b[0m 12ms/step - binary_accuracy: 0.8099 - loss: 0.4004 - val_binary_accuracy: 0.4600 - val_loss: 0.7381\n",
            "Epoch 225/500\n",
            "\u001b[1m7/7\u001b[0m \u001b[32m━━━━━━━━━━━━━━━━━━━━\u001b[0m\u001b[37m\u001b[0m \u001b[1m0s\u001b[0m 12ms/step - binary_accuracy: 0.8045 - loss: 0.3825 - val_binary_accuracy: 0.6200 - val_loss: 0.6894\n",
            "Epoch 226/500\n",
            "\u001b[1m7/7\u001b[0m \u001b[32m━━━━━━━━━━━━━━━━━━━━\u001b[0m\u001b[37m\u001b[0m \u001b[1m0s\u001b[0m 12ms/step - binary_accuracy: 0.8443 - loss: 0.4120 - val_binary_accuracy: 0.4600 - val_loss: 0.7645\n",
            "Epoch 227/500\n",
            "\u001b[1m7/7\u001b[0m \u001b[32m━━━━━━━━━━━━━━━━━━━━\u001b[0m\u001b[37m\u001b[0m \u001b[1m0s\u001b[0m 12ms/step - binary_accuracy: 0.8002 - loss: 0.3874 - val_binary_accuracy: 0.5400 - val_loss: 0.7135\n",
            "Epoch 228/500\n",
            "\u001b[1m7/7\u001b[0m \u001b[32m━━━━━━━━━━━━━━━━━━━━\u001b[0m\u001b[37m\u001b[0m \u001b[1m0s\u001b[0m 12ms/step - binary_accuracy: 0.8030 - loss: 0.4026 - val_binary_accuracy: 0.4600 - val_loss: 0.7575\n",
            "Epoch 229/500\n",
            "\u001b[1m7/7\u001b[0m \u001b[32m━━━━━━━━━━━━━━━━━━━━\u001b[0m\u001b[37m\u001b[0m \u001b[1m0s\u001b[0m 12ms/step - binary_accuracy: 0.8034 - loss: 0.3779 - val_binary_accuracy: 0.4000 - val_loss: 0.7881\n",
            "Epoch 230/500\n",
            "\u001b[1m7/7\u001b[0m \u001b[32m━━━━━━━━━━━━━━━━━━━━\u001b[0m\u001b[37m\u001b[0m \u001b[1m0s\u001b[0m 12ms/step - binary_accuracy: 0.7698 - loss: 0.4042 - val_binary_accuracy: 0.5200 - val_loss: 0.7278\n",
            "Epoch 231/500\n",
            "\u001b[1m7/7\u001b[0m \u001b[32m━━━━━━━━━━━━━━━━━━━━\u001b[0m\u001b[37m\u001b[0m \u001b[1m0s\u001b[0m 12ms/step - binary_accuracy: 0.8228 - loss: 0.4266 - val_binary_accuracy: 0.3800 - val_loss: 0.8012\n",
            "Epoch 232/500\n",
            "\u001b[1m7/7\u001b[0m \u001b[32m━━━━━━━━━━━━━━━━━━━━\u001b[0m\u001b[37m\u001b[0m \u001b[1m0s\u001b[0m 12ms/step - binary_accuracy: 0.7590 - loss: 0.4155 - val_binary_accuracy: 0.4400 - val_loss: 0.7554\n",
            "Epoch 233/500\n",
            "\u001b[1m7/7\u001b[0m \u001b[32m━━━━━━━━━━━━━━━━━━━━\u001b[0m\u001b[37m\u001b[0m \u001b[1m0s\u001b[0m 12ms/step - binary_accuracy: 0.8232 - loss: 0.3785 - val_binary_accuracy: 0.6000 - val_loss: 0.6896\n",
            "Epoch 234/500\n",
            "\u001b[1m7/7\u001b[0m \u001b[32m━━━━━━━━━━━━━━━━━━━━\u001b[0m\u001b[37m\u001b[0m \u001b[1m0s\u001b[0m 12ms/step - binary_accuracy: 0.8456 - loss: 0.3960 - val_binary_accuracy: 0.6200 - val_loss: 0.6847\n",
            "Epoch 235/500\n",
            "\u001b[1m7/7\u001b[0m \u001b[32m━━━━━━━━━━━━━━━━━━━━\u001b[0m\u001b[37m\u001b[0m \u001b[1m0s\u001b[0m 12ms/step - binary_accuracy: 0.8711 - loss: 0.3979 - val_binary_accuracy: 0.5200 - val_loss: 0.7416\n",
            "Epoch 236/500\n",
            "\u001b[1m7/7\u001b[0m \u001b[32m━━━━━━━━━━━━━━━━━━━━\u001b[0m\u001b[37m\u001b[0m \u001b[1m0s\u001b[0m 12ms/step - binary_accuracy: 0.8237 - loss: 0.3946 - val_binary_accuracy: 0.5600 - val_loss: 0.7146\n",
            "Epoch 237/500\n",
            "\u001b[1m7/7\u001b[0m \u001b[32m━━━━━━━━━━━━━━━━━━━━\u001b[0m\u001b[37m\u001b[0m \u001b[1m0s\u001b[0m 12ms/step - binary_accuracy: 0.8348 - loss: 0.3879 - val_binary_accuracy: 0.4200 - val_loss: 0.8053\n",
            "Epoch 238/500\n",
            "\u001b[1m7/7\u001b[0m \u001b[32m━━━━━━━━━━━━━━━━━━━━\u001b[0m\u001b[37m\u001b[0m \u001b[1m0s\u001b[0m 12ms/step - binary_accuracy: 0.8094 - loss: 0.3859 - val_binary_accuracy: 0.4200 - val_loss: 0.7853\n",
            "Epoch 239/500\n",
            "\u001b[1m7/7\u001b[0m \u001b[32m━━━━━━━━━━━━━━━━━━━━\u001b[0m\u001b[37m\u001b[0m \u001b[1m0s\u001b[0m 12ms/step - binary_accuracy: 0.8158 - loss: 0.3935 - val_binary_accuracy: 0.4400 - val_loss: 0.7790\n",
            "Epoch 240/500\n",
            "\u001b[1m7/7\u001b[0m \u001b[32m━━━━━━━━━━━━━━━━━━━━\u001b[0m\u001b[37m\u001b[0m \u001b[1m0s\u001b[0m 12ms/step - binary_accuracy: 0.7914 - loss: 0.3765 - val_binary_accuracy: 0.5600 - val_loss: 0.7139\n",
            "Epoch 241/500\n",
            "\u001b[1m7/7\u001b[0m \u001b[32m━━━━━━━━━━━━━━━━━━━━\u001b[0m\u001b[37m\u001b[0m \u001b[1m0s\u001b[0m 13ms/step - binary_accuracy: 0.8672 - loss: 0.3841 - val_binary_accuracy: 0.4400 - val_loss: 0.7975\n",
            "Epoch 242/500\n",
            "\u001b[1m7/7\u001b[0m \u001b[32m━━━━━━━━━━━━━━━━━━━━\u001b[0m\u001b[37m\u001b[0m \u001b[1m0s\u001b[0m 12ms/step - binary_accuracy: 0.8139 - loss: 0.3873 - val_binary_accuracy: 0.4600 - val_loss: 0.7679\n",
            "Epoch 243/500\n",
            "\u001b[1m7/7\u001b[0m \u001b[32m━━━━━━━━━━━━━━━━━━━━\u001b[0m\u001b[37m\u001b[0m \u001b[1m0s\u001b[0m 11ms/step - binary_accuracy: 0.8475 - loss: 0.3855 - val_binary_accuracy: 0.5600 - val_loss: 0.7338\n",
            "Epoch 244/500\n",
            "\u001b[1m7/7\u001b[0m \u001b[32m━━━━━━━━━━━━━━━━━━━━\u001b[0m\u001b[37m\u001b[0m \u001b[1m0s\u001b[0m 12ms/step - binary_accuracy: 0.8111 - loss: 0.3966 - val_binary_accuracy: 0.5600 - val_loss: 0.7193\n",
            "Epoch 245/500\n",
            "\u001b[1m7/7\u001b[0m \u001b[32m━━━━━━━━━━━━━━━━━━━━\u001b[0m\u001b[37m\u001b[0m \u001b[1m0s\u001b[0m 12ms/step - binary_accuracy: 0.8193 - loss: 0.3749 - val_binary_accuracy: 0.4600 - val_loss: 0.7626\n",
            "Epoch 246/500\n",
            "\u001b[1m7/7\u001b[0m \u001b[32m━━━━━━━━━━━━━━━━━━━━\u001b[0m\u001b[37m\u001b[0m \u001b[1m0s\u001b[0m 12ms/step - binary_accuracy: 0.8119 - loss: 0.3765 - val_binary_accuracy: 0.4600 - val_loss: 0.7617\n",
            "Epoch 247/500\n",
            "\u001b[1m7/7\u001b[0m \u001b[32m━━━━━━━━━━━━━━━━━━━━\u001b[0m\u001b[37m\u001b[0m \u001b[1m0s\u001b[0m 11ms/step - binary_accuracy: 0.8197 - loss: 0.3879 - val_binary_accuracy: 0.5600 - val_loss: 0.7296\n",
            "Epoch 248/500\n",
            "\u001b[1m7/7\u001b[0m \u001b[32m━━━━━━━━━━━━━━━━━━━━\u001b[0m\u001b[37m\u001b[0m \u001b[1m0s\u001b[0m 12ms/step - binary_accuracy: 0.8565 - loss: 0.3859 - val_binary_accuracy: 0.6200 - val_loss: 0.6851\n",
            "Epoch 249/500\n",
            "\u001b[1m7/7\u001b[0m \u001b[32m━━━━━━━━━━━━━━━━━━━━\u001b[0m\u001b[37m\u001b[0m \u001b[1m0s\u001b[0m 11ms/step - binary_accuracy: 0.8506 - loss: 0.3756 - val_binary_accuracy: 0.4400 - val_loss: 0.7938\n",
            "Epoch 250/500\n",
            "\u001b[1m7/7\u001b[0m \u001b[32m━━━━━━━━━━━━━━━━━━━━\u001b[0m\u001b[37m\u001b[0m \u001b[1m0s\u001b[0m 13ms/step - binary_accuracy: 0.8245 - loss: 0.3940 - val_binary_accuracy: 0.5600 - val_loss: 0.7191\n",
            "Epoch 251/500\n",
            "\u001b[1m7/7\u001b[0m \u001b[32m━━━━━━━━━━━━━━━━━━━━\u001b[0m\u001b[37m\u001b[0m \u001b[1m0s\u001b[0m 12ms/step - binary_accuracy: 0.8294 - loss: 0.3798 - val_binary_accuracy: 0.4400 - val_loss: 0.7849\n",
            "Epoch 252/500\n",
            "\u001b[1m7/7\u001b[0m \u001b[32m━━━━━━━━━━━━━━━━━━━━\u001b[0m\u001b[37m\u001b[0m \u001b[1m0s\u001b[0m 21ms/step - binary_accuracy: 0.8145 - loss: 0.3857 - val_binary_accuracy: 0.5000 - val_loss: 0.7473\n",
            "Epoch 253/500\n",
            "\u001b[1m7/7\u001b[0m \u001b[32m━━━━━━━━━━━━━━━━━━━━\u001b[0m\u001b[37m\u001b[0m \u001b[1m0s\u001b[0m 17ms/step - binary_accuracy: 0.8416 - loss: 0.3617 - val_binary_accuracy: 0.5600 - val_loss: 0.7340\n",
            "Epoch 254/500\n",
            "\u001b[1m7/7\u001b[0m \u001b[32m━━━━━━━━━━━━━━━━━━━━\u001b[0m\u001b[37m\u001b[0m \u001b[1m0s\u001b[0m 22ms/step - binary_accuracy: 0.8195 - loss: 0.3997 - val_binary_accuracy: 0.3800 - val_loss: 0.8592\n",
            "Epoch 255/500\n",
            "\u001b[1m7/7\u001b[0m \u001b[32m━━━━━━━━━━━━━━━━━━━━\u001b[0m\u001b[37m\u001b[0m \u001b[1m0s\u001b[0m 16ms/step - binary_accuracy: 0.8179 - loss: 0.3960 - val_binary_accuracy: 0.4600 - val_loss: 0.7808\n",
            "Epoch 256/500\n",
            "\u001b[1m7/7\u001b[0m \u001b[32m━━━━━━━━━━━━━━━━━━━━\u001b[0m\u001b[37m\u001b[0m \u001b[1m0s\u001b[0m 22ms/step - binary_accuracy: 0.8187 - loss: 0.3813 - val_binary_accuracy: 0.5600 - val_loss: 0.7310\n",
            "Epoch 257/500\n",
            "\u001b[1m7/7\u001b[0m \u001b[32m━━━━━━━━━━━━━━━━━━━━\u001b[0m\u001b[37m\u001b[0m \u001b[1m0s\u001b[0m 22ms/step - binary_accuracy: 0.8421 - loss: 0.3820 - val_binary_accuracy: 0.5200 - val_loss: 0.7418\n",
            "Epoch 258/500\n",
            "\u001b[1m7/7\u001b[0m \u001b[32m━━━━━━━━━━━━━━━━━━━━\u001b[0m\u001b[37m\u001b[0m \u001b[1m0s\u001b[0m 23ms/step - binary_accuracy: 0.8298 - loss: 0.4086 - val_binary_accuracy: 0.6600 - val_loss: 0.6836\n",
            "Epoch 259/500\n",
            "\u001b[1m7/7\u001b[0m \u001b[32m━━━━━━━━━━━━━━━━━━━━\u001b[0m\u001b[37m\u001b[0m \u001b[1m0s\u001b[0m 22ms/step - binary_accuracy: 0.8859 - loss: 0.3861 - val_binary_accuracy: 0.4400 - val_loss: 0.7904\n",
            "Epoch 260/500\n",
            "\u001b[1m7/7\u001b[0m \u001b[32m━━━━━━━━━━━━━━━━━━━━\u001b[0m\u001b[37m\u001b[0m \u001b[1m0s\u001b[0m 17ms/step - binary_accuracy: 0.8143 - loss: 0.3817 - val_binary_accuracy: 0.6200 - val_loss: 0.6784\n",
            "Epoch 261/500\n",
            "\u001b[1m7/7\u001b[0m \u001b[32m━━━━━━━━━━━━━━━━━━━━\u001b[0m\u001b[37m\u001b[0m \u001b[1m0s\u001b[0m 13ms/step - binary_accuracy: 0.8522 - loss: 0.3902 - val_binary_accuracy: 0.4600 - val_loss: 0.7706\n",
            "Epoch 262/500\n",
            "\u001b[1m7/7\u001b[0m \u001b[32m━━━━━━━━━━━━━━━━━━━━\u001b[0m\u001b[37m\u001b[0m \u001b[1m0s\u001b[0m 12ms/step - binary_accuracy: 0.8117 - loss: 0.3764 - val_binary_accuracy: 0.4400 - val_loss: 0.7957\n",
            "Epoch 263/500\n",
            "\u001b[1m7/7\u001b[0m \u001b[32m━━━━━━━━━━━━━━━━━━━━\u001b[0m\u001b[37m\u001b[0m \u001b[1m0s\u001b[0m 12ms/step - binary_accuracy: 0.8092 - loss: 0.3788 - val_binary_accuracy: 0.4800 - val_loss: 0.7577\n",
            "Epoch 264/500\n",
            "\u001b[1m7/7\u001b[0m \u001b[32m━━━━━━━━━━━━━━━━━━━━\u001b[0m\u001b[37m\u001b[0m \u001b[1m0s\u001b[0m 12ms/step - binary_accuracy: 0.8625 - loss: 0.3555 - val_binary_accuracy: 0.4600 - val_loss: 0.7668\n",
            "Epoch 265/500\n",
            "\u001b[1m7/7\u001b[0m \u001b[32m━━━━━━━━━━━━━━━━━━━━\u001b[0m\u001b[37m\u001b[0m \u001b[1m0s\u001b[0m 12ms/step - binary_accuracy: 0.8358 - loss: 0.3758 - val_binary_accuracy: 0.6000 - val_loss: 0.7162\n",
            "Epoch 266/500\n",
            "\u001b[1m7/7\u001b[0m \u001b[32m━━━━━━━━━━━━━━━━━━━━\u001b[0m\u001b[37m\u001b[0m \u001b[1m0s\u001b[0m 11ms/step - binary_accuracy: 0.8722 - loss: 0.3683 - val_binary_accuracy: 0.6000 - val_loss: 0.7251\n",
            "Epoch 267/500\n",
            "\u001b[1m7/7\u001b[0m \u001b[32m━━━━━━━━━━━━━━━━━━━━\u001b[0m\u001b[37m\u001b[0m \u001b[1m0s\u001b[0m 12ms/step - binary_accuracy: 0.8403 - loss: 0.3582 - val_binary_accuracy: 0.4600 - val_loss: 0.7769\n",
            "Epoch 268/500\n",
            "\u001b[1m7/7\u001b[0m \u001b[32m━━━━━━━━━━━━━━━━━━━━\u001b[0m\u001b[37m\u001b[0m \u001b[1m0s\u001b[0m 12ms/step - binary_accuracy: 0.8405 - loss: 0.3808 - val_binary_accuracy: 0.5200 - val_loss: 0.7580\n",
            "Epoch 269/500\n",
            "\u001b[1m7/7\u001b[0m \u001b[32m━━━━━━━━━━━━━━━━━━━━\u001b[0m\u001b[37m\u001b[0m \u001b[1m0s\u001b[0m 12ms/step - binary_accuracy: 0.8512 - loss: 0.3846 - val_binary_accuracy: 0.5000 - val_loss: 0.7670\n",
            "Epoch 270/500\n",
            "\u001b[1m7/7\u001b[0m \u001b[32m━━━━━━━━━━━━━━━━━━━━\u001b[0m\u001b[37m\u001b[0m \u001b[1m0s\u001b[0m 19ms/step - binary_accuracy: 0.8706 - loss: 0.3461 - val_binary_accuracy: 0.4800 - val_loss: 0.7649\n",
            "Epoch 271/500\n",
            "\u001b[1m7/7\u001b[0m \u001b[32m━━━━━━━━━━━━━━━━━━━━\u001b[0m\u001b[37m\u001b[0m \u001b[1m0s\u001b[0m 12ms/step - binary_accuracy: 0.8519 - loss: 0.3767 - val_binary_accuracy: 0.6400 - val_loss: 0.7091\n",
            "Epoch 272/500\n",
            "\u001b[1m7/7\u001b[0m \u001b[32m━━━━━━━━━━━━━━━━━━━━\u001b[0m\u001b[37m\u001b[0m \u001b[1m0s\u001b[0m 12ms/step - binary_accuracy: 0.8865 - loss: 0.3638 - val_binary_accuracy: 0.6400 - val_loss: 0.7160\n",
            "Epoch 273/500\n",
            "\u001b[1m7/7\u001b[0m \u001b[32m━━━━━━━━━━━━━━━━━━━━\u001b[0m\u001b[37m\u001b[0m \u001b[1m0s\u001b[0m 12ms/step - binary_accuracy: 0.8725 - loss: 0.3739 - val_binary_accuracy: 0.6200 - val_loss: 0.6790\n",
            "Epoch 274/500\n",
            "\u001b[1m7/7\u001b[0m \u001b[32m━━━━━━━━━━━━━━━━━━━━\u001b[0m\u001b[37m\u001b[0m \u001b[1m0s\u001b[0m 12ms/step - binary_accuracy: 0.9092 - loss: 0.3756 - val_binary_accuracy: 0.5600 - val_loss: 0.7447\n",
            "Epoch 275/500\n",
            "\u001b[1m7/7\u001b[0m \u001b[32m━━━━━━━━━━━━━━━━━━━━\u001b[0m\u001b[37m\u001b[0m \u001b[1m0s\u001b[0m 12ms/step - binary_accuracy: 0.8570 - loss: 0.3694 - val_binary_accuracy: 0.6600 - val_loss: 0.6959\n",
            "Epoch 276/500\n",
            "\u001b[1m7/7\u001b[0m \u001b[32m━━━━━━━━━━━━━━━━━━━━\u001b[0m\u001b[37m\u001b[0m \u001b[1m0s\u001b[0m 12ms/step - binary_accuracy: 0.8662 - loss: 0.3738 - val_binary_accuracy: 0.5800 - val_loss: 0.7487\n",
            "Epoch 277/500\n",
            "\u001b[1m7/7\u001b[0m \u001b[32m━━━━━━━━━━━━━━━━━━━━\u001b[0m\u001b[37m\u001b[0m \u001b[1m0s\u001b[0m 13ms/step - binary_accuracy: 0.8710 - loss: 0.3520 - val_binary_accuracy: 0.6600 - val_loss: 0.6986\n",
            "Epoch 278/500\n",
            "\u001b[1m7/7\u001b[0m \u001b[32m━━━━━━━━━━━━━━━━━━━━\u001b[0m\u001b[37m\u001b[0m \u001b[1m0s\u001b[0m 11ms/step - binary_accuracy: 0.9116 - loss: 0.3696 - val_binary_accuracy: 0.5000 - val_loss: 0.7659\n",
            "Epoch 279/500\n",
            "\u001b[1m7/7\u001b[0m \u001b[32m━━━━━━━━━━━━━━━━━━━━\u001b[0m\u001b[37m\u001b[0m \u001b[1m0s\u001b[0m 13ms/step - binary_accuracy: 0.8647 - loss: 0.3748 - val_binary_accuracy: 0.4800 - val_loss: 0.7738\n",
            "Epoch 280/500\n",
            "\u001b[1m7/7\u001b[0m \u001b[32m━━━━━━━━━━━━━━━━━━━━\u001b[0m\u001b[37m\u001b[0m \u001b[1m0s\u001b[0m 11ms/step - binary_accuracy: 0.8249 - loss: 0.3983 - val_binary_accuracy: 0.5600 - val_loss: 0.7493\n",
            "Epoch 281/500\n",
            "\u001b[1m7/7\u001b[0m \u001b[32m━━━━━━━━━━━━━━━━━━━━\u001b[0m\u001b[37m\u001b[0m \u001b[1m0s\u001b[0m 12ms/step - binary_accuracy: 0.8820 - loss: 0.3561 - val_binary_accuracy: 0.5400 - val_loss: 0.7566\n",
            "Epoch 282/500\n",
            "\u001b[1m7/7\u001b[0m \u001b[32m━━━━━━━━━━━━━━━━━━━━\u001b[0m\u001b[37m\u001b[0m \u001b[1m0s\u001b[0m 12ms/step - binary_accuracy: 0.8724 - loss: 0.3588 - val_binary_accuracy: 0.6000 - val_loss: 0.7362\n",
            "Epoch 283/500\n",
            "\u001b[1m7/7\u001b[0m \u001b[32m━━━━━━━━━━━━━━━━━━━━\u001b[0m\u001b[37m\u001b[0m \u001b[1m0s\u001b[0m 12ms/step - binary_accuracy: 0.8866 - loss: 0.3532 - val_binary_accuracy: 0.5400 - val_loss: 0.7593\n",
            "Epoch 284/500\n",
            "\u001b[1m7/7\u001b[0m \u001b[32m━━━━━━━━━━━━━━━━━━━━\u001b[0m\u001b[37m\u001b[0m \u001b[1m0s\u001b[0m 11ms/step - binary_accuracy: 0.8508 - loss: 0.3877 - val_binary_accuracy: 0.5600 - val_loss: 0.7537\n",
            "Epoch 285/500\n",
            "\u001b[1m7/7\u001b[0m \u001b[32m━━━━━━━━━━━━━━━━━━━━\u001b[0m\u001b[37m\u001b[0m \u001b[1m0s\u001b[0m 11ms/step - binary_accuracy: 0.8893 - loss: 0.3765 - val_binary_accuracy: 0.5200 - val_loss: 0.7581\n",
            "Epoch 286/500\n",
            "\u001b[1m7/7\u001b[0m \u001b[32m━━━━━━━━━━━━━━━━━━━━\u001b[0m\u001b[37m\u001b[0m \u001b[1m0s\u001b[0m 12ms/step - binary_accuracy: 0.8408 - loss: 0.3929 - val_binary_accuracy: 0.4200 - val_loss: 0.8032\n",
            "Epoch 287/500\n",
            "\u001b[1m7/7\u001b[0m \u001b[32m━━━━━━━━━━━━━━━━━━━━\u001b[0m\u001b[37m\u001b[0m \u001b[1m0s\u001b[0m 14ms/step - binary_accuracy: 0.8092 - loss: 0.3912 - val_binary_accuracy: 0.5600 - val_loss: 0.7476\n",
            "Epoch 288/500\n",
            "\u001b[1m7/7\u001b[0m \u001b[32m━━━━━━━━━━━━━━━━━━━━\u001b[0m\u001b[37m\u001b[0m \u001b[1m0s\u001b[0m 12ms/step - binary_accuracy: 0.8887 - loss: 0.3555 - val_binary_accuracy: 0.6400 - val_loss: 0.7112\n",
            "Epoch 289/500\n",
            "\u001b[1m7/7\u001b[0m \u001b[32m━━━━━━━━━━━━━━━━━━━━\u001b[0m\u001b[37m\u001b[0m \u001b[1m0s\u001b[0m 12ms/step - binary_accuracy: 0.9018 - loss: 0.3470 - val_binary_accuracy: 0.5200 - val_loss: 0.7620\n",
            "Epoch 290/500\n",
            "\u001b[1m7/7\u001b[0m \u001b[32m━━━━━━━━━━━━━━━━━━━━\u001b[0m\u001b[37m\u001b[0m \u001b[1m0s\u001b[0m 13ms/step - binary_accuracy: 0.8654 - loss: 0.3612 - val_binary_accuracy: 0.6200 - val_loss: 0.7200\n",
            "Epoch 291/500\n",
            "\u001b[1m7/7\u001b[0m \u001b[32m━━━━━━━━━━━━━━━━━━━━\u001b[0m\u001b[37m\u001b[0m \u001b[1m0s\u001b[0m 12ms/step - binary_accuracy: 0.9162 - loss: 0.3565 - val_binary_accuracy: 0.6200 - val_loss: 0.7342\n",
            "Epoch 292/500\n",
            "\u001b[1m7/7\u001b[0m \u001b[32m━━━━━━━━━━━━━━━━━━━━\u001b[0m\u001b[37m\u001b[0m \u001b[1m0s\u001b[0m 11ms/step - binary_accuracy: 0.8725 - loss: 0.3730 - val_binary_accuracy: 0.4200 - val_loss: 0.8260\n",
            "Epoch 293/500\n",
            "\u001b[1m7/7\u001b[0m \u001b[32m━━━━━━━━━━━━━━━━━━━━\u001b[0m\u001b[37m\u001b[0m \u001b[1m0s\u001b[0m 12ms/step - binary_accuracy: 0.8390 - loss: 0.3494 - val_binary_accuracy: 0.6600 - val_loss: 0.6959\n",
            "Epoch 294/500\n",
            "\u001b[1m7/7\u001b[0m \u001b[32m━━━━━━━━━━━━━━━━━━━━\u001b[0m\u001b[37m\u001b[0m \u001b[1m0s\u001b[0m 12ms/step - binary_accuracy: 0.8953 - loss: 0.3751 - val_binary_accuracy: 0.6000 - val_loss: 0.7409\n",
            "Epoch 295/500\n",
            "\u001b[1m7/7\u001b[0m \u001b[32m━━━━━━━━━━━━━━━━━━━━\u001b[0m\u001b[37m\u001b[0m \u001b[1m0s\u001b[0m 13ms/step - binary_accuracy: 0.8487 - loss: 0.3945 - val_binary_accuracy: 0.6000 - val_loss: 0.7427\n",
            "Epoch 296/500\n",
            "\u001b[1m7/7\u001b[0m \u001b[32m━━━━━━━━━━━━━━━━━━━━\u001b[0m\u001b[37m\u001b[0m \u001b[1m0s\u001b[0m 12ms/step - binary_accuracy: 0.8653 - loss: 0.3935 - val_binary_accuracy: 0.6600 - val_loss: 0.7255\n",
            "Epoch 297/500\n",
            "\u001b[1m7/7\u001b[0m \u001b[32m━━━━━━━━━━━━━━━━━━━━\u001b[0m\u001b[37m\u001b[0m \u001b[1m0s\u001b[0m 12ms/step - binary_accuracy: 0.9137 - loss: 0.3692 - val_binary_accuracy: 0.5800 - val_loss: 0.7582\n",
            "Epoch 298/500\n",
            "\u001b[1m7/7\u001b[0m \u001b[32m━━━━━━━━━━━━━━━━━━━━\u001b[0m\u001b[37m\u001b[0m \u001b[1m0s\u001b[0m 12ms/step - binary_accuracy: 0.8985 - loss: 0.3493 - val_binary_accuracy: 0.5600 - val_loss: 0.7665\n",
            "Epoch 299/500\n",
            "\u001b[1m7/7\u001b[0m \u001b[32m━━━━━━━━━━━━━━━━━━━━\u001b[0m\u001b[37m\u001b[0m \u001b[1m0s\u001b[0m 12ms/step - binary_accuracy: 0.8790 - loss: 0.3255 - val_binary_accuracy: 0.5800 - val_loss: 0.7499\n",
            "Epoch 300/500\n",
            "\u001b[1m7/7\u001b[0m \u001b[32m━━━━━━━━━━━━━━━━━━━━\u001b[0m\u001b[37m\u001b[0m \u001b[1m0s\u001b[0m 12ms/step - binary_accuracy: 0.9163 - loss: 0.3697 - val_binary_accuracy: 0.4200 - val_loss: 0.8180\n",
            "Epoch 301/500\n",
            "\u001b[1m7/7\u001b[0m \u001b[32m━━━━━━━━━━━━━━━━━━━━\u001b[0m\u001b[37m\u001b[0m \u001b[1m0s\u001b[0m 12ms/step - binary_accuracy: 0.8369 - loss: 0.3803 - val_binary_accuracy: 0.6200 - val_loss: 0.7200\n",
            "Epoch 302/500\n",
            "\u001b[1m7/7\u001b[0m \u001b[32m━━━━━━━━━━━━━━━━━━━━\u001b[0m\u001b[37m\u001b[0m \u001b[1m0s\u001b[0m 12ms/step - binary_accuracy: 0.8866 - loss: 0.3527 - val_binary_accuracy: 0.5600 - val_loss: 0.7594\n",
            "Epoch 303/500\n",
            "\u001b[1m7/7\u001b[0m \u001b[32m━━━━━━━━━━━━━━━━━━━━\u001b[0m\u001b[37m\u001b[0m \u001b[1m0s\u001b[0m 12ms/step - binary_accuracy: 0.8689 - loss: 0.3727 - val_binary_accuracy: 0.5800 - val_loss: 0.7557\n",
            "Epoch 304/500\n",
            "\u001b[1m7/7\u001b[0m \u001b[32m━━━━━━━━━━━━━━━━━━━━\u001b[0m\u001b[37m\u001b[0m \u001b[1m0s\u001b[0m 13ms/step - binary_accuracy: 0.8946 - loss: 0.3476 - val_binary_accuracy: 0.5800 - val_loss: 0.7445\n",
            "Epoch 305/500\n",
            "\u001b[1m7/7\u001b[0m \u001b[32m━━━━━━━━━━━━━━━━━━━━\u001b[0m\u001b[37m\u001b[0m \u001b[1m0s\u001b[0m 12ms/step - binary_accuracy: 0.8813 - loss: 0.3519 - val_binary_accuracy: 0.4800 - val_loss: 0.7859\n",
            "Epoch 306/500\n",
            "\u001b[1m7/7\u001b[0m \u001b[32m━━━━━━━━━━━━━━━━━━━━\u001b[0m\u001b[37m\u001b[0m \u001b[1m0s\u001b[0m 12ms/step - binary_accuracy: 0.8515 - loss: 0.3768 - val_binary_accuracy: 0.6000 - val_loss: 0.7270\n",
            "Epoch 307/500\n",
            "\u001b[1m7/7\u001b[0m \u001b[32m━━━━━━━━━━━━━━━━━━━━\u001b[0m\u001b[37m\u001b[0m \u001b[1m0s\u001b[0m 12ms/step - binary_accuracy: 0.8938 - loss: 0.3531 - val_binary_accuracy: 0.5800 - val_loss: 0.7486\n",
            "Epoch 308/500\n",
            "\u001b[1m7/7\u001b[0m \u001b[32m━━━━━━━━━━━━━━━━━━━━\u001b[0m\u001b[37m\u001b[0m \u001b[1m0s\u001b[0m 12ms/step - binary_accuracy: 0.9075 - loss: 0.3301 - val_binary_accuracy: 0.6200 - val_loss: 0.7381\n",
            "Epoch 309/500\n",
            "\u001b[1m7/7\u001b[0m \u001b[32m━━━━━━━━━━━━━━━━━━━━\u001b[0m\u001b[37m\u001b[0m \u001b[1m0s\u001b[0m 12ms/step - binary_accuracy: 0.8995 - loss: 0.3671 - val_binary_accuracy: 0.6200 - val_loss: 0.7366\n",
            "Epoch 310/500\n",
            "\u001b[1m7/7\u001b[0m \u001b[32m━━━━━━━━━━━━━━━━━━━━\u001b[0m\u001b[37m\u001b[0m \u001b[1m0s\u001b[0m 12ms/step - binary_accuracy: 0.8964 - loss: 0.3578 - val_binary_accuracy: 0.4200 - val_loss: 0.8117\n",
            "Epoch 311/500\n",
            "\u001b[1m7/7\u001b[0m \u001b[32m━━━━━━━━━━━━━━━━━━━━\u001b[0m\u001b[37m\u001b[0m \u001b[1m0s\u001b[0m 12ms/step - binary_accuracy: 0.8058 - loss: 0.3569 - val_binary_accuracy: 0.5800 - val_loss: 0.7452\n",
            "Epoch 312/500\n",
            "\u001b[1m7/7\u001b[0m \u001b[32m━━━━━━━━━━━━━━━━━━━━\u001b[0m\u001b[37m\u001b[0m \u001b[1m0s\u001b[0m 12ms/step - binary_accuracy: 0.8954 - loss: 0.3675 - val_binary_accuracy: 0.5800 - val_loss: 0.7563\n",
            "Epoch 313/500\n",
            "\u001b[1m7/7\u001b[0m \u001b[32m━━━━━━━━━━━━━━━━━━━━\u001b[0m\u001b[37m\u001b[0m \u001b[1m0s\u001b[0m 14ms/step - binary_accuracy: 0.9081 - loss: 0.3611 - val_binary_accuracy: 0.4000 - val_loss: 0.8537\n",
            "Epoch 314/500\n",
            "\u001b[1m7/7\u001b[0m \u001b[32m━━━━━━━━━━━━━━━━━━━━\u001b[0m\u001b[37m\u001b[0m \u001b[1m0s\u001b[0m 12ms/step - binary_accuracy: 0.8437 - loss: 0.3715 - val_binary_accuracy: 0.6600 - val_loss: 0.6883\n",
            "Epoch 315/500\n",
            "\u001b[1m7/7\u001b[0m \u001b[32m━━━━━━━━━━━━━━━━━━━━\u001b[0m\u001b[37m\u001b[0m \u001b[1m0s\u001b[0m 12ms/step - binary_accuracy: 0.9094 - loss: 0.3711 - val_binary_accuracy: 0.4800 - val_loss: 0.7965\n",
            "Epoch 316/500\n",
            "\u001b[1m7/7\u001b[0m \u001b[32m━━━━━━━━━━━━━━━━━━━━\u001b[0m\u001b[37m\u001b[0m \u001b[1m0s\u001b[0m 12ms/step - binary_accuracy: 0.8539 - loss: 0.3548 - val_binary_accuracy: 0.6400 - val_loss: 0.7151\n",
            "Epoch 317/500\n",
            "\u001b[1m7/7\u001b[0m \u001b[32m━━━━━━━━━━━━━━━━━━━━\u001b[0m\u001b[37m\u001b[0m \u001b[1m0s\u001b[0m 11ms/step - binary_accuracy: 0.8686 - loss: 0.3323 - val_binary_accuracy: 0.6200 - val_loss: 0.7189\n",
            "Epoch 318/500\n",
            "\u001b[1m7/7\u001b[0m \u001b[32m━━━━━━━━━━━━━━━━━━━━\u001b[0m\u001b[37m\u001b[0m \u001b[1m0s\u001b[0m 12ms/step - binary_accuracy: 0.9064 - loss: 0.3510 - val_binary_accuracy: 0.4200 - val_loss: 0.8086\n",
            "Epoch 319/500\n",
            "\u001b[1m7/7\u001b[0m \u001b[32m━━━━━━━━━━━━━━━━━━━━\u001b[0m\u001b[37m\u001b[0m \u001b[1m0s\u001b[0m 12ms/step - binary_accuracy: 0.8597 - loss: 0.3340 - val_binary_accuracy: 0.4600 - val_loss: 0.7887\n",
            "Epoch 320/500\n",
            "\u001b[1m7/7\u001b[0m \u001b[32m━━━━━━━━━━━━━━━━━━━━\u001b[0m\u001b[37m\u001b[0m \u001b[1m0s\u001b[0m 12ms/step - binary_accuracy: 0.8690 - loss: 0.3711 - val_binary_accuracy: 0.4800 - val_loss: 0.7950\n",
            "Epoch 321/500\n",
            "\u001b[1m7/7\u001b[0m \u001b[32m━━━━━━━━━━━━━━━━━━━━\u001b[0m\u001b[37m\u001b[0m \u001b[1m0s\u001b[0m 11ms/step - binary_accuracy: 0.8417 - loss: 0.3622 - val_binary_accuracy: 0.5400 - val_loss: 0.7799\n",
            "Epoch 322/500\n",
            "\u001b[1m7/7\u001b[0m \u001b[32m━━━━━━━━━━━━━━━━━━━━\u001b[0m\u001b[37m\u001b[0m \u001b[1m0s\u001b[0m 13ms/step - binary_accuracy: 0.8727 - loss: 0.3246 - val_binary_accuracy: 0.5600 - val_loss: 0.7730\n",
            "Epoch 323/500\n",
            "\u001b[1m7/7\u001b[0m \u001b[32m━━━━━━━━━━━━━━━━━━━━\u001b[0m\u001b[37m\u001b[0m \u001b[1m0s\u001b[0m 12ms/step - binary_accuracy: 0.8911 - loss: 0.3320 - val_binary_accuracy: 0.6000 - val_loss: 0.7521\n",
            "Epoch 324/500\n",
            "\u001b[1m7/7\u001b[0m \u001b[32m━━━━━━━━━━━━━━━━━━━━\u001b[0m\u001b[37m\u001b[0m \u001b[1m0s\u001b[0m 12ms/step - binary_accuracy: 0.9018 - loss: 0.3394 - val_binary_accuracy: 0.5200 - val_loss: 0.7680\n",
            "Epoch 325/500\n",
            "\u001b[1m7/7\u001b[0m \u001b[32m━━━━━━━━━━━━━━━━━━━━\u001b[0m\u001b[37m\u001b[0m \u001b[1m0s\u001b[0m 12ms/step - binary_accuracy: 0.8924 - loss: 0.3429 - val_binary_accuracy: 0.6000 - val_loss: 0.7551\n",
            "Epoch 326/500\n",
            "\u001b[1m7/7\u001b[0m \u001b[32m━━━━━━━━━━━━━━━━━━━━\u001b[0m\u001b[37m\u001b[0m \u001b[1m0s\u001b[0m 12ms/step - binary_accuracy: 0.8968 - loss: 0.3620 - val_binary_accuracy: 0.5800 - val_loss: 0.7406\n",
            "Epoch 327/500\n",
            "\u001b[1m7/7\u001b[0m \u001b[32m━━━━━━━━━━━━━━━━━━━━\u001b[0m\u001b[37m\u001b[0m \u001b[1m0s\u001b[0m 12ms/step - binary_accuracy: 0.9044 - loss: 0.3496 - val_binary_accuracy: 0.6200 - val_loss: 0.7210\n",
            "Epoch 328/500\n",
            "\u001b[1m7/7\u001b[0m \u001b[32m━━━━━━━━━━━━━━━━━━━━\u001b[0m\u001b[37m\u001b[0m \u001b[1m0s\u001b[0m 11ms/step - binary_accuracy: 0.8998 - loss: 0.3656 - val_binary_accuracy: 0.5800 - val_loss: 0.7477\n",
            "Epoch 329/500\n",
            "\u001b[1m7/7\u001b[0m \u001b[32m━━━━━━━━━━━━━━━━━━━━\u001b[0m\u001b[37m\u001b[0m \u001b[1m0s\u001b[0m 12ms/step - binary_accuracy: 0.8741 - loss: 0.3741 - val_binary_accuracy: 0.6400 - val_loss: 0.6756\n",
            "Epoch 330/500\n",
            "\u001b[1m7/7\u001b[0m \u001b[32m━━━━━━━━━━━━━━━━━━━━\u001b[0m\u001b[37m\u001b[0m \u001b[1m0s\u001b[0m 12ms/step - binary_accuracy: 0.9124 - loss: 0.3518 - val_binary_accuracy: 0.6000 - val_loss: 0.7319\n",
            "Epoch 331/500\n",
            "\u001b[1m7/7\u001b[0m \u001b[32m━━━━━━━━━━━━━━━━━━━━\u001b[0m\u001b[37m\u001b[0m \u001b[1m0s\u001b[0m 12ms/step - binary_accuracy: 0.9125 - loss: 0.3441 - val_binary_accuracy: 0.5200 - val_loss: 0.7827\n",
            "Epoch 332/500\n",
            "\u001b[1m7/7\u001b[0m \u001b[32m━━━━━━━━━━━━━━━━━━━━\u001b[0m\u001b[37m\u001b[0m \u001b[1m0s\u001b[0m 12ms/step - binary_accuracy: 0.8979 - loss: 0.3495 - val_binary_accuracy: 0.4200 - val_loss: 0.8317\n",
            "Epoch 333/500\n",
            "\u001b[1m7/7\u001b[0m \u001b[32m━━━━━━━━━━━━━━━━━━━━\u001b[0m\u001b[37m\u001b[0m \u001b[1m0s\u001b[0m 12ms/step - binary_accuracy: 0.8518 - loss: 0.3291 - val_binary_accuracy: 0.6600 - val_loss: 0.6694\n",
            "Epoch 334/500\n",
            "\u001b[1m7/7\u001b[0m \u001b[32m━━━━━━━━━━━━━━━━━━━━\u001b[0m\u001b[37m\u001b[0m \u001b[1m0s\u001b[0m 12ms/step - binary_accuracy: 0.9269 - loss: 0.3376 - val_binary_accuracy: 0.5600 - val_loss: 0.7611\n",
            "Epoch 335/500\n",
            "\u001b[1m7/7\u001b[0m \u001b[32m━━━━━━━━━━━━━━━━━━━━\u001b[0m\u001b[37m\u001b[0m \u001b[1m0s\u001b[0m 12ms/step - binary_accuracy: 0.8919 - loss: 0.3541 - val_binary_accuracy: 0.5000 - val_loss: 0.7999\n",
            "Epoch 336/500\n",
            "\u001b[1m7/7\u001b[0m \u001b[32m━━━━━━━━━━━━━━━━━━━━\u001b[0m\u001b[37m\u001b[0m \u001b[1m0s\u001b[0m 12ms/step - binary_accuracy: 0.8923 - loss: 0.3207 - val_binary_accuracy: 0.6400 - val_loss: 0.7069\n",
            "Epoch 337/500\n",
            "\u001b[1m7/7\u001b[0m \u001b[32m━━━━━━━━━━━━━━━━━━━━\u001b[0m\u001b[37m\u001b[0m \u001b[1m0s\u001b[0m 12ms/step - binary_accuracy: 0.9174 - loss: 0.3375 - val_binary_accuracy: 0.4200 - val_loss: 0.8430\n",
            "Epoch 338/500\n",
            "\u001b[1m7/7\u001b[0m \u001b[32m━━━━━━━━━━━━━━━━━━━━\u001b[0m\u001b[37m\u001b[0m \u001b[1m0s\u001b[0m 19ms/step - binary_accuracy: 0.8339 - loss: 0.3431 - val_binary_accuracy: 0.5000 - val_loss: 0.7919\n",
            "Epoch 339/500\n",
            "\u001b[1m7/7\u001b[0m \u001b[32m━━━━━━━━━━━━━━━━━━━━\u001b[0m\u001b[37m\u001b[0m \u001b[1m0s\u001b[0m 19ms/step - binary_accuracy: 0.8613 - loss: 0.3373 - val_binary_accuracy: 0.6800 - val_loss: 0.6569\n",
            "Epoch 340/500\n",
            "\u001b[1m7/7\u001b[0m \u001b[32m━━━━━━━━━━━━━━━━━━━━\u001b[0m\u001b[37m\u001b[0m \u001b[1m0s\u001b[0m 12ms/step - binary_accuracy: 0.9327 - loss: 0.3587 - val_binary_accuracy: 0.5600 - val_loss: 0.7672\n",
            "Epoch 341/500\n",
            "\u001b[1m7/7\u001b[0m \u001b[32m━━━━━━━━━━━━━━━━━━━━\u001b[0m\u001b[37m\u001b[0m \u001b[1m0s\u001b[0m 12ms/step - binary_accuracy: 0.8801 - loss: 0.3527 - val_binary_accuracy: 0.6200 - val_loss: 0.7491\n",
            "Epoch 342/500\n",
            "\u001b[1m7/7\u001b[0m \u001b[32m━━━━━━━━━━━━━━━━━━━━\u001b[0m\u001b[37m\u001b[0m \u001b[1m0s\u001b[0m 12ms/step - binary_accuracy: 0.9178 - loss: 0.3342 - val_binary_accuracy: 0.5200 - val_loss: 0.7790\n",
            "Epoch 343/500\n",
            "\u001b[1m7/7\u001b[0m \u001b[32m━━━━━━━━━━━━━━━━━━━━\u001b[0m\u001b[37m\u001b[0m \u001b[1m0s\u001b[0m 12ms/step - binary_accuracy: 0.8857 - loss: 0.3189 - val_binary_accuracy: 0.5800 - val_loss: 0.7599\n",
            "Epoch 344/500\n",
            "\u001b[1m7/7\u001b[0m \u001b[32m━━━━━━━━━━━━━━━━━━━━\u001b[0m\u001b[37m\u001b[0m \u001b[1m0s\u001b[0m 13ms/step - binary_accuracy: 0.8879 - loss: 0.3456 - val_binary_accuracy: 0.6000 - val_loss: 0.7388\n",
            "Epoch 345/500\n",
            "\u001b[1m7/7\u001b[0m \u001b[32m━━━━━━━━━━━━━━━━━━━━\u001b[0m\u001b[37m\u001b[0m \u001b[1m0s\u001b[0m 23ms/step - binary_accuracy: 0.9007 - loss: 0.3433 - val_binary_accuracy: 0.6200 - val_loss: 0.7325\n",
            "Epoch 346/500\n",
            "\u001b[1m7/7\u001b[0m \u001b[32m━━━━━━━━━━━━━━━━━━━━\u001b[0m\u001b[37m\u001b[0m \u001b[1m0s\u001b[0m 16ms/step - binary_accuracy: 0.9194 - loss: 0.3269 - val_binary_accuracy: 0.5800 - val_loss: 0.7574\n",
            "Epoch 347/500\n",
            "\u001b[1m7/7\u001b[0m \u001b[32m━━━━━━━━━━━━━━━━━━━━\u001b[0m\u001b[37m\u001b[0m \u001b[1m0s\u001b[0m 25ms/step - binary_accuracy: 0.9180 - loss: 0.3406 - val_binary_accuracy: 0.3800 - val_loss: 0.8859\n",
            "Epoch 348/500\n",
            "\u001b[1m7/7\u001b[0m \u001b[32m━━━━━━━━━━━━━━━━━━━━\u001b[0m\u001b[37m\u001b[0m \u001b[1m0s\u001b[0m 16ms/step - binary_accuracy: 0.8433 - loss: 0.3411 - val_binary_accuracy: 0.5800 - val_loss: 0.7650\n",
            "Epoch 349/500\n",
            "\u001b[1m7/7\u001b[0m \u001b[32m━━━━━━━━━━━━━━━━━━━━\u001b[0m\u001b[37m\u001b[0m \u001b[1m0s\u001b[0m 22ms/step - binary_accuracy: 0.8940 - loss: 0.3229 - val_binary_accuracy: 0.6200 - val_loss: 0.7226\n",
            "Epoch 350/500\n",
            "\u001b[1m7/7\u001b[0m \u001b[32m━━━━━━━━━━━━━━━━━━━━\u001b[0m\u001b[37m\u001b[0m \u001b[1m0s\u001b[0m 22ms/step - binary_accuracy: 0.9189 - loss: 0.3197 - val_binary_accuracy: 0.5400 - val_loss: 0.7794\n",
            "Epoch 351/500\n",
            "\u001b[1m7/7\u001b[0m \u001b[32m━━━━━━━━━━━━━━━━━━━━\u001b[0m\u001b[37m\u001b[0m \u001b[1m0s\u001b[0m 17ms/step - binary_accuracy: 0.8852 - loss: 0.3156 - val_binary_accuracy: 0.6200 - val_loss: 0.7287\n",
            "Epoch 352/500\n",
            "\u001b[1m7/7\u001b[0m \u001b[32m━━━━━━━━━━━━━━━━━━━━\u001b[0m\u001b[37m\u001b[0m \u001b[1m0s\u001b[0m 19ms/step - binary_accuracy: 0.9128 - loss: 0.3598 - val_binary_accuracy: 0.6000 - val_loss: 0.7355\n",
            "Epoch 353/500\n",
            "\u001b[1m7/7\u001b[0m \u001b[32m━━━━━━━━━━━━━━━━━━━━\u001b[0m\u001b[37m\u001b[0m \u001b[1m0s\u001b[0m 12ms/step - binary_accuracy: 0.9268 - loss: 0.3194 - val_binary_accuracy: 0.6000 - val_loss: 0.7310\n",
            "Epoch 354/500\n",
            "\u001b[1m7/7\u001b[0m \u001b[32m━━━━━━━━━━━━━━━━━━━━\u001b[0m\u001b[37m\u001b[0m \u001b[1m0s\u001b[0m 12ms/step - binary_accuracy: 0.9209 - loss: 0.3264 - val_binary_accuracy: 0.5800 - val_loss: 0.7661\n",
            "Epoch 355/500\n",
            "\u001b[1m7/7\u001b[0m \u001b[32m━━━━━━━━━━━━━━━━━━━━\u001b[0m\u001b[37m\u001b[0m \u001b[1m0s\u001b[0m 12ms/step - binary_accuracy: 0.9182 - loss: 0.3274 - val_binary_accuracy: 0.6000 - val_loss: 0.7657\n",
            "Epoch 356/500\n",
            "\u001b[1m7/7\u001b[0m \u001b[32m━━━━━━━━━━━━━━━━━━━━\u001b[0m\u001b[37m\u001b[0m \u001b[1m0s\u001b[0m 12ms/step - binary_accuracy: 0.9082 - loss: 0.3261 - val_binary_accuracy: 0.5600 - val_loss: 0.7705\n",
            "Epoch 357/500\n",
            "\u001b[1m7/7\u001b[0m \u001b[32m━━━━━━━━━━━━━━━━━━━━\u001b[0m\u001b[37m\u001b[0m \u001b[1m0s\u001b[0m 12ms/step - binary_accuracy: 0.9183 - loss: 0.3381 - val_binary_accuracy: 0.5600 - val_loss: 0.7657\n",
            "Epoch 358/500\n",
            "\u001b[1m7/7\u001b[0m \u001b[32m━━━━━━━━━━━━━━━━━━━━\u001b[0m\u001b[37m\u001b[0m \u001b[1m0s\u001b[0m 12ms/step - binary_accuracy: 0.9019 - loss: 0.3308 - val_binary_accuracy: 0.5200 - val_loss: 0.7891\n",
            "Epoch 359/500\n",
            "\u001b[1m7/7\u001b[0m \u001b[32m━━━━━━━━━━━━━━━━━━━━\u001b[0m\u001b[37m\u001b[0m \u001b[1m0s\u001b[0m 12ms/step - binary_accuracy: 0.9038 - loss: 0.3403 - val_binary_accuracy: 0.6000 - val_loss: 0.7315\n",
            "Epoch 360/500\n",
            "\u001b[1m7/7\u001b[0m \u001b[32m━━━━━━━━━━━━━━━━━━━━\u001b[0m\u001b[37m\u001b[0m \u001b[1m0s\u001b[0m 12ms/step - binary_accuracy: 0.8980 - loss: 0.3329 - val_binary_accuracy: 0.4800 - val_loss: 0.7975\n",
            "Epoch 361/500\n",
            "\u001b[1m7/7\u001b[0m \u001b[32m━━━━━━━━━━━━━━━━━━━━\u001b[0m\u001b[37m\u001b[0m \u001b[1m0s\u001b[0m 12ms/step - binary_accuracy: 0.9064 - loss: 0.3135 - val_binary_accuracy: 0.5800 - val_loss: 0.7500\n",
            "Epoch 362/500\n",
            "\u001b[1m7/7\u001b[0m \u001b[32m━━━━━━━━━━━━━━━━━━━━\u001b[0m\u001b[37m\u001b[0m \u001b[1m0s\u001b[0m 12ms/step - binary_accuracy: 0.9138 - loss: 0.3262 - val_binary_accuracy: 0.6000 - val_loss: 0.7293\n",
            "Epoch 363/500\n",
            "\u001b[1m7/7\u001b[0m \u001b[32m━━━━━━━━━━━━━━━━━━━━\u001b[0m\u001b[37m\u001b[0m \u001b[1m0s\u001b[0m 12ms/step - binary_accuracy: 0.9302 - loss: 0.3248 - val_binary_accuracy: 0.6200 - val_loss: 0.7581\n",
            "Epoch 364/500\n",
            "\u001b[1m7/7\u001b[0m \u001b[32m━━━━━━━━━━━━━━━━━━━━\u001b[0m\u001b[37m\u001b[0m \u001b[1m0s\u001b[0m 12ms/step - binary_accuracy: 0.9350 - loss: 0.3309 - val_binary_accuracy: 0.6200 - val_loss: 0.7539\n",
            "Epoch 365/500\n",
            "\u001b[1m7/7\u001b[0m \u001b[32m━━━━━━━━━━━━━━━━━━━━\u001b[0m\u001b[37m\u001b[0m \u001b[1m0s\u001b[0m 19ms/step - binary_accuracy: 0.9375 - loss: 0.3267 - val_binary_accuracy: 0.5400 - val_loss: 0.7814\n",
            "Epoch 366/500\n",
            "\u001b[1m7/7\u001b[0m \u001b[32m━━━━━━━━━━━━━━━━━━━━\u001b[0m\u001b[37m\u001b[0m \u001b[1m0s\u001b[0m 12ms/step - binary_accuracy: 0.9283 - loss: 0.3058 - val_binary_accuracy: 0.6200 - val_loss: 0.7386\n",
            "Epoch 367/500\n",
            "\u001b[1m7/7\u001b[0m \u001b[32m━━━━━━━━━━━━━━━━━━━━\u001b[0m\u001b[37m\u001b[0m \u001b[1m0s\u001b[0m 12ms/step - binary_accuracy: 0.9145 - loss: 0.3102 - val_binary_accuracy: 0.5000 - val_loss: 0.8038\n",
            "Epoch 368/500\n",
            "\u001b[1m7/7\u001b[0m \u001b[32m━━━━━━━━━━━━━━━━━━━━\u001b[0m\u001b[37m\u001b[0m \u001b[1m0s\u001b[0m 12ms/step - binary_accuracy: 0.9356 - loss: 0.3114 - val_binary_accuracy: 0.6400 - val_loss: 0.7135\n",
            "Epoch 369/500\n",
            "\u001b[1m7/7\u001b[0m \u001b[32m━━━━━━━━━━━━━━━━━━━━\u001b[0m\u001b[37m\u001b[0m \u001b[1m0s\u001b[0m 12ms/step - binary_accuracy: 0.9372 - loss: 0.3318 - val_binary_accuracy: 0.6200 - val_loss: 0.6980\n",
            "Epoch 370/500\n",
            "\u001b[1m7/7\u001b[0m \u001b[32m━━━━━━━━━━━━━━━━━━━━\u001b[0m\u001b[37m\u001b[0m \u001b[1m0s\u001b[0m 12ms/step - binary_accuracy: 0.9588 - loss: 0.3278 - val_binary_accuracy: 0.6400 - val_loss: 0.7211\n",
            "Epoch 371/500\n",
            "\u001b[1m7/7\u001b[0m \u001b[32m━━━━━━━━━━━━━━━━━━━━\u001b[0m\u001b[37m\u001b[0m \u001b[1m0s\u001b[0m 12ms/step - binary_accuracy: 0.9378 - loss: 0.3316 - val_binary_accuracy: 0.6000 - val_loss: 0.7495\n",
            "Epoch 372/500\n",
            "\u001b[1m7/7\u001b[0m \u001b[32m━━━━━━━━━━━━━━━━━━━━\u001b[0m\u001b[37m\u001b[0m \u001b[1m0s\u001b[0m 13ms/step - binary_accuracy: 0.9429 - loss: 0.3288 - val_binary_accuracy: 0.5000 - val_loss: 0.8032\n",
            "Epoch 373/500\n",
            "\u001b[1m7/7\u001b[0m \u001b[32m━━━━━━━━━━━━━━━━━━━━\u001b[0m\u001b[37m\u001b[0m \u001b[1m0s\u001b[0m 19ms/step - binary_accuracy: 0.9012 - loss: 0.3334 - val_binary_accuracy: 0.6000 - val_loss: 0.7686\n",
            "Epoch 374/500\n",
            "\u001b[1m7/7\u001b[0m \u001b[32m━━━━━━━━━━━━━━━━━━━━\u001b[0m\u001b[37m\u001b[0m \u001b[1m0s\u001b[0m 12ms/step - binary_accuracy: 0.9271 - loss: 0.3181 - val_binary_accuracy: 0.7000 - val_loss: 0.6389\n",
            "Epoch 375/500\n",
            "\u001b[1m7/7\u001b[0m \u001b[32m━━━━━━━━━━━━━━━━━━━━\u001b[0m\u001b[37m\u001b[0m \u001b[1m0s\u001b[0m 12ms/step - binary_accuracy: 0.9280 - loss: 0.3575 - val_binary_accuracy: 0.6000 - val_loss: 0.7482\n",
            "Epoch 376/500\n",
            "\u001b[1m7/7\u001b[0m \u001b[32m━━━━━━━━━━━━━━━━━━━━\u001b[0m\u001b[37m\u001b[0m \u001b[1m0s\u001b[0m 12ms/step - binary_accuracy: 0.9386 - loss: 0.3488 - val_binary_accuracy: 0.5200 - val_loss: 0.7973\n",
            "Epoch 377/500\n",
            "\u001b[1m7/7\u001b[0m \u001b[32m━━━━━━━━━━━━━━━━━━━━\u001b[0m\u001b[37m\u001b[0m \u001b[1m0s\u001b[0m 12ms/step - binary_accuracy: 0.9160 - loss: 0.3184 - val_binary_accuracy: 0.5800 - val_loss: 0.7631\n",
            "Epoch 378/500\n",
            "\u001b[1m7/7\u001b[0m \u001b[32m━━━━━━━━━━━━━━━━━━━━\u001b[0m\u001b[37m\u001b[0m \u001b[1m0s\u001b[0m 12ms/step - binary_accuracy: 0.9405 - loss: 0.3332 - val_binary_accuracy: 0.5200 - val_loss: 0.7835\n",
            "Epoch 379/500\n",
            "\u001b[1m7/7\u001b[0m \u001b[32m━━━━━━━━━━━━━━━━━━━━\u001b[0m\u001b[37m\u001b[0m \u001b[1m0s\u001b[0m 13ms/step - binary_accuracy: 0.9123 - loss: 0.3149 - val_binary_accuracy: 0.5800 - val_loss: 0.7623\n",
            "Epoch 380/500\n",
            "\u001b[1m7/7\u001b[0m \u001b[32m━━━━━━━━━━━━━━━━━━━━\u001b[0m\u001b[37m\u001b[0m \u001b[1m0s\u001b[0m 12ms/step - binary_accuracy: 0.9455 - loss: 0.3096 - val_binary_accuracy: 0.5200 - val_loss: 0.7866\n",
            "Epoch 381/500\n",
            "\u001b[1m7/7\u001b[0m \u001b[32m━━━━━━━━━━━━━━━━━━━━\u001b[0m\u001b[37m\u001b[0m \u001b[1m0s\u001b[0m 12ms/step - binary_accuracy: 0.8931 - loss: 0.3356 - val_binary_accuracy: 0.5800 - val_loss: 0.7804\n",
            "Epoch 382/500\n",
            "\u001b[1m7/7\u001b[0m \u001b[32m━━━━━━━━━━━━━━━━━━━━\u001b[0m\u001b[37m\u001b[0m \u001b[1m0s\u001b[0m 14ms/step - binary_accuracy: 0.9194 - loss: 0.3002 - val_binary_accuracy: 0.5600 - val_loss: 0.7791\n",
            "Epoch 383/500\n",
            "\u001b[1m7/7\u001b[0m \u001b[32m━━━━━━━━━━━━━━━━━━━━\u001b[0m\u001b[37m\u001b[0m \u001b[1m0s\u001b[0m 12ms/step - binary_accuracy: 0.9252 - loss: 0.3116 - val_binary_accuracy: 0.4400 - val_loss: 0.8201\n",
            "Epoch 384/500\n",
            "\u001b[1m7/7\u001b[0m \u001b[32m━━━━━━━━━━━━━━━━━━━━\u001b[0m\u001b[37m\u001b[0m \u001b[1m0s\u001b[0m 12ms/step - binary_accuracy: 0.9016 - loss: 0.3115 - val_binary_accuracy: 0.5400 - val_loss: 0.7766\n",
            "Epoch 385/500\n",
            "\u001b[1m7/7\u001b[0m \u001b[32m━━━━━━━━━━━━━━━━━━━━\u001b[0m\u001b[37m\u001b[0m \u001b[1m0s\u001b[0m 12ms/step - binary_accuracy: 0.8982 - loss: 0.3073 - val_binary_accuracy: 0.4800 - val_loss: 0.8117\n",
            "Epoch 386/500\n",
            "\u001b[1m7/7\u001b[0m \u001b[32m━━━━━━━━━━━━━━━━━━━━\u001b[0m\u001b[37m\u001b[0m \u001b[1m0s\u001b[0m 11ms/step - binary_accuracy: 0.9373 - loss: 0.2998 - val_binary_accuracy: 0.5800 - val_loss: 0.7466\n",
            "Epoch 387/500\n",
            "\u001b[1m7/7\u001b[0m \u001b[32m━━━━━━━━━━━━━━━━━━━━\u001b[0m\u001b[37m\u001b[0m \u001b[1m0s\u001b[0m 12ms/step - binary_accuracy: 0.9272 - loss: 0.3160 - val_binary_accuracy: 0.5600 - val_loss: 0.7819\n",
            "Epoch 388/500\n",
            "\u001b[1m7/7\u001b[0m \u001b[32m━━━━━━━━━━━━━━━━━━━━\u001b[0m\u001b[37m\u001b[0m \u001b[1m0s\u001b[0m 12ms/step - binary_accuracy: 0.9293 - loss: 0.3124 - val_binary_accuracy: 0.5000 - val_loss: 0.8020\n",
            "Epoch 389/500\n",
            "\u001b[1m7/7\u001b[0m \u001b[32m━━━━━━━━━━━━━━━━━━━━\u001b[0m\u001b[37m\u001b[0m \u001b[1m0s\u001b[0m 12ms/step - binary_accuracy: 0.9151 - loss: 0.3101 - val_binary_accuracy: 0.4400 - val_loss: 0.8318\n",
            "Epoch 390/500\n",
            "\u001b[1m7/7\u001b[0m \u001b[32m━━━━━━━━━━━━━━━━━━━━\u001b[0m\u001b[37m\u001b[0m \u001b[1m0s\u001b[0m 13ms/step - binary_accuracy: 0.9352 - loss: 0.3158 - val_binary_accuracy: 0.4400 - val_loss: 0.8272\n",
            "Epoch 391/500\n",
            "\u001b[1m7/7\u001b[0m \u001b[32m━━━━━━━━━━━━━━━━━━━━\u001b[0m\u001b[37m\u001b[0m \u001b[1m0s\u001b[0m 14ms/step - binary_accuracy: 0.9082 - loss: 0.3201 - val_binary_accuracy: 0.6200 - val_loss: 0.7354\n",
            "Epoch 392/500\n",
            "\u001b[1m7/7\u001b[0m \u001b[32m━━━━━━━━━━━━━━━━━━━━\u001b[0m\u001b[37m\u001b[0m \u001b[1m0s\u001b[0m 12ms/step - binary_accuracy: 0.9520 - loss: 0.3186 - val_binary_accuracy: 0.6200 - val_loss: 0.7112\n",
            "Epoch 393/500\n",
            "\u001b[1m7/7\u001b[0m \u001b[32m━━━━━━━━━━━━━━━━━━━━\u001b[0m\u001b[37m\u001b[0m \u001b[1m0s\u001b[0m 12ms/step - binary_accuracy: 0.9514 - loss: 0.3270 - val_binary_accuracy: 0.5600 - val_loss: 0.7776\n",
            "Epoch 394/500\n",
            "\u001b[1m7/7\u001b[0m \u001b[32m━━━━━━━━━━━━━━━━━━━━\u001b[0m\u001b[37m\u001b[0m \u001b[1m0s\u001b[0m 11ms/step - binary_accuracy: 0.9140 - loss: 0.3089 - val_binary_accuracy: 0.6200 - val_loss: 0.7301\n",
            "Epoch 395/500\n",
            "\u001b[1m7/7\u001b[0m \u001b[32m━━━━━━━━━━━━━━━━━━━━\u001b[0m\u001b[37m\u001b[0m \u001b[1m0s\u001b[0m 12ms/step - binary_accuracy: 0.9318 - loss: 0.3227 - val_binary_accuracy: 0.5200 - val_loss: 0.8028\n",
            "Epoch 396/500\n",
            "\u001b[1m7/7\u001b[0m \u001b[32m━━━━━━━━━━━━━━━━━━━━\u001b[0m\u001b[37m\u001b[0m \u001b[1m0s\u001b[0m 12ms/step - binary_accuracy: 0.9429 - loss: 0.2959 - val_binary_accuracy: 0.6000 - val_loss: 0.7766\n",
            "Epoch 397/500\n",
            "\u001b[1m7/7\u001b[0m \u001b[32m━━━━━━━━━━━━━━━━━━━━\u001b[0m\u001b[37m\u001b[0m \u001b[1m0s\u001b[0m 12ms/step - binary_accuracy: 0.9117 - loss: 0.3179 - val_binary_accuracy: 0.5800 - val_loss: 0.7782\n",
            "Epoch 398/500\n",
            "\u001b[1m7/7\u001b[0m \u001b[32m━━━━━━━━━━━━━━━━━━━━\u001b[0m\u001b[37m\u001b[0m \u001b[1m0s\u001b[0m 12ms/step - binary_accuracy: 0.9328 - loss: 0.3114 - val_binary_accuracy: 0.4400 - val_loss: 0.8377\n",
            "Epoch 399/500\n",
            "\u001b[1m7/7\u001b[0m \u001b[32m━━━━━━━━━━━━━━━━━━━━\u001b[0m\u001b[37m\u001b[0m \u001b[1m0s\u001b[0m 14ms/step - binary_accuracy: 0.9265 - loss: 0.3027 - val_binary_accuracy: 0.5800 - val_loss: 0.7754\n",
            "Epoch 400/500\n",
            "\u001b[1m7/7\u001b[0m \u001b[32m━━━━━━━━━━━━━━━━━━━━\u001b[0m\u001b[37m\u001b[0m \u001b[1m0s\u001b[0m 11ms/step - binary_accuracy: 0.9464 - loss: 0.3126 - val_binary_accuracy: 0.6000 - val_loss: 0.7492\n",
            "Epoch 401/500\n",
            "\u001b[1m7/7\u001b[0m \u001b[32m━━━━━━━━━━━━━━━━━━━━\u001b[0m\u001b[37m\u001b[0m \u001b[1m0s\u001b[0m 12ms/step - binary_accuracy: 0.9519 - loss: 0.2951 - val_binary_accuracy: 0.6000 - val_loss: 0.7431\n",
            "Epoch 402/500\n",
            "\u001b[1m7/7\u001b[0m \u001b[32m━━━━━━━━━━━━━━━━━━━━\u001b[0m\u001b[37m\u001b[0m \u001b[1m0s\u001b[0m 12ms/step - binary_accuracy: 0.9532 - loss: 0.3222 - val_binary_accuracy: 0.5200 - val_loss: 0.7986\n",
            "Epoch 403/500\n",
            "\u001b[1m7/7\u001b[0m \u001b[32m━━━━━━━━━━━━━━━━━━━━\u001b[0m\u001b[37m\u001b[0m \u001b[1m0s\u001b[0m 11ms/step - binary_accuracy: 0.9188 - loss: 0.3241 - val_binary_accuracy: 0.6000 - val_loss: 0.7797\n",
            "Epoch 404/500\n",
            "\u001b[1m7/7\u001b[0m \u001b[32m━━━━━━━━━━━━━━━━━━━━\u001b[0m\u001b[37m\u001b[0m \u001b[1m0s\u001b[0m 12ms/step - binary_accuracy: 0.9247 - loss: 0.3098 - val_binary_accuracy: 0.5800 - val_loss: 0.7663\n",
            "Epoch 405/500\n",
            "\u001b[1m7/7\u001b[0m \u001b[32m━━━━━━━━━━━━━━━━━━━━\u001b[0m\u001b[37m\u001b[0m \u001b[1m0s\u001b[0m 12ms/step - binary_accuracy: 0.9430 - loss: 0.3121 - val_binary_accuracy: 0.6000 - val_loss: 0.7718\n",
            "Epoch 406/500\n",
            "\u001b[1m7/7\u001b[0m \u001b[32m━━━━━━━━━━━━━━━━━━━━\u001b[0m\u001b[37m\u001b[0m \u001b[1m0s\u001b[0m 12ms/step - binary_accuracy: 0.9392 - loss: 0.2971 - val_binary_accuracy: 0.5600 - val_loss: 0.7825\n",
            "Epoch 407/500\n",
            "\u001b[1m7/7\u001b[0m \u001b[32m━━━━━━━━━━━━━━━━━━━━\u001b[0m\u001b[37m\u001b[0m \u001b[1m0s\u001b[0m 12ms/step - binary_accuracy: 0.9206 - loss: 0.3081 - val_binary_accuracy: 0.5800 - val_loss: 0.7545\n",
            "Epoch 408/500\n",
            "\u001b[1m7/7\u001b[0m \u001b[32m━━━━━━━━━━━━━━━━━━━━\u001b[0m\u001b[37m\u001b[0m \u001b[1m0s\u001b[0m 12ms/step - binary_accuracy: 0.9531 - loss: 0.3168 - val_binary_accuracy: 0.6000 - val_loss: 0.7607\n",
            "Epoch 409/500\n",
            "\u001b[1m7/7\u001b[0m \u001b[32m━━━━━━━━━━━━━━━━━━━━\u001b[0m\u001b[37m\u001b[0m \u001b[1m0s\u001b[0m 12ms/step - binary_accuracy: 0.9267 - loss: 0.3300 - val_binary_accuracy: 0.5000 - val_loss: 0.8081\n",
            "Epoch 410/500\n",
            "\u001b[1m7/7\u001b[0m \u001b[32m━━━━━━━━━━━━━━━━━━━━\u001b[0m\u001b[37m\u001b[0m \u001b[1m0s\u001b[0m 12ms/step - binary_accuracy: 0.9555 - loss: 0.3012 - val_binary_accuracy: 0.4200 - val_loss: 0.8770\n",
            "Epoch 411/500\n",
            "\u001b[1m7/7\u001b[0m \u001b[32m━━━━━━━━━━━━━━━━━━━━\u001b[0m\u001b[37m\u001b[0m \u001b[1m0s\u001b[0m 12ms/step - binary_accuracy: 0.9046 - loss: 0.3082 - val_binary_accuracy: 0.5800 - val_loss: 0.7784\n",
            "Epoch 412/500\n",
            "\u001b[1m7/7\u001b[0m \u001b[32m━━━━━━━━━━━━━━━━━━━━\u001b[0m\u001b[37m\u001b[0m \u001b[1m0s\u001b[0m 19ms/step - binary_accuracy: 0.9063 - loss: 0.2991 - val_binary_accuracy: 0.4400 - val_loss: 0.8419\n",
            "Epoch 413/500\n",
            "\u001b[1m7/7\u001b[0m \u001b[32m━━━━━━━━━━━━━━━━━━━━\u001b[0m\u001b[37m\u001b[0m \u001b[1m0s\u001b[0m 12ms/step - binary_accuracy: 0.9246 - loss: 0.3014 - val_binary_accuracy: 0.5200 - val_loss: 0.8201\n",
            "Epoch 414/500\n",
            "\u001b[1m7/7\u001b[0m \u001b[32m━━━━━━━━━━━━━━━━━━━━\u001b[0m\u001b[37m\u001b[0m \u001b[1m0s\u001b[0m 14ms/step - binary_accuracy: 0.9454 - loss: 0.3021 - val_binary_accuracy: 0.5200 - val_loss: 0.8063\n",
            "Epoch 415/500\n",
            "\u001b[1m7/7\u001b[0m \u001b[32m━━━━━━━━━━━━━━━━━━━━\u001b[0m\u001b[37m\u001b[0m \u001b[1m0s\u001b[0m 12ms/step - binary_accuracy: 0.9359 - loss: 0.3083 - val_binary_accuracy: 0.5800 - val_loss: 0.7434\n",
            "Epoch 416/500\n",
            "\u001b[1m7/7\u001b[0m \u001b[32m━━━━━━━━━━━━━━━━━━━━\u001b[0m\u001b[37m\u001b[0m \u001b[1m0s\u001b[0m 12ms/step - binary_accuracy: 0.9551 - loss: 0.2894 - val_binary_accuracy: 0.6000 - val_loss: 0.7872\n",
            "Epoch 417/500\n",
            "\u001b[1m7/7\u001b[0m \u001b[32m━━━━━━━━━━━━━━━━━━━━\u001b[0m\u001b[37m\u001b[0m \u001b[1m0s\u001b[0m 12ms/step - binary_accuracy: 0.9675 - loss: 0.3050 - val_binary_accuracy: 0.5200 - val_loss: 0.8127\n",
            "Epoch 418/500\n",
            "\u001b[1m7/7\u001b[0m \u001b[32m━━━━━━━━━━━━━━━━━━━━\u001b[0m\u001b[37m\u001b[0m \u001b[1m0s\u001b[0m 12ms/step - binary_accuracy: 0.9647 - loss: 0.2728 - val_binary_accuracy: 0.6200 - val_loss: 0.7273\n",
            "Epoch 419/500\n",
            "\u001b[1m7/7\u001b[0m \u001b[32m━━━━━━━━━━━━━━━━━━━━\u001b[0m\u001b[37m\u001b[0m \u001b[1m0s\u001b[0m 13ms/step - binary_accuracy: 0.9560 - loss: 0.3068 - val_binary_accuracy: 0.5000 - val_loss: 0.8129\n",
            "Epoch 420/500\n",
            "\u001b[1m7/7\u001b[0m \u001b[32m━━━━━━━━━━━━━━━━━━━━\u001b[0m\u001b[37m\u001b[0m \u001b[1m0s\u001b[0m 12ms/step - binary_accuracy: 0.9249 - loss: 0.2945 - val_binary_accuracy: 0.5000 - val_loss: 0.8264\n",
            "Epoch 421/500\n",
            "\u001b[1m7/7\u001b[0m \u001b[32m━━━━━━━━━━━━━━━━━━━━\u001b[0m\u001b[37m\u001b[0m \u001b[1m0s\u001b[0m 12ms/step - binary_accuracy: 0.9401 - loss: 0.3069 - val_binary_accuracy: 0.5400 - val_loss: 0.8037\n",
            "Epoch 422/500\n",
            "\u001b[1m7/7\u001b[0m \u001b[32m━━━━━━━━━━━━━━━━━━━━\u001b[0m\u001b[37m\u001b[0m \u001b[1m0s\u001b[0m 12ms/step - binary_accuracy: 0.9261 - loss: 0.3107 - val_binary_accuracy: 0.5200 - val_loss: 0.8111\n",
            "Epoch 423/500\n",
            "\u001b[1m7/7\u001b[0m \u001b[32m━━━━━━━━━━━━━━━━━━━━\u001b[0m\u001b[37m\u001b[0m \u001b[1m0s\u001b[0m 14ms/step - binary_accuracy: 0.9356 - loss: 0.3151 - val_binary_accuracy: 0.4400 - val_loss: 0.8525\n",
            "Epoch 424/500\n",
            "\u001b[1m7/7\u001b[0m \u001b[32m━━━━━━━━━━━━━━━━━━━━\u001b[0m\u001b[37m\u001b[0m \u001b[1m0s\u001b[0m 12ms/step - binary_accuracy: 0.9307 - loss: 0.3143 - val_binary_accuracy: 0.5400 - val_loss: 0.8099\n",
            "Epoch 425/500\n",
            "\u001b[1m7/7\u001b[0m \u001b[32m━━━━━━━━━━━━━━━━━━━━\u001b[0m\u001b[37m\u001b[0m \u001b[1m0s\u001b[0m 12ms/step - binary_accuracy: 0.9515 - loss: 0.3148 - val_binary_accuracy: 0.4800 - val_loss: 0.8357\n",
            "Epoch 426/500\n",
            "\u001b[1m7/7\u001b[0m \u001b[32m━━━━━━━━━━━━━━━━━━━━\u001b[0m\u001b[37m\u001b[0m \u001b[1m0s\u001b[0m 12ms/step - binary_accuracy: 0.9610 - loss: 0.3012 - val_binary_accuracy: 0.5400 - val_loss: 0.7994\n",
            "Epoch 427/500\n",
            "\u001b[1m7/7\u001b[0m \u001b[32m━━━━━━━━━━━━━━━━━━━━\u001b[0m\u001b[37m\u001b[0m \u001b[1m0s\u001b[0m 12ms/step - binary_accuracy: 0.9326 - loss: 0.3094 - val_binary_accuracy: 0.5800 - val_loss: 0.7750\n",
            "Epoch 428/500\n",
            "\u001b[1m7/7\u001b[0m \u001b[32m━━━━━━━━━━━━━━━━━━━━\u001b[0m\u001b[37m\u001b[0m \u001b[1m0s\u001b[0m 12ms/step - binary_accuracy: 0.9458 - loss: 0.2980 - val_binary_accuracy: 0.5400 - val_loss: 0.8128\n",
            "Epoch 429/500\n",
            "\u001b[1m7/7\u001b[0m \u001b[32m━━━━━━━━━━━━━━━━━━━━\u001b[0m\u001b[37m\u001b[0m \u001b[1m0s\u001b[0m 13ms/step - binary_accuracy: 0.9452 - loss: 0.2950 - val_binary_accuracy: 0.5600 - val_loss: 0.8109\n",
            "Epoch 430/500\n",
            "\u001b[1m7/7\u001b[0m \u001b[32m━━━━━━━━━━━━━━━━━━━━\u001b[0m\u001b[37m\u001b[0m \u001b[1m0s\u001b[0m 12ms/step - binary_accuracy: 0.9732 - loss: 0.2867 - val_binary_accuracy: 0.5400 - val_loss: 0.8198\n",
            "Epoch 431/500\n",
            "\u001b[1m7/7\u001b[0m \u001b[32m━━━━━━━━━━━━━━━━━━━━\u001b[0m\u001b[37m\u001b[0m \u001b[1m0s\u001b[0m 12ms/step - binary_accuracy: 0.9468 - loss: 0.3004 - val_binary_accuracy: 0.5200 - val_loss: 0.8326\n",
            "Epoch 432/500\n",
            "\u001b[1m7/7\u001b[0m \u001b[32m━━━━━━━━━━━━━━━━━━━━\u001b[0m\u001b[37m\u001b[0m \u001b[1m0s\u001b[0m 18ms/step - binary_accuracy: 0.9422 - loss: 0.3028 - val_binary_accuracy: 0.5800 - val_loss: 0.8051\n",
            "Epoch 433/500\n",
            "\u001b[1m7/7\u001b[0m \u001b[32m━━━━━━━━━━━━━━━━━━━━\u001b[0m\u001b[37m\u001b[0m \u001b[1m0s\u001b[0m 23ms/step - binary_accuracy: 0.9449 - loss: 0.3218 - val_binary_accuracy: 0.5400 - val_loss: 0.7922\n",
            "Epoch 434/500\n",
            "\u001b[1m7/7\u001b[0m \u001b[32m━━━━━━━━━━━━━━━━━━━━\u001b[0m\u001b[37m\u001b[0m \u001b[1m0s\u001b[0m 24ms/step - binary_accuracy: 0.9649 - loss: 0.2897 - val_binary_accuracy: 0.5000 - val_loss: 0.8240\n",
            "Epoch 435/500\n",
            "\u001b[1m7/7\u001b[0m \u001b[32m━━━━━━━━━━━━━━━━━━━━\u001b[0m\u001b[37m\u001b[0m \u001b[1m0s\u001b[0m 16ms/step - binary_accuracy: 0.9450 - loss: 0.3172 - val_binary_accuracy: 0.5600 - val_loss: 0.7893\n",
            "Epoch 436/500\n",
            "\u001b[1m7/7\u001b[0m \u001b[32m━━━━━━━━━━━━━━━━━━━━\u001b[0m\u001b[37m\u001b[0m \u001b[1m0s\u001b[0m 22ms/step - binary_accuracy: 0.9519 - loss: 0.3097 - val_binary_accuracy: 0.6000 - val_loss: 0.7543\n",
            "Epoch 437/500\n",
            "\u001b[1m7/7\u001b[0m \u001b[32m━━━━━━━━━━━━━━━━━━━━\u001b[0m\u001b[37m\u001b[0m \u001b[1m0s\u001b[0m 23ms/step - binary_accuracy: 0.9495 - loss: 0.2847 - val_binary_accuracy: 0.5800 - val_loss: 0.7655\n",
            "Epoch 438/500\n",
            "\u001b[1m7/7\u001b[0m \u001b[32m━━━━━━━━━━━━━━━━━━━━\u001b[0m\u001b[37m\u001b[0m \u001b[1m0s\u001b[0m 23ms/step - binary_accuracy: 0.9515 - loss: 0.2910 - val_binary_accuracy: 0.6000 - val_loss: 0.7346\n",
            "Epoch 439/500\n",
            "\u001b[1m7/7\u001b[0m \u001b[32m━━━━━━━━━━━━━━━━━━━━\u001b[0m\u001b[37m\u001b[0m \u001b[1m0s\u001b[0m 23ms/step - binary_accuracy: 0.9704 - loss: 0.2916 - val_binary_accuracy: 0.5600 - val_loss: 0.7969\n",
            "Epoch 440/500\n",
            "\u001b[1m7/7\u001b[0m \u001b[32m━━━━━━━━━━━━━━━━━━━━\u001b[0m\u001b[37m\u001b[0m \u001b[1m0s\u001b[0m 12ms/step - binary_accuracy: 0.9568 - loss: 0.2934 - val_binary_accuracy: 0.6200 - val_loss: 0.7314\n",
            "Epoch 441/500\n",
            "\u001b[1m7/7\u001b[0m \u001b[32m━━━━━━━━━━━━━━━━━━━━\u001b[0m\u001b[37m\u001b[0m \u001b[1m0s\u001b[0m 15ms/step - binary_accuracy: 0.9640 - loss: 0.2891 - val_binary_accuracy: 0.4800 - val_loss: 0.8416\n",
            "Epoch 442/500\n",
            "\u001b[1m7/7\u001b[0m \u001b[32m━━━━━━━━━━━━━━━━━━━━\u001b[0m\u001b[37m\u001b[0m \u001b[1m0s\u001b[0m 12ms/step - binary_accuracy: 0.9380 - loss: 0.3079 - val_binary_accuracy: 0.5200 - val_loss: 0.8292\n",
            "Epoch 443/500\n",
            "\u001b[1m7/7\u001b[0m \u001b[32m━━━━━━━━━━━━━━━━━━━━\u001b[0m\u001b[37m\u001b[0m \u001b[1m0s\u001b[0m 12ms/step - binary_accuracy: 0.9253 - loss: 0.3334 - val_binary_accuracy: 0.5200 - val_loss: 0.8223\n",
            "Epoch 444/500\n",
            "\u001b[1m7/7\u001b[0m \u001b[32m━━━━━━━━━━━━━━━━━━━━\u001b[0m\u001b[37m\u001b[0m \u001b[1m0s\u001b[0m 12ms/step - binary_accuracy: 0.9429 - loss: 0.2860 - val_binary_accuracy: 0.5800 - val_loss: 0.7537\n",
            "Epoch 445/500\n",
            "\u001b[1m7/7\u001b[0m \u001b[32m━━━━━━━━━━━━━━━━━━━━\u001b[0m\u001b[37m\u001b[0m \u001b[1m0s\u001b[0m 12ms/step - binary_accuracy: 0.9623 - loss: 0.2886 - val_binary_accuracy: 0.6000 - val_loss: 0.7666\n",
            "Epoch 446/500\n",
            "\u001b[1m7/7\u001b[0m \u001b[32m━━━━━━━━━━━━━━━━━━━━\u001b[0m\u001b[37m\u001b[0m \u001b[1m0s\u001b[0m 12ms/step - binary_accuracy: 0.9768 - loss: 0.2645 - val_binary_accuracy: 0.6000 - val_loss: 0.7347\n",
            "Epoch 447/500\n",
            "\u001b[1m7/7\u001b[0m \u001b[32m━━━━━━━━━━━━━━━━━━━━\u001b[0m\u001b[37m\u001b[0m \u001b[1m0s\u001b[0m 12ms/step - binary_accuracy: 0.9756 - loss: 0.2853 - val_binary_accuracy: 0.6000 - val_loss: 0.7852\n",
            "Epoch 448/500\n",
            "\u001b[1m7/7\u001b[0m \u001b[32m━━━━━━━━━━━━━━━━━━━━\u001b[0m\u001b[37m\u001b[0m \u001b[1m0s\u001b[0m 12ms/step - binary_accuracy: 0.9625 - loss: 0.2903 - val_binary_accuracy: 0.5800 - val_loss: 0.8015\n",
            "Epoch 449/500\n",
            "\u001b[1m7/7\u001b[0m \u001b[32m━━━━━━━━━━━━━━━━━━━━\u001b[0m\u001b[37m\u001b[0m \u001b[1m0s\u001b[0m 12ms/step - binary_accuracy: 0.9680 - loss: 0.2955 - val_binary_accuracy: 0.6000 - val_loss: 0.7643\n",
            "Epoch 450/500\n",
            "\u001b[1m7/7\u001b[0m \u001b[32m━━━━━━━━━━━━━━━━━━━━\u001b[0m\u001b[37m\u001b[0m \u001b[1m0s\u001b[0m 13ms/step - binary_accuracy: 0.9645 - loss: 0.3152 - val_binary_accuracy: 0.6000 - val_loss: 0.7865\n",
            "Epoch 451/500\n",
            "\u001b[1m7/7\u001b[0m \u001b[32m━━━━━━━━━━━━━━━━━━━━\u001b[0m\u001b[37m\u001b[0m \u001b[1m0s\u001b[0m 14ms/step - binary_accuracy: 0.9546 - loss: 0.2912 - val_binary_accuracy: 0.6000 - val_loss: 0.7574\n",
            "Epoch 452/500\n",
            "\u001b[1m7/7\u001b[0m \u001b[32m━━━━━━━━━━━━━━━━━━━━\u001b[0m\u001b[37m\u001b[0m \u001b[1m0s\u001b[0m 19ms/step - binary_accuracy: 0.9588 - loss: 0.2641 - val_binary_accuracy: 0.6200 - val_loss: 0.7536\n",
            "Epoch 453/500\n",
            "\u001b[1m7/7\u001b[0m \u001b[32m━━━━━━━━━━━━━━━━━━━━\u001b[0m\u001b[37m\u001b[0m \u001b[1m0s\u001b[0m 12ms/step - binary_accuracy: 0.9607 - loss: 0.2985 - val_binary_accuracy: 0.4800 - val_loss: 0.8600\n",
            "Epoch 454/500\n",
            "\u001b[1m7/7\u001b[0m \u001b[32m━━━━━━━━━━━━━━━━━━━━\u001b[0m\u001b[37m\u001b[0m \u001b[1m0s\u001b[0m 12ms/step - binary_accuracy: 0.9178 - loss: 0.3104 - val_binary_accuracy: 0.5400 - val_loss: 0.8294\n",
            "Epoch 455/500\n",
            "\u001b[1m7/7\u001b[0m \u001b[32m━━━━━━━━━━━━━━━━━━━━\u001b[0m\u001b[37m\u001b[0m \u001b[1m0s\u001b[0m 12ms/step - binary_accuracy: 0.9633 - loss: 0.3020 - val_binary_accuracy: 0.4400 - val_loss: 0.9149\n",
            "Epoch 456/500\n",
            "\u001b[1m7/7\u001b[0m \u001b[32m━━━━━━━━━━━━━━━━━━━━\u001b[0m\u001b[37m\u001b[0m \u001b[1m0s\u001b[0m 12ms/step - binary_accuracy: 0.8791 - loss: 0.3092 - val_binary_accuracy: 0.6400 - val_loss: 0.7112\n",
            "Epoch 457/500\n",
            "\u001b[1m7/7\u001b[0m \u001b[32m━━━━━━━━━━━━━━━━━━━━\u001b[0m\u001b[37m\u001b[0m \u001b[1m0s\u001b[0m 15ms/step - binary_accuracy: 0.9623 - loss: 0.2810 - val_binary_accuracy: 0.5400 - val_loss: 0.8322\n",
            "Epoch 458/500\n",
            "\u001b[1m7/7\u001b[0m \u001b[32m━━━━━━━━━━━━━━━━━━━━\u001b[0m\u001b[37m\u001b[0m \u001b[1m0s\u001b[0m 12ms/step - binary_accuracy: 0.9602 - loss: 0.2734 - val_binary_accuracy: 0.5800 - val_loss: 0.7988\n",
            "Epoch 459/500\n",
            "\u001b[1m7/7\u001b[0m \u001b[32m━━━━━━━━━━━━━━━━━━━━\u001b[0m\u001b[37m\u001b[0m \u001b[1m0s\u001b[0m 12ms/step - binary_accuracy: 0.9559 - loss: 0.2781 - val_binary_accuracy: 0.5600 - val_loss: 0.8370\n",
            "Epoch 460/500\n",
            "\u001b[1m7/7\u001b[0m \u001b[32m━━━━━━━━━━━━━━━━━━━━\u001b[0m\u001b[37m\u001b[0m \u001b[1m0s\u001b[0m 12ms/step - binary_accuracy: 0.9594 - loss: 0.2785 - val_binary_accuracy: 0.5400 - val_loss: 0.8441\n",
            "Epoch 461/500\n",
            "\u001b[1m7/7\u001b[0m \u001b[32m━━━━━━━━━━━━━━━━━━━━\u001b[0m\u001b[37m\u001b[0m \u001b[1m0s\u001b[0m 12ms/step - binary_accuracy: 0.9592 - loss: 0.2662 - val_binary_accuracy: 0.5800 - val_loss: 0.8040\n",
            "Epoch 462/500\n",
            "\u001b[1m7/7\u001b[0m \u001b[32m━━━━━━━━━━━━━━━━━━━━\u001b[0m\u001b[37m\u001b[0m \u001b[1m0s\u001b[0m 12ms/step - binary_accuracy: 0.9579 - loss: 0.2779 - val_binary_accuracy: 0.5800 - val_loss: 0.7936\n",
            "Epoch 463/500\n",
            "\u001b[1m7/7\u001b[0m \u001b[32m━━━━━━━━━━━━━━━━━━━━\u001b[0m\u001b[37m\u001b[0m \u001b[1m0s\u001b[0m 12ms/step - binary_accuracy: 0.9695 - loss: 0.2980 - val_binary_accuracy: 0.5400 - val_loss: 0.8270\n",
            "Epoch 464/500\n",
            "\u001b[1m7/7\u001b[0m \u001b[32m━━━━━━━━━━━━━━━━━━━━\u001b[0m\u001b[37m\u001b[0m \u001b[1m0s\u001b[0m 12ms/step - binary_accuracy: 0.9749 - loss: 0.2927 - val_binary_accuracy: 0.6400 - val_loss: 0.6890\n",
            "Epoch 465/500\n",
            "\u001b[1m7/7\u001b[0m \u001b[32m━━━━━━━━━━━━━━━━━━━━\u001b[0m\u001b[37m\u001b[0m \u001b[1m0s\u001b[0m 20ms/step - binary_accuracy: 0.9720 - loss: 0.2914 - val_binary_accuracy: 0.5800 - val_loss: 0.7943\n",
            "Epoch 466/500\n",
            "\u001b[1m7/7\u001b[0m \u001b[32m━━━━━━━━━━━━━━━━━━━━\u001b[0m\u001b[37m\u001b[0m \u001b[1m0s\u001b[0m 12ms/step - binary_accuracy: 0.9542 - loss: 0.3171 - val_binary_accuracy: 0.6200 - val_loss: 0.7693\n",
            "Epoch 467/500\n",
            "\u001b[1m7/7\u001b[0m \u001b[32m━━━━━━━━━━━━━━━━━━━━\u001b[0m\u001b[37m\u001b[0m \u001b[1m0s\u001b[0m 12ms/step - binary_accuracy: 0.9646 - loss: 0.2824 - val_binary_accuracy: 0.6000 - val_loss: 0.7708\n",
            "Epoch 468/500\n",
            "\u001b[1m7/7\u001b[0m \u001b[32m━━━━━━━━━━━━━━━━━━━━\u001b[0m\u001b[37m\u001b[0m \u001b[1m0s\u001b[0m 12ms/step - binary_accuracy: 0.9574 - loss: 0.2923 - val_binary_accuracy: 0.6000 - val_loss: 0.7754\n",
            "Epoch 469/500\n",
            "\u001b[1m7/7\u001b[0m \u001b[32m━━━━━━━━━━━━━━━━━━━━\u001b[0m\u001b[37m\u001b[0m \u001b[1m0s\u001b[0m 12ms/step - binary_accuracy: 0.9667 - loss: 0.2863 - val_binary_accuracy: 0.4400 - val_loss: 0.9152\n",
            "Epoch 470/500\n",
            "\u001b[1m7/7\u001b[0m \u001b[32m━━━━━━━━━━━━━━━━━━━━\u001b[0m\u001b[37m\u001b[0m \u001b[1m0s\u001b[0m 12ms/step - binary_accuracy: 0.8936 - loss: 0.2914 - val_binary_accuracy: 0.6000 - val_loss: 0.7647\n",
            "Epoch 471/500\n",
            "\u001b[1m7/7\u001b[0m \u001b[32m━━━━━━━━━━━━━━━━━━━━\u001b[0m\u001b[37m\u001b[0m \u001b[1m0s\u001b[0m 12ms/step - binary_accuracy: 0.9451 - loss: 0.2999 - val_binary_accuracy: 0.4600 - val_loss: 0.8818\n",
            "Epoch 472/500\n",
            "\u001b[1m7/7\u001b[0m \u001b[32m━━━━━━━━━━━━━━━━━━━━\u001b[0m\u001b[37m\u001b[0m \u001b[1m0s\u001b[0m 12ms/step - binary_accuracy: 0.9431 - loss: 0.3071 - val_binary_accuracy: 0.6000 - val_loss: 0.7504\n",
            "Epoch 473/500\n",
            "\u001b[1m7/7\u001b[0m \u001b[32m━━━━━━━━━━━━━━━━━━━━\u001b[0m\u001b[37m\u001b[0m \u001b[1m0s\u001b[0m 12ms/step - binary_accuracy: 0.9736 - loss: 0.2873 - val_binary_accuracy: 0.6000 - val_loss: 0.8121\n",
            "Epoch 474/500\n",
            "\u001b[1m7/7\u001b[0m \u001b[32m━━━━━━━━━━━━━━━━━━━━\u001b[0m\u001b[37m\u001b[0m \u001b[1m0s\u001b[0m 12ms/step - binary_accuracy: 0.9665 - loss: 0.2556 - val_binary_accuracy: 0.5800 - val_loss: 0.8114\n",
            "Epoch 475/500\n",
            "\u001b[1m7/7\u001b[0m \u001b[32m━━━━━━━━━━━━━━━━━━━━\u001b[0m\u001b[37m\u001b[0m \u001b[1m0s\u001b[0m 12ms/step - binary_accuracy: 0.9620 - loss: 0.2780 - val_binary_accuracy: 0.5200 - val_loss: 0.8432\n",
            "Epoch 476/500\n",
            "\u001b[1m7/7\u001b[0m \u001b[32m━━━━━━━━━━━━━━━━━━━━\u001b[0m\u001b[37m\u001b[0m \u001b[1m0s\u001b[0m 13ms/step - binary_accuracy: 0.9623 - loss: 0.2736 - val_binary_accuracy: 0.5400 - val_loss: 0.8183\n",
            "Epoch 477/500\n",
            "\u001b[1m7/7\u001b[0m \u001b[32m━━━━━━━━━━━━━━━━━━━━\u001b[0m\u001b[37m\u001b[0m \u001b[1m0s\u001b[0m 12ms/step - binary_accuracy: 0.9587 - loss: 0.3014 - val_binary_accuracy: 0.4400 - val_loss: 0.9758\n",
            "Epoch 478/500\n",
            "\u001b[1m7/7\u001b[0m \u001b[32m━━━━━━━━━━━━━━━━━━━━\u001b[0m\u001b[37m\u001b[0m \u001b[1m0s\u001b[0m 12ms/step - binary_accuracy: 0.8716 - loss: 0.2987 - val_binary_accuracy: 0.6200 - val_loss: 0.7594\n",
            "Epoch 479/500\n",
            "\u001b[1m7/7\u001b[0m \u001b[32m━━━━━━━━━━━━━━━━━━━━\u001b[0m\u001b[37m\u001b[0m \u001b[1m0s\u001b[0m 12ms/step - binary_accuracy: 0.9686 - loss: 0.3043 - val_binary_accuracy: 0.5800 - val_loss: 0.7313\n",
            "Epoch 480/500\n",
            "\u001b[1m7/7\u001b[0m \u001b[32m━━━━━━━━━━━━━━━━━━━━\u001b[0m\u001b[37m\u001b[0m \u001b[1m0s\u001b[0m 12ms/step - binary_accuracy: 0.9661 - loss: 0.2810 - val_binary_accuracy: 0.4600 - val_loss: 0.8632\n",
            "Epoch 481/500\n",
            "\u001b[1m7/7\u001b[0m \u001b[32m━━━━━━━━━━━━━━━━━━━━\u001b[0m\u001b[37m\u001b[0m \u001b[1m0s\u001b[0m 12ms/step - binary_accuracy: 0.9661 - loss: 0.2943 - val_binary_accuracy: 0.6200 - val_loss: 0.7967\n",
            "Epoch 482/500\n",
            "\u001b[1m7/7\u001b[0m \u001b[32m━━━━━━━━━━━━━━━━━━━━\u001b[0m\u001b[37m\u001b[0m \u001b[1m0s\u001b[0m 20ms/step - binary_accuracy: 0.9413 - loss: 0.2864 - val_binary_accuracy: 0.4600 - val_loss: 0.8851\n",
            "Epoch 483/500\n",
            "\u001b[1m7/7\u001b[0m \u001b[32m━━━━━━━━━━━━━━━━━━━━\u001b[0m\u001b[37m\u001b[0m \u001b[1m0s\u001b[0m 12ms/step - binary_accuracy: 0.9577 - loss: 0.2854 - val_binary_accuracy: 0.6400 - val_loss: 0.7674\n",
            "Epoch 484/500\n",
            "\u001b[1m7/7\u001b[0m \u001b[32m━━━━━━━━━━━━━━━━━━━━\u001b[0m\u001b[37m\u001b[0m \u001b[1m0s\u001b[0m 12ms/step - binary_accuracy: 0.9677 - loss: 0.2781 - val_binary_accuracy: 0.5000 - val_loss: 0.8487\n",
            "Epoch 485/500\n",
            "\u001b[1m7/7\u001b[0m \u001b[32m━━━━━━━━━━━━━━━━━━━━\u001b[0m\u001b[37m\u001b[0m \u001b[1m0s\u001b[0m 12ms/step - binary_accuracy: 0.9536 - loss: 0.2866 - val_binary_accuracy: 0.6200 - val_loss: 0.7742\n",
            "Epoch 486/500\n",
            "\u001b[1m7/7\u001b[0m \u001b[32m━━━━━━━━━━━━━━━━━━━━\u001b[0m\u001b[37m\u001b[0m \u001b[1m0s\u001b[0m 12ms/step - binary_accuracy: 0.9701 - loss: 0.2685 - val_binary_accuracy: 0.4800 - val_loss: 0.8631\n",
            "Epoch 487/500\n",
            "\u001b[1m7/7\u001b[0m \u001b[32m━━━━━━━━━━━━━━━━━━━━\u001b[0m\u001b[37m\u001b[0m \u001b[1m0s\u001b[0m 12ms/step - binary_accuracy: 0.9584 - loss: 0.2630 - val_binary_accuracy: 0.6200 - val_loss: 0.7802\n",
            "Epoch 488/500\n",
            "\u001b[1m7/7\u001b[0m \u001b[32m━━━━━━━━━━━━━━━━━━━━\u001b[0m\u001b[37m\u001b[0m \u001b[1m0s\u001b[0m 12ms/step - binary_accuracy: 0.9634 - loss: 0.2815 - val_binary_accuracy: 0.4400 - val_loss: 0.9164\n",
            "Epoch 489/500\n",
            "\u001b[1m7/7\u001b[0m \u001b[32m━━━━━━━━━━━━━━━━━━━━\u001b[0m\u001b[37m\u001b[0m \u001b[1m0s\u001b[0m 14ms/step - binary_accuracy: 0.9205 - loss: 0.2725 - val_binary_accuracy: 0.6400 - val_loss: 0.7737\n",
            "Epoch 490/500\n",
            "\u001b[1m7/7\u001b[0m \u001b[32m━━━━━━━━━━━━━━━━━━━━\u001b[0m\u001b[37m\u001b[0m \u001b[1m0s\u001b[0m 12ms/step - binary_accuracy: 0.9723 - loss: 0.2586 - val_binary_accuracy: 0.6200 - val_loss: 0.7971\n",
            "Epoch 491/500\n",
            "\u001b[1m7/7\u001b[0m \u001b[32m━━━━━━━━━━━━━━━━━━━━\u001b[0m\u001b[37m\u001b[0m \u001b[1m0s\u001b[0m 12ms/step - binary_accuracy: 0.9565 - loss: 0.2769 - val_binary_accuracy: 0.4800 - val_loss: 0.8864\n",
            "Epoch 492/500\n",
            "\u001b[1m7/7\u001b[0m \u001b[32m━━━━━━━━━━━━━━━━━━━━\u001b[0m\u001b[37m\u001b[0m \u001b[1m0s\u001b[0m 12ms/step - binary_accuracy: 0.9738 - loss: 0.2672 - val_binary_accuracy: 0.6400 - val_loss: 0.7128\n",
            "Epoch 493/500\n",
            "\u001b[1m7/7\u001b[0m \u001b[32m━━━━━━━━━━━━━━━━━━━━\u001b[0m\u001b[37m\u001b[0m \u001b[1m0s\u001b[0m 13ms/step - binary_accuracy: 0.9679 - loss: 0.2747 - val_binary_accuracy: 0.6400 - val_loss: 0.7806\n",
            "Epoch 494/500\n",
            "\u001b[1m7/7\u001b[0m \u001b[32m━━━━━━━━━━━━━━━━━━━━\u001b[0m\u001b[37m\u001b[0m \u001b[1m0s\u001b[0m 12ms/step - binary_accuracy: 0.9746 - loss: 0.2663 - val_binary_accuracy: 0.6400 - val_loss: 0.7841\n",
            "Epoch 495/500\n",
            "\u001b[1m7/7\u001b[0m \u001b[32m━━━━━━━━━━━━━━━━━━━━\u001b[0m\u001b[37m\u001b[0m \u001b[1m0s\u001b[0m 12ms/step - binary_accuracy: 0.9695 - loss: 0.2925 - val_binary_accuracy: 0.6000 - val_loss: 0.8203\n",
            "Epoch 496/500\n",
            "\u001b[1m7/7\u001b[0m \u001b[32m━━━━━━━━━━━━━━━━━━━━\u001b[0m\u001b[37m\u001b[0m \u001b[1m0s\u001b[0m 12ms/step - binary_accuracy: 0.9596 - loss: 0.2687 - val_binary_accuracy: 0.4600 - val_loss: 0.8746\n",
            "Epoch 497/500\n",
            "\u001b[1m7/7\u001b[0m \u001b[32m━━━━━━━━━━━━━━━━━━━━\u001b[0m\u001b[37m\u001b[0m \u001b[1m0s\u001b[0m 12ms/step - binary_accuracy: 0.9325 - loss: 0.2703 - val_binary_accuracy: 0.6200 - val_loss: 0.7957\n",
            "Epoch 498/500\n",
            "\u001b[1m7/7\u001b[0m \u001b[32m━━━━━━━━━━━━━━━━━━━━\u001b[0m\u001b[37m\u001b[0m \u001b[1m0s\u001b[0m 14ms/step - binary_accuracy: 0.9558 - loss: 0.2746 - val_binary_accuracy: 0.4800 - val_loss: 0.8645\n",
            "Epoch 499/500\n",
            "\u001b[1m7/7\u001b[0m \u001b[32m━━━━━━━━━━━━━━━━━━━━\u001b[0m\u001b[37m\u001b[0m \u001b[1m0s\u001b[0m 12ms/step - binary_accuracy: 0.9578 - loss: 0.2796 - val_binary_accuracy: 0.6200 - val_loss: 0.8193\n",
            "Epoch 500/500\n",
            "\u001b[1m7/7\u001b[0m \u001b[32m━━━━━━━━━━━━━━━━━━━━\u001b[0m\u001b[37m\u001b[0m \u001b[1m0s\u001b[0m 12ms/step - binary_accuracy: 0.9768 - loss: 0.2426 - val_binary_accuracy: 0.6200 - val_loss: 0.8092\n",
            "Training: ends at Fri, 19 Sep 2025 13:35:37\n",
            "Duration: 69.54 seconds\n"
          ]
        }
      ]
    },
    {
      "cell_type": "code",
      "metadata": {
        "id": "nLdVTFjGyyDe",
        "colab": {
          "base_uri": "https://localhost:8080/"
        },
        "outputId": "f7543e48-1426-49e0-ad60-68425a837907"
      },
      "source": [
        "loss, acc = model.evaluate(x=train_x,y=train_y, batch_size=32)\n",
        "print('Train loss: %.4f - acc: %.4f' % (loss, acc))\n",
        "\n",
        "loss_, acc_ = model.evaluate(x=test_x,y=test_y, batch_size=32)\n",
        "print('Test loss: %.4f - acc: %.4f' % (loss_, acc_))"
      ],
      "execution_count": null,
      "outputs": [
        {
          "output_type": "stream",
          "name": "stdout",
          "text": [
            "7/7 [==============================] - 0s 4ms/step - loss: 0.2781 - binary_accuracy: 0.9282\n",
            "Train loss: 0.2781 - acc: 0.9282\n",
            "2/2 [==============================] - 0s 12ms/step - loss: 0.6222 - binary_accuracy: 0.7000\n",
            "Test loss: 0.6222 - acc: 0.7000\n"
          ]
        }
      ]
    },
    {
      "cell_type": "markdown",
      "metadata": {
        "id": "RooPTo2ezBBh"
      },
      "source": [
        "# 4 Hyperparameter Tuning\n",
        "\n",
        "Check the tutorials:\n",
        "\n",
        "* https://docs.wandb.ai/tutorials/tensorflow_sweeps\n",
        "* https://docs.wandb.ai/tutorials/tensorflow"
      ]
    },
    {
      "cell_type": "code",
      "metadata": {
        "id": "ESSHH5_UzQ3o"
      },
      "source": [
        "%%capture\n",
        "!pip install wandb"
      ],
      "execution_count": 15,
      "outputs": []
    },
    {
      "cell_type": "code",
      "source": [
        "import wandb\n",
        "\n",
        "print('wandb version:', wandb.__version__)"
      ],
      "metadata": {
        "colab": {
          "base_uri": "https://localhost:8080/"
        },
        "id": "1XBInWHaRm3i",
        "outputId": "734c8c3a-9a3d-4e5e-b6ba-d0e9254a310d"
      },
      "execution_count": 16,
      "outputs": [
        {
          "output_type": "stream",
          "name": "stdout",
          "text": [
            "wandb version: 0.21.3\n"
          ]
        }
      ]
    },
    {
      "cell_type": "code",
      "source": [
        "# pip install wandb --upgrade"
      ],
      "metadata": {
        "id": "9dQM-CEBJGr3"
      },
      "execution_count": null,
      "outputs": []
    },
    {
      "cell_type": "code",
      "metadata": {
        "id": "Y_Tjh1Sbz1tJ",
        "colab": {
          "base_uri": "https://localhost:8080/"
        },
        "outputId": "3a5249ae-92b0-4901-c6e0-0822089aba9e"
      },
      "source": [
        "!wandb login --relogin"
      ],
      "execution_count": 17,
      "outputs": [
        {
          "output_type": "stream",
          "name": "stdout",
          "text": [
            "\u001b[34m\u001b[1mwandb\u001b[0m: Logging into wandb.ai. (Learn how to deploy a W&B server locally: https://wandb.me/wandb-server)\n",
            "\u001b[34m\u001b[1mwandb\u001b[0m: You can find your API key in your browser here: https://wandb.ai/authorize?ref=models\n",
            "\u001b[34m\u001b[1mwandb\u001b[0m: Paste an API key from your profile and hit enter, or press ctrl+c to quit: \n",
            "\u001b[34m\u001b[1mwandb\u001b[0m: No netrc file found, creating one.\n",
            "\u001b[34m\u001b[1mwandb\u001b[0m: Appending key for api.wandb.ai to your netrc file: /root/.netrc\n",
            "\u001b[34m\u001b[1mwandb\u001b[0m: W&B API key is configured. Use \u001b[1m`wandb login --relogin`\u001b[0m to force relogin\n"
          ]
        }
      ]
    },
    {
      "cell_type": "markdown",
      "metadata": {
        "id": "kKxNLU83GV4q"
      },
      "source": [
        "## 4.1 Monitoring a neural network"
      ]
    },
    {
      "cell_type": "code",
      "source": [
        "import wandb\n",
        "from wandb.integration.keras import WandbMetricsLogger\n",
        "from tensorflow.keras.callbacks import EarlyStopping\n",
        "\n",
        "# Default values for hyperparameters\n",
        "defaults = dict(layer_1 = 8,\n",
        "                layer_2 = 8,\n",
        "                learn_rate = 0.001,\n",
        "                batch_size = 32,\n",
        "                epoch = 500)\n",
        "\n",
        "wandb.init(project=\"dl_week_wandb\", config= defaults, name=\"dl_week_wandb_run_01\")\n",
        "config = wandb.config"
      ],
      "metadata": {
        "colab": {
          "base_uri": "https://localhost:8080/",
          "height": 173
        },
        "id": "DnRgjavMSVxN",
        "outputId": "abdd8886-c887-4652-9257-ffeb85edfe66"
      },
      "execution_count": 19,
      "outputs": [
        {
          "output_type": "stream",
          "name": "stderr",
          "text": [
            "/usr/local/lib/python3.12/dist-packages/notebook/notebookapp.py:191: SyntaxWarning: invalid escape sequence '\\/'\n",
            "  | |_| | '_ \\/ _` / _` |  _/ -_)\n",
            "\u001b[34m\u001b[1mwandb\u001b[0m: Currently logged in as: \u001b[33mterrematte\u001b[0m to \u001b[32mhttps://api.wandb.ai\u001b[0m. Use \u001b[1m`wandb login --relogin`\u001b[0m to force relogin\n"
          ]
        },
        {
          "output_type": "display_data",
          "data": {
            "text/plain": [
              "<IPython.core.display.HTML object>"
            ],
            "text/html": [
              "creating run (0.0s)"
            ]
          },
          "metadata": {}
        },
        {
          "output_type": "display_data",
          "data": {
            "text/plain": [
              "<IPython.core.display.HTML object>"
            ],
            "text/html": [
              "Tracking run with wandb version 0.21.3"
            ]
          },
          "metadata": {}
        },
        {
          "output_type": "display_data",
          "data": {
            "text/plain": [
              "<IPython.core.display.HTML object>"
            ],
            "text/html": [
              "Run data is saved locally in <code>/content/wandb/run-20250919_164424-2vquzt93</code>"
            ]
          },
          "metadata": {}
        },
        {
          "output_type": "display_data",
          "data": {
            "text/plain": [
              "<IPython.core.display.HTML object>"
            ],
            "text/html": [
              "Syncing run <strong><a href='https://wandb.ai/terrematte/dl_week_wandb/runs/2vquzt93' target=\"_blank\">dl_week_wandb_run_01</a></strong> to <a href='https://wandb.ai/terrematte/dl_week_wandb' target=\"_blank\">Weights & Biases</a> (<a href='https://wandb.me/developer-guide' target=\"_blank\">docs</a>)<br>"
            ]
          },
          "metadata": {}
        },
        {
          "output_type": "display_data",
          "data": {
            "text/plain": [
              "<IPython.core.display.HTML object>"
            ],
            "text/html": [
              " View project at <a href='https://wandb.ai/terrematte/dl_week_wandb' target=\"_blank\">https://wandb.ai/terrematte/dl_week_wandb</a>"
            ]
          },
          "metadata": {}
        },
        {
          "output_type": "display_data",
          "data": {
            "text/plain": [
              "<IPython.core.display.HTML object>"
            ],
            "text/html": [
              " View run at <a href='https://wandb.ai/terrematte/dl_week_wandb/runs/2vquzt93' target=\"_blank\">https://wandb.ai/terrematte/dl_week_wandb/runs/2vquzt93</a>"
            ]
          },
          "metadata": {}
        }
      ]
    },
    {
      "cell_type": "code",
      "source": [
        "config"
      ],
      "metadata": {
        "colab": {
          "base_uri": "https://localhost:8080/"
        },
        "id": "jb6btCNjTaq7",
        "outputId": "84a3d980-d99c-4090-ac57-807cdd06f5e8"
      },
      "execution_count": 20,
      "outputs": [
        {
          "output_type": "execute_result",
          "data": {
            "text/plain": [
              "{'layer_1': 8, 'layer_2': 8, 'learn_rate': 0.001, 'batch_size': 32, 'epoch': 500}"
            ]
          },
          "metadata": {},
          "execution_count": 20
        }
      ]
    },
    {
      "cell_type": "code",
      "metadata": {
        "id": "-bKBiY1q1QdJ"
      },
      "source": [
        "# Instantiate a simple classification model\n",
        "model = tf.keras.Sequential([\n",
        "  tf.keras.layers.Dense(config.layer_1, activation=tf.nn.relu, dtype='float64'),\n",
        "  tf.keras.layers.Dense(config.layer_2, activation=tf.nn.relu, dtype='float64'),\n",
        "  tf.keras.layers.Dense(1, activation=tf.nn.sigmoid, dtype='float64')\n",
        "])\n",
        "\n",
        "# Instantiate a logistic loss function that expects integer targets.\n",
        "loss = tf.keras.losses.BinaryCrossentropy()\n",
        "\n",
        "# Instantiate an accuracy metric.\n",
        "accuracy = tf.keras.metrics.BinaryAccuracy()\n",
        "\n",
        "# Instantiate an optimizer.\n",
        "optimizer = tf.keras.optimizers.SGD(learning_rate=config.learn_rate)\n",
        "\n",
        "# configure the optimizer, loss, and metrics to monitor.\n",
        "model.compile(optimizer=optimizer, loss=loss, metrics=[accuracy])"
      ],
      "execution_count": 21,
      "outputs": []
    },
    {
      "cell_type": "code",
      "metadata": {
        "id": "TuzJG3XG2jjw",
        "colab": {
          "base_uri": "https://localhost:8080/",
          "height": 1000
        },
        "outputId": "a8954c39-3f51-407b-bf62-8ff1849d6d41"
      },
      "source": [
        "%%wandb\n",
        "# Add WandbMetricsLogger() to the fit function\n",
        "model.fit(x=train_x,\n",
        "          y=train_y,\n",
        "          batch_size=config.batch_size,\n",
        "          epochs=config.epoch,\n",
        "          validation_data=(test_x,test_y),\n",
        "          callbacks=[WandbMetricsLogger()],\n",
        "          verbose=1)"
      ],
      "execution_count": 24,
      "outputs": [
        {
          "output_type": "display_data",
          "data": {
            "text/html": [
              "<iframe src='https://wandb.ai/terrematte/dl_week_wandb/runs/2vquzt93?jupyter=true' style='border:none;width:100%;height:420px;'></iframe>"
            ]
          },
          "metadata": {}
        },
        {
          "output_type": "stream",
          "name": "stdout",
          "text": [
            "Epoch 1/500\n",
            "\u001b[1m7/7\u001b[0m \u001b[32m━━━━━━━━━━━━━━━━━━━━\u001b[0m\u001b[37m\u001b[0m \u001b[1m2s\u001b[0m 201ms/step - binary_accuracy: 0.3860 - loss: 0.7282 - val_binary_accuracy: 0.6200 - val_loss: 0.6904\n",
            "Epoch 2/500\n",
            "\u001b[1m7/7\u001b[0m \u001b[32m━━━━━━━━━━━━━━━━━━━━\u001b[0m\u001b[37m\u001b[0m \u001b[1m1s\u001b[0m 19ms/step - binary_accuracy: 0.4689 - loss: 0.6984 - val_binary_accuracy: 0.3800 - val_loss: 0.6982\n",
            "Epoch 3/500\n",
            "\u001b[1m7/7\u001b[0m \u001b[32m━━━━━━━━━━━━━━━━━━━━\u001b[0m\u001b[37m\u001b[0m \u001b[1m0s\u001b[0m 13ms/step - binary_accuracy: 0.5642 - loss: 0.6939 - val_binary_accuracy: 0.3800 - val_loss: 0.7000\n",
            "Epoch 4/500\n",
            "\u001b[1m7/7\u001b[0m \u001b[32m━━━━━━━━━━━━━━━━━━━━\u001b[0m\u001b[37m\u001b[0m \u001b[1m0s\u001b[0m 11ms/step - binary_accuracy: 0.5289 - loss: 0.6962 - val_binary_accuracy: 0.3400 - val_loss: 0.7027\n",
            "Epoch 5/500\n",
            "\u001b[1m7/7\u001b[0m \u001b[32m━━━━━━━━━━━━━━━━━━━━\u001b[0m\u001b[37m\u001b[0m \u001b[1m0s\u001b[0m 12ms/step - binary_accuracy: 0.5341 - loss: 0.6910 - val_binary_accuracy: 0.3800 - val_loss: 0.7039\n",
            "Epoch 6/500\n",
            "\u001b[1m7/7\u001b[0m \u001b[32m━━━━━━━━━━━━━━━━━━━━\u001b[0m\u001b[37m\u001b[0m \u001b[1m0s\u001b[0m 11ms/step - binary_accuracy: 0.5683 - loss: 0.6891 - val_binary_accuracy: 0.3600 - val_loss: 0.7049\n",
            "Epoch 7/500\n",
            "\u001b[1m7/7\u001b[0m \u001b[32m━━━━━━━━━━━━━━━━━━━━\u001b[0m\u001b[37m\u001b[0m \u001b[1m0s\u001b[0m 12ms/step - binary_accuracy: 0.6343 - loss: 0.6852 - val_binary_accuracy: 0.3800 - val_loss: 0.7063\n",
            "Epoch 8/500\n",
            "\u001b[1m7/7\u001b[0m \u001b[32m━━━━━━━━━━━━━━━━━━━━\u001b[0m\u001b[37m\u001b[0m \u001b[1m0s\u001b[0m 11ms/step - binary_accuracy: 0.6220 - loss: 0.6838 - val_binary_accuracy: 0.3800 - val_loss: 0.7082\n",
            "Epoch 9/500\n",
            "\u001b[1m7/7\u001b[0m \u001b[32m━━━━━━━━━━━━━━━━━━━━\u001b[0m\u001b[37m\u001b[0m \u001b[1m0s\u001b[0m 12ms/step - binary_accuracy: 0.6480 - loss: 0.6840 - val_binary_accuracy: 0.4000 - val_loss: 0.7113\n",
            "Epoch 10/500\n",
            "\u001b[1m7/7\u001b[0m \u001b[32m━━━━━━━━━━━━━━━━━━━━\u001b[0m\u001b[37m\u001b[0m \u001b[1m0s\u001b[0m 11ms/step - binary_accuracy: 0.6570 - loss: 0.6812 - val_binary_accuracy: 0.3600 - val_loss: 0.7182\n",
            "Epoch 11/500\n",
            "\u001b[1m7/7\u001b[0m \u001b[32m━━━━━━━━━━━━━━━━━━━━\u001b[0m\u001b[37m\u001b[0m \u001b[1m0s\u001b[0m 12ms/step - binary_accuracy: 0.6519 - loss: 0.6778 - val_binary_accuracy: 0.3600 - val_loss: 0.7270\n",
            "Epoch 12/500\n",
            "\u001b[1m7/7\u001b[0m \u001b[32m━━━━━━━━━━━━━━━━━━━━\u001b[0m\u001b[37m\u001b[0m \u001b[1m0s\u001b[0m 12ms/step - binary_accuracy: 0.6312 - loss: 0.6799 - val_binary_accuracy: 0.3200 - val_loss: 0.7328\n",
            "Epoch 13/500\n",
            "\u001b[1m7/7\u001b[0m \u001b[32m━━━━━━━━━━━━━━━━━━━━\u001b[0m\u001b[37m\u001b[0m \u001b[1m0s\u001b[0m 11ms/step - binary_accuracy: 0.6618 - loss: 0.6742 - val_binary_accuracy: 0.3400 - val_loss: 0.7382\n",
            "Epoch 14/500\n",
            "\u001b[1m7/7\u001b[0m \u001b[32m━━━━━━━━━━━━━━━━━━━━\u001b[0m\u001b[37m\u001b[0m \u001b[1m0s\u001b[0m 13ms/step - binary_accuracy: 0.6610 - loss: 0.6665 - val_binary_accuracy: 0.3600 - val_loss: 0.7446\n",
            "Epoch 15/500\n",
            "\u001b[1m7/7\u001b[0m \u001b[32m━━━━━━━━━━━━━━━━━━━━\u001b[0m\u001b[37m\u001b[0m \u001b[1m0s\u001b[0m 12ms/step - binary_accuracy: 0.6430 - loss: 0.6719 - val_binary_accuracy: 0.3600 - val_loss: 0.7502\n",
            "Epoch 16/500\n",
            "\u001b[1m7/7\u001b[0m \u001b[32m━━━━━━━━━━━━━━━━━━━━\u001b[0m\u001b[37m\u001b[0m \u001b[1m0s\u001b[0m 11ms/step - binary_accuracy: 0.6189 - loss: 0.6734 - val_binary_accuracy: 0.3400 - val_loss: 0.7570\n",
            "Epoch 17/500\n",
            "\u001b[1m7/7\u001b[0m \u001b[32m━━━━━━━━━━━━━━━━━━━━\u001b[0m\u001b[37m\u001b[0m \u001b[1m0s\u001b[0m 11ms/step - binary_accuracy: 0.6365 - loss: 0.6673 - val_binary_accuracy: 0.3400 - val_loss: 0.7629\n",
            "Epoch 18/500\n",
            "\u001b[1m7/7\u001b[0m \u001b[32m━━━━━━━━━━━━━━━━━━━━\u001b[0m\u001b[37m\u001b[0m \u001b[1m0s\u001b[0m 11ms/step - binary_accuracy: 0.6780 - loss: 0.6542 - val_binary_accuracy: 0.3400 - val_loss: 0.7690\n",
            "Epoch 19/500\n",
            "\u001b[1m7/7\u001b[0m \u001b[32m━━━━━━━━━━━━━━━━━━━━\u001b[0m\u001b[37m\u001b[0m \u001b[1m0s\u001b[0m 12ms/step - binary_accuracy: 0.6540 - loss: 0.6587 - val_binary_accuracy: 0.3400 - val_loss: 0.7747\n",
            "Epoch 20/500\n",
            "\u001b[1m7/7\u001b[0m \u001b[32m━━━━━━━━━━━━━━━━━━━━\u001b[0m\u001b[37m\u001b[0m \u001b[1m0s\u001b[0m 12ms/step - binary_accuracy: 0.6409 - loss: 0.6644 - val_binary_accuracy: 0.3400 - val_loss: 0.7799\n",
            "Epoch 21/500\n",
            "\u001b[1m7/7\u001b[0m \u001b[32m━━━━━━━━━━━━━━━━━━━━\u001b[0m\u001b[37m\u001b[0m \u001b[1m0s\u001b[0m 11ms/step - binary_accuracy: 0.6528 - loss: 0.6581 - val_binary_accuracy: 0.3400 - val_loss: 0.7859\n",
            "Epoch 22/500\n",
            "\u001b[1m7/7\u001b[0m \u001b[32m━━━━━━━━━━━━━━━━━━━━\u001b[0m\u001b[37m\u001b[0m \u001b[1m0s\u001b[0m 13ms/step - binary_accuracy: 0.6568 - loss: 0.6587 - val_binary_accuracy: 0.3400 - val_loss: 0.7910\n",
            "Epoch 23/500\n",
            "\u001b[1m7/7\u001b[0m \u001b[32m━━━━━━━━━━━━━━━━━━━━\u001b[0m\u001b[37m\u001b[0m \u001b[1m0s\u001b[0m 12ms/step - binary_accuracy: 0.6812 - loss: 0.6436 - val_binary_accuracy: 0.3400 - val_loss: 0.7957\n",
            "Epoch 24/500\n",
            "\u001b[1m7/7\u001b[0m \u001b[32m━━━━━━━━━━━━━━━━━━━━\u001b[0m\u001b[37m\u001b[0m \u001b[1m0s\u001b[0m 12ms/step - binary_accuracy: 0.6858 - loss: 0.6433 - val_binary_accuracy: 0.3400 - val_loss: 0.7994\n",
            "Epoch 25/500\n",
            "\u001b[1m7/7\u001b[0m \u001b[32m━━━━━━━━━━━━━━━━━━━━\u001b[0m\u001b[37m\u001b[0m \u001b[1m0s\u001b[0m 12ms/step - binary_accuracy: 0.6276 - loss: 0.6649 - val_binary_accuracy: 0.3400 - val_loss: 0.8051\n",
            "Epoch 26/500\n",
            "\u001b[1m7/7\u001b[0m \u001b[32m━━━━━━━━━━━━━━━━━━━━\u001b[0m\u001b[37m\u001b[0m \u001b[1m0s\u001b[0m 11ms/step - binary_accuracy: 0.6409 - loss: 0.6555 - val_binary_accuracy: 0.3400 - val_loss: 0.8097\n",
            "Epoch 27/500\n",
            "\u001b[1m7/7\u001b[0m \u001b[32m━━━━━━━━━━━━━━━━━━━━\u001b[0m\u001b[37m\u001b[0m \u001b[1m0s\u001b[0m 11ms/step - binary_accuracy: 0.6838 - loss: 0.6359 - val_binary_accuracy: 0.3400 - val_loss: 0.8142\n",
            "Epoch 28/500\n",
            "\u001b[1m7/7\u001b[0m \u001b[32m━━━━━━━━━━━━━━━━━━━━\u001b[0m\u001b[37m\u001b[0m \u001b[1m0s\u001b[0m 11ms/step - binary_accuracy: 0.6580 - loss: 0.6423 - val_binary_accuracy: 0.3400 - val_loss: 0.8180\n",
            "Epoch 29/500\n",
            "\u001b[1m7/7\u001b[0m \u001b[32m━━━━━━━━━━━━━━━━━━━━\u001b[0m\u001b[37m\u001b[0m \u001b[1m0s\u001b[0m 11ms/step - binary_accuracy: 0.6664 - loss: 0.6428 - val_binary_accuracy: 0.3400 - val_loss: 0.8239\n",
            "Epoch 30/500\n",
            "\u001b[1m7/7\u001b[0m \u001b[32m━━━━━━━━━━━━━━━━━━━━\u001b[0m\u001b[37m\u001b[0m \u001b[1m0s\u001b[0m 12ms/step - binary_accuracy: 0.6701 - loss: 0.6458 - val_binary_accuracy: 0.3400 - val_loss: 0.8290\n",
            "Epoch 31/500\n",
            "\u001b[1m7/7\u001b[0m \u001b[32m━━━━━━━━━━━━━━━━━━━━\u001b[0m\u001b[37m\u001b[0m \u001b[1m0s\u001b[0m 11ms/step - binary_accuracy: 0.6900 - loss: 0.6274 - val_binary_accuracy: 0.3400 - val_loss: 0.8296\n",
            "Epoch 32/500\n",
            "\u001b[1m7/7\u001b[0m \u001b[32m━━━━━━━━━━━━━━━━━━━━\u001b[0m\u001b[37m\u001b[0m \u001b[1m0s\u001b[0m 20ms/step - binary_accuracy: 0.6727 - loss: 0.6417 - val_binary_accuracy: 0.3400 - val_loss: 0.8311\n",
            "Epoch 33/500\n",
            "\u001b[1m7/7\u001b[0m \u001b[32m━━━━━━━━━━━━━━━━━━━━\u001b[0m\u001b[37m\u001b[0m \u001b[1m0s\u001b[0m 12ms/step - binary_accuracy: 0.6923 - loss: 0.6308 - val_binary_accuracy: 0.3400 - val_loss: 0.8334\n",
            "Epoch 34/500\n",
            "\u001b[1m7/7\u001b[0m \u001b[32m━━━━━━━━━━━━━━━━━━━━\u001b[0m\u001b[37m\u001b[0m \u001b[1m0s\u001b[0m 11ms/step - binary_accuracy: 0.6474 - loss: 0.6442 - val_binary_accuracy: 0.3400 - val_loss: 0.8359\n",
            "Epoch 35/500\n",
            "\u001b[1m7/7\u001b[0m \u001b[32m━━━━━━━━━━━━━━━━━━━━\u001b[0m\u001b[37m\u001b[0m \u001b[1m0s\u001b[0m 11ms/step - binary_accuracy: 0.6809 - loss: 0.6360 - val_binary_accuracy: 0.3400 - val_loss: 0.8377\n",
            "Epoch 36/500\n",
            "\u001b[1m7/7\u001b[0m \u001b[32m━━━━━━━━━━━━━━━━━━━━\u001b[0m\u001b[37m\u001b[0m \u001b[1m0s\u001b[0m 11ms/step - binary_accuracy: 0.6417 - loss: 0.6568 - val_binary_accuracy: 0.3400 - val_loss: 0.8408\n",
            "Epoch 37/500\n",
            "\u001b[1m7/7\u001b[0m \u001b[32m━━━━━━━━━━━━━━━━━━━━\u001b[0m\u001b[37m\u001b[0m \u001b[1m0s\u001b[0m 11ms/step - binary_accuracy: 0.6685 - loss: 0.6426 - val_binary_accuracy: 0.3400 - val_loss: 0.8413\n",
            "Epoch 38/500\n",
            "\u001b[1m7/7\u001b[0m \u001b[32m━━━━━━━━━━━━━━━━━━━━\u001b[0m\u001b[37m\u001b[0m \u001b[1m0s\u001b[0m 12ms/step - binary_accuracy: 0.6552 - loss: 0.6454 - val_binary_accuracy: 0.3400 - val_loss: 0.8400\n",
            "Epoch 39/500\n",
            "\u001b[1m7/7\u001b[0m \u001b[32m━━━━━━━━━━━━━━━━━━━━\u001b[0m\u001b[37m\u001b[0m \u001b[1m0s\u001b[0m 12ms/step - binary_accuracy: 0.6527 - loss: 0.6441 - val_binary_accuracy: 0.3400 - val_loss: 0.8420\n",
            "Epoch 40/500\n",
            "\u001b[1m7/7\u001b[0m \u001b[32m━━━━━━━━━━━━━━━━━━━━\u001b[0m\u001b[37m\u001b[0m \u001b[1m0s\u001b[0m 12ms/step - binary_accuracy: 0.6549 - loss: 0.6459 - val_binary_accuracy: 0.3400 - val_loss: 0.8404\n",
            "Epoch 41/500\n",
            "\u001b[1m7/7\u001b[0m \u001b[32m━━━━━━━━━━━━━━━━━━━━\u001b[0m\u001b[37m\u001b[0m \u001b[1m0s\u001b[0m 12ms/step - binary_accuracy: 0.6972 - loss: 0.6181 - val_binary_accuracy: 0.3400 - val_loss: 0.8427\n",
            "Epoch 42/500\n",
            "\u001b[1m7/7\u001b[0m \u001b[32m━━━━━━━━━━━━━━━━━━━━\u001b[0m\u001b[37m\u001b[0m \u001b[1m0s\u001b[0m 13ms/step - binary_accuracy: 0.6596 - loss: 0.6426 - val_binary_accuracy: 0.3400 - val_loss: 0.8421\n",
            "Epoch 43/500\n",
            "\u001b[1m7/7\u001b[0m \u001b[32m━━━━━━━━━━━━━━━━━━━━\u001b[0m\u001b[37m\u001b[0m \u001b[1m0s\u001b[0m 11ms/step - binary_accuracy: 0.6903 - loss: 0.6302 - val_binary_accuracy: 0.3400 - val_loss: 0.8426\n",
            "Epoch 44/500\n",
            "\u001b[1m7/7\u001b[0m \u001b[32m━━━━━━━━━━━━━━━━━━━━\u001b[0m\u001b[37m\u001b[0m \u001b[1m0s\u001b[0m 12ms/step - binary_accuracy: 0.6818 - loss: 0.6264 - val_binary_accuracy: 0.3400 - val_loss: 0.8425\n",
            "Epoch 45/500\n",
            "\u001b[1m7/7\u001b[0m \u001b[32m━━━━━━━━━━━━━━━━━━━━\u001b[0m\u001b[37m\u001b[0m \u001b[1m0s\u001b[0m 13ms/step - binary_accuracy: 0.6293 - loss: 0.6638 - val_binary_accuracy: 0.3400 - val_loss: 0.8453\n",
            "Epoch 46/500\n",
            "\u001b[1m7/7\u001b[0m \u001b[32m━━━━━━━━━━━━━━━━━━━━\u001b[0m\u001b[37m\u001b[0m \u001b[1m0s\u001b[0m 12ms/step - binary_accuracy: 0.6694 - loss: 0.6329 - val_binary_accuracy: 0.3400 - val_loss: 0.8459\n",
            "Epoch 47/500\n",
            "\u001b[1m7/7\u001b[0m \u001b[32m━━━━━━━━━━━━━━━━━━━━\u001b[0m\u001b[37m\u001b[0m \u001b[1m0s\u001b[0m 12ms/step - binary_accuracy: 0.6599 - loss: 0.6361 - val_binary_accuracy: 0.3400 - val_loss: 0.8432\n",
            "Epoch 48/500\n",
            "\u001b[1m7/7\u001b[0m \u001b[32m━━━━━━━━━━━━━━━━━━━━\u001b[0m\u001b[37m\u001b[0m \u001b[1m0s\u001b[0m 11ms/step - binary_accuracy: 0.6824 - loss: 0.6304 - val_binary_accuracy: 0.3400 - val_loss: 0.8426\n",
            "Epoch 49/500\n",
            "\u001b[1m7/7\u001b[0m \u001b[32m━━━━━━━━━━━━━━━━━━━━\u001b[0m\u001b[37m\u001b[0m \u001b[1m0s\u001b[0m 11ms/step - binary_accuracy: 0.6776 - loss: 0.6275 - val_binary_accuracy: 0.3400 - val_loss: 0.8415\n",
            "Epoch 50/500\n",
            "\u001b[1m7/7\u001b[0m \u001b[32m━━━━━━━━━━━━━━━━━━━━\u001b[0m\u001b[37m\u001b[0m \u001b[1m0s\u001b[0m 11ms/step - binary_accuracy: 0.6725 - loss: 0.6334 - val_binary_accuracy: 0.3400 - val_loss: 0.8389\n",
            "Epoch 51/500\n",
            "\u001b[1m7/7\u001b[0m \u001b[32m━━━━━━━━━━━━━━━━━━━━\u001b[0m\u001b[37m\u001b[0m \u001b[1m0s\u001b[0m 19ms/step - binary_accuracy: 0.6483 - loss: 0.6406 - val_binary_accuracy: 0.3400 - val_loss: 0.8420\n",
            "Epoch 52/500\n",
            "\u001b[1m7/7\u001b[0m \u001b[32m━━━━━━━━━━━━━━━━━━━━\u001b[0m\u001b[37m\u001b[0m \u001b[1m0s\u001b[0m 11ms/step - binary_accuracy: 0.6583 - loss: 0.6458 - val_binary_accuracy: 0.3400 - val_loss: 0.8384\n",
            "Epoch 53/500\n",
            "\u001b[1m7/7\u001b[0m \u001b[32m━━━━━━━━━━━━━━━━━━━━\u001b[0m\u001b[37m\u001b[0m \u001b[1m0s\u001b[0m 11ms/step - binary_accuracy: 0.6442 - loss: 0.6507 - val_binary_accuracy: 0.3400 - val_loss: 0.8415\n",
            "Epoch 54/500\n",
            "\u001b[1m7/7\u001b[0m \u001b[32m━━━━━━━━━━━━━━━━━━━━\u001b[0m\u001b[37m\u001b[0m \u001b[1m0s\u001b[0m 11ms/step - binary_accuracy: 0.6575 - loss: 0.6321 - val_binary_accuracy: 0.3400 - val_loss: 0.8435\n",
            "Epoch 55/500\n",
            "\u001b[1m7/7\u001b[0m \u001b[32m━━━━━━━━━━━━━━━━━━━━\u001b[0m\u001b[37m\u001b[0m \u001b[1m0s\u001b[0m 12ms/step - binary_accuracy: 0.6335 - loss: 0.6613 - val_binary_accuracy: 0.3400 - val_loss: 0.8449\n",
            "Epoch 56/500\n",
            "\u001b[1m7/7\u001b[0m \u001b[32m━━━━━━━━━━━━━━━━━━━━\u001b[0m\u001b[37m\u001b[0m \u001b[1m0s\u001b[0m 11ms/step - binary_accuracy: 0.6962 - loss: 0.6165 - val_binary_accuracy: 0.3400 - val_loss: 0.8437\n",
            "Epoch 57/500\n",
            "\u001b[1m7/7\u001b[0m \u001b[32m━━━━━━━━━━━━━━━━━━━━\u001b[0m\u001b[37m\u001b[0m \u001b[1m0s\u001b[0m 11ms/step - binary_accuracy: 0.6710 - loss: 0.6331 - val_binary_accuracy: 0.3400 - val_loss: 0.8428\n",
            "Epoch 58/500\n",
            "\u001b[1m7/7\u001b[0m \u001b[32m━━━━━━━━━━━━━━━━━━━━\u001b[0m\u001b[37m\u001b[0m \u001b[1m0s\u001b[0m 11ms/step - binary_accuracy: 0.6651 - loss: 0.6346 - val_binary_accuracy: 0.3400 - val_loss: 0.8419\n",
            "Epoch 59/500\n",
            "\u001b[1m7/7\u001b[0m \u001b[32m━━━━━━━━━━━━━━━━━━━━\u001b[0m\u001b[37m\u001b[0m \u001b[1m0s\u001b[0m 11ms/step - binary_accuracy: 0.6820 - loss: 0.6188 - val_binary_accuracy: 0.3400 - val_loss: 0.8363\n",
            "Epoch 60/500\n",
            "\u001b[1m7/7\u001b[0m \u001b[32m━━━━━━━━━━━━━━━━━━━━\u001b[0m\u001b[37m\u001b[0m \u001b[1m0s\u001b[0m 13ms/step - binary_accuracy: 0.6858 - loss: 0.6233 - val_binary_accuracy: 0.3400 - val_loss: 0.8340\n",
            "Epoch 61/500\n",
            "\u001b[1m7/7\u001b[0m \u001b[32m━━━━━━━━━━━━━━━━━━━━\u001b[0m\u001b[37m\u001b[0m \u001b[1m0s\u001b[0m 12ms/step - binary_accuracy: 0.6889 - loss: 0.6254 - val_binary_accuracy: 0.3400 - val_loss: 0.8396\n",
            "Epoch 62/500\n",
            "\u001b[1m7/7\u001b[0m \u001b[32m━━━━━━━━━━━━━━━━━━━━\u001b[0m\u001b[37m\u001b[0m \u001b[1m0s\u001b[0m 11ms/step - binary_accuracy: 0.6844 - loss: 0.6290 - val_binary_accuracy: 0.3400 - val_loss: 0.8404\n",
            "Epoch 63/500\n",
            "\u001b[1m7/7\u001b[0m \u001b[32m━━━━━━━━━━━━━━━━━━━━\u001b[0m\u001b[37m\u001b[0m \u001b[1m0s\u001b[0m 11ms/step - binary_accuracy: 0.6492 - loss: 0.6455 - val_binary_accuracy: 0.3400 - val_loss: 0.8441\n",
            "Epoch 64/500\n",
            "\u001b[1m7/7\u001b[0m \u001b[32m━━━━━━━━━━━━━━━━━━━━\u001b[0m\u001b[37m\u001b[0m \u001b[1m0s\u001b[0m 11ms/step - binary_accuracy: 0.6775 - loss: 0.6261 - val_binary_accuracy: 0.3400 - val_loss: 0.8394\n",
            "Epoch 65/500\n",
            "\u001b[1m7/7\u001b[0m \u001b[32m━━━━━━━━━━━━━━━━━━━━\u001b[0m\u001b[37m\u001b[0m \u001b[1m0s\u001b[0m 11ms/step - binary_accuracy: 0.6708 - loss: 0.6262 - val_binary_accuracy: 0.3400 - val_loss: 0.8445\n",
            "Epoch 66/500\n",
            "\u001b[1m7/7\u001b[0m \u001b[32m━━━━━━━━━━━━━━━━━━━━\u001b[0m\u001b[37m\u001b[0m \u001b[1m0s\u001b[0m 12ms/step - binary_accuracy: 0.6684 - loss: 0.6261 - val_binary_accuracy: 0.3400 - val_loss: 0.8410\n",
            "Epoch 67/500\n",
            "\u001b[1m7/7\u001b[0m \u001b[32m━━━━━━━━━━━━━━━━━━━━\u001b[0m\u001b[37m\u001b[0m \u001b[1m0s\u001b[0m 12ms/step - binary_accuracy: 0.7048 - loss: 0.6089 - val_binary_accuracy: 0.3400 - val_loss: 0.8380\n",
            "Epoch 68/500\n",
            "\u001b[1m7/7\u001b[0m \u001b[32m━━━━━━━━━━━━━━━━━━━━\u001b[0m\u001b[37m\u001b[0m \u001b[1m0s\u001b[0m 12ms/step - binary_accuracy: 0.6728 - loss: 0.6346 - val_binary_accuracy: 0.3400 - val_loss: 0.8392\n",
            "Epoch 69/500\n",
            "\u001b[1m7/7\u001b[0m \u001b[32m━━━━━━━━━━━━━━━━━━━━\u001b[0m\u001b[37m\u001b[0m \u001b[1m0s\u001b[0m 14ms/step - binary_accuracy: 0.7155 - loss: 0.5990 - val_binary_accuracy: 0.3400 - val_loss: 0.8314\n",
            "Epoch 70/500\n",
            "\u001b[1m7/7\u001b[0m \u001b[32m━━━━━━━━━━━━━━━━━━━━\u001b[0m\u001b[37m\u001b[0m \u001b[1m0s\u001b[0m 11ms/step - binary_accuracy: 0.6666 - loss: 0.6335 - val_binary_accuracy: 0.3400 - val_loss: 0.8273\n",
            "Epoch 71/500\n",
            "\u001b[1m7/7\u001b[0m \u001b[32m━━━━━━━━━━━━━━━━━━━━\u001b[0m\u001b[37m\u001b[0m \u001b[1m0s\u001b[0m 12ms/step - binary_accuracy: 0.7253 - loss: 0.5935 - val_binary_accuracy: 0.3400 - val_loss: 0.8218\n",
            "Epoch 72/500\n",
            "\u001b[1m7/7\u001b[0m \u001b[32m━━━━━━━━━━━━━━━━━━━━\u001b[0m\u001b[37m\u001b[0m \u001b[1m0s\u001b[0m 11ms/step - binary_accuracy: 0.6760 - loss: 0.6154 - val_binary_accuracy: 0.3400 - val_loss: 0.8174\n",
            "Epoch 73/500\n",
            "\u001b[1m7/7\u001b[0m \u001b[32m━━━━━━━━━━━━━━━━━━━━\u001b[0m\u001b[37m\u001b[0m \u001b[1m0s\u001b[0m 11ms/step - binary_accuracy: 0.6292 - loss: 0.6526 - val_binary_accuracy: 0.3400 - val_loss: 0.8186\n",
            "Epoch 74/500\n",
            "\u001b[1m7/7\u001b[0m \u001b[32m━━━━━━━━━━━━━━━━━━━━\u001b[0m\u001b[37m\u001b[0m \u001b[1m0s\u001b[0m 12ms/step - binary_accuracy: 0.7031 - loss: 0.6081 - val_binary_accuracy: 0.3400 - val_loss: 0.8160\n",
            "Epoch 75/500\n",
            "\u001b[1m7/7\u001b[0m \u001b[32m━━━━━━━━━━━━━━━━━━━━\u001b[0m\u001b[37m\u001b[0m \u001b[1m0s\u001b[0m 12ms/step - binary_accuracy: 0.7102 - loss: 0.6119 - val_binary_accuracy: 0.3400 - val_loss: 0.8128\n",
            "Epoch 76/500\n",
            "\u001b[1m7/7\u001b[0m \u001b[32m━━━━━━━━━━━━━━━━━━━━\u001b[0m\u001b[37m\u001b[0m \u001b[1m0s\u001b[0m 12ms/step - binary_accuracy: 0.6628 - loss: 0.6297 - val_binary_accuracy: 0.3400 - val_loss: 0.8195\n",
            "Epoch 77/500\n",
            "\u001b[1m7/7\u001b[0m \u001b[32m━━━━━━━━━━━━━━━━━━━━\u001b[0m\u001b[37m\u001b[0m \u001b[1m0s\u001b[0m 12ms/step - binary_accuracy: 0.6865 - loss: 0.6183 - val_binary_accuracy: 0.3400 - val_loss: 0.8183\n",
            "Epoch 78/500\n",
            "\u001b[1m7/7\u001b[0m \u001b[32m━━━━━━━━━━━━━━━━━━━━\u001b[0m\u001b[37m\u001b[0m \u001b[1m0s\u001b[0m 13ms/step - binary_accuracy: 0.7059 - loss: 0.6068 - val_binary_accuracy: 0.3400 - val_loss: 0.8114\n",
            "Epoch 79/500\n",
            "\u001b[1m7/7\u001b[0m \u001b[32m━━━━━━━━━━━━━━━━━━━━\u001b[0m\u001b[37m\u001b[0m \u001b[1m0s\u001b[0m 11ms/step - binary_accuracy: 0.6725 - loss: 0.6211 - val_binary_accuracy: 0.3400 - val_loss: 0.8150\n",
            "Epoch 80/500\n",
            "\u001b[1m7/7\u001b[0m \u001b[32m━━━━━━━━━━━━━━━━━━━━\u001b[0m\u001b[37m\u001b[0m \u001b[1m0s\u001b[0m 11ms/step - binary_accuracy: 0.6838 - loss: 0.6155 - val_binary_accuracy: 0.3400 - val_loss: 0.8119\n",
            "Epoch 81/500\n",
            "\u001b[1m7/7\u001b[0m \u001b[32m━━━━━━━━━━━━━━━━━━━━\u001b[0m\u001b[37m\u001b[0m \u001b[1m0s\u001b[0m 11ms/step - binary_accuracy: 0.6745 - loss: 0.6238 - val_binary_accuracy: 0.3400 - val_loss: 0.8153\n",
            "Epoch 82/500\n",
            "\u001b[1m7/7\u001b[0m \u001b[32m━━━━━━━━━━━━━━━━━━━━\u001b[0m\u001b[37m\u001b[0m \u001b[1m0s\u001b[0m 12ms/step - binary_accuracy: 0.6719 - loss: 0.6173 - val_binary_accuracy: 0.3400 - val_loss: 0.8212\n",
            "Epoch 83/500\n",
            "\u001b[1m7/7\u001b[0m \u001b[32m━━━━━━━━━━━━━━━━━━━━\u001b[0m\u001b[37m\u001b[0m \u001b[1m0s\u001b[0m 12ms/step - binary_accuracy: 0.6741 - loss: 0.6205 - val_binary_accuracy: 0.3400 - val_loss: 0.8235\n",
            "Epoch 84/500\n",
            "\u001b[1m7/7\u001b[0m \u001b[32m━━━━━━━━━━━━━━━━━━━━\u001b[0m\u001b[37m\u001b[0m \u001b[1m0s\u001b[0m 11ms/step - binary_accuracy: 0.6516 - loss: 0.6337 - val_binary_accuracy: 0.3400 - val_loss: 0.8266\n",
            "Epoch 85/500\n",
            "\u001b[1m7/7\u001b[0m \u001b[32m━━━━━━━━━━━━━━━━━━━━\u001b[0m\u001b[37m\u001b[0m \u001b[1m0s\u001b[0m 11ms/step - binary_accuracy: 0.6945 - loss: 0.6073 - val_binary_accuracy: 0.3400 - val_loss: 0.8197\n",
            "Epoch 86/500\n",
            "\u001b[1m7/7\u001b[0m \u001b[32m━━━━━━━━━━━━━━━━━━━━\u001b[0m\u001b[37m\u001b[0m \u001b[1m0s\u001b[0m 11ms/step - binary_accuracy: 0.6795 - loss: 0.6187 - val_binary_accuracy: 0.3400 - val_loss: 0.8163\n",
            "Epoch 87/500\n",
            "\u001b[1m7/7\u001b[0m \u001b[32m━━━━━━━━━━━━━━━━━━━━\u001b[0m\u001b[37m\u001b[0m \u001b[1m0s\u001b[0m 11ms/step - binary_accuracy: 0.6940 - loss: 0.5998 - val_binary_accuracy: 0.3400 - val_loss: 0.8134\n",
            "Epoch 88/500\n",
            "\u001b[1m7/7\u001b[0m \u001b[32m━━━━━━━━━━━━━━━━━━━━\u001b[0m\u001b[37m\u001b[0m \u001b[1m0s\u001b[0m 13ms/step - binary_accuracy: 0.6973 - loss: 0.6047 - val_binary_accuracy: 0.3400 - val_loss: 0.8102\n",
            "Epoch 89/500\n",
            "\u001b[1m7/7\u001b[0m \u001b[32m━━━━━━━━━━━━━━━━━━━━\u001b[0m\u001b[37m\u001b[0m \u001b[1m0s\u001b[0m 11ms/step - binary_accuracy: 0.6908 - loss: 0.6100 - val_binary_accuracy: 0.3400 - val_loss: 0.8094\n",
            "Epoch 90/500\n",
            "\u001b[1m7/7\u001b[0m \u001b[32m━━━━━━━━━━━━━━━━━━━━\u001b[0m\u001b[37m\u001b[0m \u001b[1m0s\u001b[0m 12ms/step - binary_accuracy: 0.6786 - loss: 0.6073 - val_binary_accuracy: 0.3400 - val_loss: 0.8068\n",
            "Epoch 91/500\n",
            "\u001b[1m7/7\u001b[0m \u001b[32m━━━━━━━━━━━━━━━━━━━━\u001b[0m\u001b[37m\u001b[0m \u001b[1m0s\u001b[0m 16ms/step - binary_accuracy: 0.6514 - loss: 0.6182 - val_binary_accuracy: 0.3400 - val_loss: 0.8102\n",
            "Epoch 92/500\n",
            "\u001b[1m7/7\u001b[0m \u001b[32m━━━━━━━━━━━━━━━━━━━━\u001b[0m\u001b[37m\u001b[0m \u001b[1m0s\u001b[0m 16ms/step - binary_accuracy: 0.6722 - loss: 0.6142 - val_binary_accuracy: 0.3400 - val_loss: 0.8111\n",
            "Epoch 93/500\n",
            "\u001b[1m7/7\u001b[0m \u001b[32m━━━━━━━━━━━━━━━━━━━━\u001b[0m\u001b[37m\u001b[0m \u001b[1m0s\u001b[0m 22ms/step - binary_accuracy: 0.6955 - loss: 0.5975 - val_binary_accuracy: 0.3400 - val_loss: 0.8136\n",
            "Epoch 94/500\n",
            "\u001b[1m7/7\u001b[0m \u001b[32m━━━━━━━━━━━━━━━━━━━━\u001b[0m\u001b[37m\u001b[0m \u001b[1m0s\u001b[0m 20ms/step - binary_accuracy: 0.6997 - loss: 0.6031 - val_binary_accuracy: 0.3400 - val_loss: 0.8112\n",
            "Epoch 95/500\n",
            "\u001b[1m7/7\u001b[0m \u001b[32m━━━━━━━━━━━━━━━━━━━━\u001b[0m\u001b[37m\u001b[0m \u001b[1m0s\u001b[0m 23ms/step - binary_accuracy: 0.6814 - loss: 0.6129 - val_binary_accuracy: 0.3400 - val_loss: 0.8061\n",
            "Epoch 96/500\n",
            "\u001b[1m7/7\u001b[0m \u001b[32m━━━━━━━━━━━━━━━━━━━━\u001b[0m\u001b[37m\u001b[0m \u001b[1m0s\u001b[0m 22ms/step - binary_accuracy: 0.6819 - loss: 0.6026 - val_binary_accuracy: 0.3400 - val_loss: 0.8047\n",
            "Epoch 97/500\n",
            "\u001b[1m7/7\u001b[0m \u001b[32m━━━━━━━━━━━━━━━━━━━━\u001b[0m\u001b[37m\u001b[0m \u001b[1m0s\u001b[0m 17ms/step - binary_accuracy: 0.6758 - loss: 0.6079 - val_binary_accuracy: 0.3400 - val_loss: 0.8014\n",
            "Epoch 98/500\n",
            "\u001b[1m7/7\u001b[0m \u001b[32m━━━━━━━━━━━━━━━━━━━━\u001b[0m\u001b[37m\u001b[0m \u001b[1m0s\u001b[0m 22ms/step - binary_accuracy: 0.6943 - loss: 0.5954 - val_binary_accuracy: 0.3400 - val_loss: 0.8016\n",
            "Epoch 99/500\n",
            "\u001b[1m7/7\u001b[0m \u001b[32m━━━━━━━━━━━━━━━━━━━━\u001b[0m\u001b[37m\u001b[0m \u001b[1m0s\u001b[0m 24ms/step - binary_accuracy: 0.6771 - loss: 0.6049 - val_binary_accuracy: 0.3400 - val_loss: 0.8079\n",
            "Epoch 100/500\n",
            "\u001b[1m7/7\u001b[0m \u001b[32m━━━━━━━━━━━━━━━━━━━━\u001b[0m\u001b[37m\u001b[0m \u001b[1m0s\u001b[0m 12ms/step - binary_accuracy: 0.6742 - loss: 0.6065 - val_binary_accuracy: 0.3400 - val_loss: 0.8094\n",
            "Epoch 101/500\n",
            "\u001b[1m7/7\u001b[0m \u001b[32m━━━━━━━━━━━━━━━━━━━━\u001b[0m\u001b[37m\u001b[0m \u001b[1m0s\u001b[0m 12ms/step - binary_accuracy: 0.6459 - loss: 0.6282 - val_binary_accuracy: 0.3400 - val_loss: 0.8166\n",
            "Epoch 102/500\n",
            "\u001b[1m7/7\u001b[0m \u001b[32m━━━━━━━━━━━━━━━━━━━━\u001b[0m\u001b[37m\u001b[0m \u001b[1m0s\u001b[0m 11ms/step - binary_accuracy: 0.7006 - loss: 0.5877 - val_binary_accuracy: 0.3400 - val_loss: 0.8079\n",
            "Epoch 103/500\n",
            "\u001b[1m7/7\u001b[0m \u001b[32m━━━━━━━━━━━━━━━━━━━━\u001b[0m\u001b[37m\u001b[0m \u001b[1m0s\u001b[0m 12ms/step - binary_accuracy: 0.7085 - loss: 0.5845 - val_binary_accuracy: 0.3400 - val_loss: 0.8020\n",
            "Epoch 104/500\n",
            "\u001b[1m7/7\u001b[0m \u001b[32m━━━━━━━━━━━━━━━━━━━━\u001b[0m\u001b[37m\u001b[0m \u001b[1m0s\u001b[0m 12ms/step - binary_accuracy: 0.6840 - loss: 0.6033 - val_binary_accuracy: 0.3400 - val_loss: 0.8063\n",
            "Epoch 105/500\n",
            "\u001b[1m7/7\u001b[0m \u001b[32m━━━━━━━━━━━━━━━━━━━━\u001b[0m\u001b[37m\u001b[0m \u001b[1m0s\u001b[0m 11ms/step - binary_accuracy: 0.6723 - loss: 0.6093 - val_binary_accuracy: 0.3400 - val_loss: 0.8163\n",
            "Epoch 106/500\n",
            "\u001b[1m7/7\u001b[0m \u001b[32m━━━━━━━━━━━━━━━━━━━━\u001b[0m\u001b[37m\u001b[0m \u001b[1m0s\u001b[0m 12ms/step - binary_accuracy: 0.6976 - loss: 0.5879 - val_binary_accuracy: 0.3400 - val_loss: 0.8063\n",
            "Epoch 107/500\n",
            "\u001b[1m7/7\u001b[0m \u001b[32m━━━━━━━━━━━━━━━━━━━━\u001b[0m\u001b[37m\u001b[0m \u001b[1m0s\u001b[0m 12ms/step - binary_accuracy: 0.6776 - loss: 0.5982 - val_binary_accuracy: 0.3400 - val_loss: 0.7976\n",
            "Epoch 108/500\n",
            "\u001b[1m7/7\u001b[0m \u001b[32m━━━━━━━━━━━━━━━━━━━━\u001b[0m\u001b[37m\u001b[0m \u001b[1m0s\u001b[0m 12ms/step - binary_accuracy: 0.6870 - loss: 0.5994 - val_binary_accuracy: 0.3400 - val_loss: 0.7966\n",
            "Epoch 109/500\n",
            "\u001b[1m7/7\u001b[0m \u001b[32m━━━━━━━━━━━━━━━━━━━━\u001b[0m\u001b[37m\u001b[0m \u001b[1m0s\u001b[0m 11ms/step - binary_accuracy: 0.6419 - loss: 0.6122 - val_binary_accuracy: 0.3400 - val_loss: 0.7968\n",
            "Epoch 110/500\n",
            "\u001b[1m7/7\u001b[0m \u001b[32m━━━━━━━━━━━━━━━━━━━━\u001b[0m\u001b[37m\u001b[0m \u001b[1m0s\u001b[0m 12ms/step - binary_accuracy: 0.6688 - loss: 0.6140 - val_binary_accuracy: 0.3400 - val_loss: 0.8082\n",
            "Epoch 111/500\n",
            "\u001b[1m7/7\u001b[0m \u001b[32m━━━━━━━━━━━━━━━━━━━━\u001b[0m\u001b[37m\u001b[0m \u001b[1m0s\u001b[0m 12ms/step - binary_accuracy: 0.6901 - loss: 0.5968 - val_binary_accuracy: 0.3400 - val_loss: 0.8109\n",
            "Epoch 112/500\n",
            "\u001b[1m7/7\u001b[0m \u001b[32m━━━━━━━━━━━━━━━━━━━━\u001b[0m\u001b[37m\u001b[0m \u001b[1m0s\u001b[0m 12ms/step - binary_accuracy: 0.6839 - loss: 0.5951 - val_binary_accuracy: 0.3400 - val_loss: 0.7941\n",
            "Epoch 113/500\n",
            "\u001b[1m7/7\u001b[0m \u001b[32m━━━━━━━━━━━━━━━━━━━━\u001b[0m\u001b[37m\u001b[0m \u001b[1m0s\u001b[0m 11ms/step - binary_accuracy: 0.6990 - loss: 0.5980 - val_binary_accuracy: 0.3400 - val_loss: 0.7907\n",
            "Epoch 114/500\n",
            "\u001b[1m7/7\u001b[0m \u001b[32m━━━━━━━━━━━━━━━━━━━━\u001b[0m\u001b[37m\u001b[0m \u001b[1m0s\u001b[0m 12ms/step - binary_accuracy: 0.6902 - loss: 0.5863 - val_binary_accuracy: 0.3400 - val_loss: 0.7888\n",
            "Epoch 115/500\n",
            "\u001b[1m7/7\u001b[0m \u001b[32m━━━━━━━━━━━━━━━━━━━━\u001b[0m\u001b[37m\u001b[0m \u001b[1m0s\u001b[0m 12ms/step - binary_accuracy: 0.6920 - loss: 0.6034 - val_binary_accuracy: 0.3400 - val_loss: 0.7993\n",
            "Epoch 116/500\n",
            "\u001b[1m7/7\u001b[0m \u001b[32m━━━━━━━━━━━━━━━━━━━━\u001b[0m\u001b[37m\u001b[0m \u001b[1m0s\u001b[0m 12ms/step - binary_accuracy: 0.6688 - loss: 0.6076 - val_binary_accuracy: 0.3600 - val_loss: 0.7957\n",
            "Epoch 117/500\n",
            "\u001b[1m7/7\u001b[0m \u001b[32m━━━━━━━━━━━━━━━━━━━━\u001b[0m\u001b[37m\u001b[0m \u001b[1m0s\u001b[0m 11ms/step - binary_accuracy: 0.6903 - loss: 0.6054 - val_binary_accuracy: 0.3600 - val_loss: 0.7875\n",
            "Epoch 118/500\n",
            "\u001b[1m7/7\u001b[0m \u001b[32m━━━━━━━━━━━━━━━━━━━━\u001b[0m\u001b[37m\u001b[0m \u001b[1m0s\u001b[0m 12ms/step - binary_accuracy: 0.7255 - loss: 0.5775 - val_binary_accuracy: 0.3800 - val_loss: 0.7840\n",
            "Epoch 119/500\n",
            "\u001b[1m7/7\u001b[0m \u001b[32m━━━━━━━━━━━━━━━━━━━━\u001b[0m\u001b[37m\u001b[0m \u001b[1m0s\u001b[0m 12ms/step - binary_accuracy: 0.6913 - loss: 0.5924 - val_binary_accuracy: 0.3800 - val_loss: 0.7835\n",
            "Epoch 120/500\n",
            "\u001b[1m7/7\u001b[0m \u001b[32m━━━━━━━━━━━━━━━━━━━━\u001b[0m\u001b[37m\u001b[0m \u001b[1m0s\u001b[0m 12ms/step - binary_accuracy: 0.7056 - loss: 0.5852 - val_binary_accuracy: 0.3800 - val_loss: 0.7874\n",
            "Epoch 121/500\n",
            "\u001b[1m7/7\u001b[0m \u001b[32m━━━━━━━━━━━━━━━━━━━━\u001b[0m\u001b[37m\u001b[0m \u001b[1m0s\u001b[0m 12ms/step - binary_accuracy: 0.6773 - loss: 0.6026 - val_binary_accuracy: 0.3600 - val_loss: 0.7905\n",
            "Epoch 122/500\n",
            "\u001b[1m7/7\u001b[0m \u001b[32m━━━━━━━━━━━━━━━━━━━━\u001b[0m\u001b[37m\u001b[0m \u001b[1m0s\u001b[0m 13ms/step - binary_accuracy: 0.6900 - loss: 0.6022 - val_binary_accuracy: 0.3600 - val_loss: 0.7932\n",
            "Epoch 123/500\n",
            "\u001b[1m7/7\u001b[0m \u001b[32m━━━━━━━━━━━━━━━━━━━━\u001b[0m\u001b[37m\u001b[0m \u001b[1m0s\u001b[0m 12ms/step - binary_accuracy: 0.6965 - loss: 0.5875 - val_binary_accuracy: 0.3600 - val_loss: 0.7801\n",
            "Epoch 124/500\n",
            "\u001b[1m7/7\u001b[0m \u001b[32m━━━━━━━━━━━━━━━━━━━━\u001b[0m\u001b[37m\u001b[0m \u001b[1m0s\u001b[0m 19ms/step - binary_accuracy: 0.7172 - loss: 0.5903 - val_binary_accuracy: 0.3800 - val_loss: 0.7635\n",
            "Epoch 125/500\n",
            "\u001b[1m7/7\u001b[0m \u001b[32m━━━━━━━━━━━━━━━━━━━━\u001b[0m\u001b[37m\u001b[0m \u001b[1m0s\u001b[0m 12ms/step - binary_accuracy: 0.7258 - loss: 0.5885 - val_binary_accuracy: 0.4000 - val_loss: 0.7449\n",
            "Epoch 126/500\n",
            "\u001b[1m7/7\u001b[0m \u001b[32m━━━━━━━━━━━━━━━━━━━━\u001b[0m\u001b[37m\u001b[0m \u001b[1m0s\u001b[0m 12ms/step - binary_accuracy: 0.7437 - loss: 0.5686 - val_binary_accuracy: 0.3800 - val_loss: 0.7457\n",
            "Epoch 127/500\n",
            "\u001b[1m7/7\u001b[0m \u001b[32m━━━━━━━━━━━━━━━━━━━━\u001b[0m\u001b[37m\u001b[0m \u001b[1m0s\u001b[0m 12ms/step - binary_accuracy: 0.7211 - loss: 0.5622 - val_binary_accuracy: 0.4600 - val_loss: 0.7124\n",
            "Epoch 128/500\n",
            "\u001b[1m7/7\u001b[0m \u001b[32m━━━━━━━━━━━━━━━━━━━━\u001b[0m\u001b[37m\u001b[0m \u001b[1m0s\u001b[0m 12ms/step - binary_accuracy: 0.7537 - loss: 0.5620 - val_binary_accuracy: 0.5400 - val_loss: 0.6915\n",
            "Epoch 129/500\n",
            "\u001b[1m7/7\u001b[0m \u001b[32m━━━━━━━━━━━━━━━━━━━━\u001b[0m\u001b[37m\u001b[0m \u001b[1m0s\u001b[0m 12ms/step - binary_accuracy: 0.7540 - loss: 0.5752 - val_binary_accuracy: 0.4600 - val_loss: 0.7156\n",
            "Epoch 130/500\n",
            "\u001b[1m7/7\u001b[0m \u001b[32m━━━━━━━━━━━━━━━━━━━━\u001b[0m\u001b[37m\u001b[0m \u001b[1m0s\u001b[0m 12ms/step - binary_accuracy: 0.7245 - loss: 0.5748 - val_binary_accuracy: 0.5400 - val_loss: 0.6839\n",
            "Epoch 131/500\n",
            "\u001b[1m7/7\u001b[0m \u001b[32m━━━━━━━━━━━━━━━━━━━━\u001b[0m\u001b[37m\u001b[0m \u001b[1m0s\u001b[0m 12ms/step - binary_accuracy: 0.7466 - loss: 0.5810 - val_binary_accuracy: 0.5400 - val_loss: 0.6818\n",
            "Epoch 132/500\n",
            "\u001b[1m7/7\u001b[0m \u001b[32m━━━━━━━━━━━━━━━━━━━━\u001b[0m\u001b[37m\u001b[0m \u001b[1m0s\u001b[0m 11ms/step - binary_accuracy: 0.7433 - loss: 0.5662 - val_binary_accuracy: 0.5400 - val_loss: 0.6876\n",
            "Epoch 133/500\n",
            "\u001b[1m7/7\u001b[0m \u001b[32m━━━━━━━━━━━━━━━━━━━━\u001b[0m\u001b[37m\u001b[0m \u001b[1m0s\u001b[0m 14ms/step - binary_accuracy: 0.7839 - loss: 0.5628 - val_binary_accuracy: 0.5200 - val_loss: 0.6945\n",
            "Epoch 134/500\n",
            "\u001b[1m7/7\u001b[0m \u001b[32m━━━━━━━━━━━━━━━━━━━━\u001b[0m\u001b[37m\u001b[0m \u001b[1m0s\u001b[0m 11ms/step - binary_accuracy: 0.7546 - loss: 0.5660 - val_binary_accuracy: 0.5200 - val_loss: 0.6980\n",
            "Epoch 135/500\n",
            "\u001b[1m7/7\u001b[0m \u001b[32m━━━━━━━━━━━━━━━━━━━━\u001b[0m\u001b[37m\u001b[0m \u001b[1m0s\u001b[0m 12ms/step - binary_accuracy: 0.7588 - loss: 0.5656 - val_binary_accuracy: 0.3800 - val_loss: 0.7516\n",
            "Epoch 136/500\n",
            "\u001b[1m7/7\u001b[0m \u001b[32m━━━━━━━━━━━━━━━━━━━━\u001b[0m\u001b[37m\u001b[0m \u001b[1m0s\u001b[0m 12ms/step - binary_accuracy: 0.7187 - loss: 0.5581 - val_binary_accuracy: 0.4400 - val_loss: 0.7251\n",
            "Epoch 137/500\n",
            "\u001b[1m7/7\u001b[0m \u001b[32m━━━━━━━━━━━━━━━━━━━━\u001b[0m\u001b[37m\u001b[0m \u001b[1m0s\u001b[0m 12ms/step - binary_accuracy: 0.7394 - loss: 0.5641 - val_binary_accuracy: 0.3800 - val_loss: 0.7556\n",
            "Epoch 138/500\n",
            "\u001b[1m7/7\u001b[0m \u001b[32m━━━━━━━━━━━━━━━━━━━━\u001b[0m\u001b[37m\u001b[0m \u001b[1m0s\u001b[0m 12ms/step - binary_accuracy: 0.7498 - loss: 0.5434 - val_binary_accuracy: 0.4200 - val_loss: 0.7286\n",
            "Epoch 139/500\n",
            "\u001b[1m7/7\u001b[0m \u001b[32m━━━━━━━━━━━━━━━━━━━━\u001b[0m\u001b[37m\u001b[0m \u001b[1m0s\u001b[0m 11ms/step - binary_accuracy: 0.7318 - loss: 0.5569 - val_binary_accuracy: 0.4000 - val_loss: 0.7411\n",
            "Epoch 140/500\n",
            "\u001b[1m7/7\u001b[0m \u001b[32m━━━━━━━━━━━━━━━━━━━━\u001b[0m\u001b[37m\u001b[0m \u001b[1m0s\u001b[0m 12ms/step - binary_accuracy: 0.7468 - loss: 0.5552 - val_binary_accuracy: 0.4000 - val_loss: 0.7580\n",
            "Epoch 141/500\n",
            "\u001b[1m7/7\u001b[0m \u001b[32m━━━━━━━━━━━━━━━━━━━━\u001b[0m\u001b[37m\u001b[0m \u001b[1m0s\u001b[0m 12ms/step - binary_accuracy: 0.7281 - loss: 0.5497 - val_binary_accuracy: 0.4800 - val_loss: 0.7161\n",
            "Epoch 142/500\n",
            "\u001b[1m7/7\u001b[0m \u001b[32m━━━━━━━━━━━━━━━━━━━━\u001b[0m\u001b[37m\u001b[0m \u001b[1m0s\u001b[0m 11ms/step - binary_accuracy: 0.7394 - loss: 0.5586 - val_binary_accuracy: 0.4200 - val_loss: 0.7366\n",
            "Epoch 143/500\n",
            "\u001b[1m7/7\u001b[0m \u001b[32m━━━━━━━━━━━━━━━━━━━━\u001b[0m\u001b[37m\u001b[0m \u001b[1m0s\u001b[0m 12ms/step - binary_accuracy: 0.7138 - loss: 0.5594 - val_binary_accuracy: 0.4200 - val_loss: 0.7514\n",
            "Epoch 144/500\n",
            "\u001b[1m7/7\u001b[0m \u001b[32m━━━━━━━━━━━━━━━━━━━━\u001b[0m\u001b[37m\u001b[0m \u001b[1m0s\u001b[0m 12ms/step - binary_accuracy: 0.6984 - loss: 0.5724 - val_binary_accuracy: 0.4400 - val_loss: 0.7322\n",
            "Epoch 145/500\n",
            "\u001b[1m7/7\u001b[0m \u001b[32m━━━━━━━━━━━━━━━━━━━━\u001b[0m\u001b[37m\u001b[0m \u001b[1m0s\u001b[0m 12ms/step - binary_accuracy: 0.7435 - loss: 0.5680 - val_binary_accuracy: 0.4400 - val_loss: 0.7347\n",
            "Epoch 146/500\n",
            "\u001b[1m7/7\u001b[0m \u001b[32m━━━━━━━━━━━━━━━━━━━━\u001b[0m\u001b[37m\u001b[0m \u001b[1m0s\u001b[0m 12ms/step - binary_accuracy: 0.7256 - loss: 0.5617 - val_binary_accuracy: 0.4200 - val_loss: 0.7644\n",
            "Epoch 147/500\n",
            "\u001b[1m7/7\u001b[0m \u001b[32m━━━━━━━━━━━━━━━━━━━━\u001b[0m\u001b[37m\u001b[0m \u001b[1m0s\u001b[0m 11ms/step - binary_accuracy: 0.7759 - loss: 0.5315 - val_binary_accuracy: 0.4400 - val_loss: 0.7211\n",
            "Epoch 148/500\n",
            "\u001b[1m7/7\u001b[0m \u001b[32m━━━━━━━━━━━━━━━━━━━━\u001b[0m\u001b[37m\u001b[0m \u001b[1m0s\u001b[0m 12ms/step - binary_accuracy: 0.7648 - loss: 0.5319 - val_binary_accuracy: 0.4400 - val_loss: 0.7223\n",
            "Epoch 149/500\n",
            "\u001b[1m7/7\u001b[0m \u001b[32m━━━━━━━━━━━━━━━━━━━━\u001b[0m\u001b[37m\u001b[0m \u001b[1m0s\u001b[0m 12ms/step - binary_accuracy: 0.7128 - loss: 0.5690 - val_binary_accuracy: 0.4200 - val_loss: 0.7755\n",
            "Epoch 150/500\n",
            "\u001b[1m7/7\u001b[0m \u001b[32m━━━━━━━━━━━━━━━━━━━━\u001b[0m\u001b[37m\u001b[0m \u001b[1m0s\u001b[0m 12ms/step - binary_accuracy: 0.7422 - loss: 0.5442 - val_binary_accuracy: 0.4800 - val_loss: 0.7165\n",
            "Epoch 151/500\n",
            "\u001b[1m7/7\u001b[0m \u001b[32m━━━━━━━━━━━━━━━━━━━━\u001b[0m\u001b[37m\u001b[0m \u001b[1m0s\u001b[0m 19ms/step - binary_accuracy: 0.7588 - loss: 0.5305 - val_binary_accuracy: 0.5000 - val_loss: 0.6996\n",
            "Epoch 152/500\n",
            "\u001b[1m7/7\u001b[0m \u001b[32m━━━━━━━━━━━━━━━━━━━━\u001b[0m\u001b[37m\u001b[0m \u001b[1m0s\u001b[0m 12ms/step - binary_accuracy: 0.7773 - loss: 0.5349 - val_binary_accuracy: 0.6400 - val_loss: 0.6489\n",
            "Epoch 153/500\n",
            "\u001b[1m7/7\u001b[0m \u001b[32m━━━━━━━━━━━━━━━━━━━━\u001b[0m\u001b[37m\u001b[0m \u001b[1m0s\u001b[0m 12ms/step - binary_accuracy: 0.7819 - loss: 0.5463 - val_binary_accuracy: 0.6200 - val_loss: 0.6530\n",
            "Epoch 154/500\n",
            "\u001b[1m7/7\u001b[0m \u001b[32m━━━━━━━━━━━━━━━━━━━━\u001b[0m\u001b[37m\u001b[0m \u001b[1m0s\u001b[0m 11ms/step - binary_accuracy: 0.7485 - loss: 0.5511 - val_binary_accuracy: 0.4800 - val_loss: 0.7105\n",
            "Epoch 155/500\n",
            "\u001b[1m7/7\u001b[0m \u001b[32m━━━━━━━━━━━━━━━━━━━━\u001b[0m\u001b[37m\u001b[0m \u001b[1m0s\u001b[0m 12ms/step - binary_accuracy: 0.7251 - loss: 0.5491 - val_binary_accuracy: 0.4800 - val_loss: 0.7080\n",
            "Epoch 156/500\n",
            "\u001b[1m7/7\u001b[0m \u001b[32m━━━━━━━━━━━━━━━━━━━━\u001b[0m\u001b[37m\u001b[0m \u001b[1m0s\u001b[0m 12ms/step - binary_accuracy: 0.7572 - loss: 0.5342 - val_binary_accuracy: 0.7000 - val_loss: 0.6173\n",
            "Epoch 157/500\n",
            "\u001b[1m7/7\u001b[0m \u001b[32m━━━━━━━━━━━━━━━━━━━━\u001b[0m\u001b[37m\u001b[0m \u001b[1m0s\u001b[0m 12ms/step - binary_accuracy: 0.7707 - loss: 0.5434 - val_binary_accuracy: 0.5600 - val_loss: 0.6870\n",
            "Epoch 158/500\n",
            "\u001b[1m7/7\u001b[0m \u001b[32m━━━━━━━━━━━━━━━━━━━━\u001b[0m\u001b[37m\u001b[0m \u001b[1m0s\u001b[0m 19ms/step - binary_accuracy: 0.7690 - loss: 0.5252 - val_binary_accuracy: 0.5600 - val_loss: 0.6829\n",
            "Epoch 159/500\n",
            "\u001b[1m7/7\u001b[0m \u001b[32m━━━━━━━━━━━━━━━━━━━━\u001b[0m\u001b[37m\u001b[0m \u001b[1m0s\u001b[0m 12ms/step - binary_accuracy: 0.7903 - loss: 0.5181 - val_binary_accuracy: 0.4600 - val_loss: 0.7345\n",
            "Epoch 160/500\n",
            "\u001b[1m7/7\u001b[0m \u001b[32m━━━━━━━━━━━━━━━━━━━━\u001b[0m\u001b[37m\u001b[0m \u001b[1m0s\u001b[0m 14ms/step - binary_accuracy: 0.7523 - loss: 0.5295 - val_binary_accuracy: 0.6400 - val_loss: 0.6545\n",
            "Epoch 161/500\n",
            "\u001b[1m7/7\u001b[0m \u001b[32m━━━━━━━━━━━━━━━━━━━━\u001b[0m\u001b[37m\u001b[0m \u001b[1m0s\u001b[0m 12ms/step - binary_accuracy: 0.7978 - loss: 0.5313 - val_binary_accuracy: 0.5600 - val_loss: 0.6739\n",
            "Epoch 162/500\n",
            "\u001b[1m7/7\u001b[0m \u001b[32m━━━━━━━━━━━━━━━━━━━━\u001b[0m\u001b[37m\u001b[0m \u001b[1m0s\u001b[0m 19ms/step - binary_accuracy: 0.7705 - loss: 0.5392 - val_binary_accuracy: 0.6000 - val_loss: 0.6704\n",
            "Epoch 163/500\n",
            "\u001b[1m7/7\u001b[0m \u001b[32m━━━━━━━━━━━━━━━━━━━━\u001b[0m\u001b[37m\u001b[0m \u001b[1m0s\u001b[0m 12ms/step - binary_accuracy: 0.7670 - loss: 0.5432 - val_binary_accuracy: 0.5400 - val_loss: 0.6980\n",
            "Epoch 164/500\n",
            "\u001b[1m7/7\u001b[0m \u001b[32m━━━━━━━━━━━━━━━━━━━━\u001b[0m\u001b[37m\u001b[0m \u001b[1m0s\u001b[0m 12ms/step - binary_accuracy: 0.7956 - loss: 0.4965 - val_binary_accuracy: 0.4800 - val_loss: 0.7146\n",
            "Epoch 165/500\n",
            "\u001b[1m7/7\u001b[0m \u001b[32m━━━━━━━━━━━━━━━━━━━━\u001b[0m\u001b[37m\u001b[0m \u001b[1m0s\u001b[0m 12ms/step - binary_accuracy: 0.7034 - loss: 0.5601 - val_binary_accuracy: 0.5200 - val_loss: 0.7024\n",
            "Epoch 166/500\n",
            "\u001b[1m7/7\u001b[0m \u001b[32m━━━━━━━━━━━━━━━━━━━━\u001b[0m\u001b[37m\u001b[0m \u001b[1m0s\u001b[0m 12ms/step - binary_accuracy: 0.7703 - loss: 0.5243 - val_binary_accuracy: 0.5400 - val_loss: 0.6947\n",
            "Epoch 167/500\n",
            "\u001b[1m7/7\u001b[0m \u001b[32m━━━━━━━━━━━━━━━━━━━━\u001b[0m\u001b[37m\u001b[0m \u001b[1m0s\u001b[0m 11ms/step - binary_accuracy: 0.7996 - loss: 0.5125 - val_binary_accuracy: 0.5600 - val_loss: 0.6810\n",
            "Epoch 168/500\n",
            "\u001b[1m7/7\u001b[0m \u001b[32m━━━━━━━━━━━━━━━━━━━━\u001b[0m\u001b[37m\u001b[0m \u001b[1m0s\u001b[0m 12ms/step - binary_accuracy: 0.7525 - loss: 0.5411 - val_binary_accuracy: 0.4600 - val_loss: 0.7343\n",
            "Epoch 169/500\n",
            "\u001b[1m7/7\u001b[0m \u001b[32m━━━━━━━━━━━━━━━━━━━━\u001b[0m\u001b[37m\u001b[0m \u001b[1m0s\u001b[0m 12ms/step - binary_accuracy: 0.7512 - loss: 0.5276 - val_binary_accuracy: 0.5800 - val_loss: 0.6744\n",
            "Epoch 170/500\n",
            "\u001b[1m7/7\u001b[0m \u001b[32m━━━━━━━━━━━━━━━━━━━━\u001b[0m\u001b[37m\u001b[0m \u001b[1m0s\u001b[0m 12ms/step - binary_accuracy: 0.7736 - loss: 0.5222 - val_binary_accuracy: 0.5400 - val_loss: 0.6964\n",
            "Epoch 171/500\n",
            "\u001b[1m7/7\u001b[0m \u001b[32m━━━━━━━━━━━━━━━━━━━━\u001b[0m\u001b[37m\u001b[0m \u001b[1m0s\u001b[0m 12ms/step - binary_accuracy: 0.7778 - loss: 0.5108 - val_binary_accuracy: 0.5600 - val_loss: 0.6818\n",
            "Epoch 172/500\n",
            "\u001b[1m7/7\u001b[0m \u001b[32m━━━━━━━━━━━━━━━━━━━━\u001b[0m\u001b[37m\u001b[0m \u001b[1m0s\u001b[0m 12ms/step - binary_accuracy: 0.7774 - loss: 0.5170 - val_binary_accuracy: 0.5600 - val_loss: 0.6765\n",
            "Epoch 173/500\n",
            "\u001b[1m7/7\u001b[0m \u001b[32m━━━━━━━━━━━━━━━━━━━━\u001b[0m\u001b[37m\u001b[0m \u001b[1m0s\u001b[0m 12ms/step - binary_accuracy: 0.7947 - loss: 0.5101 - val_binary_accuracy: 0.5800 - val_loss: 0.6687\n",
            "Epoch 174/500\n",
            "\u001b[1m7/7\u001b[0m \u001b[32m━━━━━━━━━━━━━━━━━━━━\u001b[0m\u001b[37m\u001b[0m \u001b[1m0s\u001b[0m 11ms/step - binary_accuracy: 0.7496 - loss: 0.5271 - val_binary_accuracy: 0.5200 - val_loss: 0.7110\n",
            "Epoch 175/500\n",
            "\u001b[1m7/7\u001b[0m \u001b[32m━━━━━━━━━━━━━━━━━━━━\u001b[0m\u001b[37m\u001b[0m \u001b[1m0s\u001b[0m 12ms/step - binary_accuracy: 0.7644 - loss: 0.5173 - val_binary_accuracy: 0.5200 - val_loss: 0.7218\n",
            "Epoch 176/500\n",
            "\u001b[1m7/7\u001b[0m \u001b[32m━━━━━━━━━━━━━━━━━━━━\u001b[0m\u001b[37m\u001b[0m \u001b[1m0s\u001b[0m 19ms/step - binary_accuracy: 0.7558 - loss: 0.5310 - val_binary_accuracy: 0.4800 - val_loss: 0.7313\n",
            "Epoch 177/500\n",
            "\u001b[1m7/7\u001b[0m \u001b[32m━━━━━━━━━━━━━━━━━━━━\u001b[0m\u001b[37m\u001b[0m \u001b[1m0s\u001b[0m 22ms/step - binary_accuracy: 0.7862 - loss: 0.5181 - val_binary_accuracy: 0.5200 - val_loss: 0.7124\n",
            "Epoch 178/500\n",
            "\u001b[1m7/7\u001b[0m \u001b[32m━━━━━━━━━━━━━━━━━━━━\u001b[0m\u001b[37m\u001b[0m \u001b[1m0s\u001b[0m 12ms/step - binary_accuracy: 0.8006 - loss: 0.4831 - val_binary_accuracy: 0.6200 - val_loss: 0.6626\n",
            "Epoch 179/500\n",
            "\u001b[1m7/7\u001b[0m \u001b[32m━━━━━━━━━━━━━━━━━━━━\u001b[0m\u001b[37m\u001b[0m \u001b[1m0s\u001b[0m 12ms/step - binary_accuracy: 0.7665 - loss: 0.5152 - val_binary_accuracy: 0.5800 - val_loss: 0.6726\n",
            "Epoch 180/500\n",
            "\u001b[1m7/7\u001b[0m \u001b[32m━━━━━━━━━━━━━━━━━━━━\u001b[0m\u001b[37m\u001b[0m \u001b[1m0s\u001b[0m 12ms/step - binary_accuracy: 0.8052 - loss: 0.5155 - val_binary_accuracy: 0.4600 - val_loss: 0.7481\n",
            "Epoch 181/500\n",
            "\u001b[1m7/7\u001b[0m \u001b[32m━━━━━━━━━━━━━━━━━━━━\u001b[0m\u001b[37m\u001b[0m \u001b[1m0s\u001b[0m 13ms/step - binary_accuracy: 0.7794 - loss: 0.5044 - val_binary_accuracy: 0.5400 - val_loss: 0.6895\n",
            "Epoch 182/500\n",
            "\u001b[1m7/7\u001b[0m \u001b[32m━━━━━━━━━━━━━━━━━━━━\u001b[0m\u001b[37m\u001b[0m \u001b[1m0s\u001b[0m 12ms/step - binary_accuracy: 0.8143 - loss: 0.4907 - val_binary_accuracy: 0.6200 - val_loss: 0.6721\n",
            "Epoch 183/500\n",
            "\u001b[1m7/7\u001b[0m \u001b[32m━━━━━━━━━━━━━━━━━━━━\u001b[0m\u001b[37m\u001b[0m \u001b[1m0s\u001b[0m 12ms/step - binary_accuracy: 0.7764 - loss: 0.5216 - val_binary_accuracy: 0.5800 - val_loss: 0.6813\n",
            "Epoch 184/500\n",
            "\u001b[1m7/7\u001b[0m \u001b[32m━━━━━━━━━━━━━━━━━━━━\u001b[0m\u001b[37m\u001b[0m \u001b[1m0s\u001b[0m 24ms/step - binary_accuracy: 0.7981 - loss: 0.4944 - val_binary_accuracy: 0.6200 - val_loss: 0.6623\n",
            "Epoch 185/500\n",
            "\u001b[1m7/7\u001b[0m \u001b[32m━━━━━━━━━━━━━━━━━━━━\u001b[0m\u001b[37m\u001b[0m \u001b[1m0s\u001b[0m 23ms/step - binary_accuracy: 0.7785 - loss: 0.5065 - val_binary_accuracy: 0.5600 - val_loss: 0.6854\n",
            "Epoch 186/500\n",
            "\u001b[1m7/7\u001b[0m \u001b[32m━━━━━━━━━━━━━━━━━━━━\u001b[0m\u001b[37m\u001b[0m \u001b[1m0s\u001b[0m 23ms/step - binary_accuracy: 0.7980 - loss: 0.5046 - val_binary_accuracy: 0.6600 - val_loss: 0.6205\n",
            "Epoch 187/500\n",
            "\u001b[1m7/7\u001b[0m \u001b[32m━━━━━━━━━━━━━━━━━━━━\u001b[0m\u001b[37m\u001b[0m \u001b[1m0s\u001b[0m 23ms/step - binary_accuracy: 0.8056 - loss: 0.4891 - val_binary_accuracy: 0.5400 - val_loss: 0.6931\n",
            "Epoch 188/500\n",
            "\u001b[1m7/7\u001b[0m \u001b[32m━━━━━━━━━━━━━━━━━━━━\u001b[0m\u001b[37m\u001b[0m \u001b[1m0s\u001b[0m 21ms/step - binary_accuracy: 0.7963 - loss: 0.4772 - val_binary_accuracy: 0.6400 - val_loss: 0.6496\n",
            "Epoch 189/500\n",
            "\u001b[1m7/7\u001b[0m \u001b[32m━━━━━━━━━━━━━━━━━━━━\u001b[0m\u001b[37m\u001b[0m \u001b[1m0s\u001b[0m 16ms/step - binary_accuracy: 0.7996 - loss: 0.4976 - val_binary_accuracy: 0.6400 - val_loss: 0.6465\n",
            "Epoch 190/500\n",
            "\u001b[1m7/7\u001b[0m \u001b[32m━━━━━━━━━━━━━━━━━━━━\u001b[0m\u001b[37m\u001b[0m \u001b[1m0s\u001b[0m 18ms/step - binary_accuracy: 0.7835 - loss: 0.4976 - val_binary_accuracy: 0.5200 - val_loss: 0.7131\n",
            "Epoch 191/500\n",
            "\u001b[1m7/7\u001b[0m \u001b[32m━━━━━━━━━━━━━━━━━━━━\u001b[0m\u001b[37m\u001b[0m \u001b[1m0s\u001b[0m 24ms/step - binary_accuracy: 0.7768 - loss: 0.4863 - val_binary_accuracy: 0.6800 - val_loss: 0.6121\n",
            "Epoch 192/500\n",
            "\u001b[1m7/7\u001b[0m \u001b[32m━━━━━━━━━━━━━━━━━━━━\u001b[0m\u001b[37m\u001b[0m \u001b[1m0s\u001b[0m 12ms/step - binary_accuracy: 0.8043 - loss: 0.5019 - val_binary_accuracy: 0.6400 - val_loss: 0.6654\n",
            "Epoch 193/500\n",
            "\u001b[1m7/7\u001b[0m \u001b[32m━━━━━━━━━━━━━━━━━━━━\u001b[0m\u001b[37m\u001b[0m \u001b[1m0s\u001b[0m 20ms/step - binary_accuracy: 0.7842 - loss: 0.4868 - val_binary_accuracy: 0.6400 - val_loss: 0.6421\n",
            "Epoch 194/500\n",
            "\u001b[1m7/7\u001b[0m \u001b[32m━━━━━━━━━━━━━━━━━━━━\u001b[0m\u001b[37m\u001b[0m \u001b[1m0s\u001b[0m 12ms/step - binary_accuracy: 0.7771 - loss: 0.5044 - val_binary_accuracy: 0.6400 - val_loss: 0.6709\n",
            "Epoch 195/500\n",
            "\u001b[1m7/7\u001b[0m \u001b[32m━━━━━━━━━━━━━━━━━━━━\u001b[0m\u001b[37m\u001b[0m \u001b[1m0s\u001b[0m 12ms/step - binary_accuracy: 0.7998 - loss: 0.5025 - val_binary_accuracy: 0.6400 - val_loss: 0.6452\n",
            "Epoch 196/500\n",
            "\u001b[1m7/7\u001b[0m \u001b[32m━━━━━━━━━━━━━━━━━━━━\u001b[0m\u001b[37m\u001b[0m \u001b[1m0s\u001b[0m 11ms/step - binary_accuracy: 0.8220 - loss: 0.4772 - val_binary_accuracy: 0.6600 - val_loss: 0.6335\n",
            "Epoch 197/500\n",
            "\u001b[1m7/7\u001b[0m \u001b[32m━━━━━━━━━━━━━━━━━━━━\u001b[0m\u001b[37m\u001b[0m \u001b[1m0s\u001b[0m 12ms/step - binary_accuracy: 0.8040 - loss: 0.4913 - val_binary_accuracy: 0.5600 - val_loss: 0.6840\n",
            "Epoch 198/500\n",
            "\u001b[1m7/7\u001b[0m \u001b[32m━━━━━━━━━━━━━━━━━━━━\u001b[0m\u001b[37m\u001b[0m \u001b[1m0s\u001b[0m 12ms/step - binary_accuracy: 0.7658 - loss: 0.5073 - val_binary_accuracy: 0.6400 - val_loss: 0.6726\n",
            "Epoch 199/500\n",
            "\u001b[1m7/7\u001b[0m \u001b[32m━━━━━━━━━━━━━━━━━━━━\u001b[0m\u001b[37m\u001b[0m \u001b[1m0s\u001b[0m 11ms/step - binary_accuracy: 0.8049 - loss: 0.4889 - val_binary_accuracy: 0.5400 - val_loss: 0.6890\n",
            "Epoch 200/500\n",
            "\u001b[1m7/7\u001b[0m \u001b[32m━━━━━━━━━━━━━━━━━━━━\u001b[0m\u001b[37m\u001b[0m \u001b[1m0s\u001b[0m 12ms/step - binary_accuracy: 0.8069 - loss: 0.4839 - val_binary_accuracy: 0.6600 - val_loss: 0.6552\n",
            "Epoch 201/500\n",
            "\u001b[1m7/7\u001b[0m \u001b[32m━━━━━━━━━━━━━━━━━━━━\u001b[0m\u001b[37m\u001b[0m \u001b[1m0s\u001b[0m 19ms/step - binary_accuracy: 0.7806 - loss: 0.4995 - val_binary_accuracy: 0.5400 - val_loss: 0.7128\n",
            "Epoch 202/500\n",
            "\u001b[1m7/7\u001b[0m \u001b[32m━━━━━━━━━━━━━━━━━━━━\u001b[0m\u001b[37m\u001b[0m \u001b[1m0s\u001b[0m 12ms/step - binary_accuracy: 0.8163 - loss: 0.4715 - val_binary_accuracy: 0.6400 - val_loss: 0.6748\n",
            "Epoch 203/500\n",
            "\u001b[1m7/7\u001b[0m \u001b[32m━━━━━━━━━━━━━━━━━━━━\u001b[0m\u001b[37m\u001b[0m \u001b[1m0s\u001b[0m 12ms/step - binary_accuracy: 0.8144 - loss: 0.4861 - val_binary_accuracy: 0.6400 - val_loss: 0.6522\n",
            "Epoch 204/500\n",
            "\u001b[1m7/7\u001b[0m \u001b[32m━━━━━━━━━━━━━━━━━━━━\u001b[0m\u001b[37m\u001b[0m \u001b[1m0s\u001b[0m 12ms/step - binary_accuracy: 0.7981 - loss: 0.4825 - val_binary_accuracy: 0.5400 - val_loss: 0.6908\n",
            "Epoch 205/500\n",
            "\u001b[1m7/7\u001b[0m \u001b[32m━━━━━━━━━━━━━━━━━━━━\u001b[0m\u001b[37m\u001b[0m \u001b[1m0s\u001b[0m 12ms/step - binary_accuracy: 0.7778 - loss: 0.4902 - val_binary_accuracy: 0.5200 - val_loss: 0.7409\n",
            "Epoch 206/500\n",
            "\u001b[1m7/7\u001b[0m \u001b[32m━━━━━━━━━━━━━━━━━━━━\u001b[0m\u001b[37m\u001b[0m \u001b[1m0s\u001b[0m 12ms/step - binary_accuracy: 0.7751 - loss: 0.4918 - val_binary_accuracy: 0.5400 - val_loss: 0.7010\n",
            "Epoch 207/500\n",
            "\u001b[1m7/7\u001b[0m \u001b[32m━━━━━━━━━━━━━━━━━━━━\u001b[0m\u001b[37m\u001b[0m \u001b[1m0s\u001b[0m 11ms/step - binary_accuracy: 0.8022 - loss: 0.4670 - val_binary_accuracy: 0.6400 - val_loss: 0.6616\n",
            "Epoch 208/500\n",
            "\u001b[1m7/7\u001b[0m \u001b[32m━━━━━━━━━━━━━━━━━━━━\u001b[0m\u001b[37m\u001b[0m \u001b[1m0s\u001b[0m 11ms/step - binary_accuracy: 0.7931 - loss: 0.4711 - val_binary_accuracy: 0.6600 - val_loss: 0.6356\n",
            "Epoch 209/500\n",
            "\u001b[1m7/7\u001b[0m \u001b[32m━━━━━━━━━━━━━━━━━━━━\u001b[0m\u001b[37m\u001b[0m \u001b[1m0s\u001b[0m 21ms/step - binary_accuracy: 0.8251 - loss: 0.4784 - val_binary_accuracy: 0.6600 - val_loss: 0.6594\n",
            "Epoch 210/500\n",
            "\u001b[1m7/7\u001b[0m \u001b[32m━━━━━━━━━━━━━━━━━━━━\u001b[0m\u001b[37m\u001b[0m \u001b[1m0s\u001b[0m 12ms/step - binary_accuracy: 0.8120 - loss: 0.4921 - val_binary_accuracy: 0.5200 - val_loss: 0.7286\n",
            "Epoch 211/500\n",
            "\u001b[1m7/7\u001b[0m \u001b[32m━━━━━━━━━━━━━━━━━━━━\u001b[0m\u001b[37m\u001b[0m \u001b[1m0s\u001b[0m 12ms/step - binary_accuracy: 0.7970 - loss: 0.4790 - val_binary_accuracy: 0.6800 - val_loss: 0.6046\n",
            "Epoch 212/500\n",
            "\u001b[1m7/7\u001b[0m \u001b[32m━━━━━━━━━━━━━━━━━━━━\u001b[0m\u001b[37m\u001b[0m \u001b[1m0s\u001b[0m 12ms/step - binary_accuracy: 0.8295 - loss: 0.4786 - val_binary_accuracy: 0.6200 - val_loss: 0.6804\n",
            "Epoch 213/500\n",
            "\u001b[1m7/7\u001b[0m \u001b[32m━━━━━━━━━━━━━━━━━━━━\u001b[0m\u001b[37m\u001b[0m \u001b[1m0s\u001b[0m 12ms/step - binary_accuracy: 0.8334 - loss: 0.4528 - val_binary_accuracy: 0.7000 - val_loss: 0.6169\n",
            "Epoch 214/500\n",
            "\u001b[1m7/7\u001b[0m \u001b[32m━━━━━━━━━━━━━━━━━━━━\u001b[0m\u001b[37m\u001b[0m \u001b[1m0s\u001b[0m 12ms/step - binary_accuracy: 0.8567 - loss: 0.4499 - val_binary_accuracy: 0.6600 - val_loss: 0.6613\n",
            "Epoch 215/500\n",
            "\u001b[1m7/7\u001b[0m \u001b[32m━━━━━━━━━━━━━━━━━━━━\u001b[0m\u001b[37m\u001b[0m \u001b[1m0s\u001b[0m 12ms/step - binary_accuracy: 0.7899 - loss: 0.4878 - val_binary_accuracy: 0.5600 - val_loss: 0.7010\n",
            "Epoch 216/500\n",
            "\u001b[1m7/7\u001b[0m \u001b[32m━━━━━━━━━━━━━━━━━━━━\u001b[0m\u001b[37m\u001b[0m \u001b[1m0s\u001b[0m 12ms/step - binary_accuracy: 0.8363 - loss: 0.4519 - val_binary_accuracy: 0.6800 - val_loss: 0.6298\n",
            "Epoch 217/500\n",
            "\u001b[1m7/7\u001b[0m \u001b[32m━━━━━━━━━━━━━━━━━━━━\u001b[0m\u001b[37m\u001b[0m \u001b[1m0s\u001b[0m 14ms/step - binary_accuracy: 0.8364 - loss: 0.4794 - val_binary_accuracy: 0.6600 - val_loss: 0.6627\n",
            "Epoch 218/500\n",
            "\u001b[1m7/7\u001b[0m \u001b[32m━━━━━━━━━━━━━━━━━━━━\u001b[0m\u001b[37m\u001b[0m \u001b[1m0s\u001b[0m 11ms/step - binary_accuracy: 0.8367 - loss: 0.4562 - val_binary_accuracy: 0.6800 - val_loss: 0.5964\n",
            "Epoch 219/500\n",
            "\u001b[1m7/7\u001b[0m \u001b[32m━━━━━━━━━━━━━━━━━━━━\u001b[0m\u001b[37m\u001b[0m \u001b[1m0s\u001b[0m 12ms/step - binary_accuracy: 0.8027 - loss: 0.4714 - val_binary_accuracy: 0.7000 - val_loss: 0.6166\n",
            "Epoch 220/500\n",
            "\u001b[1m7/7\u001b[0m \u001b[32m━━━━━━━━━━━━━━━━━━━━\u001b[0m\u001b[37m\u001b[0m \u001b[1m0s\u001b[0m 12ms/step - binary_accuracy: 0.8294 - loss: 0.4662 - val_binary_accuracy: 0.6800 - val_loss: 0.5972\n",
            "Epoch 221/500\n",
            "\u001b[1m7/7\u001b[0m \u001b[32m━━━━━━━━━━━━━━━━━━━━\u001b[0m\u001b[37m\u001b[0m \u001b[1m0s\u001b[0m 12ms/step - binary_accuracy: 0.8173 - loss: 0.4880 - val_binary_accuracy: 0.6600 - val_loss: 0.6529\n",
            "Epoch 222/500\n",
            "\u001b[1m7/7\u001b[0m \u001b[32m━━━━━━━━━━━━━━━━━━━━\u001b[0m\u001b[37m\u001b[0m \u001b[1m0s\u001b[0m 12ms/step - binary_accuracy: 0.7813 - loss: 0.4943 - val_binary_accuracy: 0.6800 - val_loss: 0.6365\n",
            "Epoch 223/500\n",
            "\u001b[1m7/7\u001b[0m \u001b[32m━━━━━━━━━━━━━━━━━━━━\u001b[0m\u001b[37m\u001b[0m \u001b[1m0s\u001b[0m 12ms/step - binary_accuracy: 0.8160 - loss: 0.4769 - val_binary_accuracy: 0.6800 - val_loss: 0.6476\n",
            "Epoch 224/500\n",
            "\u001b[1m7/7\u001b[0m \u001b[32m━━━━━━━━━━━━━━━━━━━━\u001b[0m\u001b[37m\u001b[0m \u001b[1m0s\u001b[0m 12ms/step - binary_accuracy: 0.8280 - loss: 0.4746 - val_binary_accuracy: 0.5200 - val_loss: 0.7544\n",
            "Epoch 225/500\n",
            "\u001b[1m7/7\u001b[0m \u001b[32m━━━━━━━━━━━━━━━━━━━━\u001b[0m\u001b[37m\u001b[0m \u001b[1m0s\u001b[0m 12ms/step - binary_accuracy: 0.7955 - loss: 0.4627 - val_binary_accuracy: 0.5200 - val_loss: 0.7257\n",
            "Epoch 226/500\n",
            "\u001b[1m7/7\u001b[0m \u001b[32m━━━━━━━━━━━━━━━━━━━━\u001b[0m\u001b[37m\u001b[0m \u001b[1m0s\u001b[0m 14ms/step - binary_accuracy: 0.8256 - loss: 0.4486 - val_binary_accuracy: 0.7000 - val_loss: 0.6435\n",
            "Epoch 227/500\n",
            "\u001b[1m7/7\u001b[0m \u001b[32m━━━━━━━━━━━━━━━━━━━━\u001b[0m\u001b[37m\u001b[0m \u001b[1m0s\u001b[0m 11ms/step - binary_accuracy: 0.8528 - loss: 0.4616 - val_binary_accuracy: 0.5200 - val_loss: 0.7328\n",
            "Epoch 228/500\n",
            "\u001b[1m7/7\u001b[0m \u001b[32m━━━━━━━━━━━━━━━━━━━━\u001b[0m\u001b[37m\u001b[0m \u001b[1m0s\u001b[0m 11ms/step - binary_accuracy: 0.8004 - loss: 0.4849 - val_binary_accuracy: 0.6800 - val_loss: 0.6452\n",
            "Epoch 229/500\n",
            "\u001b[1m7/7\u001b[0m \u001b[32m━━━━━━━━━━━━━━━━━━━━\u001b[0m\u001b[37m\u001b[0m \u001b[1m0s\u001b[0m 12ms/step - binary_accuracy: 0.8370 - loss: 0.4570 - val_binary_accuracy: 0.6800 - val_loss: 0.6382\n",
            "Epoch 230/500\n",
            "\u001b[1m7/7\u001b[0m \u001b[32m━━━━━━━━━━━━━━━━━━━━\u001b[0m\u001b[37m\u001b[0m \u001b[1m0s\u001b[0m 11ms/step - binary_accuracy: 0.8501 - loss: 0.4515 - val_binary_accuracy: 0.6800 - val_loss: 0.6222\n",
            "Epoch 231/500\n",
            "\u001b[1m7/7\u001b[0m \u001b[32m━━━━━━━━━━━━━━━━━━━━\u001b[0m\u001b[37m\u001b[0m \u001b[1m0s\u001b[0m 12ms/step - binary_accuracy: 0.8550 - loss: 0.4263 - val_binary_accuracy: 0.7400 - val_loss: 0.5742\n",
            "Epoch 232/500\n",
            "\u001b[1m7/7\u001b[0m \u001b[32m━━━━━━━━━━━━━━━━━━━━\u001b[0m\u001b[37m\u001b[0m \u001b[1m0s\u001b[0m 12ms/step - binary_accuracy: 0.8057 - loss: 0.4609 - val_binary_accuracy: 0.7200 - val_loss: 0.5635\n",
            "Epoch 233/500\n",
            "\u001b[1m7/7\u001b[0m \u001b[32m━━━━━━━━━━━━━━━━━━━━\u001b[0m\u001b[37m\u001b[0m \u001b[1m0s\u001b[0m 13ms/step - binary_accuracy: 0.8570 - loss: 0.4425 - val_binary_accuracy: 0.7200 - val_loss: 0.5639\n",
            "Epoch 234/500\n",
            "\u001b[1m7/7\u001b[0m \u001b[32m━━━━━━━━━━━━━━━━━━━━\u001b[0m\u001b[37m\u001b[0m \u001b[1m0s\u001b[0m 12ms/step - binary_accuracy: 0.8523 - loss: 0.4558 - val_binary_accuracy: 0.6800 - val_loss: 0.6267\n",
            "Epoch 235/500\n",
            "\u001b[1m7/7\u001b[0m \u001b[32m━━━━━━━━━━━━━━━━━━━━\u001b[0m\u001b[37m\u001b[0m \u001b[1m0s\u001b[0m 15ms/step - binary_accuracy: 0.8629 - loss: 0.4285 - val_binary_accuracy: 0.6600 - val_loss: 0.6485\n",
            "Epoch 236/500\n",
            "\u001b[1m7/7\u001b[0m \u001b[32m━━━━━━━━━━━━━━━━━━━━\u001b[0m\u001b[37m\u001b[0m \u001b[1m0s\u001b[0m 12ms/step - binary_accuracy: 0.8574 - loss: 0.4365 - val_binary_accuracy: 0.6400 - val_loss: 0.6743\n",
            "Epoch 237/500\n",
            "\u001b[1m7/7\u001b[0m \u001b[32m━━━━━━━━━━━━━━━━━━━━\u001b[0m\u001b[37m\u001b[0m \u001b[1m0s\u001b[0m 12ms/step - binary_accuracy: 0.8388 - loss: 0.4170 - val_binary_accuracy: 0.6800 - val_loss: 0.6551\n",
            "Epoch 238/500\n",
            "\u001b[1m7/7\u001b[0m \u001b[32m━━━━━━━━━━━━━━━━━━━━\u001b[0m\u001b[37m\u001b[0m \u001b[1m0s\u001b[0m 12ms/step - binary_accuracy: 0.8236 - loss: 0.4499 - val_binary_accuracy: 0.6800 - val_loss: 0.6375\n",
            "Epoch 239/500\n",
            "\u001b[1m7/7\u001b[0m \u001b[32m━━━━━━━━━━━━━━━━━━━━\u001b[0m\u001b[37m\u001b[0m \u001b[1m0s\u001b[0m 13ms/step - binary_accuracy: 0.8349 - loss: 0.4497 - val_binary_accuracy: 0.6800 - val_loss: 0.6253\n",
            "Epoch 240/500\n",
            "\u001b[1m7/7\u001b[0m \u001b[32m━━━━━━━━━━━━━━━━━━━━\u001b[0m\u001b[37m\u001b[0m \u001b[1m0s\u001b[0m 12ms/step - binary_accuracy: 0.8490 - loss: 0.4426 - val_binary_accuracy: 0.5200 - val_loss: 0.7349\n",
            "Epoch 241/500\n",
            "\u001b[1m7/7\u001b[0m \u001b[32m━━━━━━━━━━━━━━━━━━━━\u001b[0m\u001b[37m\u001b[0m \u001b[1m0s\u001b[0m 12ms/step - binary_accuracy: 0.8202 - loss: 0.4522 - val_binary_accuracy: 0.5600 - val_loss: 0.7084\n",
            "Epoch 242/500\n",
            "\u001b[1m7/7\u001b[0m \u001b[32m━━━━━━━━━━━━━━━━━━━━\u001b[0m\u001b[37m\u001b[0m \u001b[1m0s\u001b[0m 12ms/step - binary_accuracy: 0.8513 - loss: 0.4177 - val_binary_accuracy: 0.7400 - val_loss: 0.5739\n",
            "Epoch 243/500\n",
            "\u001b[1m7/7\u001b[0m \u001b[32m━━━━━━━━━━━━━━━━━━━━\u001b[0m\u001b[37m\u001b[0m \u001b[1m0s\u001b[0m 12ms/step - binary_accuracy: 0.8689 - loss: 0.4322 - val_binary_accuracy: 0.6800 - val_loss: 0.6544\n",
            "Epoch 244/500\n",
            "\u001b[1m7/7\u001b[0m \u001b[32m━━━━━━━━━━━━━━━━━━━━\u001b[0m\u001b[37m\u001b[0m \u001b[1m0s\u001b[0m 12ms/step - binary_accuracy: 0.8571 - loss: 0.4293 - val_binary_accuracy: 0.6800 - val_loss: 0.6304\n",
            "Epoch 245/500\n",
            "\u001b[1m7/7\u001b[0m \u001b[32m━━━━━━━━━━━━━━━━━━━━\u001b[0m\u001b[37m\u001b[0m \u001b[1m0s\u001b[0m 12ms/step - binary_accuracy: 0.8673 - loss: 0.4379 - val_binary_accuracy: 0.6800 - val_loss: 0.6157\n",
            "Epoch 246/500\n",
            "\u001b[1m7/7\u001b[0m \u001b[32m━━━━━━━━━━━━━━━━━━━━\u001b[0m\u001b[37m\u001b[0m \u001b[1m0s\u001b[0m 12ms/step - binary_accuracy: 0.8539 - loss: 0.4365 - val_binary_accuracy: 0.6800 - val_loss: 0.6569\n",
            "Epoch 247/500\n",
            "\u001b[1m7/7\u001b[0m \u001b[32m━━━━━━━━━━━━━━━━━━━━\u001b[0m\u001b[37m\u001b[0m \u001b[1m0s\u001b[0m 12ms/step - binary_accuracy: 0.8203 - loss: 0.4397 - val_binary_accuracy: 0.7000 - val_loss: 0.5947\n",
            "Epoch 248/500\n",
            "\u001b[1m7/7\u001b[0m \u001b[32m━━━━━━━━━━━━━━━━━━━━\u001b[0m\u001b[37m\u001b[0m \u001b[1m0s\u001b[0m 12ms/step - binary_accuracy: 0.8447 - loss: 0.4337 - val_binary_accuracy: 0.6800 - val_loss: 0.6512\n",
            "Epoch 249/500\n",
            "\u001b[1m7/7\u001b[0m \u001b[32m━━━━━━━━━━━━━━━━━━━━\u001b[0m\u001b[37m\u001b[0m \u001b[1m0s\u001b[0m 12ms/step - binary_accuracy: 0.8430 - loss: 0.4414 - val_binary_accuracy: 0.6800 - val_loss: 0.5826\n",
            "Epoch 250/500\n",
            "\u001b[1m7/7\u001b[0m \u001b[32m━━━━━━━━━━━━━━━━━━━━\u001b[0m\u001b[37m\u001b[0m \u001b[1m0s\u001b[0m 12ms/step - binary_accuracy: 0.9066 - loss: 0.4250 - val_binary_accuracy: 0.6800 - val_loss: 0.6030\n",
            "Epoch 251/500\n",
            "\u001b[1m7/7\u001b[0m \u001b[32m━━━━━━━━━━━━━━━━━━━━\u001b[0m\u001b[37m\u001b[0m \u001b[1m0s\u001b[0m 19ms/step - binary_accuracy: 0.8548 - loss: 0.4234 - val_binary_accuracy: 0.6800 - val_loss: 0.6131\n",
            "Epoch 252/500\n",
            "\u001b[1m7/7\u001b[0m \u001b[32m━━━━━━━━━━━━━━━━━━━━\u001b[0m\u001b[37m\u001b[0m \u001b[1m0s\u001b[0m 12ms/step - binary_accuracy: 0.8957 - loss: 0.4133 - val_binary_accuracy: 0.7000 - val_loss: 0.5901\n",
            "Epoch 253/500\n",
            "\u001b[1m7/7\u001b[0m \u001b[32m━━━━━━━━━━━━━━━━━━━━\u001b[0m\u001b[37m\u001b[0m \u001b[1m0s\u001b[0m 12ms/step - binary_accuracy: 0.8558 - loss: 0.4358 - val_binary_accuracy: 0.6800 - val_loss: 0.6061\n",
            "Epoch 254/500\n",
            "\u001b[1m7/7\u001b[0m \u001b[32m━━━━━━━━━━━━━━━━━━━━\u001b[0m\u001b[37m\u001b[0m \u001b[1m0s\u001b[0m 12ms/step - binary_accuracy: 0.8675 - loss: 0.4206 - val_binary_accuracy: 0.6800 - val_loss: 0.6131\n",
            "Epoch 255/500\n",
            "\u001b[1m7/7\u001b[0m \u001b[32m━━━━━━━━━━━━━━━━━━━━\u001b[0m\u001b[37m\u001b[0m \u001b[1m0s\u001b[0m 12ms/step - binary_accuracy: 0.8717 - loss: 0.4226 - val_binary_accuracy: 0.7200 - val_loss: 0.5774\n",
            "Epoch 256/500\n",
            "\u001b[1m7/7\u001b[0m \u001b[32m━━━━━━━━━━━━━━━━━━━━\u001b[0m\u001b[37m\u001b[0m \u001b[1m0s\u001b[0m 12ms/step - binary_accuracy: 0.8703 - loss: 0.4282 - val_binary_accuracy: 0.6800 - val_loss: 0.6352\n",
            "Epoch 257/500\n",
            "\u001b[1m7/7\u001b[0m \u001b[32m━━━━━━━━━━━━━━━━━━━━\u001b[0m\u001b[37m\u001b[0m \u001b[1m0s\u001b[0m 11ms/step - binary_accuracy: 0.8585 - loss: 0.4215 - val_binary_accuracy: 0.6800 - val_loss: 0.6614\n",
            "Epoch 258/500\n",
            "\u001b[1m7/7\u001b[0m \u001b[32m━━━━━━━━━━━━━━━━━━━━\u001b[0m\u001b[37m\u001b[0m \u001b[1m0s\u001b[0m 12ms/step - binary_accuracy: 0.8633 - loss: 0.4399 - val_binary_accuracy: 0.7000 - val_loss: 0.6552\n",
            "Epoch 259/500\n",
            "\u001b[1m7/7\u001b[0m \u001b[32m━━━━━━━━━━━━━━━━━━━━\u001b[0m\u001b[37m\u001b[0m \u001b[1m0s\u001b[0m 12ms/step - binary_accuracy: 0.8527 - loss: 0.4243 - val_binary_accuracy: 0.6800 - val_loss: 0.6132\n",
            "Epoch 260/500\n",
            "\u001b[1m7/7\u001b[0m \u001b[32m━━━━━━━━━━━━━━━━━━━━\u001b[0m\u001b[37m\u001b[0m \u001b[1m0s\u001b[0m 13ms/step - binary_accuracy: 0.8818 - loss: 0.4090 - val_binary_accuracy: 0.6800 - val_loss: 0.6155\n",
            "Epoch 261/500\n",
            "\u001b[1m7/7\u001b[0m \u001b[32m━━━━━━━━━━━━━━━━━━━━\u001b[0m\u001b[37m\u001b[0m \u001b[1m0s\u001b[0m 11ms/step - binary_accuracy: 0.8613 - loss: 0.4243 - val_binary_accuracy: 0.6600 - val_loss: 0.6778\n",
            "Epoch 262/500\n",
            "\u001b[1m7/7\u001b[0m \u001b[32m━━━━━━━━━━━━━━━━━━━━\u001b[0m\u001b[37m\u001b[0m \u001b[1m0s\u001b[0m 12ms/step - binary_accuracy: 0.8356 - loss: 0.4143 - val_binary_accuracy: 0.6400 - val_loss: 0.6785\n",
            "Epoch 263/500\n",
            "\u001b[1m7/7\u001b[0m \u001b[32m━━━━━━━━━━━━━━━━━━━━\u001b[0m\u001b[37m\u001b[0m \u001b[1m0s\u001b[0m 11ms/step - binary_accuracy: 0.8385 - loss: 0.4098 - val_binary_accuracy: 0.7000 - val_loss: 0.6417\n",
            "Epoch 264/500\n",
            "\u001b[1m7/7\u001b[0m \u001b[32m━━━━━━━━━━━━━━━━━━━━\u001b[0m\u001b[37m\u001b[0m \u001b[1m0s\u001b[0m 12ms/step - binary_accuracy: 0.8431 - loss: 0.4214 - val_binary_accuracy: 0.7000 - val_loss: 0.5955\n",
            "Epoch 265/500\n",
            "\u001b[1m7/7\u001b[0m \u001b[32m━━━━━━━━━━━━━━━━━━━━\u001b[0m\u001b[37m\u001b[0m \u001b[1m0s\u001b[0m 11ms/step - binary_accuracy: 0.8477 - loss: 0.4392 - val_binary_accuracy: 0.7000 - val_loss: 0.6614\n",
            "Epoch 266/500\n",
            "\u001b[1m7/7\u001b[0m \u001b[32m━━━━━━━━━━━━━━━━━━━━\u001b[0m\u001b[37m\u001b[0m \u001b[1m0s\u001b[0m 12ms/step - binary_accuracy: 0.8755 - loss: 0.4179 - val_binary_accuracy: 0.6800 - val_loss: 0.6742\n",
            "Epoch 267/500\n",
            "\u001b[1m7/7\u001b[0m \u001b[32m━━━━━━━━━━━━━━━━━━━━\u001b[0m\u001b[37m\u001b[0m \u001b[1m0s\u001b[0m 13ms/step - binary_accuracy: 0.8555 - loss: 0.4155 - val_binary_accuracy: 0.7000 - val_loss: 0.6426\n",
            "Epoch 268/500\n",
            "\u001b[1m7/7\u001b[0m \u001b[32m━━━━━━━━━━━━━━━━━━━━\u001b[0m\u001b[37m\u001b[0m \u001b[1m0s\u001b[0m 12ms/step - binary_accuracy: 0.8714 - loss: 0.3958 - val_binary_accuracy: 0.7000 - val_loss: 0.5560\n",
            "Epoch 269/500\n",
            "\u001b[1m7/7\u001b[0m \u001b[32m━━━━━━━━━━━━━━━━━━━━\u001b[0m\u001b[37m\u001b[0m \u001b[1m0s\u001b[0m 12ms/step - binary_accuracy: 0.8829 - loss: 0.3918 - val_binary_accuracy: 0.7000 - val_loss: 0.6419\n",
            "Epoch 270/500\n",
            "\u001b[1m7/7\u001b[0m \u001b[32m━━━━━━━━━━━━━━━━━━━━\u001b[0m\u001b[37m\u001b[0m \u001b[1m0s\u001b[0m 12ms/step - binary_accuracy: 0.8890 - loss: 0.4007 - val_binary_accuracy: 0.7000 - val_loss: 0.5791\n",
            "Epoch 271/500\n",
            "\u001b[1m7/7\u001b[0m \u001b[32m━━━━━━━━━━━━━━━━━━━━\u001b[0m\u001b[37m\u001b[0m \u001b[1m0s\u001b[0m 11ms/step - binary_accuracy: 0.9057 - loss: 0.3960 - val_binary_accuracy: 0.7400 - val_loss: 0.5353\n",
            "Epoch 272/500\n",
            "\u001b[1m7/7\u001b[0m \u001b[32m━━━━━━━━━━━━━━━━━━━━\u001b[0m\u001b[37m\u001b[0m \u001b[1m0s\u001b[0m 11ms/step - binary_accuracy: 0.8712 - loss: 0.4184 - val_binary_accuracy: 0.6800 - val_loss: 0.6073\n",
            "Epoch 273/500\n",
            "\u001b[1m7/7\u001b[0m \u001b[32m━━━━━━━━━━━━━━━━━━━━\u001b[0m\u001b[37m\u001b[0m \u001b[1m0s\u001b[0m 12ms/step - binary_accuracy: 0.8822 - loss: 0.4170 - val_binary_accuracy: 0.6800 - val_loss: 0.5990\n",
            "Epoch 274/500\n",
            "\u001b[1m7/7\u001b[0m \u001b[32m━━━━━━━━━━━━━━━━━━━━\u001b[0m\u001b[37m\u001b[0m \u001b[1m0s\u001b[0m 18ms/step - binary_accuracy: 0.8965 - loss: 0.3817 - val_binary_accuracy: 0.6800 - val_loss: 0.6134\n",
            "Epoch 275/500\n",
            "\u001b[1m7/7\u001b[0m \u001b[32m━━━━━━━━━━━━━━━━━━━━\u001b[0m\u001b[37m\u001b[0m \u001b[1m0s\u001b[0m 17ms/step - binary_accuracy: 0.8900 - loss: 0.3892 - val_binary_accuracy: 0.7200 - val_loss: 0.5797\n",
            "Epoch 276/500\n",
            "\u001b[1m7/7\u001b[0m \u001b[32m━━━━━━━━━━━━━━━━━━━━\u001b[0m\u001b[37m\u001b[0m \u001b[1m0s\u001b[0m 17ms/step - binary_accuracy: 0.8878 - loss: 0.4081 - val_binary_accuracy: 0.7000 - val_loss: 0.6435\n",
            "Epoch 277/500\n",
            "\u001b[1m7/7\u001b[0m \u001b[32m━━━━━━━━━━━━━━━━━━━━\u001b[0m\u001b[37m\u001b[0m \u001b[1m0s\u001b[0m 17ms/step - binary_accuracy: 0.8936 - loss: 0.4185 - val_binary_accuracy: 0.6800 - val_loss: 0.6253\n",
            "Epoch 278/500\n",
            "\u001b[1m7/7\u001b[0m \u001b[32m━━━━━━━━━━━━━━━━━━━━\u001b[0m\u001b[37m\u001b[0m \u001b[1m0s\u001b[0m 22ms/step - binary_accuracy: 0.8805 - loss: 0.4169 - val_binary_accuracy: 0.6400 - val_loss: 0.6975\n",
            "Epoch 279/500\n",
            "\u001b[1m7/7\u001b[0m \u001b[32m━━━━━━━━━━━━━━━━━━━━\u001b[0m\u001b[37m\u001b[0m \u001b[1m0s\u001b[0m 17ms/step - binary_accuracy: 0.8812 - loss: 0.3908 - val_binary_accuracy: 0.6800 - val_loss: 0.6097\n",
            "Epoch 280/500\n",
            "\u001b[1m7/7\u001b[0m \u001b[32m━━━━━━━━━━━━━━━━━━━━\u001b[0m\u001b[37m\u001b[0m \u001b[1m0s\u001b[0m 26ms/step - binary_accuracy: 0.8846 - loss: 0.4080 - val_binary_accuracy: 0.7000 - val_loss: 0.6367\n",
            "Epoch 281/500\n",
            "\u001b[1m7/7\u001b[0m \u001b[32m━━━━━━━━━━━━━━━━━━━━\u001b[0m\u001b[37m\u001b[0m \u001b[1m0s\u001b[0m 23ms/step - binary_accuracy: 0.8936 - loss: 0.3869 - val_binary_accuracy: 0.7400 - val_loss: 0.5757\n",
            "Epoch 282/500\n",
            "\u001b[1m7/7\u001b[0m \u001b[32m━━━━━━━━━━━━━━━━━━━━\u001b[0m\u001b[37m\u001b[0m \u001b[1m0s\u001b[0m 11ms/step - binary_accuracy: 0.8896 - loss: 0.3838 - val_binary_accuracy: 0.7200 - val_loss: 0.5915\n",
            "Epoch 283/500\n",
            "\u001b[1m7/7\u001b[0m \u001b[32m━━━━━━━━━━━━━━━━━━━━\u001b[0m\u001b[37m\u001b[0m \u001b[1m0s\u001b[0m 12ms/step - binary_accuracy: 0.8915 - loss: 0.3774 - val_binary_accuracy: 0.7000 - val_loss: 0.6368\n",
            "Epoch 284/500\n",
            "\u001b[1m7/7\u001b[0m \u001b[32m━━━━━━━━━━━━━━━━━━━━\u001b[0m\u001b[37m\u001b[0m \u001b[1m0s\u001b[0m 11ms/step - binary_accuracy: 0.8917 - loss: 0.4036 - val_binary_accuracy: 0.7200 - val_loss: 0.5856\n",
            "Epoch 285/500\n",
            "\u001b[1m7/7\u001b[0m \u001b[32m━━━━━━━━━━━━━━━━━━━━\u001b[0m\u001b[37m\u001b[0m \u001b[1m0s\u001b[0m 12ms/step - binary_accuracy: 0.8749 - loss: 0.3917 - val_binary_accuracy: 0.6800 - val_loss: 0.6033\n",
            "Epoch 286/500\n",
            "\u001b[1m7/7\u001b[0m \u001b[32m━━━━━━━━━━━━━━━━━━━━\u001b[0m\u001b[37m\u001b[0m \u001b[1m0s\u001b[0m 12ms/step - binary_accuracy: 0.8772 - loss: 0.4052 - val_binary_accuracy: 0.7400 - val_loss: 0.5790\n",
            "Epoch 287/500\n",
            "\u001b[1m7/7\u001b[0m \u001b[32m━━━━━━━━━━━━━━━━━━━━\u001b[0m\u001b[37m\u001b[0m \u001b[1m0s\u001b[0m 13ms/step - binary_accuracy: 0.8725 - loss: 0.3937 - val_binary_accuracy: 0.6800 - val_loss: 0.6090\n",
            "Epoch 288/500\n",
            "\u001b[1m7/7\u001b[0m \u001b[32m━━━━━━━━━━━━━━━━━━━━\u001b[0m\u001b[37m\u001b[0m \u001b[1m0s\u001b[0m 12ms/step - binary_accuracy: 0.8777 - loss: 0.4055 - val_binary_accuracy: 0.7000 - val_loss: 0.5929\n",
            "Epoch 289/500\n",
            "\u001b[1m7/7\u001b[0m \u001b[32m━━━━━━━━━━━━━━━━━━━━\u001b[0m\u001b[37m\u001b[0m \u001b[1m0s\u001b[0m 12ms/step - binary_accuracy: 0.8955 - loss: 0.4046 - val_binary_accuracy: 0.7400 - val_loss: 0.5801\n",
            "Epoch 290/500\n",
            "\u001b[1m7/7\u001b[0m \u001b[32m━━━━━━━━━━━━━━━━━━━━\u001b[0m\u001b[37m\u001b[0m \u001b[1m0s\u001b[0m 11ms/step - binary_accuracy: 0.8832 - loss: 0.3956 - val_binary_accuracy: 0.7200 - val_loss: 0.5892\n",
            "Epoch 291/500\n",
            "\u001b[1m7/7\u001b[0m \u001b[32m━━━━━━━━━━━━━━━━━━━━\u001b[0m\u001b[37m\u001b[0m \u001b[1m0s\u001b[0m 11ms/step - binary_accuracy: 0.8955 - loss: 0.3900 - val_binary_accuracy: 0.7000 - val_loss: 0.5926\n",
            "Epoch 292/500\n",
            "\u001b[1m7/7\u001b[0m \u001b[32m━━━━━━━━━━━━━━━━━━━━\u001b[0m\u001b[37m\u001b[0m \u001b[1m0s\u001b[0m 12ms/step - binary_accuracy: 0.8902 - loss: 0.3739 - val_binary_accuracy: 0.7400 - val_loss: 0.5722\n",
            "Epoch 293/500\n",
            "\u001b[1m7/7\u001b[0m \u001b[32m━━━━━━━━━━━━━━━━━━━━\u001b[0m\u001b[37m\u001b[0m \u001b[1m0s\u001b[0m 12ms/step - binary_accuracy: 0.8794 - loss: 0.3798 - val_binary_accuracy: 0.6800 - val_loss: 0.6316\n",
            "Epoch 294/500\n",
            "\u001b[1m7/7\u001b[0m \u001b[32m━━━━━━━━━━━━━━━━━━━━\u001b[0m\u001b[37m\u001b[0m \u001b[1m0s\u001b[0m 12ms/step - binary_accuracy: 0.8881 - loss: 0.3836 - val_binary_accuracy: 0.7000 - val_loss: 0.6419\n",
            "Epoch 295/500\n",
            "\u001b[1m7/7\u001b[0m \u001b[32m━━━━━━━━━━━━━━━━━━━━\u001b[0m\u001b[37m\u001b[0m \u001b[1m0s\u001b[0m 12ms/step - binary_accuracy: 0.8840 - loss: 0.4071 - val_binary_accuracy: 0.6800 - val_loss: 0.6818\n",
            "Epoch 296/500\n",
            "\u001b[1m7/7\u001b[0m \u001b[32m━━━━━━━━━━━━━━━━━━━━\u001b[0m\u001b[37m\u001b[0m \u001b[1m0s\u001b[0m 14ms/step - binary_accuracy: 0.9005 - loss: 0.3750 - val_binary_accuracy: 0.6800 - val_loss: 0.6302\n",
            "Epoch 297/500\n",
            "\u001b[1m7/7\u001b[0m \u001b[32m━━━━━━━━━━━━━━━━━━━━\u001b[0m\u001b[37m\u001b[0m \u001b[1m0s\u001b[0m 12ms/step - binary_accuracy: 0.8930 - loss: 0.3695 - val_binary_accuracy: 0.7000 - val_loss: 0.6349\n",
            "Epoch 298/500\n",
            "\u001b[1m7/7\u001b[0m \u001b[32m━━━━━━━━━━━━━━━━━━━━\u001b[0m\u001b[37m\u001b[0m \u001b[1m0s\u001b[0m 11ms/step - binary_accuracy: 0.8877 - loss: 0.3720 - val_binary_accuracy: 0.6800 - val_loss: 0.6195\n",
            "Epoch 299/500\n",
            "\u001b[1m7/7\u001b[0m \u001b[32m━━━━━━━━━━━━━━━━━━━━\u001b[0m\u001b[37m\u001b[0m \u001b[1m0s\u001b[0m 12ms/step - binary_accuracy: 0.8846 - loss: 0.3794 - val_binary_accuracy: 0.7400 - val_loss: 0.5762\n",
            "Epoch 300/500\n",
            "\u001b[1m7/7\u001b[0m \u001b[32m━━━━━━━━━━━━━━━━━━━━\u001b[0m\u001b[37m\u001b[0m \u001b[1m0s\u001b[0m 12ms/step - binary_accuracy: 0.9002 - loss: 0.3643 - val_binary_accuracy: 0.7000 - val_loss: 0.6627\n",
            "Epoch 301/500\n",
            "\u001b[1m7/7\u001b[0m \u001b[32m━━━━━━━━━━━━━━━━━━━━\u001b[0m\u001b[37m\u001b[0m \u001b[1m0s\u001b[0m 12ms/step - binary_accuracy: 0.8698 - loss: 0.3779 - val_binary_accuracy: 0.7000 - val_loss: 0.6171\n",
            "Epoch 302/500\n",
            "\u001b[1m7/7\u001b[0m \u001b[32m━━━━━━━━━━━━━━━━━━━━\u001b[0m\u001b[37m\u001b[0m \u001b[1m0s\u001b[0m 12ms/step - binary_accuracy: 0.9002 - loss: 0.3666 - val_binary_accuracy: 0.7000 - val_loss: 0.6770\n",
            "Epoch 303/500\n",
            "\u001b[1m7/7\u001b[0m \u001b[32m━━━━━━━━━━━━━━━━━━━━\u001b[0m\u001b[37m\u001b[0m \u001b[1m0s\u001b[0m 12ms/step - binary_accuracy: 0.8535 - loss: 0.3894 - val_binary_accuracy: 0.7000 - val_loss: 0.6610\n",
            "Epoch 304/500\n",
            "\u001b[1m7/7\u001b[0m \u001b[32m━━━━━━━━━━━━━━━━━━━━\u001b[0m\u001b[37m\u001b[0m \u001b[1m0s\u001b[0m 13ms/step - binary_accuracy: 0.9103 - loss: 0.3656 - val_binary_accuracy: 0.7000 - val_loss: 0.6813\n",
            "Epoch 305/500\n",
            "\u001b[1m7/7\u001b[0m \u001b[32m━━━━━━━━━━━━━━━━━━━━\u001b[0m\u001b[37m\u001b[0m \u001b[1m0s\u001b[0m 12ms/step - binary_accuracy: 0.8866 - loss: 0.3765 - val_binary_accuracy: 0.6400 - val_loss: 0.7142\n",
            "Epoch 306/500\n",
            "\u001b[1m7/7\u001b[0m \u001b[32m━━━━━━━━━━━━━━━━━━━━\u001b[0m\u001b[37m\u001b[0m \u001b[1m0s\u001b[0m 12ms/step - binary_accuracy: 0.8640 - loss: 0.3796 - val_binary_accuracy: 0.7000 - val_loss: 0.6804\n",
            "Epoch 307/500\n",
            "\u001b[1m7/7\u001b[0m \u001b[32m━━━━━━━━━━━━━━━━━━━━\u001b[0m\u001b[37m\u001b[0m \u001b[1m0s\u001b[0m 12ms/step - binary_accuracy: 0.9087 - loss: 0.3557 - val_binary_accuracy: 0.7000 - val_loss: 0.5867\n",
            "Epoch 308/500\n",
            "\u001b[1m7/7\u001b[0m \u001b[32m━━━━━━━━━━━━━━━━━━━━\u001b[0m\u001b[37m\u001b[0m \u001b[1m0s\u001b[0m 12ms/step - binary_accuracy: 0.9215 - loss: 0.3628 - val_binary_accuracy: 0.7000 - val_loss: 0.6639\n",
            "Epoch 309/500\n",
            "\u001b[1m7/7\u001b[0m \u001b[32m━━━━━━━━━━━━━━━━━━━━\u001b[0m\u001b[37m\u001b[0m \u001b[1m0s\u001b[0m 12ms/step - binary_accuracy: 0.8922 - loss: 0.3794 - val_binary_accuracy: 0.7200 - val_loss: 0.6421\n",
            "Epoch 310/500\n",
            "\u001b[1m7/7\u001b[0m \u001b[32m━━━━━━━━━━━━━━━━━━━━\u001b[0m\u001b[37m\u001b[0m \u001b[1m0s\u001b[0m 12ms/step - binary_accuracy: 0.8988 - loss: 0.3640 - val_binary_accuracy: 0.7000 - val_loss: 0.6133\n",
            "Epoch 311/500\n",
            "\u001b[1m7/7\u001b[0m \u001b[32m━━━━━━━━━━━━━━━━━━━━\u001b[0m\u001b[37m\u001b[0m \u001b[1m0s\u001b[0m 19ms/step - binary_accuracy: 0.9038 - loss: 0.3663 - val_binary_accuracy: 0.7200 - val_loss: 0.5734\n",
            "Epoch 312/500\n",
            "\u001b[1m7/7\u001b[0m \u001b[32m━━━━━━━━━━━━━━━━━━━━\u001b[0m\u001b[37m\u001b[0m \u001b[1m0s\u001b[0m 12ms/step - binary_accuracy: 0.9174 - loss: 0.3714 - val_binary_accuracy: 0.7000 - val_loss: 0.6298\n",
            "Epoch 313/500\n",
            "\u001b[1m7/7\u001b[0m \u001b[32m━━━━━━━━━━━━━━━━━━━━\u001b[0m\u001b[37m\u001b[0m \u001b[1m0s\u001b[0m 12ms/step - binary_accuracy: 0.9050 - loss: 0.3354 - val_binary_accuracy: 0.7200 - val_loss: 0.5724\n",
            "Epoch 314/500\n",
            "\u001b[1m7/7\u001b[0m \u001b[32m━━━━━━━━━━━━━━━━━━━━\u001b[0m\u001b[37m\u001b[0m \u001b[1m0s\u001b[0m 20ms/step - binary_accuracy: 0.9057 - loss: 0.3512 - val_binary_accuracy: 0.7200 - val_loss: 0.6568\n",
            "Epoch 315/500\n",
            "\u001b[1m7/7\u001b[0m \u001b[32m━━━━━━━━━━━━━━━━━━━━\u001b[0m\u001b[37m\u001b[0m \u001b[1m0s\u001b[0m 13ms/step - binary_accuracy: 0.8861 - loss: 0.3844 - val_binary_accuracy: 0.7000 - val_loss: 0.6085\n",
            "Epoch 316/500\n",
            "\u001b[1m7/7\u001b[0m \u001b[32m━━━━━━━━━━━━━━━━━━━━\u001b[0m\u001b[37m\u001b[0m \u001b[1m0s\u001b[0m 12ms/step - binary_accuracy: 0.9108 - loss: 0.3620 - val_binary_accuracy: 0.7400 - val_loss: 0.5587\n",
            "Epoch 317/500\n",
            "\u001b[1m7/7\u001b[0m \u001b[32m━━━━━━━━━━━━━━━━━━━━\u001b[0m\u001b[37m\u001b[0m \u001b[1m0s\u001b[0m 12ms/step - binary_accuracy: 0.8872 - loss: 0.3729 - val_binary_accuracy: 0.7000 - val_loss: 0.6441\n",
            "Epoch 318/500\n",
            "\u001b[1m7/7\u001b[0m \u001b[32m━━━━━━━━━━━━━━━━━━━━\u001b[0m\u001b[37m\u001b[0m \u001b[1m0s\u001b[0m 12ms/step - binary_accuracy: 0.9194 - loss: 0.3638 - val_binary_accuracy: 0.7000 - val_loss: 0.6782\n",
            "Epoch 319/500\n",
            "\u001b[1m7/7\u001b[0m \u001b[32m━━━━━━━━━━━━━━━━━━━━\u001b[0m\u001b[37m\u001b[0m \u001b[1m0s\u001b[0m 12ms/step - binary_accuracy: 0.8847 - loss: 0.3552 - val_binary_accuracy: 0.7000 - val_loss: 0.5971\n",
            "Epoch 320/500\n",
            "\u001b[1m7/7\u001b[0m \u001b[32m━━━━━━━━━━━━━━━━━━━━\u001b[0m\u001b[37m\u001b[0m \u001b[1m0s\u001b[0m 12ms/step - binary_accuracy: 0.9227 - loss: 0.3328 - val_binary_accuracy: 0.7000 - val_loss: 0.6074\n",
            "Epoch 321/500\n",
            "\u001b[1m7/7\u001b[0m \u001b[32m━━━━━━━━━━━━━━━━━━━━\u001b[0m\u001b[37m\u001b[0m \u001b[1m0s\u001b[0m 12ms/step - binary_accuracy: 0.9321 - loss: 0.3424 - val_binary_accuracy: 0.7000 - val_loss: 0.6006\n",
            "Epoch 322/500\n",
            "\u001b[1m7/7\u001b[0m \u001b[32m━━━━━━━━━━━━━━━━━━━━\u001b[0m\u001b[37m\u001b[0m \u001b[1m0s\u001b[0m 12ms/step - binary_accuracy: 0.9073 - loss: 0.3409 - val_binary_accuracy: 0.7200 - val_loss: 0.5761\n",
            "Epoch 323/500\n",
            "\u001b[1m7/7\u001b[0m \u001b[32m━━━━━━━━━━━━━━━━━━━━\u001b[0m\u001b[37m\u001b[0m \u001b[1m0s\u001b[0m 12ms/step - binary_accuracy: 0.8965 - loss: 0.3588 - val_binary_accuracy: 0.7000 - val_loss: 0.5941\n",
            "Epoch 324/500\n",
            "\u001b[1m7/7\u001b[0m \u001b[32m━━━━━━━━━━━━━━━━━━━━\u001b[0m\u001b[37m\u001b[0m \u001b[1m0s\u001b[0m 12ms/step - binary_accuracy: 0.8886 - loss: 0.3722 - val_binary_accuracy: 0.7000 - val_loss: 0.6199\n",
            "Epoch 325/500\n",
            "\u001b[1m7/7\u001b[0m \u001b[32m━━━━━━━━━━━━━━━━━━━━\u001b[0m\u001b[37m\u001b[0m \u001b[1m0s\u001b[0m 12ms/step - binary_accuracy: 0.9093 - loss: 0.3557 - val_binary_accuracy: 0.7000 - val_loss: 0.6769\n",
            "Epoch 326/500\n",
            "\u001b[1m7/7\u001b[0m \u001b[32m━━━━━━━━━━━━━━━━━━━━\u001b[0m\u001b[37m\u001b[0m \u001b[1m0s\u001b[0m 12ms/step - binary_accuracy: 0.9022 - loss: 0.3325 - val_binary_accuracy: 0.7000 - val_loss: 0.6199\n",
            "Epoch 327/500\n",
            "\u001b[1m7/7\u001b[0m \u001b[32m━━━━━━━━━━━━━━━━━━━━\u001b[0m\u001b[37m\u001b[0m \u001b[1m0s\u001b[0m 20ms/step - binary_accuracy: 0.9184 - loss: 0.3487 - val_binary_accuracy: 0.7000 - val_loss: 0.6129\n",
            "Epoch 328/500\n",
            "\u001b[1m7/7\u001b[0m \u001b[32m━━━━━━━━━━━━━━━━━━━━\u001b[0m\u001b[37m\u001b[0m \u001b[1m0s\u001b[0m 12ms/step - binary_accuracy: 0.9282 - loss: 0.3323 - val_binary_accuracy: 0.7200 - val_loss: 0.6529\n",
            "Epoch 329/500\n",
            "\u001b[1m7/7\u001b[0m \u001b[32m━━━━━━━━━━━━━━━━━━━━\u001b[0m\u001b[37m\u001b[0m \u001b[1m0s\u001b[0m 12ms/step - binary_accuracy: 0.9148 - loss: 0.3416 - val_binary_accuracy: 0.7200 - val_loss: 0.6367\n",
            "Epoch 330/500\n",
            "\u001b[1m7/7\u001b[0m \u001b[32m━━━━━━━━━━━━━━━━━━━━\u001b[0m\u001b[37m\u001b[0m \u001b[1m0s\u001b[0m 12ms/step - binary_accuracy: 0.9014 - loss: 0.3497 - val_binary_accuracy: 0.7000 - val_loss: 0.6191\n",
            "Epoch 331/500\n",
            "\u001b[1m7/7\u001b[0m \u001b[32m━━━━━━━━━━━━━━━━━━━━\u001b[0m\u001b[37m\u001b[0m \u001b[1m0s\u001b[0m 12ms/step - binary_accuracy: 0.8922 - loss: 0.3563 - val_binary_accuracy: 0.7200 - val_loss: 0.6426\n",
            "Epoch 332/500\n",
            "\u001b[1m7/7\u001b[0m \u001b[32m━━━━━━━━━━━━━━━━━━━━\u001b[0m\u001b[37m\u001b[0m \u001b[1m0s\u001b[0m 12ms/step - binary_accuracy: 0.9091 - loss: 0.3454 - val_binary_accuracy: 0.7000 - val_loss: 0.5979\n",
            "Epoch 333/500\n",
            "\u001b[1m7/7\u001b[0m \u001b[32m━━━━━━━━━━━━━━━━━━━━\u001b[0m\u001b[37m\u001b[0m \u001b[1m0s\u001b[0m 12ms/step - binary_accuracy: 0.9107 - loss: 0.3406 - val_binary_accuracy: 0.7000 - val_loss: 0.6097\n",
            "Epoch 334/500\n",
            "\u001b[1m7/7\u001b[0m \u001b[32m━━━━━━━━━━━━━━━━━━━━\u001b[0m\u001b[37m\u001b[0m \u001b[1m0s\u001b[0m 12ms/step - binary_accuracy: 0.9041 - loss: 0.3425 - val_binary_accuracy: 0.7000 - val_loss: 0.6018\n",
            "Epoch 335/500\n",
            "\u001b[1m7/7\u001b[0m \u001b[32m━━━━━━━━━━━━━━━━━━━━\u001b[0m\u001b[37m\u001b[0m \u001b[1m0s\u001b[0m 14ms/step - binary_accuracy: 0.9123 - loss: 0.3402 - val_binary_accuracy: 0.7400 - val_loss: 0.5263\n",
            "Epoch 336/500\n",
            "\u001b[1m7/7\u001b[0m \u001b[32m━━━━━━━━━━━━━━━━━━━━\u001b[0m\u001b[37m\u001b[0m \u001b[1m0s\u001b[0m 12ms/step - binary_accuracy: 0.8930 - loss: 0.3648 - val_binary_accuracy: 0.7200 - val_loss: 0.6537\n",
            "Epoch 337/500\n",
            "\u001b[1m7/7\u001b[0m \u001b[32m━━━━━━━━━━━━━━━━━━━━\u001b[0m\u001b[37m\u001b[0m \u001b[1m0s\u001b[0m 12ms/step - binary_accuracy: 0.8996 - loss: 0.3314 - val_binary_accuracy: 0.7000 - val_loss: 0.6017\n",
            "Epoch 338/500\n",
            "\u001b[1m7/7\u001b[0m \u001b[32m━━━━━━━━━━━━━━━━━━━━\u001b[0m\u001b[37m\u001b[0m \u001b[1m0s\u001b[0m 12ms/step - binary_accuracy: 0.9011 - loss: 0.3263 - val_binary_accuracy: 0.7200 - val_loss: 0.6412\n",
            "Epoch 339/500\n",
            "\u001b[1m7/7\u001b[0m \u001b[32m━━━━━━━━━━━━━━━━━━━━\u001b[0m\u001b[37m\u001b[0m \u001b[1m0s\u001b[0m 13ms/step - binary_accuracy: 0.8967 - loss: 0.3436 - val_binary_accuracy: 0.7000 - val_loss: 0.6178\n",
            "Epoch 340/500\n",
            "\u001b[1m7/7\u001b[0m \u001b[32m━━━━━━━━━━━━━━━━━━━━\u001b[0m\u001b[37m\u001b[0m \u001b[1m0s\u001b[0m 12ms/step - binary_accuracy: 0.9410 - loss: 0.3255 - val_binary_accuracy: 0.7000 - val_loss: 0.6210\n",
            "Epoch 341/500\n",
            "\u001b[1m7/7\u001b[0m \u001b[32m━━━━━━━━━━━━━━━━━━━━\u001b[0m\u001b[37m\u001b[0m \u001b[1m0s\u001b[0m 12ms/step - binary_accuracy: 0.9000 - loss: 0.3357 - val_binary_accuracy: 0.7000 - val_loss: 0.5998\n",
            "Epoch 342/500\n",
            "\u001b[1m7/7\u001b[0m \u001b[32m━━━━━━━━━━━━━━━━━━━━\u001b[0m\u001b[37m\u001b[0m \u001b[1m0s\u001b[0m 12ms/step - binary_accuracy: 0.9236 - loss: 0.3293 - val_binary_accuracy: 0.7200 - val_loss: 0.6037\n",
            "Epoch 343/500\n",
            "\u001b[1m7/7\u001b[0m \u001b[32m━━━━━━━━━━━━━━━━━━━━\u001b[0m\u001b[37m\u001b[0m \u001b[1m0s\u001b[0m 13ms/step - binary_accuracy: 0.9264 - loss: 0.3149 - val_binary_accuracy: 0.7600 - val_loss: 0.5384\n",
            "Epoch 344/500\n",
            "\u001b[1m7/7\u001b[0m \u001b[32m━━━━━━━━━━━━━━━━━━━━\u001b[0m\u001b[37m\u001b[0m \u001b[1m0s\u001b[0m 12ms/step - binary_accuracy: 0.9216 - loss: 0.3418 - val_binary_accuracy: 0.7400 - val_loss: 0.5342\n",
            "Epoch 345/500\n",
            "\u001b[1m7/7\u001b[0m \u001b[32m━━━━━━━━━━━━━━━━━━━━\u001b[0m\u001b[37m\u001b[0m \u001b[1m0s\u001b[0m 12ms/step - binary_accuracy: 0.8900 - loss: 0.3411 - val_binary_accuracy: 0.7000 - val_loss: 0.5977\n",
            "Epoch 346/500\n",
            "\u001b[1m7/7\u001b[0m \u001b[32m━━━━━━━━━━━━━━━━━━━━\u001b[0m\u001b[37m\u001b[0m \u001b[1m0s\u001b[0m 13ms/step - binary_accuracy: 0.9165 - loss: 0.3170 - val_binary_accuracy: 0.7800 - val_loss: 0.5534\n",
            "Epoch 347/500\n",
            "\u001b[1m7/7\u001b[0m \u001b[32m━━━━━━━━━━━━━━━━━━━━\u001b[0m\u001b[37m\u001b[0m \u001b[1m0s\u001b[0m 12ms/step - binary_accuracy: 0.9446 - loss: 0.3165 - val_binary_accuracy: 0.7200 - val_loss: 0.6689\n",
            "Epoch 348/500\n",
            "\u001b[1m7/7\u001b[0m \u001b[32m━━━━━━━━━━━━━━━━━━━━\u001b[0m\u001b[37m\u001b[0m \u001b[1m0s\u001b[0m 13ms/step - binary_accuracy: 0.9020 - loss: 0.3341 - val_binary_accuracy: 0.7600 - val_loss: 0.5693\n",
            "Epoch 349/500\n",
            "\u001b[1m7/7\u001b[0m \u001b[32m━━━━━━━━━━━━━━━━━━━━\u001b[0m\u001b[37m\u001b[0m \u001b[1m0s\u001b[0m 12ms/step - binary_accuracy: 0.9123 - loss: 0.3302 - val_binary_accuracy: 0.7200 - val_loss: 0.6252\n",
            "Epoch 350/500\n",
            "\u001b[1m7/7\u001b[0m \u001b[32m━━━━━━━━━━━━━━━━━━━━\u001b[0m\u001b[37m\u001b[0m \u001b[1m0s\u001b[0m 12ms/step - binary_accuracy: 0.9163 - loss: 0.3242 - val_binary_accuracy: 0.7400 - val_loss: 0.5786\n",
            "Epoch 351/500\n",
            "\u001b[1m7/7\u001b[0m \u001b[32m━━━━━━━━━━━━━━━━━━━━\u001b[0m\u001b[37m\u001b[0m \u001b[1m0s\u001b[0m 11ms/step - binary_accuracy: 0.9290 - loss: 0.3114 - val_binary_accuracy: 0.7000 - val_loss: 0.6044\n",
            "Epoch 352/500\n",
            "\u001b[1m7/7\u001b[0m \u001b[32m━━━━━━━━━━━━━━━━━━━━\u001b[0m\u001b[37m\u001b[0m \u001b[1m0s\u001b[0m 14ms/step - binary_accuracy: 0.9297 - loss: 0.3202 - val_binary_accuracy: 0.7000 - val_loss: 0.6969\n",
            "Epoch 353/500\n",
            "\u001b[1m7/7\u001b[0m \u001b[32m━━━━━━━━━━━━━━━━━━━━\u001b[0m\u001b[37m\u001b[0m \u001b[1m0s\u001b[0m 12ms/step - binary_accuracy: 0.9017 - loss: 0.3375 - val_binary_accuracy: 0.7000 - val_loss: 0.6222\n",
            "Epoch 354/500\n",
            "\u001b[1m7/7\u001b[0m \u001b[32m━━━━━━━━━━━━━━━━━━━━\u001b[0m\u001b[37m\u001b[0m \u001b[1m0s\u001b[0m 13ms/step - binary_accuracy: 0.9213 - loss: 0.3172 - val_binary_accuracy: 0.7400 - val_loss: 0.5750\n",
            "Epoch 355/500\n",
            "\u001b[1m7/7\u001b[0m \u001b[32m━━━━━━━━━━━━━━━━━━━━\u001b[0m\u001b[37m\u001b[0m \u001b[1m0s\u001b[0m 12ms/step - binary_accuracy: 0.9157 - loss: 0.3220 - val_binary_accuracy: 0.7200 - val_loss: 0.6691\n",
            "Epoch 356/500\n",
            "\u001b[1m7/7\u001b[0m \u001b[32m━━━━━━━━━━━━━━━━━━━━\u001b[0m\u001b[37m\u001b[0m \u001b[1m0s\u001b[0m 12ms/step - binary_accuracy: 0.9109 - loss: 0.3196 - val_binary_accuracy: 0.7400 - val_loss: 0.5917\n",
            "Epoch 357/500\n",
            "\u001b[1m7/7\u001b[0m \u001b[32m━━━━━━━━━━━━━━━━━━━━\u001b[0m\u001b[37m\u001b[0m \u001b[1m0s\u001b[0m 12ms/step - binary_accuracy: 0.9294 - loss: 0.3151 - val_binary_accuracy: 0.7200 - val_loss: 0.5972\n",
            "Epoch 358/500\n",
            "\u001b[1m7/7\u001b[0m \u001b[32m━━━━━━━━━━━━━━━━━━━━\u001b[0m\u001b[37m\u001b[0m \u001b[1m0s\u001b[0m 12ms/step - binary_accuracy: 0.9160 - loss: 0.3121 - val_binary_accuracy: 0.7200 - val_loss: 0.6098\n",
            "Epoch 359/500\n",
            "\u001b[1m7/7\u001b[0m \u001b[32m━━━━━━━━━━━━━━━━━━━━\u001b[0m\u001b[37m\u001b[0m \u001b[1m0s\u001b[0m 12ms/step - binary_accuracy: 0.9434 - loss: 0.2979 - val_binary_accuracy: 0.7000 - val_loss: 0.6239\n",
            "Epoch 360/500\n",
            "\u001b[1m7/7\u001b[0m \u001b[32m━━━━━━━━━━━━━━━━━━━━\u001b[0m\u001b[37m\u001b[0m \u001b[1m0s\u001b[0m 12ms/step - binary_accuracy: 0.8916 - loss: 0.3158 - val_binary_accuracy: 0.7200 - val_loss: 0.6097\n",
            "Epoch 361/500\n",
            "\u001b[1m7/7\u001b[0m \u001b[32m━━━━━━━━━━━━━━━━━━━━\u001b[0m\u001b[37m\u001b[0m \u001b[1m0s\u001b[0m 17ms/step - binary_accuracy: 0.9090 - loss: 0.3157 - val_binary_accuracy: 0.7000 - val_loss: 0.6365\n",
            "Epoch 362/500\n",
            "\u001b[1m7/7\u001b[0m \u001b[32m━━━━━━━━━━━━━━━━━━━━\u001b[0m\u001b[37m\u001b[0m \u001b[1m0s\u001b[0m 23ms/step - binary_accuracy: 0.9258 - loss: 0.3220 - val_binary_accuracy: 0.7200 - val_loss: 0.6623\n",
            "Epoch 363/500\n",
            "\u001b[1m7/7\u001b[0m \u001b[32m━━━━━━━━━━━━━━━━━━━━\u001b[0m\u001b[37m\u001b[0m \u001b[1m0s\u001b[0m 22ms/step - binary_accuracy: 0.9186 - loss: 0.3280 - val_binary_accuracy: 0.7600 - val_loss: 0.5736\n",
            "Epoch 364/500\n",
            "\u001b[1m7/7\u001b[0m \u001b[32m━━━━━━━━━━━━━━━━━━━━\u001b[0m\u001b[37m\u001b[0m \u001b[1m0s\u001b[0m 22ms/step - binary_accuracy: 0.9411 - loss: 0.3031 - val_binary_accuracy: 0.7200 - val_loss: 0.6188\n",
            "Epoch 365/500\n",
            "\u001b[1m7/7\u001b[0m \u001b[32m━━━━━━━━━━━━━━━━━━━━\u001b[0m\u001b[37m\u001b[0m \u001b[1m0s\u001b[0m 23ms/step - binary_accuracy: 0.9269 - loss: 0.2982 - val_binary_accuracy: 0.8000 - val_loss: 0.5048\n",
            "Epoch 366/500\n",
            "\u001b[1m7/7\u001b[0m \u001b[32m━━━━━━━━━━━━━━━━━━━━\u001b[0m\u001b[37m\u001b[0m \u001b[1m0s\u001b[0m 22ms/step - binary_accuracy: 0.9154 - loss: 0.3183 - val_binary_accuracy: 0.7600 - val_loss: 0.5424\n",
            "Epoch 367/500\n",
            "\u001b[1m7/7\u001b[0m \u001b[32m━━━━━━━━━━━━━━━━━━━━\u001b[0m\u001b[37m\u001b[0m \u001b[1m0s\u001b[0m 23ms/step - binary_accuracy: 0.9330 - loss: 0.3065 - val_binary_accuracy: 0.7600 - val_loss: 0.5588\n",
            "Epoch 368/500\n",
            "\u001b[1m7/7\u001b[0m \u001b[32m━━━━━━━━━━━━━━━━━━━━\u001b[0m\u001b[37m\u001b[0m \u001b[1m0s\u001b[0m 23ms/step - binary_accuracy: 0.9367 - loss: 0.2897 - val_binary_accuracy: 0.7000 - val_loss: 0.6484\n",
            "Epoch 369/500\n",
            "\u001b[1m7/7\u001b[0m \u001b[32m━━━━━━━━━━━━━━━━━━━━\u001b[0m\u001b[37m\u001b[0m \u001b[1m0s\u001b[0m 12ms/step - binary_accuracy: 0.9083 - loss: 0.3173 - val_binary_accuracy: 0.7400 - val_loss: 0.5189\n",
            "Epoch 370/500\n",
            "\u001b[1m7/7\u001b[0m \u001b[32m━━━━━━━━━━━━━━━━━━━━\u001b[0m\u001b[37m\u001b[0m \u001b[1m0s\u001b[0m 13ms/step - binary_accuracy: 0.9545 - loss: 0.2869 - val_binary_accuracy: 0.7200 - val_loss: 0.6697\n",
            "Epoch 371/500\n",
            "\u001b[1m7/7\u001b[0m \u001b[32m━━━━━━━━━━━━━━━━━━━━\u001b[0m\u001b[37m\u001b[0m \u001b[1m0s\u001b[0m 12ms/step - binary_accuracy: 0.9123 - loss: 0.3119 - val_binary_accuracy: 0.7600 - val_loss: 0.5386\n",
            "Epoch 372/500\n",
            "\u001b[1m7/7\u001b[0m \u001b[32m━━━━━━━━━━━━━━━━━━━━\u001b[0m\u001b[37m\u001b[0m \u001b[1m0s\u001b[0m 12ms/step - binary_accuracy: 0.9285 - loss: 0.3074 - val_binary_accuracy: 0.7200 - val_loss: 0.6146\n",
            "Epoch 373/500\n",
            "\u001b[1m7/7\u001b[0m \u001b[32m━━━━━━━━━━━━━━━━━━━━\u001b[0m\u001b[37m\u001b[0m \u001b[1m0s\u001b[0m 11ms/step - binary_accuracy: 0.9274 - loss: 0.3090 - val_binary_accuracy: 0.7600 - val_loss: 0.5680\n",
            "Epoch 374/500\n",
            "\u001b[1m7/7\u001b[0m \u001b[32m━━━━━━━━━━━━━━━━━━━━\u001b[0m\u001b[37m\u001b[0m \u001b[1m0s\u001b[0m 12ms/step - binary_accuracy: 0.9339 - loss: 0.3026 - val_binary_accuracy: 0.7600 - val_loss: 0.5548\n",
            "Epoch 375/500\n",
            "\u001b[1m7/7\u001b[0m \u001b[32m━━━━━━━━━━━━━━━━━━━━\u001b[0m\u001b[37m\u001b[0m \u001b[1m0s\u001b[0m 12ms/step - binary_accuracy: 0.9164 - loss: 0.3098 - val_binary_accuracy: 0.7600 - val_loss: 0.5359\n",
            "Epoch 376/500\n",
            "\u001b[1m7/7\u001b[0m \u001b[32m━━━━━━━━━━━━━━━━━━━━\u001b[0m\u001b[37m\u001b[0m \u001b[1m0s\u001b[0m 11ms/step - binary_accuracy: 0.9415 - loss: 0.2994 - val_binary_accuracy: 0.7400 - val_loss: 0.5898\n",
            "Epoch 377/500\n",
            "\u001b[1m7/7\u001b[0m \u001b[32m━━━━━━━━━━━━━━━━━━━━\u001b[0m\u001b[37m\u001b[0m \u001b[1m0s\u001b[0m 14ms/step - binary_accuracy: 0.9325 - loss: 0.2938 - val_binary_accuracy: 0.7200 - val_loss: 0.6068\n",
            "Epoch 378/500\n",
            "\u001b[1m7/7\u001b[0m \u001b[32m━━━━━━━━━━━━━━━━━━━━\u001b[0m\u001b[37m\u001b[0m \u001b[1m0s\u001b[0m 12ms/step - binary_accuracy: 0.9126 - loss: 0.3214 - val_binary_accuracy: 0.7200 - val_loss: 0.6636\n",
            "Epoch 379/500\n",
            "\u001b[1m7/7\u001b[0m \u001b[32m━━━━━━━━━━━━━━━━━━━━\u001b[0m\u001b[37m\u001b[0m \u001b[1m0s\u001b[0m 13ms/step - binary_accuracy: 0.9339 - loss: 0.2735 - val_binary_accuracy: 0.7800 - val_loss: 0.5481\n",
            "Epoch 380/500\n",
            "\u001b[1m7/7\u001b[0m \u001b[32m━━━━━━━━━━━━━━━━━━━━\u001b[0m\u001b[37m\u001b[0m \u001b[1m0s\u001b[0m 12ms/step - binary_accuracy: 0.9377 - loss: 0.2997 - val_binary_accuracy: 0.7400 - val_loss: 0.5815\n",
            "Epoch 381/500\n",
            "\u001b[1m7/7\u001b[0m \u001b[32m━━━━━━━━━━━━━━━━━━━━\u001b[0m\u001b[37m\u001b[0m \u001b[1m0s\u001b[0m 12ms/step - binary_accuracy: 0.9400 - loss: 0.2865 - val_binary_accuracy: 0.7600 - val_loss: 0.5448\n",
            "Epoch 382/500\n",
            "\u001b[1m7/7\u001b[0m \u001b[32m━━━━━━━━━━━━━━━━━━━━\u001b[0m\u001b[37m\u001b[0m \u001b[1m0s\u001b[0m 12ms/step - binary_accuracy: 0.9365 - loss: 0.2779 - val_binary_accuracy: 0.7800 - val_loss: 0.5453\n",
            "Epoch 383/500\n",
            "\u001b[1m7/7\u001b[0m \u001b[32m━━━━━━━━━━━━━━━━━━━━\u001b[0m\u001b[37m\u001b[0m \u001b[1m0s\u001b[0m 12ms/step - binary_accuracy: 0.9533 - loss: 0.2769 - val_binary_accuracy: 0.7600 - val_loss: 0.5364\n",
            "Epoch 384/500\n",
            "\u001b[1m7/7\u001b[0m \u001b[32m━━━━━━━━━━━━━━━━━━━━\u001b[0m\u001b[37m\u001b[0m \u001b[1m0s\u001b[0m 12ms/step - binary_accuracy: 0.9396 - loss: 0.2693 - val_binary_accuracy: 0.7600 - val_loss: 0.5968\n",
            "Epoch 385/500\n",
            "\u001b[1m7/7\u001b[0m \u001b[32m━━━━━━━━━━━━━━━━━━━━\u001b[0m\u001b[37m\u001b[0m \u001b[1m0s\u001b[0m 15ms/step - binary_accuracy: 0.9237 - loss: 0.3080 - val_binary_accuracy: 0.7200 - val_loss: 0.6362\n",
            "Epoch 386/500\n",
            "\u001b[1m7/7\u001b[0m \u001b[32m━━━━━━━━━━━━━━━━━━━━\u001b[0m\u001b[37m\u001b[0m \u001b[1m0s\u001b[0m 14ms/step - binary_accuracy: 0.9041 - loss: 0.2991 - val_binary_accuracy: 0.7600 - val_loss: 0.6023\n",
            "Epoch 387/500\n",
            "\u001b[1m7/7\u001b[0m \u001b[32m━━━━━━━━━━━━━━━━━━━━\u001b[0m\u001b[37m\u001b[0m \u001b[1m0s\u001b[0m 12ms/step - binary_accuracy: 0.9481 - loss: 0.2716 - val_binary_accuracy: 0.7800 - val_loss: 0.5544\n",
            "Epoch 388/500\n",
            "\u001b[1m7/7\u001b[0m \u001b[32m━━━━━━━━━━━━━━━━━━━━\u001b[0m\u001b[37m\u001b[0m \u001b[1m0s\u001b[0m 12ms/step - binary_accuracy: 0.9294 - loss: 0.3042 - val_binary_accuracy: 0.7200 - val_loss: 0.6228\n",
            "Epoch 389/500\n",
            "\u001b[1m7/7\u001b[0m \u001b[32m━━━━━━━━━━━━━━━━━━━━\u001b[0m\u001b[37m\u001b[0m \u001b[1m0s\u001b[0m 12ms/step - binary_accuracy: 0.9325 - loss: 0.2809 - val_binary_accuracy: 0.7600 - val_loss: 0.6124\n",
            "Epoch 390/500\n",
            "\u001b[1m7/7\u001b[0m \u001b[32m━━━━━━━━━━━━━━━━━━━━\u001b[0m\u001b[37m\u001b[0m \u001b[1m0s\u001b[0m 13ms/step - binary_accuracy: 0.9221 - loss: 0.2976 - val_binary_accuracy: 0.7400 - val_loss: 0.5787\n",
            "Epoch 391/500\n",
            "\u001b[1m7/7\u001b[0m \u001b[32m━━━━━━━━━━━━━━━━━━━━\u001b[0m\u001b[37m\u001b[0m \u001b[1m0s\u001b[0m 12ms/step - binary_accuracy: 0.9368 - loss: 0.2783 - val_binary_accuracy: 0.7800 - val_loss: 0.5595\n",
            "Epoch 392/500\n",
            "\u001b[1m7/7\u001b[0m \u001b[32m━━━━━━━━━━━━━━━━━━━━\u001b[0m\u001b[37m\u001b[0m \u001b[1m0s\u001b[0m 12ms/step - binary_accuracy: 0.9244 - loss: 0.2819 - val_binary_accuracy: 0.7400 - val_loss: 0.5844\n",
            "Epoch 393/500\n",
            "\u001b[1m7/7\u001b[0m \u001b[32m━━━━━━━━━━━━━━━━━━━━\u001b[0m\u001b[37m\u001b[0m \u001b[1m0s\u001b[0m 12ms/step - binary_accuracy: 0.9396 - loss: 0.2932 - val_binary_accuracy: 0.7000 - val_loss: 0.6504\n",
            "Epoch 394/500\n",
            "\u001b[1m7/7\u001b[0m \u001b[32m━━━━━━━━━━━━━━━━━━━━\u001b[0m\u001b[37m\u001b[0m \u001b[1m0s\u001b[0m 14ms/step - binary_accuracy: 0.9155 - loss: 0.2888 - val_binary_accuracy: 0.7400 - val_loss: 0.6250\n",
            "Epoch 395/500\n",
            "\u001b[1m7/7\u001b[0m \u001b[32m━━━━━━━━━━━━━━━━━━━━\u001b[0m\u001b[37m\u001b[0m \u001b[1m0s\u001b[0m 12ms/step - binary_accuracy: 0.9167 - loss: 0.2812 - val_binary_accuracy: 0.7600 - val_loss: 0.5740\n",
            "Epoch 396/500\n",
            "\u001b[1m7/7\u001b[0m \u001b[32m━━━━━━━━━━━━━━━━━━━━\u001b[0m\u001b[37m\u001b[0m \u001b[1m0s\u001b[0m 17ms/step - binary_accuracy: 0.9322 - loss: 0.2759 - val_binary_accuracy: 0.7600 - val_loss: 0.6052\n",
            "Epoch 397/500\n",
            "\u001b[1m7/7\u001b[0m \u001b[32m━━━━━━━━━━━━━━━━━━━━\u001b[0m\u001b[37m\u001b[0m \u001b[1m0s\u001b[0m 12ms/step - binary_accuracy: 0.9337 - loss: 0.2764 - val_binary_accuracy: 0.7800 - val_loss: 0.5292\n",
            "Epoch 398/500\n",
            "\u001b[1m7/7\u001b[0m \u001b[32m━━━━━━━━━━━━━━━━━━━━\u001b[0m\u001b[37m\u001b[0m \u001b[1m0s\u001b[0m 12ms/step - binary_accuracy: 0.9530 - loss: 0.2720 - val_binary_accuracy: 0.7600 - val_loss: 0.5761\n",
            "Epoch 399/500\n",
            "\u001b[1m7/7\u001b[0m \u001b[32m━━━━━━━━━━━━━━━━━━━━\u001b[0m\u001b[37m\u001b[0m \u001b[1m0s\u001b[0m 12ms/step - binary_accuracy: 0.9434 - loss: 0.2866 - val_binary_accuracy: 0.7800 - val_loss: 0.5356\n",
            "Epoch 400/500\n",
            "\u001b[1m7/7\u001b[0m \u001b[32m━━━━━━━━━━━━━━━━━━━━\u001b[0m\u001b[37m\u001b[0m \u001b[1m0s\u001b[0m 12ms/step - binary_accuracy: 0.9499 - loss: 0.2720 - val_binary_accuracy: 0.7600 - val_loss: 0.6176\n",
            "Epoch 401/500\n",
            "\u001b[1m7/7\u001b[0m \u001b[32m━━━━━━━━━━━━━━━━━━━━\u001b[0m\u001b[37m\u001b[0m \u001b[1m0s\u001b[0m 13ms/step - binary_accuracy: 0.9328 - loss: 0.2689 - val_binary_accuracy: 0.7400 - val_loss: 0.5895\n",
            "Epoch 402/500\n",
            "\u001b[1m7/7\u001b[0m \u001b[32m━━━━━━━━━━━━━━━━━━━━\u001b[0m\u001b[37m\u001b[0m \u001b[1m0s\u001b[0m 19ms/step - binary_accuracy: 0.9207 - loss: 0.2946 - val_binary_accuracy: 0.7600 - val_loss: 0.6044\n",
            "Epoch 403/500\n",
            "\u001b[1m7/7\u001b[0m \u001b[32m━━━━━━━━━━━━━━━━━━━━\u001b[0m\u001b[37m\u001b[0m \u001b[1m0s\u001b[0m 12ms/step - binary_accuracy: 0.9159 - loss: 0.2795 - val_binary_accuracy: 0.7400 - val_loss: 0.6339\n",
            "Epoch 404/500\n",
            "\u001b[1m7/7\u001b[0m \u001b[32m━━━━━━━━━━━━━━━━━━━━\u001b[0m\u001b[37m\u001b[0m \u001b[1m0s\u001b[0m 12ms/step - binary_accuracy: 0.9225 - loss: 0.2893 - val_binary_accuracy: 0.7400 - val_loss: 0.5842\n",
            "Epoch 405/500\n",
            "\u001b[1m7/7\u001b[0m \u001b[32m━━━━━━━━━━━━━━━━━━━━\u001b[0m\u001b[37m\u001b[0m \u001b[1m0s\u001b[0m 12ms/step - binary_accuracy: 0.9323 - loss: 0.2707 - val_binary_accuracy: 0.7400 - val_loss: 0.5790\n",
            "Epoch 406/500\n",
            "\u001b[1m7/7\u001b[0m \u001b[32m━━━━━━━━━━━━━━━━━━━━\u001b[0m\u001b[37m\u001b[0m \u001b[1m0s\u001b[0m 12ms/step - binary_accuracy: 0.9213 - loss: 0.2551 - val_binary_accuracy: 0.7600 - val_loss: 0.6277\n",
            "Epoch 407/500\n",
            "\u001b[1m7/7\u001b[0m \u001b[32m━━━━━━━━━━━━━━━━━━━━\u001b[0m\u001b[37m\u001b[0m \u001b[1m0s\u001b[0m 12ms/step - binary_accuracy: 0.9521 - loss: 0.2572 - val_binary_accuracy: 0.8000 - val_loss: 0.5579\n",
            "Epoch 408/500\n",
            "\u001b[1m7/7\u001b[0m \u001b[32m━━━━━━━━━━━━━━━━━━━━\u001b[0m\u001b[37m\u001b[0m \u001b[1m0s\u001b[0m 12ms/step - binary_accuracy: 0.9309 - loss: 0.2748 - val_binary_accuracy: 0.7600 - val_loss: 0.5833\n",
            "Epoch 409/500\n",
            "\u001b[1m7/7\u001b[0m \u001b[32m━━━━━━━━━━━━━━━━━━━━\u001b[0m\u001b[37m\u001b[0m \u001b[1m0s\u001b[0m 12ms/step - binary_accuracy: 0.9293 - loss: 0.2606 - val_binary_accuracy: 0.7000 - val_loss: 0.6671\n",
            "Epoch 410/500\n",
            "\u001b[1m7/7\u001b[0m \u001b[32m━━━━━━━━━━━━━━━━━━━━\u001b[0m\u001b[37m\u001b[0m \u001b[1m0s\u001b[0m 14ms/step - binary_accuracy: 0.9184 - loss: 0.2920 - val_binary_accuracy: 0.7600 - val_loss: 0.6038\n",
            "Epoch 411/500\n",
            "\u001b[1m7/7\u001b[0m \u001b[32m━━━━━━━━━━━━━━━━━━━━\u001b[0m\u001b[37m\u001b[0m \u001b[1m0s\u001b[0m 12ms/step - binary_accuracy: 0.9214 - loss: 0.2649 - val_binary_accuracy: 0.7600 - val_loss: 0.6390\n",
            "Epoch 412/500\n",
            "\u001b[1m7/7\u001b[0m \u001b[32m━━━━━━━━━━━━━━━━━━━━\u001b[0m\u001b[37m\u001b[0m \u001b[1m0s\u001b[0m 12ms/step - binary_accuracy: 0.9466 - loss: 0.2570 - val_binary_accuracy: 0.7600 - val_loss: 0.6124\n",
            "Epoch 413/500\n",
            "\u001b[1m7/7\u001b[0m \u001b[32m━━━━━━━━━━━━━━━━━━━━\u001b[0m\u001b[37m\u001b[0m \u001b[1m0s\u001b[0m 12ms/step - binary_accuracy: 0.9617 - loss: 0.2487 - val_binary_accuracy: 0.7600 - val_loss: 0.5195\n",
            "Epoch 414/500\n",
            "\u001b[1m7/7\u001b[0m \u001b[32m━━━━━━━━━━━━━━━━━━━━\u001b[0m\u001b[37m\u001b[0m \u001b[1m0s\u001b[0m 12ms/step - binary_accuracy: 0.9607 - loss: 0.2672 - val_binary_accuracy: 0.7600 - val_loss: 0.6391\n",
            "Epoch 415/500\n",
            "\u001b[1m7/7\u001b[0m \u001b[32m━━━━━━━━━━━━━━━━━━━━\u001b[0m\u001b[37m\u001b[0m \u001b[1m0s\u001b[0m 12ms/step - binary_accuracy: 0.9047 - loss: 0.2871 - val_binary_accuracy: 0.7600 - val_loss: 0.6096\n",
            "Epoch 416/500\n",
            "\u001b[1m7/7\u001b[0m \u001b[32m━━━━━━━━━━━━━━━━━━━━\u001b[0m\u001b[37m\u001b[0m \u001b[1m0s\u001b[0m 12ms/step - binary_accuracy: 0.9380 - loss: 0.2647 - val_binary_accuracy: 0.8000 - val_loss: 0.5629\n",
            "Epoch 417/500\n",
            "\u001b[1m7/7\u001b[0m \u001b[32m━━━━━━━━━━━━━━━━━━━━\u001b[0m\u001b[37m\u001b[0m \u001b[1m0s\u001b[0m 12ms/step - binary_accuracy: 0.9489 - loss: 0.2482 - val_binary_accuracy: 0.8000 - val_loss: 0.5561\n",
            "Epoch 418/500\n",
            "\u001b[1m7/7\u001b[0m \u001b[32m━━━━━━━━━━━━━━━━━━━━\u001b[0m\u001b[37m\u001b[0m \u001b[1m0s\u001b[0m 15ms/step - binary_accuracy: 0.9244 - loss: 0.2509 - val_binary_accuracy: 0.7600 - val_loss: 0.6118\n",
            "Epoch 419/500\n",
            "\u001b[1m7/7\u001b[0m \u001b[32m━━━━━━━━━━━━━━━━━━━━\u001b[0m\u001b[37m\u001b[0m \u001b[1m0s\u001b[0m 12ms/step - binary_accuracy: 0.9260 - loss: 0.2701 - val_binary_accuracy: 0.7600 - val_loss: 0.6539\n",
            "Epoch 420/500\n",
            "\u001b[1m7/7\u001b[0m \u001b[32m━━━━━━━━━━━━━━━━━━━━\u001b[0m\u001b[37m\u001b[0m \u001b[1m0s\u001b[0m 11ms/step - binary_accuracy: 0.9346 - loss: 0.2451 - val_binary_accuracy: 0.8000 - val_loss: 0.5546\n",
            "Epoch 421/500\n",
            "\u001b[1m7/7\u001b[0m \u001b[32m━━━━━━━━━━━━━━━━━━━━\u001b[0m\u001b[37m\u001b[0m \u001b[1m0s\u001b[0m 11ms/step - binary_accuracy: 0.9643 - loss: 0.2450 - val_binary_accuracy: 0.7600 - val_loss: 0.6299\n",
            "Epoch 422/500\n",
            "\u001b[1m7/7\u001b[0m \u001b[32m━━━━━━━━━━━━━━━━━━━━\u001b[0m\u001b[37m\u001b[0m \u001b[1m0s\u001b[0m 12ms/step - binary_accuracy: 0.9376 - loss: 0.2606 - val_binary_accuracy: 0.8000 - val_loss: 0.5660\n",
            "Epoch 423/500\n",
            "\u001b[1m7/7\u001b[0m \u001b[32m━━━━━━━━━━━━━━━━━━━━\u001b[0m\u001b[37m\u001b[0m \u001b[1m0s\u001b[0m 12ms/step - binary_accuracy: 0.9273 - loss: 0.2759 - val_binary_accuracy: 0.7400 - val_loss: 0.5987\n",
            "Epoch 424/500\n",
            "\u001b[1m7/7\u001b[0m \u001b[32m━━━━━━━━━━━━━━━━━━━━\u001b[0m\u001b[37m\u001b[0m \u001b[1m0s\u001b[0m 11ms/step - binary_accuracy: 0.9465 - loss: 0.2435 - val_binary_accuracy: 0.8000 - val_loss: 0.5581\n",
            "Epoch 425/500\n",
            "\u001b[1m7/7\u001b[0m \u001b[32m━━━━━━━━━━━━━━━━━━━━\u001b[0m\u001b[37m\u001b[0m \u001b[1m0s\u001b[0m 12ms/step - binary_accuracy: 0.9406 - loss: 0.2562 - val_binary_accuracy: 0.7600 - val_loss: 0.6502\n",
            "Epoch 426/500\n",
            "\u001b[1m7/7\u001b[0m \u001b[32m━━━━━━━━━━━━━━━━━━━━\u001b[0m\u001b[37m\u001b[0m \u001b[1m0s\u001b[0m 12ms/step - binary_accuracy: 0.9493 - loss: 0.2462 - val_binary_accuracy: 0.7800 - val_loss: 0.5425\n",
            "Epoch 427/500\n",
            "\u001b[1m7/7\u001b[0m \u001b[32m━━━━━━━━━━━━━━━━━━━━\u001b[0m\u001b[37m\u001b[0m \u001b[1m0s\u001b[0m 12ms/step - binary_accuracy: 0.9405 - loss: 0.2580 - val_binary_accuracy: 0.7800 - val_loss: 0.5565\n",
            "Epoch 428/500\n",
            "\u001b[1m7/7\u001b[0m \u001b[32m━━━━━━━━━━━━━━━━━━━━\u001b[0m\u001b[37m\u001b[0m \u001b[1m0s\u001b[0m 13ms/step - binary_accuracy: 0.9386 - loss: 0.2628 - val_binary_accuracy: 0.7400 - val_loss: 0.5986\n",
            "Epoch 429/500\n",
            "\u001b[1m7/7\u001b[0m \u001b[32m━━━━━━━━━━━━━━━━━━━━\u001b[0m\u001b[37m\u001b[0m \u001b[1m0s\u001b[0m 11ms/step - binary_accuracy: 0.9332 - loss: 0.2633 - val_binary_accuracy: 0.7600 - val_loss: 0.5909\n",
            "Epoch 430/500\n",
            "\u001b[1m7/7\u001b[0m \u001b[32m━━━━━━━━━━━━━━━━━━━━\u001b[0m\u001b[37m\u001b[0m \u001b[1m0s\u001b[0m 12ms/step - binary_accuracy: 0.9518 - loss: 0.2345 - val_binary_accuracy: 0.7800 - val_loss: 0.5413\n",
            "Epoch 431/500\n",
            "\u001b[1m7/7\u001b[0m \u001b[32m━━━━━━━━━━━━━━━━━━━━\u001b[0m\u001b[37m\u001b[0m \u001b[1m0s\u001b[0m 12ms/step - binary_accuracy: 0.9498 - loss: 0.2551 - val_binary_accuracy: 0.7600 - val_loss: 0.5883\n",
            "Epoch 432/500\n",
            "\u001b[1m7/7\u001b[0m \u001b[32m━━━━━━━━━━━━━━━━━━━━\u001b[0m\u001b[37m\u001b[0m \u001b[1m0s\u001b[0m 12ms/step - binary_accuracy: 0.9240 - loss: 0.2488 - val_binary_accuracy: 0.7600 - val_loss: 0.6255\n",
            "Epoch 433/500\n",
            "\u001b[1m7/7\u001b[0m \u001b[32m━━━━━━━━━━━━━━━━━━━━\u001b[0m\u001b[37m\u001b[0m \u001b[1m0s\u001b[0m 12ms/step - binary_accuracy: 0.9363 - loss: 0.2598 - val_binary_accuracy: 0.7800 - val_loss: 0.5324\n",
            "Epoch 434/500\n",
            "\u001b[1m7/7\u001b[0m \u001b[32m━━━━━━━━━━━━━━━━━━━━\u001b[0m\u001b[37m\u001b[0m \u001b[1m0s\u001b[0m 13ms/step - binary_accuracy: 0.9440 - loss: 0.2523 - val_binary_accuracy: 0.7400 - val_loss: 0.6037\n",
            "Epoch 435/500\n",
            "\u001b[1m7/7\u001b[0m \u001b[32m━━━━━━━━━━━━━━━━━━━━\u001b[0m\u001b[37m\u001b[0m \u001b[1m0s\u001b[0m 15ms/step - binary_accuracy: 0.9506 - loss: 0.2469 - val_binary_accuracy: 0.7800 - val_loss: 0.5557\n",
            "Epoch 436/500\n",
            "\u001b[1m7/7\u001b[0m \u001b[32m━━━━━━━━━━━━━━━━━━━━\u001b[0m\u001b[37m\u001b[0m \u001b[1m0s\u001b[0m 12ms/step - binary_accuracy: 0.9682 - loss: 0.2424 - val_binary_accuracy: 0.8000 - val_loss: 0.5681\n",
            "Epoch 437/500\n",
            "\u001b[1m7/7\u001b[0m \u001b[32m━━━━━━━━━━━━━━━━━━━━\u001b[0m\u001b[37m\u001b[0m \u001b[1m0s\u001b[0m 12ms/step - binary_accuracy: 0.9588 - loss: 0.2413 - val_binary_accuracy: 0.7800 - val_loss: 0.5573\n",
            "Epoch 438/500\n",
            "\u001b[1m7/7\u001b[0m \u001b[32m━━━━━━━━━━━━━━━━━━━━\u001b[0m\u001b[37m\u001b[0m \u001b[1m0s\u001b[0m 13ms/step - binary_accuracy: 0.9303 - loss: 0.2581 - val_binary_accuracy: 0.7400 - val_loss: 0.5937\n",
            "Epoch 439/500\n",
            "\u001b[1m7/7\u001b[0m \u001b[32m━━━━━━━━━━━━━━━━━━━━\u001b[0m\u001b[37m\u001b[0m \u001b[1m0s\u001b[0m 12ms/step - binary_accuracy: 0.9657 - loss: 0.2257 - val_binary_accuracy: 0.8000 - val_loss: 0.5762\n",
            "Epoch 440/500\n",
            "\u001b[1m7/7\u001b[0m \u001b[32m━━━━━━━━━━━━━━━━━━━━\u001b[0m\u001b[37m\u001b[0m \u001b[1m0s\u001b[0m 12ms/step - binary_accuracy: 0.9751 - loss: 0.2181 - val_binary_accuracy: 0.7800 - val_loss: 0.5865\n",
            "Epoch 441/500\n",
            "\u001b[1m7/7\u001b[0m \u001b[32m━━━━━━━━━━━━━━━━━━━━\u001b[0m\u001b[37m\u001b[0m \u001b[1m0s\u001b[0m 12ms/step - binary_accuracy: 0.9825 - loss: 0.2207 - val_binary_accuracy: 0.7800 - val_loss: 0.5327\n",
            "Epoch 442/500\n",
            "\u001b[1m7/7\u001b[0m \u001b[32m━━━━━━━━━━━━━━━━━━━━\u001b[0m\u001b[37m\u001b[0m \u001b[1m0s\u001b[0m 12ms/step - binary_accuracy: 0.9429 - loss: 0.2229 - val_binary_accuracy: 0.7600 - val_loss: 0.5873\n",
            "Epoch 443/500\n",
            "\u001b[1m7/7\u001b[0m \u001b[32m━━━━━━━━━━━━━━━━━━━━\u001b[0m\u001b[37m\u001b[0m \u001b[1m0s\u001b[0m 14ms/step - binary_accuracy: 0.9434 - loss: 0.2458 - val_binary_accuracy: 0.7600 - val_loss: 0.5992\n",
            "Epoch 444/500\n",
            "\u001b[1m7/7\u001b[0m \u001b[32m━━━━━━━━━━━━━━━━━━━━\u001b[0m\u001b[37m\u001b[0m \u001b[1m0s\u001b[0m 12ms/step - binary_accuracy: 0.9737 - loss: 0.2294 - val_binary_accuracy: 0.7800 - val_loss: 0.5751\n",
            "Epoch 445/500\n",
            "\u001b[1m7/7\u001b[0m \u001b[32m━━━━━━━━━━━━━━━━━━━━\u001b[0m\u001b[37m\u001b[0m \u001b[1m0s\u001b[0m 12ms/step - binary_accuracy: 0.9640 - loss: 0.2302 - val_binary_accuracy: 0.7800 - val_loss: 0.5572\n",
            "Epoch 446/500\n",
            "\u001b[1m7/7\u001b[0m \u001b[32m━━━━━━━━━━━━━━━━━━━━\u001b[0m\u001b[37m\u001b[0m \u001b[1m0s\u001b[0m 12ms/step - binary_accuracy: 0.9573 - loss: 0.2260 - val_binary_accuracy: 0.7600 - val_loss: 0.6360\n",
            "Epoch 447/500\n",
            "\u001b[1m7/7\u001b[0m \u001b[32m━━━━━━━━━━━━━━━━━━━━\u001b[0m\u001b[37m\u001b[0m \u001b[1m0s\u001b[0m 12ms/step - binary_accuracy: 0.9507 - loss: 0.2424 - val_binary_accuracy: 0.7600 - val_loss: 0.5304\n",
            "Epoch 448/500\n",
            "\u001b[1m7/7\u001b[0m \u001b[32m━━━━━━━━━━━━━━━━━━━━\u001b[0m\u001b[37m\u001b[0m \u001b[1m0s\u001b[0m 12ms/step - binary_accuracy: 0.9388 - loss: 0.2257 - val_binary_accuracy: 0.7800 - val_loss: 0.5684\n",
            "Epoch 449/500\n",
            "\u001b[1m7/7\u001b[0m \u001b[32m━━━━━━━━━━━━━━━━━━━━\u001b[0m\u001b[37m\u001b[0m \u001b[1m0s\u001b[0m 22ms/step - binary_accuracy: 0.9630 - loss: 0.2211 - val_binary_accuracy: 0.7600 - val_loss: 0.5940\n",
            "Epoch 450/500\n",
            "\u001b[1m7/7\u001b[0m \u001b[32m━━━━━━━━━━━━━━━━━━━━\u001b[0m\u001b[37m\u001b[0m \u001b[1m0s\u001b[0m 26ms/step - binary_accuracy: 0.9728 - loss: 0.2176 - val_binary_accuracy: 0.7600 - val_loss: 0.5919\n",
            "Epoch 451/500\n",
            "\u001b[1m7/7\u001b[0m \u001b[32m━━━━━━━━━━━━━━━━━━━━\u001b[0m\u001b[37m\u001b[0m \u001b[1m0s\u001b[0m 23ms/step - binary_accuracy: 0.9531 - loss: 0.2354 - val_binary_accuracy: 0.7600 - val_loss: 0.6532\n",
            "Epoch 452/500\n",
            "\u001b[1m7/7\u001b[0m \u001b[32m━━━━━━━━━━━━━━━━━━━━\u001b[0m\u001b[37m\u001b[0m \u001b[1m0s\u001b[0m 23ms/step - binary_accuracy: 0.9674 - loss: 0.2219 - val_binary_accuracy: 0.7800 - val_loss: 0.5755\n",
            "Epoch 453/500\n",
            "\u001b[1m7/7\u001b[0m \u001b[32m━━━━━━━━━━━━━━━━━━━━\u001b[0m\u001b[37m\u001b[0m \u001b[1m0s\u001b[0m 22ms/step - binary_accuracy: 0.9490 - loss: 0.2356 - val_binary_accuracy: 0.7400 - val_loss: 0.6179\n",
            "Epoch 454/500\n",
            "\u001b[1m7/7\u001b[0m \u001b[32m━━━━━━━━━━━━━━━━━━━━\u001b[0m\u001b[37m\u001b[0m \u001b[1m0s\u001b[0m 23ms/step - binary_accuracy: 0.9432 - loss: 0.2429 - val_binary_accuracy: 0.7800 - val_loss: 0.5734\n",
            "Epoch 455/500\n",
            "\u001b[1m7/7\u001b[0m \u001b[32m━━━━━━━━━━━━━━━━━━━━\u001b[0m\u001b[37m\u001b[0m \u001b[1m0s\u001b[0m 23ms/step - binary_accuracy: 0.9602 - loss: 0.2251 - val_binary_accuracy: 0.7600 - val_loss: 0.6220\n",
            "Epoch 456/500\n",
            "\u001b[1m7/7\u001b[0m \u001b[32m━━━━━━━━━━━━━━━━━━━━\u001b[0m\u001b[37m\u001b[0m \u001b[1m0s\u001b[0m 23ms/step - binary_accuracy: 0.9581 - loss: 0.2258 - val_binary_accuracy: 0.7800 - val_loss: 0.5555\n",
            "Epoch 457/500\n",
            "\u001b[1m7/7\u001b[0m \u001b[32m━━━━━━━━━━━━━━━━━━━━\u001b[0m\u001b[37m\u001b[0m \u001b[1m0s\u001b[0m 13ms/step - binary_accuracy: 0.9745 - loss: 0.2036 - val_binary_accuracy: 0.7800 - val_loss: 0.5747\n",
            "Epoch 458/500\n",
            "\u001b[1m7/7\u001b[0m \u001b[32m━━━━━━━━━━━━━━━━━━━━\u001b[0m\u001b[37m\u001b[0m \u001b[1m0s\u001b[0m 19ms/step - binary_accuracy: 0.9653 - loss: 0.2161 - val_binary_accuracy: 0.7800 - val_loss: 0.5663\n",
            "Epoch 459/500\n",
            "\u001b[1m7/7\u001b[0m \u001b[32m━━━━━━━━━━━━━━━━━━━━\u001b[0m\u001b[37m\u001b[0m \u001b[1m0s\u001b[0m 12ms/step - binary_accuracy: 0.9428 - loss: 0.2491 - val_binary_accuracy: 0.7600 - val_loss: 0.6419\n",
            "Epoch 460/500\n",
            "\u001b[1m7/7\u001b[0m \u001b[32m━━━━━━━━━━━━━━━━━━━━\u001b[0m\u001b[37m\u001b[0m \u001b[1m0s\u001b[0m 14ms/step - binary_accuracy: 0.9563 - loss: 0.2097 - val_binary_accuracy: 0.7600 - val_loss: 0.6156\n",
            "Epoch 461/500\n",
            "\u001b[1m7/7\u001b[0m \u001b[32m━━━━━━━━━━━━━━━━━━━━\u001b[0m\u001b[37m\u001b[0m \u001b[1m0s\u001b[0m 13ms/step - binary_accuracy: 0.9693 - loss: 0.2041 - val_binary_accuracy: 0.7800 - val_loss: 0.5865\n",
            "Epoch 462/500\n",
            "\u001b[1m7/7\u001b[0m \u001b[32m━━━━━━━━━━━━━━━━━━━━\u001b[0m\u001b[37m\u001b[0m \u001b[1m0s\u001b[0m 12ms/step - binary_accuracy: 0.9784 - loss: 0.2011 - val_binary_accuracy: 0.7800 - val_loss: 0.5795\n",
            "Epoch 463/500\n",
            "\u001b[1m7/7\u001b[0m \u001b[32m━━━━━━━━━━━━━━━━━━━━\u001b[0m\u001b[37m\u001b[0m \u001b[1m0s\u001b[0m 13ms/step - binary_accuracy: 0.9470 - loss: 0.2207 - val_binary_accuracy: 0.7600 - val_loss: 0.6072\n",
            "Epoch 464/500\n",
            "\u001b[1m7/7\u001b[0m \u001b[32m━━━━━━━━━━━━━━━━━━━━\u001b[0m\u001b[37m\u001b[0m \u001b[1m0s\u001b[0m 12ms/step - binary_accuracy: 0.9589 - loss: 0.2165 - val_binary_accuracy: 0.7600 - val_loss: 0.6406\n",
            "Epoch 465/500\n",
            "\u001b[1m7/7\u001b[0m \u001b[32m━━━━━━━━━━━━━━━━━━━━\u001b[0m\u001b[37m\u001b[0m \u001b[1m0s\u001b[0m 12ms/step - binary_accuracy: 0.9431 - loss: 0.2201 - val_binary_accuracy: 0.7600 - val_loss: 0.6404\n",
            "Epoch 466/500\n",
            "\u001b[1m7/7\u001b[0m \u001b[32m━━━━━━━━━━━━━━━━━━━━\u001b[0m\u001b[37m\u001b[0m \u001b[1m0s\u001b[0m 13ms/step - binary_accuracy: 0.9656 - loss: 0.2094 - val_binary_accuracy: 0.7800 - val_loss: 0.5691\n",
            "Epoch 467/500\n",
            "\u001b[1m7/7\u001b[0m \u001b[32m━━━━━━━━━━━━━━━━━━━━\u001b[0m\u001b[37m\u001b[0m \u001b[1m0s\u001b[0m 14ms/step - binary_accuracy: 0.9610 - loss: 0.2198 - val_binary_accuracy: 0.7600 - val_loss: 0.5999\n",
            "Epoch 468/500\n",
            "\u001b[1m7/7\u001b[0m \u001b[32m━━━━━━━━━━━━━━━━━━━━\u001b[0m\u001b[37m\u001b[0m \u001b[1m0s\u001b[0m 12ms/step - binary_accuracy: 0.9534 - loss: 0.2190 - val_binary_accuracy: 0.7800 - val_loss: 0.5434\n",
            "Epoch 469/500\n",
            "\u001b[1m7/7\u001b[0m \u001b[32m━━━━━━━━━━━━━━━━━━━━\u001b[0m\u001b[37m\u001b[0m \u001b[1m0s\u001b[0m 12ms/step - binary_accuracy: 0.9653 - loss: 0.2207 - val_binary_accuracy: 0.7800 - val_loss: 0.5562\n",
            "Epoch 470/500\n",
            "\u001b[1m7/7\u001b[0m \u001b[32m━━━━━━━━━━━━━━━━━━━━\u001b[0m\u001b[37m\u001b[0m \u001b[1m0s\u001b[0m 13ms/step - binary_accuracy: 0.9743 - loss: 0.2122 - val_binary_accuracy: 0.7600 - val_loss: 0.6501\n",
            "Epoch 471/500\n",
            "\u001b[1m7/7\u001b[0m \u001b[32m━━━━━━━━━━━━━━━━━━━━\u001b[0m\u001b[37m\u001b[0m \u001b[1m0s\u001b[0m 12ms/step - binary_accuracy: 0.9649 - loss: 0.2052 - val_binary_accuracy: 0.7600 - val_loss: 0.5964\n",
            "Epoch 472/500\n",
            "\u001b[1m7/7\u001b[0m \u001b[32m━━━━━━━━━━━━━━━━━━━━\u001b[0m\u001b[37m\u001b[0m \u001b[1m0s\u001b[0m 12ms/step - binary_accuracy: 0.9686 - loss: 0.2205 - val_binary_accuracy: 0.7800 - val_loss: 0.5929\n",
            "Epoch 473/500\n",
            "\u001b[1m7/7\u001b[0m \u001b[32m━━━━━━━━━━━━━━━━━━━━\u001b[0m\u001b[37m\u001b[0m \u001b[1m0s\u001b[0m 12ms/step - binary_accuracy: 0.9673 - loss: 0.2214 - val_binary_accuracy: 0.7600 - val_loss: 0.6342\n",
            "Epoch 474/500\n",
            "\u001b[1m7/7\u001b[0m \u001b[32m━━━━━━━━━━━━━━━━━━━━\u001b[0m\u001b[37m\u001b[0m \u001b[1m0s\u001b[0m 12ms/step - binary_accuracy: 0.9635 - loss: 0.2191 - val_binary_accuracy: 0.7600 - val_loss: 0.6214\n",
            "Epoch 475/500\n",
            "\u001b[1m7/7\u001b[0m \u001b[32m━━━━━━━━━━━━━━━━━━━━\u001b[0m\u001b[37m\u001b[0m \u001b[1m0s\u001b[0m 13ms/step - binary_accuracy: 0.9580 - loss: 0.2189 - val_binary_accuracy: 0.7800 - val_loss: 0.5660\n",
            "Epoch 476/500\n",
            "\u001b[1m7/7\u001b[0m \u001b[32m━━━━━━━━━━━━━━━━━━━━\u001b[0m\u001b[37m\u001b[0m \u001b[1m0s\u001b[0m 13ms/step - binary_accuracy: 0.9824 - loss: 0.1878 - val_binary_accuracy: 0.7600 - val_loss: 0.6611\n",
            "Epoch 477/500\n",
            "\u001b[1m7/7\u001b[0m \u001b[32m━━━━━━━━━━━━━━━━━━━━\u001b[0m\u001b[37m\u001b[0m \u001b[1m0s\u001b[0m 12ms/step - binary_accuracy: 0.9434 - loss: 0.2169 - val_binary_accuracy: 0.7800 - val_loss: 0.6232\n",
            "Epoch 478/500\n",
            "\u001b[1m7/7\u001b[0m \u001b[32m━━━━━━━━━━━━━━━━━━━━\u001b[0m\u001b[37m\u001b[0m \u001b[1m0s\u001b[0m 12ms/step - binary_accuracy: 0.9780 - loss: 0.1985 - val_binary_accuracy: 0.8000 - val_loss: 0.6232\n",
            "Epoch 479/500\n",
            "\u001b[1m7/7\u001b[0m \u001b[32m━━━━━━━━━━━━━━━━━━━━\u001b[0m\u001b[37m\u001b[0m \u001b[1m0s\u001b[0m 11ms/step - binary_accuracy: 0.9655 - loss: 0.2122 - val_binary_accuracy: 0.7800 - val_loss: 0.5642\n",
            "Epoch 480/500\n",
            "\u001b[1m7/7\u001b[0m \u001b[32m━━━━━━━━━━━━━━━━━━━━\u001b[0m\u001b[37m\u001b[0m \u001b[1m0s\u001b[0m 13ms/step - binary_accuracy: 0.9676 - loss: 0.2126 - val_binary_accuracy: 0.7800 - val_loss: 0.5935\n",
            "Epoch 481/500\n",
            "\u001b[1m7/7\u001b[0m \u001b[32m━━━━━━━━━━━━━━━━━━━━\u001b[0m\u001b[37m\u001b[0m \u001b[1m0s\u001b[0m 12ms/step - binary_accuracy: 0.9790 - loss: 0.1973 - val_binary_accuracy: 0.7800 - val_loss: 0.5604\n",
            "Epoch 482/500\n",
            "\u001b[1m7/7\u001b[0m \u001b[32m━━━━━━━━━━━━━━━━━━━━\u001b[0m\u001b[37m\u001b[0m \u001b[1m0s\u001b[0m 12ms/step - binary_accuracy: 0.9620 - loss: 0.1835 - val_binary_accuracy: 0.7800 - val_loss: 0.5907\n",
            "Epoch 483/500\n",
            "\u001b[1m7/7\u001b[0m \u001b[32m━━━━━━━━━━━━━━━━━━━━\u001b[0m\u001b[37m\u001b[0m \u001b[1m0s\u001b[0m 12ms/step - binary_accuracy: 0.9802 - loss: 0.1972 - val_binary_accuracy: 0.7600 - val_loss: 0.6416\n",
            "Epoch 484/500\n",
            "\u001b[1m7/7\u001b[0m \u001b[32m━━━━━━━━━━━━━━━━━━━━\u001b[0m\u001b[37m\u001b[0m \u001b[1m0s\u001b[0m 14ms/step - binary_accuracy: 0.9783 - loss: 0.2068 - val_binary_accuracy: 0.7600 - val_loss: 0.6692\n",
            "Epoch 485/500\n",
            "\u001b[1m7/7\u001b[0m \u001b[32m━━━━━━━━━━━━━━━━━━━━\u001b[0m\u001b[37m\u001b[0m \u001b[1m0s\u001b[0m 12ms/step - binary_accuracy: 0.9856 - loss: 0.2075 - val_binary_accuracy: 0.7600 - val_loss: 0.6374\n",
            "Epoch 486/500\n",
            "\u001b[1m7/7\u001b[0m \u001b[32m━━━━━━━━━━━━━━━━━━━━\u001b[0m\u001b[37m\u001b[0m \u001b[1m0s\u001b[0m 12ms/step - binary_accuracy: 0.9804 - loss: 0.1928 - val_binary_accuracy: 0.7800 - val_loss: 0.5978\n",
            "Epoch 487/500\n",
            "\u001b[1m7/7\u001b[0m \u001b[32m━━━━━━━━━━━━━━━━━━━━\u001b[0m\u001b[37m\u001b[0m \u001b[1m0s\u001b[0m 12ms/step - binary_accuracy: 0.9739 - loss: 0.2014 - val_binary_accuracy: 0.7800 - val_loss: 0.5667\n",
            "Epoch 488/500\n",
            "\u001b[1m7/7\u001b[0m \u001b[32m━━━━━━━━━━━━━━━━━━━━\u001b[0m\u001b[37m\u001b[0m \u001b[1m0s\u001b[0m 12ms/step - binary_accuracy: 0.9841 - loss: 0.1914 - val_binary_accuracy: 0.7600 - val_loss: 0.6549\n",
            "Epoch 489/500\n",
            "\u001b[1m7/7\u001b[0m \u001b[32m━━━━━━━━━━━━━━━━━━━━\u001b[0m\u001b[37m\u001b[0m \u001b[1m0s\u001b[0m 12ms/step - binary_accuracy: 0.9870 - loss: 0.1756 - val_binary_accuracy: 0.7800 - val_loss: 0.5734\n",
            "Epoch 490/500\n",
            "\u001b[1m7/7\u001b[0m \u001b[32m━━━━━━━━━━━━━━━━━━━━\u001b[0m\u001b[37m\u001b[0m \u001b[1m0s\u001b[0m 12ms/step - binary_accuracy: 0.9722 - loss: 0.1991 - val_binary_accuracy: 0.7600 - val_loss: 0.6116\n",
            "Epoch 491/500\n",
            "\u001b[1m7/7\u001b[0m \u001b[32m━━━━━━━━━━━━━━━━━━━━\u001b[0m\u001b[37m\u001b[0m \u001b[1m0s\u001b[0m 13ms/step - binary_accuracy: 0.9753 - loss: 0.2151 - val_binary_accuracy: 0.7800 - val_loss: 0.6066\n",
            "Epoch 492/500\n",
            "\u001b[1m7/7\u001b[0m \u001b[32m━━━━━━━━━━━━━━━━━━━━\u001b[0m\u001b[37m\u001b[0m \u001b[1m0s\u001b[0m 13ms/step - binary_accuracy: 0.9729 - loss: 0.1993 - val_binary_accuracy: 0.7600 - val_loss: 0.6050\n",
            "Epoch 493/500\n",
            "\u001b[1m7/7\u001b[0m \u001b[32m━━━━━━━━━━━━━━━━━━━━\u001b[0m\u001b[37m\u001b[0m \u001b[1m0s\u001b[0m 12ms/step - binary_accuracy: 0.9716 - loss: 0.1840 - val_binary_accuracy: 0.7800 - val_loss: 0.5980\n",
            "Epoch 494/500\n",
            "\u001b[1m7/7\u001b[0m \u001b[32m━━━━━━━━━━━━━━━━━━━━\u001b[0m\u001b[37m\u001b[0m \u001b[1m0s\u001b[0m 12ms/step - binary_accuracy: 0.9791 - loss: 0.1883 - val_binary_accuracy: 0.7800 - val_loss: 0.5648\n",
            "Epoch 495/500\n",
            "\u001b[1m7/7\u001b[0m \u001b[32m━━━━━━━━━━━━━━━━━━━━\u001b[0m\u001b[37m\u001b[0m \u001b[1m0s\u001b[0m 12ms/step - binary_accuracy: 0.9769 - loss: 0.2050 - val_binary_accuracy: 0.7800 - val_loss: 0.6301\n",
            "Epoch 496/500\n",
            "\u001b[1m7/7\u001b[0m \u001b[32m━━━━━━━━━━━━━━━━━━━━\u001b[0m\u001b[37m\u001b[0m \u001b[1m0s\u001b[0m 12ms/step - binary_accuracy: 0.9826 - loss: 0.1829 - val_binary_accuracy: 0.7800 - val_loss: 0.5717\n",
            "Epoch 497/500\n",
            "\u001b[1m7/7\u001b[0m \u001b[32m━━━━━━━━━━━━━━━━━━━━\u001b[0m\u001b[37m\u001b[0m \u001b[1m0s\u001b[0m 12ms/step - binary_accuracy: 0.9777 - loss: 0.1900 - val_binary_accuracy: 0.7600 - val_loss: 0.6152\n",
            "Epoch 498/500\n",
            "\u001b[1m7/7\u001b[0m \u001b[32m━━━━━━━━━━━━━━━━━━━━\u001b[0m\u001b[37m\u001b[0m \u001b[1m0s\u001b[0m 13ms/step - binary_accuracy: 0.9698 - loss: 0.1802 - val_binary_accuracy: 0.7800 - val_loss: 0.5974\n",
            "Epoch 499/500\n",
            "\u001b[1m7/7\u001b[0m \u001b[32m━━━━━━━━━━━━━━━━━━━━\u001b[0m\u001b[37m\u001b[0m \u001b[1m0s\u001b[0m 12ms/step - binary_accuracy: 0.9749 - loss: 0.1953 - val_binary_accuracy: 0.7600 - val_loss: 0.6718\n",
            "Epoch 500/500\n",
            "\u001b[1m7/7\u001b[0m \u001b[32m━━━━━━━━━━━━━━━━━━━━\u001b[0m\u001b[37m\u001b[0m \u001b[1m0s\u001b[0m 12ms/step - binary_accuracy: 0.9805 - loss: 0.1979 - val_binary_accuracy: 0.7800 - val_loss: 0.6065\n"
          ]
        },
        {
          "output_type": "execute_result",
          "data": {
            "text/plain": [
              "<keras.src.callbacks.history.History at 0x7f7a0a39fe00>"
            ]
          },
          "metadata": {},
          "execution_count": 24
        }
      ]
    },
    {
      "cell_type": "code",
      "source": [
        "wandb.finish() # Let wandb know you're finished!"
      ],
      "metadata": {
        "colab": {
          "base_uri": "https://localhost:8080/",
          "height": 532
        },
        "id": "NgB8KIBZZY_f",
        "outputId": "20362614-5b26-4123-ab51-b1c32aa2e49c"
      },
      "execution_count": 25,
      "outputs": [
        {
          "output_type": "display_data",
          "data": {
            "text/plain": [
              "<IPython.core.display.HTML object>"
            ],
            "text/html": []
          },
          "metadata": {}
        },
        {
          "output_type": "display_data",
          "data": {
            "text/plain": [
              "<IPython.core.display.HTML object>"
            ],
            "text/html": [
              "<br>    <style><br>        .wandb-row {<br>            display: flex;<br>            flex-direction: row;<br>            flex-wrap: wrap;<br>            justify-content: flex-start;<br>            width: 100%;<br>        }<br>        .wandb-col {<br>            display: flex;<br>            flex-direction: column;<br>            flex-basis: 100%;<br>            flex: 1;<br>            padding: 10px;<br>        }<br>    </style><br><div class=\"wandb-row\"><div class=\"wandb-col\"><h3>Run history:</h3><br/><table class=\"wandb\"><tr><td>epoch/binary_accuracy</td><td>▁▁▂▁▁▂▂▂▂▂▂▂▂▂▃▄▄▄▄▄▅▅▅▆▆▆▆▇▇▇▇▇▇▇▇█████</td></tr><tr><td>epoch/epoch</td><td>▁▁▁▁▂▂▂▂▂▂▃▃▃▃▄▄▄▄▄▄▄▅▅▅▅▅▅▅▅▅▆▆▆▇▇▇▇▇▇█</td></tr><tr><td>epoch/learning_rate</td><td>▁▁▁▁▁▁▁▁▁▁▁▁▁▁▁▁▁▁▁▁▁▁▁▁▁▁▁▁▁▁▁▁▁▁▁▁▁▁▁▁</td></tr><tr><td>epoch/loss</td><td>███▇▇▇▇▇▇▇▆▆▆▆▆▅▅▅▄▄▄▄▄▄▄▄▃▂▂▂▂▂▂▂▁▁▁▁▁▁</td></tr><tr><td>epoch/val_binary_accuracy</td><td>▂▂▂▁▁▁▁▁▁▂▄▃▃▄▄▆▄▆▅▆▆▆▆▇▆▇▆▆▆▆█▇▇▇▇█▇█▇█</td></tr><tr><td>epoch/val_loss</td><td>▅████▇▆▇▅▄▃▅▄▃▃▄▂▃▆▃▄▂▃▄▃▃▃▃▄▄▁▂▃▂▁▂▃▂▃▂</td></tr></table><br/></div><div class=\"wandb-col\"><h3>Run summary:</h3><br/><table class=\"wandb\"><tr><td>epoch/binary_accuracy</td><td>0.98086</td></tr><tr><td>epoch/epoch</td><td>499</td></tr><tr><td>epoch/learning_rate</td><td>0.001</td></tr><tr><td>epoch/loss</td><td>0.1926</td></tr><tr><td>epoch/val_binary_accuracy</td><td>0.78</td></tr><tr><td>epoch/val_loss</td><td>0.60651</td></tr></table><br/></div></div>"
            ]
          },
          "metadata": {}
        },
        {
          "output_type": "display_data",
          "data": {
            "text/plain": [
              "<IPython.core.display.HTML object>"
            ],
            "text/html": [
              " View run <strong style=\"color:#cdcd00\">dl_week_wandb_run_01</strong> at: <a href='https://wandb.ai/terrematte/dl_week_wandb/runs/2vquzt93' target=\"_blank\">https://wandb.ai/terrematte/dl_week_wandb/runs/2vquzt93</a><br> View project at: <a href='https://wandb.ai/terrematte/dl_week_wandb' target=\"_blank\">https://wandb.ai/terrematte/dl_week_wandb</a><br>Synced 5 W&B file(s), 0 media file(s), 0 artifact file(s) and 0 other file(s)"
            ]
          },
          "metadata": {}
        },
        {
          "output_type": "display_data",
          "data": {
            "text/plain": [
              "<IPython.core.display.HTML object>"
            ],
            "text/html": [
              "Find logs at: <code>./wandb/run-20250919_164424-2vquzt93/logs</code>"
            ]
          },
          "metadata": {}
        }
      ]
    },
    {
      "cell_type": "markdown",
      "metadata": {
        "id": "vh562csI3WFO"
      },
      "source": [
        "## 4.2 Sweeps"
      ]
    },
    {
      "cell_type": "code",
      "metadata": {
        "id": "mo_cE96gG8Tq"
      },
      "source": [
        " # The sweep calls this function with each set of hyperparameters\n",
        "def train():\n",
        "    # Default values for hyper-parameters we're going to sweep over\n",
        "    defaults = dict(layer_1 = 8,\n",
        "                layer_2 = 8,\n",
        "                learn_rate = 0.001,\n",
        "                batch_size = 32,\n",
        "                epoch = 500)\n",
        "\n",
        "    # Initialize a new wandb run\n",
        "    wandb.init(project=\"dl_week_wandb\", config= defaults)\n",
        "\n",
        "    # Config is a variable that holds and saves hyperparameters and inputs\n",
        "    config = wandb.config\n",
        "\n",
        "    # Instantiate a simple classification model\n",
        "    model = tf.keras.Sequential([\n",
        "                                 tf.keras.layers.Dense(config.layer_1, activation=tf.nn.relu, dtype='float64'),\n",
        "                                 tf.keras.layers.Dense(config.layer_2, activation=tf.nn.relu, dtype='float64'),\n",
        "                                 tf.keras.layers.Dense(1, activation=tf.nn.sigmoid, dtype='float64')\n",
        "                                 ])\n",
        "\n",
        "    # Instantiate a logistic loss function that expects integer targets.\n",
        "    loss = tf.keras.losses.BinaryCrossentropy()\n",
        "\n",
        "    # Instantiate an accuracy metric.\n",
        "    accuracy = tf.keras.metrics.BinaryAccuracy()\n",
        "\n",
        "    # Instantiate an optimizer.\n",
        "    optimizer = tf.keras.optimizers.SGD(learning_rate=config.learn_rate)\n",
        "\n",
        "    # configure the optimizer, loss, and metrics to monitor.\n",
        "    model.compile(optimizer=optimizer, loss=loss, metrics=[accuracy])\n",
        "\n",
        "    model.fit(train_x, train_y, batch_size=config.batch_size,\n",
        "              epochs=config.epoch,\n",
        "              validation_data=(test_x, test_y),\n",
        "              callbacks=[WandbCallback(),\n",
        "                          EarlyStopping(patience=100)]\n",
        "              )"
      ],
      "execution_count": 26,
      "outputs": []
    },
    {
      "cell_type": "code",
      "metadata": {
        "id": "S6whtzZ1eior"
      },
      "source": [
        "# See the source code in order to see other parameters\n",
        "# https://github.com/wandb/client/tree/master/wandb/sweeps"
      ],
      "execution_count": null,
      "outputs": []
    },
    {
      "cell_type": "code",
      "metadata": {
        "id": "1Ibov1wrLgS9"
      },
      "source": [
        "# Configure the sweep – specify the parameters to search through, the search strategy, the optimization metric et all.\n",
        "sweep_config = {\n",
        "    'method': 'random', #grid, random\n",
        "    'metric': {\n",
        "      'name': 'binary_accuracy',\n",
        "      'goal': 'maximize'\n",
        "    },\n",
        "    'parameters': {\n",
        "        'layer_1': {\n",
        "            'max': 32,\n",
        "            'min': 8,\n",
        "            'distribution': 'int_uniform',\n",
        "        },\n",
        "        'layer_2': {\n",
        "            'max': 32,\n",
        "            'min': 8,\n",
        "            'distribution': 'int_uniform',\n",
        "        },\n",
        "        'learn_rate': {\n",
        "            'min': -4,\n",
        "            'max': -2,\n",
        "            'distribution': 'log_uniform',\n",
        "        },\n",
        "        'epoch': {\n",
        "            'values': [300,400,600]\n",
        "        },\n",
        "        'batch_size': {\n",
        "            'values': [32,64]\n",
        "        }\n",
        "    }\n",
        "}"
      ],
      "execution_count": 27,
      "outputs": []
    },
    {
      "cell_type": "code",
      "metadata": {
        "id": "1rCRIA2HMG1Y",
        "colab": {
          "base_uri": "https://localhost:8080/"
        },
        "outputId": "39cd1494-0d96-482e-dd84-a1593baba08f"
      },
      "source": [
        "# Initialize a new sweep\n",
        "# Arguments:\n",
        "#     – sweep_config: the sweep config dictionary defined above\n",
        "#     – entity: Set the username for the sweep\n",
        "#     – project: Set the project name for the sweep\n",
        "sweep_id = wandb.sweep(sweep_config, entity=\"terrematte\", project=\"dl_week_wandb\")"
      ],
      "execution_count": 28,
      "outputs": [
        {
          "output_type": "stream",
          "name": "stderr",
          "text": [
            "\u001b[34m\u001b[1mwandb\u001b[0m: \u001b[33mWARNING\u001b[0m Malformed sweep config detected! This may cause your sweep to behave in unexpected ways.\n",
            "\u001b[34m\u001b[1mwandb\u001b[0m: \u001b[33mWARNING\u001b[0m To avoid this, please fix the sweep config schema violations below:\n",
            "\u001b[34m\u001b[1mwandb\u001b[0m: \u001b[33mWARNING\u001b[0m   Violation 1. learn_rate uses log_uniform, where min/max specify base-e exponents. Use log_uniform_values to specify limit values.\n"
          ]
        },
        {
          "output_type": "stream",
          "name": "stdout",
          "text": [
            "Create sweep with ID: 2gqxdzyh\n",
            "Sweep URL: https://wandb.ai/terrematte/dl_week_wandb/sweeps/2gqxdzyh\n"
          ]
        }
      ]
    },
    {
      "cell_type": "code",
      "metadata": {
        "id": "1V0Cobv4MahM",
        "colab": {
          "base_uri": "https://localhost:8080/",
          "height": 1000
        },
        "outputId": "7644a62e-dcc3-4dde-a9a2-51c0e2ca2f89"
      },
      "source": [
        "# Initialize a new sweep\n",
        "# Arguments:\n",
        "#     – sweep_id: the sweep_id to run - this was returned above by wandb.sweep()\n",
        "#     – function: function that defines your model architecture and trains it\n",
        "wandb.agent(sweep_id = sweep_id, function=train,count=20)"
      ],
      "execution_count": 29,
      "outputs": [
        {
          "output_type": "stream",
          "name": "stderr",
          "text": [
            "\u001b[34m\u001b[1mwandb\u001b[0m: Agent Starting Run: htt4cy4v with config:\n",
            "\u001b[34m\u001b[1mwandb\u001b[0m: \tbatch_size: 32\n",
            "\u001b[34m\u001b[1mwandb\u001b[0m: \tepoch: 400\n",
            "\u001b[34m\u001b[1mwandb\u001b[0m: \tlayer_1: 15\n",
            "\u001b[34m\u001b[1mwandb\u001b[0m: \tlayer_2: 25\n",
            "\u001b[34m\u001b[1mwandb\u001b[0m: \tlearn_rate: 0.050834523441353675\n"
          ]
        },
        {
          "output_type": "display_data",
          "data": {
            "text/plain": [
              "<IPython.core.display.HTML object>"
            ],
            "text/html": [
              "Ignoring project 'dl_week_wandb' when running a sweep."
            ]
          },
          "metadata": {}
        },
        {
          "output_type": "display_data",
          "data": {
            "text/plain": [
              "<IPython.core.display.HTML object>"
            ],
            "text/html": [
              "creating run (0.0s)"
            ]
          },
          "metadata": {}
        },
        {
          "output_type": "display_data",
          "data": {
            "text/plain": [
              "<IPython.core.display.HTML object>"
            ],
            "text/html": [
              "Tracking run with wandb version 0.21.3"
            ]
          },
          "metadata": {}
        },
        {
          "output_type": "display_data",
          "data": {
            "text/plain": [
              "<IPython.core.display.HTML object>"
            ],
            "text/html": [
              "Run data is saved locally in <code>/content/wandb/run-20250919_164950-htt4cy4v</code>"
            ]
          },
          "metadata": {}
        },
        {
          "output_type": "display_data",
          "data": {
            "text/plain": [
              "<IPython.core.display.HTML object>"
            ],
            "text/html": [
              "Syncing run <strong><a href='https://wandb.ai/terrematte/dl_week_wandb/runs/htt4cy4v' target=\"_blank\">lively-sweep-1</a></strong> to <a href='https://wandb.ai/terrematte/dl_week_wandb' target=\"_blank\">Weights & Biases</a> (<a href='https://wandb.me/developer-guide' target=\"_blank\">docs</a>)<br>Sweep page: <a href='https://wandb.ai/terrematte/dl_week_wandb/sweeps/2gqxdzyh' target=\"_blank\">https://wandb.ai/terrematte/dl_week_wandb/sweeps/2gqxdzyh</a>"
            ]
          },
          "metadata": {}
        },
        {
          "output_type": "display_data",
          "data": {
            "text/plain": [
              "<IPython.core.display.HTML object>"
            ],
            "text/html": [
              " View project at <a href='https://wandb.ai/terrematte/dl_week_wandb' target=\"_blank\">https://wandb.ai/terrematte/dl_week_wandb</a>"
            ]
          },
          "metadata": {}
        },
        {
          "output_type": "display_data",
          "data": {
            "text/plain": [
              "<IPython.core.display.HTML object>"
            ],
            "text/html": [
              " View sweep at <a href='https://wandb.ai/terrematte/dl_week_wandb/sweeps/2gqxdzyh' target=\"_blank\">https://wandb.ai/terrematte/dl_week_wandb/sweeps/2gqxdzyh</a>"
            ]
          },
          "metadata": {}
        },
        {
          "output_type": "display_data",
          "data": {
            "text/plain": [
              "<IPython.core.display.HTML object>"
            ],
            "text/html": [
              " View run at <a href='https://wandb.ai/terrematte/dl_week_wandb/runs/htt4cy4v' target=\"_blank\">https://wandb.ai/terrematte/dl_week_wandb/runs/htt4cy4v</a>"
            ]
          },
          "metadata": {}
        },
        {
          "output_type": "stream",
          "name": "stderr",
          "text": [
            "Traceback (most recent call last):\n",
            "  File \"/usr/local/lib/python3.12/dist-packages/wandb/agents/pyagent.py\", line 297, in _run_job\n",
            "    self._function()\n",
            "  File \"/tmp/ipython-input-726161485.py\", line 38, in train\n",
            "    callbacks=[WandbCallback(),\n",
            "               ^^^^^^^^^^^^^\n",
            "NameError: name 'WandbCallback' is not defined\n",
            "\n"
          ]
        },
        {
          "output_type": "display_data",
          "data": {
            "text/plain": [
              "<IPython.core.display.HTML object>"
            ],
            "text/html": []
          },
          "metadata": {}
        },
        {
          "output_type": "display_data",
          "data": {
            "text/plain": [
              "<IPython.core.display.HTML object>"
            ],
            "text/html": [
              " View run <strong style=\"color:#cdcd00\">lively-sweep-1</strong> at: <a href='https://wandb.ai/terrematte/dl_week_wandb/runs/htt4cy4v' target=\"_blank\">https://wandb.ai/terrematte/dl_week_wandb/runs/htt4cy4v</a><br> View project at: <a href='https://wandb.ai/terrematte/dl_week_wandb' target=\"_blank\">https://wandb.ai/terrematte/dl_week_wandb</a><br>Synced 5 W&B file(s), 0 media file(s), 0 artifact file(s) and 0 other file(s)"
            ]
          },
          "metadata": {}
        },
        {
          "output_type": "display_data",
          "data": {
            "text/plain": [
              "<IPython.core.display.HTML object>"
            ],
            "text/html": [
              "Find logs at: <code>./wandb/run-20250919_164950-htt4cy4v/logs</code>"
            ]
          },
          "metadata": {}
        },
        {
          "output_type": "stream",
          "name": "stderr",
          "text": [
            "\u001b[34m\u001b[1mwandb\u001b[0m: \u001b[32m\u001b[41mERROR\u001b[0m Run htt4cy4v errored: name 'WandbCallback' is not defined\n",
            "\u001b[34m\u001b[1mwandb\u001b[0m: Agent Starting Run: 95grpbl4 with config:\n",
            "\u001b[34m\u001b[1mwandb\u001b[0m: \tbatch_size: 32\n",
            "\u001b[34m\u001b[1mwandb\u001b[0m: \tepoch: 600\n",
            "\u001b[34m\u001b[1mwandb\u001b[0m: \tlayer_1: 10\n",
            "\u001b[34m\u001b[1mwandb\u001b[0m: \tlayer_2: 10\n",
            "\u001b[34m\u001b[1mwandb\u001b[0m: \tlearn_rate: 0.022786311084334945\n"
          ]
        },
        {
          "output_type": "display_data",
          "data": {
            "text/plain": [
              "<IPython.core.display.HTML object>"
            ],
            "text/html": [
              "Ignoring project 'dl_week_wandb' when running a sweep."
            ]
          },
          "metadata": {}
        },
        {
          "output_type": "display_data",
          "data": {
            "text/plain": [
              "<IPython.core.display.HTML object>"
            ],
            "text/html": [
              "creating run (0.0s)"
            ]
          },
          "metadata": {}
        },
        {
          "output_type": "display_data",
          "data": {
            "text/plain": [
              "<IPython.core.display.HTML object>"
            ],
            "text/html": [
              "Tracking run with wandb version 0.21.3"
            ]
          },
          "metadata": {}
        },
        {
          "output_type": "display_data",
          "data": {
            "text/plain": [
              "<IPython.core.display.HTML object>"
            ],
            "text/html": [
              "Run data is saved locally in <code>/content/wandb/run-20250919_164955-95grpbl4</code>"
            ]
          },
          "metadata": {}
        },
        {
          "output_type": "display_data",
          "data": {
            "text/plain": [
              "<IPython.core.display.HTML object>"
            ],
            "text/html": [
              "Syncing run <strong><a href='https://wandb.ai/terrematte/dl_week_wandb/runs/95grpbl4' target=\"_blank\">avid-sweep-2</a></strong> to <a href='https://wandb.ai/terrematte/dl_week_wandb' target=\"_blank\">Weights & Biases</a> (<a href='https://wandb.me/developer-guide' target=\"_blank\">docs</a>)<br>Sweep page: <a href='https://wandb.ai/terrematte/dl_week_wandb/sweeps/2gqxdzyh' target=\"_blank\">https://wandb.ai/terrematte/dl_week_wandb/sweeps/2gqxdzyh</a>"
            ]
          },
          "metadata": {}
        },
        {
          "output_type": "display_data",
          "data": {
            "text/plain": [
              "<IPython.core.display.HTML object>"
            ],
            "text/html": [
              " View project at <a href='https://wandb.ai/terrematte/dl_week_wandb' target=\"_blank\">https://wandb.ai/terrematte/dl_week_wandb</a>"
            ]
          },
          "metadata": {}
        },
        {
          "output_type": "display_data",
          "data": {
            "text/plain": [
              "<IPython.core.display.HTML object>"
            ],
            "text/html": [
              " View sweep at <a href='https://wandb.ai/terrematte/dl_week_wandb/sweeps/2gqxdzyh' target=\"_blank\">https://wandb.ai/terrematte/dl_week_wandb/sweeps/2gqxdzyh</a>"
            ]
          },
          "metadata": {}
        },
        {
          "output_type": "display_data",
          "data": {
            "text/plain": [
              "<IPython.core.display.HTML object>"
            ],
            "text/html": [
              " View run at <a href='https://wandb.ai/terrematte/dl_week_wandb/runs/95grpbl4' target=\"_blank\">https://wandb.ai/terrematte/dl_week_wandb/runs/95grpbl4</a>"
            ]
          },
          "metadata": {}
        },
        {
          "output_type": "stream",
          "name": "stderr",
          "text": [
            "Traceback (most recent call last):\n",
            "  File \"/usr/local/lib/python3.12/dist-packages/wandb/agents/pyagent.py\", line 297, in _run_job\n",
            "    self._function()\n",
            "  File \"/tmp/ipython-input-726161485.py\", line 38, in train\n",
            "    callbacks=[WandbCallback(),\n",
            "               ^^^^^^^^^^^^^\n",
            "NameError: name 'WandbCallback' is not defined\n",
            "\n"
          ]
        },
        {
          "output_type": "display_data",
          "data": {
            "text/plain": [
              "<IPython.core.display.HTML object>"
            ],
            "text/html": []
          },
          "metadata": {}
        },
        {
          "output_type": "display_data",
          "data": {
            "text/plain": [
              "<IPython.core.display.HTML object>"
            ],
            "text/html": [
              " View run <strong style=\"color:#cdcd00\">avid-sweep-2</strong> at: <a href='https://wandb.ai/terrematte/dl_week_wandb/runs/95grpbl4' target=\"_blank\">https://wandb.ai/terrematte/dl_week_wandb/runs/95grpbl4</a><br> View project at: <a href='https://wandb.ai/terrematte/dl_week_wandb' target=\"_blank\">https://wandb.ai/terrematte/dl_week_wandb</a><br>Synced 5 W&B file(s), 0 media file(s), 0 artifact file(s) and 0 other file(s)"
            ]
          },
          "metadata": {}
        },
        {
          "output_type": "display_data",
          "data": {
            "text/plain": [
              "<IPython.core.display.HTML object>"
            ],
            "text/html": [
              "Find logs at: <code>./wandb/run-20250919_164955-95grpbl4/logs</code>"
            ]
          },
          "metadata": {}
        },
        {
          "output_type": "stream",
          "name": "stderr",
          "text": [
            "\u001b[34m\u001b[1mwandb\u001b[0m: \u001b[32m\u001b[41mERROR\u001b[0m Run 95grpbl4 errored: name 'WandbCallback' is not defined\n",
            "\u001b[34m\u001b[1mwandb\u001b[0m: Sweep Agent: Waiting for job.\n",
            "\u001b[34m\u001b[1mwandb\u001b[0m: Job received.\n",
            "\u001b[34m\u001b[1mwandb\u001b[0m: Agent Starting Run: k3oe1ugo with config:\n",
            "\u001b[34m\u001b[1mwandb\u001b[0m: \tbatch_size: 32\n",
            "\u001b[34m\u001b[1mwandb\u001b[0m: \tepoch: 600\n",
            "\u001b[34m\u001b[1mwandb\u001b[0m: \tlayer_1: 22\n",
            "\u001b[34m\u001b[1mwandb\u001b[0m: \tlayer_2: 17\n",
            "\u001b[34m\u001b[1mwandb\u001b[0m: \tlearn_rate: 0.046305015253517136\n"
          ]
        },
        {
          "output_type": "display_data",
          "data": {
            "text/plain": [
              "<IPython.core.display.HTML object>"
            ],
            "text/html": [
              "Ignoring project 'dl_week_wandb' when running a sweep."
            ]
          },
          "metadata": {}
        },
        {
          "output_type": "display_data",
          "data": {
            "text/plain": [
              "<IPython.core.display.HTML object>"
            ],
            "text/html": [
              "creating run (0.0s)"
            ]
          },
          "metadata": {}
        },
        {
          "output_type": "display_data",
          "data": {
            "text/plain": [
              "<IPython.core.display.HTML object>"
            ],
            "text/html": [
              "Tracking run with wandb version 0.21.3"
            ]
          },
          "metadata": {}
        },
        {
          "output_type": "display_data",
          "data": {
            "text/plain": [
              "<IPython.core.display.HTML object>"
            ],
            "text/html": [
              "Run data is saved locally in <code>/content/wandb/run-20250919_165010-k3oe1ugo</code>"
            ]
          },
          "metadata": {}
        },
        {
          "output_type": "display_data",
          "data": {
            "text/plain": [
              "<IPython.core.display.HTML object>"
            ],
            "text/html": [
              "Syncing run <strong><a href='https://wandb.ai/terrematte/dl_week_wandb/runs/k3oe1ugo' target=\"_blank\">sunny-sweep-3</a></strong> to <a href='https://wandb.ai/terrematte/dl_week_wandb' target=\"_blank\">Weights & Biases</a> (<a href='https://wandb.me/developer-guide' target=\"_blank\">docs</a>)<br>Sweep page: <a href='https://wandb.ai/terrematte/dl_week_wandb/sweeps/2gqxdzyh' target=\"_blank\">https://wandb.ai/terrematte/dl_week_wandb/sweeps/2gqxdzyh</a>"
            ]
          },
          "metadata": {}
        },
        {
          "output_type": "display_data",
          "data": {
            "text/plain": [
              "<IPython.core.display.HTML object>"
            ],
            "text/html": [
              " View project at <a href='https://wandb.ai/terrematte/dl_week_wandb' target=\"_blank\">https://wandb.ai/terrematte/dl_week_wandb</a>"
            ]
          },
          "metadata": {}
        },
        {
          "output_type": "display_data",
          "data": {
            "text/plain": [
              "<IPython.core.display.HTML object>"
            ],
            "text/html": [
              " View sweep at <a href='https://wandb.ai/terrematte/dl_week_wandb/sweeps/2gqxdzyh' target=\"_blank\">https://wandb.ai/terrematte/dl_week_wandb/sweeps/2gqxdzyh</a>"
            ]
          },
          "metadata": {}
        },
        {
          "output_type": "display_data",
          "data": {
            "text/plain": [
              "<IPython.core.display.HTML object>"
            ],
            "text/html": [
              " View run at <a href='https://wandb.ai/terrematte/dl_week_wandb/runs/k3oe1ugo' target=\"_blank\">https://wandb.ai/terrematte/dl_week_wandb/runs/k3oe1ugo</a>"
            ]
          },
          "metadata": {}
        },
        {
          "output_type": "stream",
          "name": "stderr",
          "text": [
            "Traceback (most recent call last):\n",
            "  File \"/usr/local/lib/python3.12/dist-packages/wandb/agents/pyagent.py\", line 297, in _run_job\n",
            "    self._function()\n",
            "  File \"/tmp/ipython-input-726161485.py\", line 38, in train\n",
            "    callbacks=[WandbCallback(),\n",
            "               ^^^^^^^^^^^^^\n",
            "NameError: name 'WandbCallback' is not defined\n",
            "\n"
          ]
        },
        {
          "output_type": "display_data",
          "data": {
            "text/plain": [
              "<IPython.core.display.HTML object>"
            ],
            "text/html": []
          },
          "metadata": {}
        },
        {
          "output_type": "display_data",
          "data": {
            "text/plain": [
              "<IPython.core.display.HTML object>"
            ],
            "text/html": [
              " View run <strong style=\"color:#cdcd00\">sunny-sweep-3</strong> at: <a href='https://wandb.ai/terrematte/dl_week_wandb/runs/k3oe1ugo' target=\"_blank\">https://wandb.ai/terrematte/dl_week_wandb/runs/k3oe1ugo</a><br> View project at: <a href='https://wandb.ai/terrematte/dl_week_wandb' target=\"_blank\">https://wandb.ai/terrematte/dl_week_wandb</a><br>Synced 5 W&B file(s), 0 media file(s), 0 artifact file(s) and 0 other file(s)"
            ]
          },
          "metadata": {}
        },
        {
          "output_type": "display_data",
          "data": {
            "text/plain": [
              "<IPython.core.display.HTML object>"
            ],
            "text/html": [
              "Find logs at: <code>./wandb/run-20250919_165010-k3oe1ugo/logs</code>"
            ]
          },
          "metadata": {}
        },
        {
          "output_type": "stream",
          "name": "stderr",
          "text": [
            "\u001b[34m\u001b[1mwandb\u001b[0m: \u001b[32m\u001b[41mERROR\u001b[0m Run k3oe1ugo errored: name 'WandbCallback' is not defined\n",
            "\u001b[34m\u001b[1mwandb\u001b[0m: \u001b[32m\u001b[41mERROR\u001b[0m Detected 3 failed runs in the first 60 seconds, killing sweep.\n",
            "\u001b[34m\u001b[1mwandb\u001b[0m: To disable this check set WANDB_AGENT_DISABLE_FLAPPING=true\n"
          ]
        }
      ]
    },
    {
      "cell_type": "code",
      "source": [
        "wandb.finish() # Let wandb know you're finished!"
      ],
      "metadata": {
        "id": "ssOyV63AW_GH"
      },
      "execution_count": null,
      "outputs": []
    },
    {
      "cell_type": "markdown",
      "metadata": {
        "id": "P_dpK2SHjIlu"
      },
      "source": [
        "### 4.2.1 Restore a model\n",
        "\n",
        "Restore a file, such as a model checkpoint, into your local run folder to access in your script.\n",
        "\n",
        "See [the restore docs](https://docs.wandb.com/library/restore) for more details."
      ]
    },
    {
      "cell_type": "code",
      "metadata": {
        "id": "-ikTvdN61mm0"
      },
      "source": [
        "%%capture\n",
        "!pip install wandb"
      ],
      "execution_count": null,
      "outputs": []
    },
    {
      "cell_type": "code",
      "metadata": {
        "id": "xi-Fv1nfAU6q",
        "colab": {
          "base_uri": "https://localhost:8080/",
          "height": 35
        },
        "outputId": "e1319a7a-f27c-4fe2-a09f-bcb5c6282800"
      },
      "source": [
        " import wandb\n",
        "\n",
        " wandb.__version__"
      ],
      "execution_count": null,
      "outputs": [
        {
          "output_type": "execute_result",
          "data": {
            "text/plain": [
              "'0.15.10'"
            ],
            "application/vnd.google.colaboratory.intrinsic+json": {
              "type": "string"
            }
          },
          "metadata": {},
          "execution_count": 32
        }
      ]
    },
    {
      "cell_type": "code",
      "metadata": {
        "id": "5zhf0Gix1nYD",
        "colab": {
          "base_uri": "https://localhost:8080/"
        },
        "outputId": "4a4f2edb-bdcf-456e-816c-5dd52063a23b"
      },
      "source": [
        "!wandb login"
      ],
      "execution_count": null,
      "outputs": [
        {
          "output_type": "stream",
          "name": "stdout",
          "text": [
            "\u001b[34m\u001b[1mwandb\u001b[0m: Currently logged in as: \u001b[33mterrematte\u001b[0m. Use \u001b[1m`wandb login --relogin`\u001b[0m to force relogin\n"
          ]
        }
      ]
    },
    {
      "cell_type": "code",
      "metadata": {
        "id": "0LB6j3O-jIsd"
      },
      "source": [
        "# restore the raw model file \"model-best.h5\" from a specific run by user \"terrematte\"\n",
        "# in project \"dl_week06\" from run \"95grpbl4\"\n",
        "best_model = wandb.restore('model-best.h5', run_path=\"terrematte/dl_week_wandb/95grpbl4\")"
      ],
      "execution_count": null,
      "outputs": []
    },
    {
      "cell_type": "code",
      "metadata": {
        "id": "wo_JI5RPHzKu"
      },
      "source": [
        "# restore the model for tf.keras\n",
        "model = tf.keras.models.load_model(best_model.name)"
      ],
      "execution_count": null,
      "outputs": []
    },
    {
      "cell_type": "code",
      "metadata": {
        "id": "aeM9gLcrDiz7"
      },
      "source": [
        "# execute the loss and accuracy using the test dataset\n",
        "loss_, acc_ = model.evaluate(x=test_x,y=test_y, batch_size=64)\n",
        "print('Test loss: %.3f - acc: %.3f' % (loss_, acc_))"
      ],
      "execution_count": null,
      "outputs": []
    },
    {
      "cell_type": "code",
      "metadata": {
        "id": "a55_JCKuR4kJ"
      },
      "source": [
        "# source: https://github.com/wandb/awesome-dl-projects/blob/master/ml-tutorial/EMNIST_Dense_Classification.ipynb\n",
        "import seaborn as sns\n",
        "from sklearn.metrics import confusion_matrix\n",
        "\n",
        "predictions = np.greater_equal(model.predict(test_x),0.5).astype(int)\n",
        "cm = confusion_matrix(y_true = test_y, y_pred = predictions)\n",
        "\n",
        "plt.figure(figsize=(6,6));\n",
        "sns.heatmap(cm, annot=True)\n",
        "plt.savefig('confusion_matrix.png', bbox_inches='tight')\n",
        "plt.show()"
      ],
      "execution_count": null,
      "outputs": []
    },
    {
      "cell_type": "code",
      "metadata": {
        "id": "wTu0f6DiR7oW"
      },
      "source": [
        "wandb.init(project=\"dl_week_wandb\")\n",
        "wandb.log({\"image_confusion_matrix\": [wandb.Image('confusion_matrix.png')]})"
      ],
      "execution_count": null,
      "outputs": []
    },
    {
      "cell_type": "code",
      "metadata": {
        "id": "XM5q_a_zqMY0"
      },
      "source": [
        "# visualize the images and instances with error\n",
        "# ground-truth\n",
        "print(\"Ground-truth\\n\",test_y[~np.equal(predictions,test_y)])\n",
        "\n",
        "# predictions\n",
        "print(\"Predictions\\n\",predictions[~np.equal(predictions,test_y)])"
      ],
      "execution_count": null,
      "outputs": []
    },
    {
      "cell_type": "code",
      "metadata": {
        "id": "9iJtJ-wWvvl5"
      },
      "source": [
        "# Images predicted as non-cat\n",
        "fig, ax = plt.subplots(2,6,figsize=(10,6))\n",
        "wrong_images = (~np.equal(predictions,test_y)).astype(int)\n",
        "index = np.where(wrong_images == 1)[0]\n",
        "\n",
        "for i,value in enumerate(index):\n",
        "  ax[i//6,i%6].imshow(test_x[value].reshape(64,64,3))\n",
        "plt.savefig('wrong_predictions.png', bbox_inches='tight')"
      ],
      "execution_count": null,
      "outputs": []
    },
    {
      "cell_type": "code",
      "metadata": {
        "id": "LnywcEUHxvL_"
      },
      "source": [
        "wandb.log({\"wrong_predictions\": [wandb.Image('wrong_predictions.png')]})"
      ],
      "execution_count": null,
      "outputs": []
    },
    {
      "cell_type": "markdown",
      "metadata": {
        "id": "jhBR6ePBvHy7"
      },
      "source": [
        "# 5 References"
      ]
    },
    {
      "cell_type": "markdown",
      "metadata": {
        "id": "Hb3mCmDDvJjw"
      },
      "source": [
        "1. https://github.com/wandb/awesome-dl-projects\n",
        "2. https://docs.wandb.ai/app/features/panels/parameter-importance\n",
        "3. https://wandb.ai/wandb/DistHyperOpt/reports/Modern-Scalable-Hyperparameter-Tuning-Methods--VmlldzoyMTQxODM"
      ]
    }
  ]
}